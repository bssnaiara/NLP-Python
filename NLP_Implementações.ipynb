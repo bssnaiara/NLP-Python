{
  "nbformat": 4,
  "nbformat_minor": 0,
  "metadata": {
    "colab": {
      "provenance": [],
      "collapsed_sections": []
    },
    "kernelspec": {
      "name": "python3",
      "display_name": "Python 3"
    },
    "language_info": {
      "name": "python"
    },
    "accelerator": "GPU"
  },
  "cells": [
    {
      "cell_type": "markdown",
      "metadata": {
        "id": "PvpVIYqt0-6I"
      },
      "source": [
        "\n",
        "\n",
        "---\n",
        "\n",
        "#Redes Neurais Recorrentes e Embeddings\n",
        "Implementações de Modelos \n",
        "---\n",
        "\n"
      ]
    },
    {
      "cell_type": "code",
      "metadata": {
        "id": "2AcMxfLY2n8R",
        "colab": {
          "base_uri": "https://localhost:8080/"
        },
        "outputId": "5ae2ef11-0209-42df-c761-4b2ef03c030d"
      },
      "source": [
        "#Instalando Bibliotecas\n",
        "!pip install gensim\n",
        "# !pip install fsspec\n",
        "!git clone https://github.com/lucasvbalves/nlp-pt-br-datasets.git\n",
        "!pip install nltk==3.6.2\n",
        "# !pip install spacy==3.1.2"
      ],
      "execution_count": null,
      "outputs": [
        {
          "output_type": "stream",
          "name": "stdout",
          "text": [
            "Looking in indexes: https://pypi.org/simple, https://us-python.pkg.dev/colab-wheels/public/simple/\n",
            "Requirement already satisfied: gensim in /usr/local/lib/python3.7/dist-packages (3.6.0)\n",
            "Requirement already satisfied: numpy>=1.11.3 in /usr/local/lib/python3.7/dist-packages (from gensim) (1.21.6)\n",
            "Requirement already satisfied: six>=1.5.0 in /usr/local/lib/python3.7/dist-packages (from gensim) (1.15.0)\n",
            "Requirement already satisfied: smart-open>=1.2.1 in /usr/local/lib/python3.7/dist-packages (from gensim) (5.2.1)\n",
            "Requirement already satisfied: scipy>=0.18.1 in /usr/local/lib/python3.7/dist-packages (from gensim) (1.4.1)\n",
            "Cloning into 'nlp-pt-br-datasets'...\n",
            "remote: Enumerating objects: 23, done.\u001b[K\n",
            "remote: Counting objects: 100% (23/23), done.\u001b[K\n",
            "remote: Compressing objects: 100% (23/23), done.\u001b[K\n",
            "remote: Total 23 (delta 0), reused 23 (delta 0), pack-reused 0\u001b[K\n",
            "Unpacking objects: 100% (23/23), done.\n",
            "Looking in indexes: https://pypi.org/simple, https://us-python.pkg.dev/colab-wheels/public/simple/\n",
            "Collecting nltk==3.6.2\n",
            "  Downloading nltk-3.6.2-py3-none-any.whl (1.5 MB)\n",
            "\u001b[K     |████████████████████████████████| 1.5 MB 5.2 MB/s \n",
            "\u001b[?25hRequirement already satisfied: tqdm in /usr/local/lib/python3.7/dist-packages (from nltk==3.6.2) (4.64.0)\n",
            "Requirement already satisfied: regex in /usr/local/lib/python3.7/dist-packages (from nltk==3.6.2) (2022.6.2)\n",
            "Requirement already satisfied: click in /usr/local/lib/python3.7/dist-packages (from nltk==3.6.2) (7.1.2)\n",
            "Requirement already satisfied: joblib in /usr/local/lib/python3.7/dist-packages (from nltk==3.6.2) (1.1.0)\n",
            "Installing collected packages: nltk\n",
            "  Attempting uninstall: nltk\n",
            "    Found existing installation: nltk 3.7\n",
            "    Uninstalling nltk-3.7:\n",
            "      Successfully uninstalled nltk-3.7\n",
            "Successfully installed nltk-3.6.2\n"
          ]
        }
      ]
    },
    {
      "cell_type": "code",
      "metadata": {
        "id": "TYd-c-iv8gt9"
      },
      "source": [
        "#Importando Bibliotecas\n",
        "import nltk\n",
        "import pandas as pd\n",
        "import io\n",
        "import re\n",
        "import tensorflow as tf\n",
        "from tensorflow.keras import layers\n",
        "from tensorflow.keras.layers import *\n",
        "from keras.preprocessing import text, sequence\n",
        "import numpy as np\n",
        "import tensorflow\n",
        "from tensorflow import keras\n",
        "import matplotlib.pyplot as plt\n",
        "import seaborn as sns\n",
        "from tensorflow.keras.utils import plot_model\n",
        "from tensorflow.keras.models import Model\n",
        "from datetime import datetime as dt\n",
        "from sklearn.metrics import classification_report\n",
        "from collections import Counter\n",
        "from nltk.tokenize import sent_tokenize, word_tokenize\n",
        "from sklearn.model_selection import train_test_split\n",
        "import gensim\n",
        "from sklearn import preprocessing\n",
        "from tensorflow.keras import utils\n",
        "from gensim.models import Word2Vec\n",
        "from keras.preprocessing.text import Tokenizer\n",
        "from keras.preprocessing.sequence import pad_sequences\n",
        "from sklearn.metrics import confusion_matrix\n",
        "from tensorflow.keras.layers import Dense,Input, BatchNormalization"
      ],
      "execution_count": null,
      "outputs": []
    },
    {
      "cell_type": "markdown",
      "metadata": {
        "id": "FpC3A0xHQn9R"
      },
      "source": [
        "###Etapa 1 - Geração do dataset"
      ]
    },
    {
      "cell_type": "code",
      "metadata": {
        "id": "ybQeEUmB8lnc"
      },
      "source": [
        "#Importações dos comentários negativos e positivos \n",
        "\n",
        "negativos = '/content/nlp-pt-br-datasets/books-reviews-portuguese-master/books_pt_neg'\n",
        "positivos = '/content/nlp-pt-br-datasets/books-reviews-portuguese-master/books_pt_pos'"
      ],
      "execution_count": null,
      "outputs": []
    },
    {
      "cell_type": "code",
      "metadata": {
        "colab": {
          "base_uri": "https://localhost:8080/"
        },
        "id": "SvNBBYpW8oLd",
        "outputId": "d3e56b0f-a472-4486-834b-f4999600da84"
      },
      "source": [
        "# Leitura dos documentos em UTF-8\n",
        "with open(positivos,'r',encoding='utf8') as positivos_utf:\n",
        "  print('Positivo: ',positivos_utf.readlines()[1])\n",
        "\n",
        "with open(negativos,'r',encoding='utf8') as negativos_utf:\n",
        "  print('Negativo: ',negativos_utf.readlines()[1])"
      ],
      "execution_count": null,
      "outputs": [
        {
          "output_type": "stream",
          "name": "stdout",
          "text": [
            "Positivo:  Aiai! Agora ficamos órfãos dos Lafaiete 😔 A história de amor entre Maurício e Eleonora nos leva ao final da série dos Lafaiete... Se não fosse por Maumau, Eleonora não ganharia minha simpatia, mas a autora, como sempre, conseguiu nos envolver nessa história de amor de um jeito só dela, que, aos poucos, Eleonora foi me ganhando. As consequências de um passado, às vezes, trazem mazelas difíceis de serem superadas, mas com a presença do verdadeiro amor, felizmente superamos e vencemos essa barreira. Maurício insistiu no amor por Eleonora e, ao final, foi plenamente premiado com a felicidade e com o fofissimo Bernardo (sim, eu imagino como é esse mini Lafaiete 😍) Parabéns Lara, você lacrou com o final da série! Leitura recomendada! ⭐⭐⭐⭐⭐ \n",
            "\n",
            "Negativo:  Que história chata! Personagens chatos, diálogos infantis... Parece ter sido escrito por uma menina de 12 anos! Horrível!!!\n",
            "\n"
          ]
        }
      ]
    },
    {
      "cell_type": "code",
      "metadata": {
        "id": "iNDpTea--cC-"
      },
      "source": [
        "#Criando o DataFrame\n",
        "negativos_df = pd.read_csv('/content/nlp-pt-br-datasets/books-reviews-portuguese-master/books_pt_neg', sep='\\r', names=['Comentarios', 'label'])\n",
        "positivos_df = pd.read_csv('/content/nlp-pt-br-datasets/books-reviews-portuguese-master/books_pt_pos', sep='\\r', names=['Comentarios', 'label'])"
      ],
      "execution_count": null,
      "outputs": []
    },
    {
      "cell_type": "code",
      "metadata": {
        "id": "ieX7oeh--dm1"
      },
      "source": [
        "# Adicionando as labels negativas\n",
        "negativos_df['label'] = negativos_df['label'].replace(np.nan, 'negativo')"
      ],
      "execution_count": null,
      "outputs": []
    },
    {
      "cell_type": "code",
      "metadata": {
        "colab": {
          "base_uri": "https://localhost:8080/",
          "height": 424
        },
        "id": "OdeqOYqjs6Vm",
        "outputId": "aed380f9-49df-45ec-e0ac-ae39917bf5e6"
      },
      "source": [
        "#Exibindo o dataset negativo com as labels\n",
        "negativos_df"
      ],
      "execution_count": null,
      "outputs": [
        {
          "output_type": "execute_result",
          "data": {
            "text/plain": [
              "                                           Comentarios     label\n",
              "0    Concordo com outras avaliações feitas, entre o...  negativo\n",
              "1    Que história chata! Personagens chatos, diálog...  negativo\n",
              "2    A estória podia ter fim no primeiro livro, des...  negativo\n",
              "3    Muito narrativo, não prende atenção, tive apre...  negativo\n",
              "4    Olá, Recebi uma notificação por email que não ...  negativo\n",
              "..                                                 ...       ...\n",
              "994  Bom não digo que é a pior história do mundo, l...  negativo\n",
              "995  O texto é fluido e leitura agradável. Mas a hi...  negativo\n",
              "996  Comprei o livro logo após comprar \"Garota Exem...  negativo\n",
              "997  A história fica num vai e vem irritante. Mas é...  negativo\n",
              "998  Não gostei. A leitura não me empolgou. Achei a...  negativo\n",
              "\n",
              "[999 rows x 2 columns]"
            ],
            "text/html": [
              "\n",
              "  <div id=\"df-c6119446-0529-40c3-90d5-e166fa05f922\">\n",
              "    <div class=\"colab-df-container\">\n",
              "      <div>\n",
              "<style scoped>\n",
              "    .dataframe tbody tr th:only-of-type {\n",
              "        vertical-align: middle;\n",
              "    }\n",
              "\n",
              "    .dataframe tbody tr th {\n",
              "        vertical-align: top;\n",
              "    }\n",
              "\n",
              "    .dataframe thead th {\n",
              "        text-align: right;\n",
              "    }\n",
              "</style>\n",
              "<table border=\"1\" class=\"dataframe\">\n",
              "  <thead>\n",
              "    <tr style=\"text-align: right;\">\n",
              "      <th></th>\n",
              "      <th>Comentarios</th>\n",
              "      <th>label</th>\n",
              "    </tr>\n",
              "  </thead>\n",
              "  <tbody>\n",
              "    <tr>\n",
              "      <th>0</th>\n",
              "      <td>Concordo com outras avaliações feitas, entre o...</td>\n",
              "      <td>negativo</td>\n",
              "    </tr>\n",
              "    <tr>\n",
              "      <th>1</th>\n",
              "      <td>Que história chata! Personagens chatos, diálog...</td>\n",
              "      <td>negativo</td>\n",
              "    </tr>\n",
              "    <tr>\n",
              "      <th>2</th>\n",
              "      <td>A estória podia ter fim no primeiro livro, des...</td>\n",
              "      <td>negativo</td>\n",
              "    </tr>\n",
              "    <tr>\n",
              "      <th>3</th>\n",
              "      <td>Muito narrativo, não prende atenção, tive apre...</td>\n",
              "      <td>negativo</td>\n",
              "    </tr>\n",
              "    <tr>\n",
              "      <th>4</th>\n",
              "      <td>Olá, Recebi uma notificação por email que não ...</td>\n",
              "      <td>negativo</td>\n",
              "    </tr>\n",
              "    <tr>\n",
              "      <th>...</th>\n",
              "      <td>...</td>\n",
              "      <td>...</td>\n",
              "    </tr>\n",
              "    <tr>\n",
              "      <th>994</th>\n",
              "      <td>Bom não digo que é a pior história do mundo, l...</td>\n",
              "      <td>negativo</td>\n",
              "    </tr>\n",
              "    <tr>\n",
              "      <th>995</th>\n",
              "      <td>O texto é fluido e leitura agradável. Mas a hi...</td>\n",
              "      <td>negativo</td>\n",
              "    </tr>\n",
              "    <tr>\n",
              "      <th>996</th>\n",
              "      <td>Comprei o livro logo após comprar \"Garota Exem...</td>\n",
              "      <td>negativo</td>\n",
              "    </tr>\n",
              "    <tr>\n",
              "      <th>997</th>\n",
              "      <td>A história fica num vai e vem irritante. Mas é...</td>\n",
              "      <td>negativo</td>\n",
              "    </tr>\n",
              "    <tr>\n",
              "      <th>998</th>\n",
              "      <td>Não gostei. A leitura não me empolgou. Achei a...</td>\n",
              "      <td>negativo</td>\n",
              "    </tr>\n",
              "  </tbody>\n",
              "</table>\n",
              "<p>999 rows × 2 columns</p>\n",
              "</div>\n",
              "      <button class=\"colab-df-convert\" onclick=\"convertToInteractive('df-c6119446-0529-40c3-90d5-e166fa05f922')\"\n",
              "              title=\"Convert this dataframe to an interactive table.\"\n",
              "              style=\"display:none;\">\n",
              "        \n",
              "  <svg xmlns=\"http://www.w3.org/2000/svg\" height=\"24px\"viewBox=\"0 0 24 24\"\n",
              "       width=\"24px\">\n",
              "    <path d=\"M0 0h24v24H0V0z\" fill=\"none\"/>\n",
              "    <path d=\"M18.56 5.44l.94 2.06.94-2.06 2.06-.94-2.06-.94-.94-2.06-.94 2.06-2.06.94zm-11 1L8.5 8.5l.94-2.06 2.06-.94-2.06-.94L8.5 2.5l-.94 2.06-2.06.94zm10 10l.94 2.06.94-2.06 2.06-.94-2.06-.94-.94-2.06-.94 2.06-2.06.94z\"/><path d=\"M17.41 7.96l-1.37-1.37c-.4-.4-.92-.59-1.43-.59-.52 0-1.04.2-1.43.59L10.3 9.45l-7.72 7.72c-.78.78-.78 2.05 0 2.83L4 21.41c.39.39.9.59 1.41.59.51 0 1.02-.2 1.41-.59l7.78-7.78 2.81-2.81c.8-.78.8-2.07 0-2.86zM5.41 20L4 18.59l7.72-7.72 1.47 1.35L5.41 20z\"/>\n",
              "  </svg>\n",
              "      </button>\n",
              "      \n",
              "  <style>\n",
              "    .colab-df-container {\n",
              "      display:flex;\n",
              "      flex-wrap:wrap;\n",
              "      gap: 12px;\n",
              "    }\n",
              "\n",
              "    .colab-df-convert {\n",
              "      background-color: #E8F0FE;\n",
              "      border: none;\n",
              "      border-radius: 50%;\n",
              "      cursor: pointer;\n",
              "      display: none;\n",
              "      fill: #1967D2;\n",
              "      height: 32px;\n",
              "      padding: 0 0 0 0;\n",
              "      width: 32px;\n",
              "    }\n",
              "\n",
              "    .colab-df-convert:hover {\n",
              "      background-color: #E2EBFA;\n",
              "      box-shadow: 0px 1px 2px rgba(60, 64, 67, 0.3), 0px 1px 3px 1px rgba(60, 64, 67, 0.15);\n",
              "      fill: #174EA6;\n",
              "    }\n",
              "\n",
              "    [theme=dark] .colab-df-convert {\n",
              "      background-color: #3B4455;\n",
              "      fill: #D2E3FC;\n",
              "    }\n",
              "\n",
              "    [theme=dark] .colab-df-convert:hover {\n",
              "      background-color: #434B5C;\n",
              "      box-shadow: 0px 1px 3px 1px rgba(0, 0, 0, 0.15);\n",
              "      filter: drop-shadow(0px 1px 2px rgba(0, 0, 0, 0.3));\n",
              "      fill: #FFFFFF;\n",
              "    }\n",
              "  </style>\n",
              "\n",
              "      <script>\n",
              "        const buttonEl =\n",
              "          document.querySelector('#df-c6119446-0529-40c3-90d5-e166fa05f922 button.colab-df-convert');\n",
              "        buttonEl.style.display =\n",
              "          google.colab.kernel.accessAllowed ? 'block' : 'none';\n",
              "\n",
              "        async function convertToInteractive(key) {\n",
              "          const element = document.querySelector('#df-c6119446-0529-40c3-90d5-e166fa05f922');\n",
              "          const dataTable =\n",
              "            await google.colab.kernel.invokeFunction('convertToInteractive',\n",
              "                                                     [key], {});\n",
              "          if (!dataTable) return;\n",
              "\n",
              "          const docLinkHtml = 'Like what you see? Visit the ' +\n",
              "            '<a target=\"_blank\" href=https://colab.research.google.com/notebooks/data_table.ipynb>data table notebook</a>'\n",
              "            + ' to learn more about interactive tables.';\n",
              "          element.innerHTML = '';\n",
              "          dataTable['output_type'] = 'display_data';\n",
              "          await google.colab.output.renderOutput(dataTable, element);\n",
              "          const docLink = document.createElement('div');\n",
              "          docLink.innerHTML = docLinkHtml;\n",
              "          element.appendChild(docLink);\n",
              "        }\n",
              "      </script>\n",
              "    </div>\n",
              "  </div>\n",
              "  "
            ]
          },
          "metadata": {},
          "execution_count": 7
        }
      ]
    },
    {
      "cell_type": "code",
      "metadata": {
        "colab": {
          "base_uri": "https://localhost:8080/",
          "height": 424
        },
        "id": "hxyjUiLa1_PT",
        "outputId": "477ce83a-38e4-4e51-90c9-5ef4c3343343"
      },
      "source": [
        "# Adicionando as labels positivas\n",
        "positivos_df['label'] = positivos_df['label'].replace(np.nan, 'positivo')\n",
        "#Exibindo o dataset positivo com as labels\n",
        "positivos_df"
      ],
      "execution_count": null,
      "outputs": [
        {
          "output_type": "execute_result",
          "data": {
            "text/plain": [
              "                                           Comentarios     label\n",
              "0    Enfim o final da série chegou e me deixou arre...  positivo\n",
              "1    Aiai! Agora ficamos órfãos dos Lafaiete 😔 A hi...  positivo\n",
              "2    Lara smithe fechou a série com chave de ouro,q...  positivo\n",
              "3    Mais uma vez a Lara Smithe nos deixa de boca a...  positivo\n",
              "4    Ótima ideia: aglutinar os livros dos quatro ir...  positivo\n",
              "..                                                 ...       ...\n",
              "995  Quando li pela primeira vez, eu tinha 19 anos ...  positivo\n",
              "996  Um livrinho capaz de fazer as grandes pessoas ...  positivo\n",
              "997  Livro maravilhoso para crianças pequenas e gra...  positivo\n",
              "998  Chegou 4 dias antes do prazo de entrega estima...  positivo\n",
              "999  Sempre fui apaixonada nos filmes de Harry Pott...  positivo\n",
              "\n",
              "[1000 rows x 2 columns]"
            ],
            "text/html": [
              "\n",
              "  <div id=\"df-683a8139-0a66-40d9-9449-6cec0b7cf5d7\">\n",
              "    <div class=\"colab-df-container\">\n",
              "      <div>\n",
              "<style scoped>\n",
              "    .dataframe tbody tr th:only-of-type {\n",
              "        vertical-align: middle;\n",
              "    }\n",
              "\n",
              "    .dataframe tbody tr th {\n",
              "        vertical-align: top;\n",
              "    }\n",
              "\n",
              "    .dataframe thead th {\n",
              "        text-align: right;\n",
              "    }\n",
              "</style>\n",
              "<table border=\"1\" class=\"dataframe\">\n",
              "  <thead>\n",
              "    <tr style=\"text-align: right;\">\n",
              "      <th></th>\n",
              "      <th>Comentarios</th>\n",
              "      <th>label</th>\n",
              "    </tr>\n",
              "  </thead>\n",
              "  <tbody>\n",
              "    <tr>\n",
              "      <th>0</th>\n",
              "      <td>Enfim o final da série chegou e me deixou arre...</td>\n",
              "      <td>positivo</td>\n",
              "    </tr>\n",
              "    <tr>\n",
              "      <th>1</th>\n",
              "      <td>Aiai! Agora ficamos órfãos dos Lafaiete 😔 A hi...</td>\n",
              "      <td>positivo</td>\n",
              "    </tr>\n",
              "    <tr>\n",
              "      <th>2</th>\n",
              "      <td>Lara smithe fechou a série com chave de ouro,q...</td>\n",
              "      <td>positivo</td>\n",
              "    </tr>\n",
              "    <tr>\n",
              "      <th>3</th>\n",
              "      <td>Mais uma vez a Lara Smithe nos deixa de boca a...</td>\n",
              "      <td>positivo</td>\n",
              "    </tr>\n",
              "    <tr>\n",
              "      <th>4</th>\n",
              "      <td>Ótima ideia: aglutinar os livros dos quatro ir...</td>\n",
              "      <td>positivo</td>\n",
              "    </tr>\n",
              "    <tr>\n",
              "      <th>...</th>\n",
              "      <td>...</td>\n",
              "      <td>...</td>\n",
              "    </tr>\n",
              "    <tr>\n",
              "      <th>995</th>\n",
              "      <td>Quando li pela primeira vez, eu tinha 19 anos ...</td>\n",
              "      <td>positivo</td>\n",
              "    </tr>\n",
              "    <tr>\n",
              "      <th>996</th>\n",
              "      <td>Um livrinho capaz de fazer as grandes pessoas ...</td>\n",
              "      <td>positivo</td>\n",
              "    </tr>\n",
              "    <tr>\n",
              "      <th>997</th>\n",
              "      <td>Livro maravilhoso para crianças pequenas e gra...</td>\n",
              "      <td>positivo</td>\n",
              "    </tr>\n",
              "    <tr>\n",
              "      <th>998</th>\n",
              "      <td>Chegou 4 dias antes do prazo de entrega estima...</td>\n",
              "      <td>positivo</td>\n",
              "    </tr>\n",
              "    <tr>\n",
              "      <th>999</th>\n",
              "      <td>Sempre fui apaixonada nos filmes de Harry Pott...</td>\n",
              "      <td>positivo</td>\n",
              "    </tr>\n",
              "  </tbody>\n",
              "</table>\n",
              "<p>1000 rows × 2 columns</p>\n",
              "</div>\n",
              "      <button class=\"colab-df-convert\" onclick=\"convertToInteractive('df-683a8139-0a66-40d9-9449-6cec0b7cf5d7')\"\n",
              "              title=\"Convert this dataframe to an interactive table.\"\n",
              "              style=\"display:none;\">\n",
              "        \n",
              "  <svg xmlns=\"http://www.w3.org/2000/svg\" height=\"24px\"viewBox=\"0 0 24 24\"\n",
              "       width=\"24px\">\n",
              "    <path d=\"M0 0h24v24H0V0z\" fill=\"none\"/>\n",
              "    <path d=\"M18.56 5.44l.94 2.06.94-2.06 2.06-.94-2.06-.94-.94-2.06-.94 2.06-2.06.94zm-11 1L8.5 8.5l.94-2.06 2.06-.94-2.06-.94L8.5 2.5l-.94 2.06-2.06.94zm10 10l.94 2.06.94-2.06 2.06-.94-2.06-.94-.94-2.06-.94 2.06-2.06.94z\"/><path d=\"M17.41 7.96l-1.37-1.37c-.4-.4-.92-.59-1.43-.59-.52 0-1.04.2-1.43.59L10.3 9.45l-7.72 7.72c-.78.78-.78 2.05 0 2.83L4 21.41c.39.39.9.59 1.41.59.51 0 1.02-.2 1.41-.59l7.78-7.78 2.81-2.81c.8-.78.8-2.07 0-2.86zM5.41 20L4 18.59l7.72-7.72 1.47 1.35L5.41 20z\"/>\n",
              "  </svg>\n",
              "      </button>\n",
              "      \n",
              "  <style>\n",
              "    .colab-df-container {\n",
              "      display:flex;\n",
              "      flex-wrap:wrap;\n",
              "      gap: 12px;\n",
              "    }\n",
              "\n",
              "    .colab-df-convert {\n",
              "      background-color: #E8F0FE;\n",
              "      border: none;\n",
              "      border-radius: 50%;\n",
              "      cursor: pointer;\n",
              "      display: none;\n",
              "      fill: #1967D2;\n",
              "      height: 32px;\n",
              "      padding: 0 0 0 0;\n",
              "      width: 32px;\n",
              "    }\n",
              "\n",
              "    .colab-df-convert:hover {\n",
              "      background-color: #E2EBFA;\n",
              "      box-shadow: 0px 1px 2px rgba(60, 64, 67, 0.3), 0px 1px 3px 1px rgba(60, 64, 67, 0.15);\n",
              "      fill: #174EA6;\n",
              "    }\n",
              "\n",
              "    [theme=dark] .colab-df-convert {\n",
              "      background-color: #3B4455;\n",
              "      fill: #D2E3FC;\n",
              "    }\n",
              "\n",
              "    [theme=dark] .colab-df-convert:hover {\n",
              "      background-color: #434B5C;\n",
              "      box-shadow: 0px 1px 3px 1px rgba(0, 0, 0, 0.15);\n",
              "      filter: drop-shadow(0px 1px 2px rgba(0, 0, 0, 0.3));\n",
              "      fill: #FFFFFF;\n",
              "    }\n",
              "  </style>\n",
              "\n",
              "      <script>\n",
              "        const buttonEl =\n",
              "          document.querySelector('#df-683a8139-0a66-40d9-9449-6cec0b7cf5d7 button.colab-df-convert');\n",
              "        buttonEl.style.display =\n",
              "          google.colab.kernel.accessAllowed ? 'block' : 'none';\n",
              "\n",
              "        async function convertToInteractive(key) {\n",
              "          const element = document.querySelector('#df-683a8139-0a66-40d9-9449-6cec0b7cf5d7');\n",
              "          const dataTable =\n",
              "            await google.colab.kernel.invokeFunction('convertToInteractive',\n",
              "                                                     [key], {});\n",
              "          if (!dataTable) return;\n",
              "\n",
              "          const docLinkHtml = 'Like what you see? Visit the ' +\n",
              "            '<a target=\"_blank\" href=https://colab.research.google.com/notebooks/data_table.ipynb>data table notebook</a>'\n",
              "            + ' to learn more about interactive tables.';\n",
              "          element.innerHTML = '';\n",
              "          dataTable['output_type'] = 'display_data';\n",
              "          await google.colab.output.renderOutput(dataTable, element);\n",
              "          const docLink = document.createElement('div');\n",
              "          docLink.innerHTML = docLinkHtml;\n",
              "          element.appendChild(docLink);\n",
              "        }\n",
              "      </script>\n",
              "    </div>\n",
              "  </div>\n",
              "  "
            ]
          },
          "metadata": {},
          "execution_count": 8
        }
      ]
    },
    {
      "cell_type": "code",
      "metadata": {
        "colab": {
          "base_uri": "https://localhost:8080/",
          "height": 424
        },
        "id": "zRgHBzbf2Rhy",
        "outputId": "d422c711-60a3-4b11-f5a6-66cddfb7d012"
      },
      "source": [
        "#Concatenando os comentários positivos e negativos \n",
        "dfp = pd.DataFrame(data=positivos_df)\n",
        "dfn = pd.DataFrame(data=negativos_df)\n",
        "df_comments = pd.concat([dfp, dfn], axis=0, ignore_index=True, names=['Comentarios', 'label'])\n",
        "df_comments"
      ],
      "execution_count": null,
      "outputs": [
        {
          "output_type": "execute_result",
          "data": {
            "text/plain": [
              "                                            Comentarios     label\n",
              "0     Enfim o final da série chegou e me deixou arre...  positivo\n",
              "1     Aiai! Agora ficamos órfãos dos Lafaiete 😔 A hi...  positivo\n",
              "2     Lara smithe fechou a série com chave de ouro,q...  positivo\n",
              "3     Mais uma vez a Lara Smithe nos deixa de boca a...  positivo\n",
              "4     Ótima ideia: aglutinar os livros dos quatro ir...  positivo\n",
              "...                                                 ...       ...\n",
              "1994  Bom não digo que é a pior história do mundo, l...  negativo\n",
              "1995  O texto é fluido e leitura agradável. Mas a hi...  negativo\n",
              "1996  Comprei o livro logo após comprar \"Garota Exem...  negativo\n",
              "1997  A história fica num vai e vem irritante. Mas é...  negativo\n",
              "1998  Não gostei. A leitura não me empolgou. Achei a...  negativo\n",
              "\n",
              "[1999 rows x 2 columns]"
            ],
            "text/html": [
              "\n",
              "  <div id=\"df-350132a1-bc70-4792-b799-32d2910d3d2c\">\n",
              "    <div class=\"colab-df-container\">\n",
              "      <div>\n",
              "<style scoped>\n",
              "    .dataframe tbody tr th:only-of-type {\n",
              "        vertical-align: middle;\n",
              "    }\n",
              "\n",
              "    .dataframe tbody tr th {\n",
              "        vertical-align: top;\n",
              "    }\n",
              "\n",
              "    .dataframe thead th {\n",
              "        text-align: right;\n",
              "    }\n",
              "</style>\n",
              "<table border=\"1\" class=\"dataframe\">\n",
              "  <thead>\n",
              "    <tr style=\"text-align: right;\">\n",
              "      <th></th>\n",
              "      <th>Comentarios</th>\n",
              "      <th>label</th>\n",
              "    </tr>\n",
              "  </thead>\n",
              "  <tbody>\n",
              "    <tr>\n",
              "      <th>0</th>\n",
              "      <td>Enfim o final da série chegou e me deixou arre...</td>\n",
              "      <td>positivo</td>\n",
              "    </tr>\n",
              "    <tr>\n",
              "      <th>1</th>\n",
              "      <td>Aiai! Agora ficamos órfãos dos Lafaiete 😔 A hi...</td>\n",
              "      <td>positivo</td>\n",
              "    </tr>\n",
              "    <tr>\n",
              "      <th>2</th>\n",
              "      <td>Lara smithe fechou a série com chave de ouro,q...</td>\n",
              "      <td>positivo</td>\n",
              "    </tr>\n",
              "    <tr>\n",
              "      <th>3</th>\n",
              "      <td>Mais uma vez a Lara Smithe nos deixa de boca a...</td>\n",
              "      <td>positivo</td>\n",
              "    </tr>\n",
              "    <tr>\n",
              "      <th>4</th>\n",
              "      <td>Ótima ideia: aglutinar os livros dos quatro ir...</td>\n",
              "      <td>positivo</td>\n",
              "    </tr>\n",
              "    <tr>\n",
              "      <th>...</th>\n",
              "      <td>...</td>\n",
              "      <td>...</td>\n",
              "    </tr>\n",
              "    <tr>\n",
              "      <th>1994</th>\n",
              "      <td>Bom não digo que é a pior história do mundo, l...</td>\n",
              "      <td>negativo</td>\n",
              "    </tr>\n",
              "    <tr>\n",
              "      <th>1995</th>\n",
              "      <td>O texto é fluido e leitura agradável. Mas a hi...</td>\n",
              "      <td>negativo</td>\n",
              "    </tr>\n",
              "    <tr>\n",
              "      <th>1996</th>\n",
              "      <td>Comprei o livro logo após comprar \"Garota Exem...</td>\n",
              "      <td>negativo</td>\n",
              "    </tr>\n",
              "    <tr>\n",
              "      <th>1997</th>\n",
              "      <td>A história fica num vai e vem irritante. Mas é...</td>\n",
              "      <td>negativo</td>\n",
              "    </tr>\n",
              "    <tr>\n",
              "      <th>1998</th>\n",
              "      <td>Não gostei. A leitura não me empolgou. Achei a...</td>\n",
              "      <td>negativo</td>\n",
              "    </tr>\n",
              "  </tbody>\n",
              "</table>\n",
              "<p>1999 rows × 2 columns</p>\n",
              "</div>\n",
              "      <button class=\"colab-df-convert\" onclick=\"convertToInteractive('df-350132a1-bc70-4792-b799-32d2910d3d2c')\"\n",
              "              title=\"Convert this dataframe to an interactive table.\"\n",
              "              style=\"display:none;\">\n",
              "        \n",
              "  <svg xmlns=\"http://www.w3.org/2000/svg\" height=\"24px\"viewBox=\"0 0 24 24\"\n",
              "       width=\"24px\">\n",
              "    <path d=\"M0 0h24v24H0V0z\" fill=\"none\"/>\n",
              "    <path d=\"M18.56 5.44l.94 2.06.94-2.06 2.06-.94-2.06-.94-.94-2.06-.94 2.06-2.06.94zm-11 1L8.5 8.5l.94-2.06 2.06-.94-2.06-.94L8.5 2.5l-.94 2.06-2.06.94zm10 10l.94 2.06.94-2.06 2.06-.94-2.06-.94-.94-2.06-.94 2.06-2.06.94z\"/><path d=\"M17.41 7.96l-1.37-1.37c-.4-.4-.92-.59-1.43-.59-.52 0-1.04.2-1.43.59L10.3 9.45l-7.72 7.72c-.78.78-.78 2.05 0 2.83L4 21.41c.39.39.9.59 1.41.59.51 0 1.02-.2 1.41-.59l7.78-7.78 2.81-2.81c.8-.78.8-2.07 0-2.86zM5.41 20L4 18.59l7.72-7.72 1.47 1.35L5.41 20z\"/>\n",
              "  </svg>\n",
              "      </button>\n",
              "      \n",
              "  <style>\n",
              "    .colab-df-container {\n",
              "      display:flex;\n",
              "      flex-wrap:wrap;\n",
              "      gap: 12px;\n",
              "    }\n",
              "\n",
              "    .colab-df-convert {\n",
              "      background-color: #E8F0FE;\n",
              "      border: none;\n",
              "      border-radius: 50%;\n",
              "      cursor: pointer;\n",
              "      display: none;\n",
              "      fill: #1967D2;\n",
              "      height: 32px;\n",
              "      padding: 0 0 0 0;\n",
              "      width: 32px;\n",
              "    }\n",
              "\n",
              "    .colab-df-convert:hover {\n",
              "      background-color: #E2EBFA;\n",
              "      box-shadow: 0px 1px 2px rgba(60, 64, 67, 0.3), 0px 1px 3px 1px rgba(60, 64, 67, 0.15);\n",
              "      fill: #174EA6;\n",
              "    }\n",
              "\n",
              "    [theme=dark] .colab-df-convert {\n",
              "      background-color: #3B4455;\n",
              "      fill: #D2E3FC;\n",
              "    }\n",
              "\n",
              "    [theme=dark] .colab-df-convert:hover {\n",
              "      background-color: #434B5C;\n",
              "      box-shadow: 0px 1px 3px 1px rgba(0, 0, 0, 0.15);\n",
              "      filter: drop-shadow(0px 1px 2px rgba(0, 0, 0, 0.3));\n",
              "      fill: #FFFFFF;\n",
              "    }\n",
              "  </style>\n",
              "\n",
              "      <script>\n",
              "        const buttonEl =\n",
              "          document.querySelector('#df-350132a1-bc70-4792-b799-32d2910d3d2c button.colab-df-convert');\n",
              "        buttonEl.style.display =\n",
              "          google.colab.kernel.accessAllowed ? 'block' : 'none';\n",
              "\n",
              "        async function convertToInteractive(key) {\n",
              "          const element = document.querySelector('#df-350132a1-bc70-4792-b799-32d2910d3d2c');\n",
              "          const dataTable =\n",
              "            await google.colab.kernel.invokeFunction('convertToInteractive',\n",
              "                                                     [key], {});\n",
              "          if (!dataTable) return;\n",
              "\n",
              "          const docLinkHtml = 'Like what you see? Visit the ' +\n",
              "            '<a target=\"_blank\" href=https://colab.research.google.com/notebooks/data_table.ipynb>data table notebook</a>'\n",
              "            + ' to learn more about interactive tables.';\n",
              "          element.innerHTML = '';\n",
              "          dataTable['output_type'] = 'display_data';\n",
              "          await google.colab.output.renderOutput(dataTable, element);\n",
              "          const docLink = document.createElement('div');\n",
              "          docLink.innerHTML = docLinkHtml;\n",
              "          element.appendChild(docLink);\n",
              "        }\n",
              "      </script>\n",
              "    </div>\n",
              "  </div>\n",
              "  "
            ]
          },
          "metadata": {},
          "execution_count": 9
        }
      ]
    },
    {
      "cell_type": "code",
      "metadata": {
        "colab": {
          "base_uri": "https://localhost:8080/"
        },
        "id": "TXWcuH_IeHgJ",
        "outputId": "ee925fca-ea03-4991-f013-7f640c418e12"
      },
      "source": [
        "#Exibindo informações do dataframe\n",
        "df_comments.info()"
      ],
      "execution_count": null,
      "outputs": [
        {
          "output_type": "stream",
          "name": "stdout",
          "text": [
            "<class 'pandas.core.frame.DataFrame'>\n",
            "RangeIndex: 1999 entries, 0 to 1998\n",
            "Data columns (total 2 columns):\n",
            " #   Column       Non-Null Count  Dtype \n",
            "---  ------       --------------  ----- \n",
            " 0   Comentarios  1999 non-null   object\n",
            " 1   label        1999 non-null   object\n",
            "dtypes: object(2)\n",
            "memory usage: 31.4+ KB\n"
          ]
        }
      ]
    },
    {
      "cell_type": "code",
      "metadata": {
        "colab": {
          "base_uri": "https://localhost:8080/"
        },
        "id": "9C0CgH-0tZGa",
        "outputId": "fd2b1c53-4516-4870-ac1b-a65636b6e50b"
      },
      "source": [
        "#Mostrando se há comentários negativos\n",
        "Counter(df_comments['Comentarios'].isna())"
      ],
      "execution_count": null,
      "outputs": [
        {
          "output_type": "execute_result",
          "data": {
            "text/plain": [
              "Counter({False: 1999})"
            ]
          },
          "metadata": {},
          "execution_count": 11
        }
      ]
    },
    {
      "cell_type": "code",
      "metadata": {
        "id": "nw1L6gIhvgWB"
      },
      "source": [
        "X = df_comments['Comentarios']\n",
        "# Realizando a filtragem dos comentários\n",
        "words = []\n",
        "for i in range(len(X)):\n",
        "  words.append(re.sub(r'[^\\w]+', ' ',X[i]).lower())\n",
        "X2 = pd.DataFrame(words, columns=['Comentarios'])"
      ],
      "execution_count": null,
      "outputs": []
    },
    {
      "cell_type": "code",
      "metadata": {
        "id": "GxLLcDsRorrj",
        "colab": {
          "base_uri": "https://localhost:8080/"
        },
        "outputId": "158e5379-3a76-4c70-bac4-a6e7b9e8d9ef"
      },
      "source": [
        "#Convertendo os comentários para lista (ou numpy array)\n",
        "X = X2['Comentarios'].to_numpy()\n",
        "X"
      ],
      "execution_count": null,
      "outputs": [
        {
          "output_type": "execute_result",
          "data": {
            "text/plain": [
              "array(['enfim o final da série chegou e me deixou arrebatada e emocionada um final cheio de amor e lembranças perfeito para uma série tão emocionante e intensa mauricio era o último dos lafaietes solteiro mas eleonora arrebatou seu coração ainda que não estivesse nos seus planos ele desde sempre soube o que queria e correu atrás para realizar os seus sonhos eleonora não foi uma mocinha fácil e dócil maumau ao contrário decidido intenso e apaixonado uma história cativante que vai te envolvendo o amor não tem idade e não vê traumas e preconceitos ele vai arrebatando e tudo supera e foi exatamente isso que a autora foi nos revelando aos poucos uma história de superação perdão e aceitação um final repleto de figuras queridas e cheio de lágrimas e emoção estou definitivamente de ressaca literária os lafaietes sempre terão um pedacinho do meu coração super recomendo ',\n",
              "       'aiai agora ficamos órfãos dos lafaiete a história de amor entre maurício e eleonora nos leva ao final da série dos lafaiete se não fosse por maumau eleonora não ganharia minha simpatia mas a autora como sempre conseguiu nos envolver nessa história de amor de um jeito só dela que aos poucos eleonora foi me ganhando as consequências de um passado às vezes trazem mazelas difíceis de serem superadas mas com a presença do verdadeiro amor felizmente superamos e vencemos essa barreira maurício insistiu no amor por eleonora e ao final foi plenamente premiado com a felicidade e com o fofissimo bernardo sim eu imagino como é esse mini lafaiete parabéns lara você lacrou com o final da série leitura recomendada ',\n",
              "       'lara smithe fechou a série com chave de ouro que amor mais lindo contagiante foi perfeito ficou um gosto de quero mais parabéns você merece ',\n",
              "       ...,\n",
              "       'comprei o livro logo após comprar garota exemplar antes mesmo de sair qualquer um dos filmes apareceu como recomendação pois são parecidos porém o que ge tem de interessante garota no trem falta o plot é um pouco óbvio pelo menos para mim consegui descobrir a pessoa responsável logo nos primeiros capítulos o resto foi só esperar pra ver como a pessoa era desmascarada em ge já foi o contrário eu recebia golpe atrás de golpe ',\n",
              "       'a história fica num vai e vem irritante mas é uma fórmula muitos gostam disso a mim não agrada muito no meu caso não empolgou ',\n",
              "       'não gostei a leitura não me empolgou achei a história rasa e um pouco forçada não ficou óbvio o final para mim mas também não é impressionante você lê e fica tipo ah ok talvez tenha criado muita expectativa '],\n",
              "      dtype=object)"
            ]
          },
          "metadata": {},
          "execution_count": 13
        }
      ]
    },
    {
      "cell_type": "code",
      "metadata": {
        "id": "90d4eitK_wMR",
        "colab": {
          "base_uri": "https://localhost:8080/"
        },
        "outputId": "3b64d973-6dfe-4197-9766-f597ee2bb2b3"
      },
      "source": [
        "#Verificando a quantidade de labels\n",
        "classes = df_comments['label'].nunique()\n",
        "classes"
      ],
      "execution_count": null,
      "outputs": [
        {
          "output_type": "execute_result",
          "data": {
            "text/plain": [
              "2"
            ]
          },
          "metadata": {},
          "execution_count": 14
        }
      ]
    },
    {
      "cell_type": "code",
      "metadata": {
        "colab": {
          "base_uri": "https://localhost:8080/"
        },
        "id": "OUJTf62Xo94R",
        "outputId": "d70553a7-df0b-41fd-eb23-707f6608a77d"
      },
      "source": [
        "# Convertendo as labels para lista\n",
        "y = df_comments['label'].to_numpy()\n",
        "y"
      ],
      "execution_count": null,
      "outputs": [
        {
          "output_type": "execute_result",
          "data": {
            "text/plain": [
              "array(['positivo', 'positivo', 'positivo', ..., 'negativo', 'negativo',\n",
              "       'negativo'], dtype=object)"
            ]
          },
          "metadata": {},
          "execution_count": 15
        }
      ]
    },
    {
      "cell_type": "markdown",
      "metadata": {
        "id": "tEceYR5j72Jq"
      },
      "source": [
        "#Word2Vec"
      ]
    },
    {
      "cell_type": "code",
      "metadata": {
        "colab": {
          "base_uri": "https://localhost:8080/"
        },
        "id": "5hx3x550JB8d",
        "outputId": "d62444a4-22c8-4ffd-9714-c14423a13475"
      },
      "source": [
        "# Preparando os tokens para o treinamento do Word2Vec\n",
        "sentences = [[word for word in document.lower().split()] for document in X]\n",
        "print(len(sentences))\n",
        "\n",
        "#Aplicando o word2vec\n",
        "word_model = gensim.models.Word2Vec(sentences, size=300, min_count = 1, window = 5, iter=100)\n",
        "\n",
        "# Pesos do treinamento do Word2vec\n",
        "pretrained_weights = word_model.wv.syn0\n",
        "vocab_size, emdedding_size = pretrained_weights.shape"
      ],
      "execution_count": null,
      "outputs": [
        {
          "output_type": "stream",
          "name": "stdout",
          "text": [
            "1999\n"
          ]
        },
        {
          "output_type": "stream",
          "name": "stderr",
          "text": [
            "/usr/local/lib/python3.7/dist-packages/ipykernel_launcher.py:9: DeprecationWarning: Call to deprecated `syn0` (Attribute will be removed in 4.0.0, use self.wv.vectors instead).\n",
            "  if __name__ == '__main__':\n"
          ]
        }
      ]
    },
    {
      "cell_type": "markdown",
      "metadata": {
        "id": "HnrRSOIQhCB6"
      },
      "source": [
        "# LSTM"
      ]
    },
    {
      "cell_type": "code",
      "metadata": {
        "id": "ATg5bpY_rO-q"
      },
      "source": [
        "#Divisão dos dados\n",
        "X_train, X_test, y_train, y_test = train_test_split(X, y, shuffle=True, test_size = 0.15, stratify = y)"
      ],
      "execution_count": null,
      "outputs": []
    },
    {
      "cell_type": "code",
      "metadata": {
        "id": "vzR2zK35isby"
      },
      "source": [
        "#Salvando os comentários de teste\n",
        "X_test_df = pd.DataFrame(X_test, columns=['Comentários'])"
      ],
      "execution_count": null,
      "outputs": []
    },
    {
      "cell_type": "code",
      "metadata": {
        "id": "941UNbcnkhPv"
      },
      "source": [
        "#Tokenização\n",
        "tokenization = text.Tokenizer(num_words=10000,lower=True)"
      ],
      "execution_count": null,
      "outputs": []
    },
    {
      "cell_type": "code",
      "metadata": {
        "id": "P9TFwQkTkhPw"
      },
      "source": [
        "#Passando os textos para sequencias numéricas\n",
        "tokenization.fit_on_texts(list(X_train)+list(X_test))\n",
        "X_train = tokenization.texts_to_sequences(X_train)\n",
        "X_test = tokenization.texts_to_sequences(X_test)\n",
        "#Definindo um tamanho fixo máximo das sequências\n",
        "x_train = sequence.pad_sequences(X_train, maxlen=300, padding=\"post\", truncating=\"post\")\n",
        "x_test = sequence.pad_sequences(X_test, maxlen=300, padding=\"post\", truncating=\"post\")"
      ],
      "execution_count": null,
      "outputs": []
    },
    {
      "cell_type": "code",
      "metadata": {
        "id": "gT1ONU0VkhPx"
      },
      "source": [
        "#Vocabulário\n",
        "word_index = tokenization.word_index\n",
        "word_index\n",
        "size_of_vocabulary = len(tokenization.word_index) + 1 #+1 for padding"
      ],
      "execution_count": null,
      "outputs": []
    },
    {
      "cell_type": "code",
      "metadata": {
        "id": "XX_rrG_2kXI7"
      },
      "source": [
        "#To categorical nos y's\n",
        "num_classes = 2\n",
        "\n",
        "y_train = np.where(y_train == \"positivo\", 1, 0)\n",
        "y_test = np.where(y_test == \"positivo\", 1, 0)\n",
        "y_train = keras.utils.to_categorical(y_train, num_classes)\n",
        "y_test = keras.utils.to_categorical(y_test, num_classes)"
      ],
      "execution_count": null,
      "outputs": []
    },
    {
      "cell_type": "code",
      "metadata": {
        "id": "LhrhNUGd00s7"
      },
      "source": [
        "#Tokenizando os comentários\n",
        "sentences = df_comments[\"Comentarios\"].values.tolist()\n",
        "tokenizer = Tokenizer()\n",
        "\n",
        "tokenizer.fit_on_texts(sentences)\n",
        "\n",
        "word_index = tokenizer.word_index\n",
        "no_of_vocab = len(word_index)"
      ],
      "execution_count": null,
      "outputs": []
    },
    {
      "cell_type": "code",
      "metadata": {
        "id": "MYS8TRHZ1ibo",
        "colab": {
          "base_uri": "https://localhost:8080/"
        },
        "outputId": "af8dccc1-af31-4a51-a389-77ee3e7f91a6"
      },
      "source": [
        "#Tamanho do vocabulário\n",
        "print(no_of_vocab)"
      ],
      "execution_count": null,
      "outputs": [
        {
          "output_type": "stream",
          "name": "stdout",
          "text": [
            "12881\n"
          ]
        }
      ]
    },
    {
      "cell_type": "code",
      "metadata": {
        "id": "JfL-AL_e1rNI",
        "colab": {
          "base_uri": "https://localhost:8080/"
        },
        "outputId": "edf9d3f6-3d1e-423d-af12-47c641b37406"
      },
      "source": [
        "#Tokens\n",
        "print(word_index)"
      ],
      "execution_count": null,
      "outputs": [
        {
          "output_type": "stream",
          "name": "stdout",
          "text": [
            "{'de': 1, 'e': 2, 'que': 3, 'a': 4, 'o': 5, 'livro': 6, 'é': 7, 'não': 8, 'um': 9, 'do': 10, 'para': 11, 'com': 12, 'uma': 13, 'em': 14, 'da': 15, 'se': 16, 'muito': 17, 'como': 18, 'mais': 19, 'os': 20, 'mas': 21, 'no': 22, 'as': 23, 'por': 24, 'na': 25, 'leitura': 26, 'ao': 27, 'ser': 28, 'dos': 29, 'eu': 30, 'livros': 31, 'nos': 32, 'ler': 33, 'esse': 34, 'vida': 35, 'bem': 36, 'me': 37, 'sobre': 38, 'já': 39, 'história': 40, 'autor': 41, 'foi': 42, 'são': 43, 'sem': 44, 'tem': 45, 'sua': 46, 'você': 47, 'ou': 48, 'ele': 49, 'mesmo': 50, 'das': 51, 'isso': 52, 'recomendo': 53, 'este': 54, 'seu': 55, 'quem': 56, 'ter': 57, 'todos': 58, 'pessoas': 59, 'minha': 60, 'pelo': 61, 'pra': 62, 'está': 63, 'só': 64, 'bom': 65, 'forma': 66, 'tudo': 67, 'essa': 68, 'até': 69, 'ainda': 70, 'também': 71, 'obra': 72, 'quando': 73, 'nada': 74, 'tempo': 75, 'amazon': 76, 'pela': 77, 'melhor': 78, 'ela': 79, 'meu': 80, 'pois': 81, 'pouco': 82, 'tão': 83, 'edição': 84, 'seus': 85, 'à': 86, 'sempre': 87, 'nem': 88, 'vai': 89, 'assim': 90, 'outros': 91, 'faz': 92, 'há': 93, 'era': 94, 'além': 95, 'achei': 96, 'porque': 97, 'cada': 98, 'excelente': 99, 'dia': 100, 'final': 101, 'autora': 102, 'personagens': 103, 'fazer': 104, 'pode': 105, 'todo': 106, 'li': 107, 'páginas': 108, 'conteúdo': 109, 'mundo': 110, 'vale': 111, 'dinheiro': 112, 'suas': 113, 'seja': 114, 'apenas': 115, 'parece': 116, 'muitas': 117, 'nossa': 118, 'pena': 119, 'realmente': 120, 'nas': 121, 'depois': 122, 'primeiro': 123, 'gostei': 124, 'estou': 125, 'vezes': 126, 'parte': 127, 'veio': 128, 'capa': 129, 'desse': 130, 'simples': 131, 'vez': 132, 'qualidade': 133, 'porém': 134, 'amor': 135, 'coisas': 136, 'box': 137, 'grande': 138, 'leitor': 139, 'toda': 140, 'esta': 141, 'produto': 142, 'comprei': 143, 'estava': 144, 'preço': 145, 'versão': 146, 'anos': 147, 'te': 148, 'quanto': 149, 'alguns': 150, 'ver': 151, 'algumas': 152, 'comprar': 153, 'fácil': 154, 'todas': 155, 'qualquer': 156, 'boa': 157, 'menos': 158, 'aos': 159, 'algo': 160, 'texto': 161, 'super': 162, 'pessoa': 163, 'série': 164, 'onde': 165, 'antes': 166, 'escrito': 167, 'interessante': 168, 'fala': 169, 'coisa': 170, 'apesar': 171, 'tanto': 172, 'tradução': 173, 'escrita': 174, 'entre': 175, 'dois': 176, 'estão': 177, 'dá': 178, 'dicas': 179, 'dias': 180, 'bastante': 181, 'lo': 182, 'linguagem': 183, 'pensar': 184, 'ajuda': 185, 'muitos': 186, 'tinha': 187, 'kindle': 188, 'quer': 189, 'sucesso': 190, 'outras': 191, 'sociedade': 192, 'agora': 193, 'dizer': 194, 'muita': 195, 'eles': 196, 'outro': 197, 'tenho': 198, 'aqui': 199, 'deste': 200, 'entrega': 201, 'mudar': 202, 'compra': 203, 'maravilhoso': 204, 'entender': 205, 'diferente': 206, 'tipo': 207, 'nunca': 208, 'então': 209, 'realidade': 210, 'hoje': 211, 'hábitos': 212, 'poder': 213, 'sendo': 214, 'demais': 215, 'meio': 216, 'si': 217, 'parabéns': 218, 'dar': 219, 'primeira': 220, 'trabalho': 221, 'papel': 222, 'desde': 223, 'amei': 224, 'mente': 225, 'dessa': 226, 'conta': 227, 'novo': 228, 'ruim': 229, 'chegou': 230, 'simplesmente': 231, 'palavras': 232, 'narrativa': 233, 'falar': 234, 'ponto': 235, 'várias': 236, 'saber': 237, 'mostra': 238, 'ótimo': 239, 'fiquei': 240, 'traz': 241, 'problema': 242, 'poderia': 243, 'esperava': 244, 'editora': 245, 'sim': 246, 'obras': 247, 'extremamente': 248, 'quase': 249, 'título': 250, 'nesse': 251, 'mulheres': 252, 'guerra': 253, 'após': 254, 'rita': 255, 'nós': 256, 'personagem': 257, 'deveria': 258, 'deve': 259, 'fato': 260, 'auto': 261, 'gosto': 262, 'maneira': 263, 'fim': 264, 'gente': 265, 'qual': 266, 'ideias': 267, 'podem': 268, 'mal': 269, 'vou': 270, 'mesma': 271, 'mim': 272, 'disso': 273, 'romance': 274, 'outra': 275, 'verdade': 276, 'momento': 277, 'incrível': 278, 'sentido': 279, 'conhecimento': 280, 'valor': 281, 'certeza': 282, 'principalmente': 283, 'trata': 284, 'seria': 285, 'heitor': 286, 'dela': 287, 'sou': 288, 'atenção': 289, 'página': 290, 'deixa': 291, 'ótima': 292, 'capítulos': 293, 'relação': 294, 'rápida': 295, 'fica': 296, 'alguma': 297, 'tive': 298, 'leonardo': 299, 'nenhum': 300, 'será': 301, 'acho': 302, 'nosso': 303, 'talvez': 304, 'caixa': 305, 'brasil': 306, 'ficar': 307, 'nossos': 308, 'num': 309, 'consegue': 310, 'importante': 311, 'pessoal': 312, 'dele': 313, 'chato': 314, 'mulher': 315, 'consegui': 316, 'volume': 317, 'infelizmente': 318, 'através': 319, 'presente': 320, 'lido': 321, 'passa': 322, 'histórias': 323, 'lendo': 324, 'pelos': 325, 'melhores': 326, 'alguém': 327, 'nova': 328, 'possível': 329, 'fez': 330, 'tenha': 331, 'detalhes': 332, 'vários': 333, 'diz': 334, 'pensamento': 335, 'exemplos': 336, 'apresenta': 337, 'sabe': 338, 'grandes': 339, 'nao': 340, 'queria': 341, 'homem': 342, 'capítulo': 343, 'vc': 344, 'estar': 345, 'foram': 346, 'início': 347, 'busca': 348, 'vi': 349, 'numa': 350, 'caso': 351, 'fosse': 352, 'lindo': 353, 'deixar': 354, 'enredo': 355, 'humano': 356, 'vista': 357, 'próprio': 358, 'falta': 359, 'etc': 360, 'minhas': 361, 'logo': 362, 'estória': 363, 'problemas': 364, 'casa': 365, 'dura': 366, 'estado': 367, 'visão': 368, 'certo': 369, 'site': 370, 'ninguém': 371, 'enfim': 372, 'perfeito': 373, 'nossas': 374, 'futuro': 375, 'maior': 376, 'bons': 377, '1': 378, 'algum': 379, 'lado': 380, 'cara': 381, 'medo': 382, 'exemplo': 383, 'neste': 384, 'meus': 385, 'filme': 386, 'folhas': 387, 'q': 388, 'precisa': 389, 'valores': 390, 'ebook': 391, 'amigos': 392, 'lê': 393, 'fui': 394, 'maioria': 395, 'comentários': 396, 'sido': 397, 'pior': 398, 'às': 399, 'totalmente': 400, 'nenhuma': 401, 'opinião': 402, 'fora': 403, 'lani': 404, 'completamente': 405, 'vontade': 406, '2': 407, 'fã': 408, 'passar': 409, 'própria': 410, 'temos': 411, 'tempos': 412, 'fraco': 413, 'duas': 414, 'material': 415, 'erros': 416, 'digital': 417, 'assunto': 418, 'superficial': 419, 'pobre': 420, 'cheio': 421, 'serem': 422, 'maravilhosa': 423, 'sei': 424, 'espero': 425, 'torna': 426, 'diversas': 427, 'refletir': 428, 'momentos': 429, 'dúvida': 430, 'dentro': 431, 'temas': 432, 'somente': 433, 'importantes': 434, 'recebi': 435, 'leva': 436, 'segundo': 437, 'aí': 438, 'ilustrações': 439, 'técnicas': 440, 'reflexão': 441, 'hábito': 442, 'sofia': 443, 'linda': 444, 'ideia': 445, 'agradável': 446, 'aprender': 447, 'boas': 448, 'deus': 449, 'parar': 450, 'pelas': 451, 'humanidade': 452, 'tal': 453, 'diversos': 454, 'posso': 455, 'book': 456, 'novamente': 457, 'acredito': 458, 'cabeça': 459, 'gostaria': 460, 'harry': 461, 'escrever': 462, 'triste': 463, 'tema': 464, 'lhe': 465, 'começa': 466, 'respeito': 467, 'leitores': 468, 'adorei': 469, 'leve': 470, 'historia': 471, 'modo': 472, 'indico': 473, 'biografia': 474, 'claro': 475, 'clássico': 476, 'prática': 477, '5': 478, 'interessantes': 479, 'feita': 480, 'fatos': 481, 'potter': 482, 'podemos': 483, 'havia': 484, 'acontece': 485, 'graça': 486, 'r': 487, 'gosta': 488, 'durante': 489, 'longo': 490, 'fazendo': 491, 'contra': 492, 'objetivo': 493, 'leia': 494, 'aqueles': 495, 'partes': 496, 'comum': 497, 'português': 498, 'literatura': 499, 'mentalidade': 500, 'vinci': 501, 'coração': 502, 'contrário': 503, 'envolvente': 504, 'desejar': 505, 'esses': 506, '3': 507, 'comecei': 508, 'conceitos': 509, 'tendo': 510, 'confesso': 511, 'fogo': 512, 'possui': 513, 'chegar': 514, 'tamanho': 515, 'lee': 516, 'péssimo': 517, 'nessa': 518, 'ficou': 519, 'quero': 520, 'volta': 521, 'real': 522, 'hora': 523, 'conhecer': 524, 'la': 525, 'diferentes': 526, 'terminar': 527, 'difícil': 528, 'entanto': 529, 'experiência': 530, 'sapiens': 531, 'pensamentos': 532, 'nome': 533, 'riqueza': 534, 'financeira': 535, 'jeito': 536, 'existe': 537, 'família': 538, 'casal': 539, 'inclusive': 540, 'coleção': 541, 'começo': 542, 'profissional': 543, 'protagonista': 544, 'atual': 545, 'impressão': 546, 'horas': 547, 'pontos': 548, 'trilogia': 549, 'vem': 550, 'vidas': 551, 'fantástico': 552, 'escreve': 553, 'segunda': 554, 'fazem': 555, 'século': 556, 'questão': 557, 'metade': 558, 'informações': 559, 'pedido': 560, 'promoção': 561, 'deixou': 562, 'elas': 563, 'consigo': 564, 'reler': 565, 'estamos': 566, 'formato': 567, 'reais': 568, 'fiz': 569, 'rico': 570, 'assuntos': 571, 'têm': 572, 'contato': 573, 'letras': 574, 'partir': 575, 'original': 576, 'lá': 577, 'cansativa': 578, 'último': 579, 'nota': 580, 'contar': 581, 'teve': 582, 'forte': 583, 'existem': 584, 'chega': 585, 'situações': 586, 'melhorar': 587, 'começar': 588, 'ensinamentos': 589, 'reflexões': 590, 'vocês': 591, 'errado': 592, 'feito': 593, 'diante': 594, 'humana': 595, 'avaliações': 596, 'absurdo': 597, 'ações': 598, 'ricas': 599, 'péssima': 600, 'felicidade': 601, 'prende': 602, 'conseguir': 603, 'feliz': 604, 'desta': 605, 'ano': 606, 'força': 607, 'geral': 608, 'tornar': 609, 'trás': 610, 'crianças': 611, 'mudança': 612, 'aborda': 613, 'surpresa': 614, 'descrição': 615, 'informação': 616, 'gênio': 617, 'cansativo': 618, 'sexo': 619, 'conseguiu': 620, 'pai': 621, 'dei': 622, 'deu': 623, 'vão': 624, 'próximo': 625, 'resultados': 626, 'oportunidade': 627, 'época': 628, 'fonte': 629, 'aquele': 630, 'serve': 631, 'paginas': 632, 'enquanto': 633, 'embora': 634, 'lugar': 635, 'sensação': 636, 'especial': 637, 'isto': 638, 'poucas': 639, 'empresa': 640, 'mínimo': 641, 'olavo': 642, 'acabou': 643, 'estrelas': 644, 'sensacional': 645, 'pq': 646, 'preciso': 647, 'criança': 648, 'maiores': 649, 'ensina': 650, '00': 651, 'colocar': 652, '4': 653, 'deseja': 654, 'principal': 655, 'relacionamento': 656, 'expectativas': 657, 'ficção': 658, 'olhos': 659, 'alex': 660, 'abordagem': 661, 'sinceramente': 662, 'acontecer': 663, 'canal': 664, 'amassado': 665, 'atrás': 666, 'irmãos': 667, 'tentar': 668, 'avaliação': 669, 'certa': 670, 'caminho': 671, 'importância': 672, 'prazo': 673, 'perder': 674, 'perceber': 675, 'umas': 676, 'obrigatória': 677, 'estilo': 678, 'sejam': 679, 'atitudes': 680, 'terceiro': 681, 'textos': 682, 'terminei': 683, 'acontecimentos': 684, 'mensagem': 685, 'aquela': 686, 'frases': 687, 'acaba': 688, 'poderiam': 689, 'compreensão': 690, 'homo': 691, 'lidar': 692, 'causa': 693, 'finanças': 694, 'exatamente': 695, 'passado': 696, 'desses': 697, 'obrigada': 698, 'físico': 699, 'somos': 700, 'brasileira': 701, 'usa': 702, 'senti': 703, 'recomendado': 704, 'quais': 705, 'sentimentos': 706, 'financeiro': 707, 'total': 708, 'devem': 709, 'interesse': 710, 'essencial': 711, 'primeiros': 712, 'sério': 713, 'rápido': 714, 'erro': 715, 'clara': 716, 'crime': 717, 'curiosidade': 718, 'caro': 719, 'senso': 720, 'autores': 721, 'escritor': 722, 'carvalho': 723, 'ha': 724, 'vê': 725, 'valeu': 726, 'frente': 727, 'michelle': 728, 'menina': 729, 'mostrar': 730, 'abrir': 731, 'infância': 732, 'querem': 733, 'propósito': 734, 'olhar': 735, 'creio': 736, 'princípios': 737, 'los': 738, 'alto': 739, 'única': 740, 'deles': 741, 'aconteceu': 742, 'situação': 743, 'esperar': 744, 'inteiro': 745, 'encontrar': 746, 'dados': 747, 'aquilo': 748, 'tantos': 749, '10': 750, 'for': 751, 'falando': 752, 'pequeno': 753, 'mundial': 754, 'tradutor': 755, 'parecem': 756, 'novos': 757, 'autoajuda': 758, 'compre': 759, 'isaacson': 760, 'decepção': 761, 'verdadeiro': 762, 'inteligente': 763, 'escritora': 764, 'perdeu': 765, 'formas': 766, 'histórico': 767, 'milagre': 768, 'mesmos': 769, 'análise': 770, 'pessoais': 771, 'poemas': 772, 'afinal': 773, 'conclusão': 774, 'leu': 775, 'pensei': 776, 'estante': 777, 'capas': 778, 'importa': 779, 'martin': 780, 'atuais': 781, 'expectativa': 782, 'diagramação': 783, 'descreve': 784, 'fazemos': 785, 'casos': 786, 'certamente': 787, 'aprendizagem': 788, 'impressa': 789, 'formatação': 790, 'chata': 791, 'decepcionada': 792, 'poucos': 793, 'basta': 794, 'espera': 795, 'continuar': 796, 'filhos': 797, 'verdadeira': 798, 'ansiosa': 799, 'adoro': 800, 'paguei': 801, 'especialmente': 802, 'acabamento': 803, 'termos': 804, 'cita': 805, '30': 806, 'inglês': 807, 'desenvolvimento': 808, 'profunda': 809, 'passo': 810, 'poesia': 811, 'homens': 812, 'tantas': 813, 'pequenas': 814, 'único': 815, 'normal': 816, 'nível': 817, 'capacidade': 818, 'troca': 819, 'jovem': 820, 'prazer': 821, 'foco': 822, 'relações': 823, 'pé': 824, 'internet': 825, 'conselhos': 826, 'culpa': 827, 'idiota': 828, 'rasgada': 829, 'cola': 830, 'idade': 831, 'impecável': 832, 'hot': 833, 'via': 834, 'palavra': 835, 'tornou': 836, 'tanta': 837, 'enxergar': 838, 'resolvi': 839, 'processo': 840, 'completo': 841, 'baseado': 842, 'entendo': 843, 'ódio': 844, 'coloca': 845, 'dando': 846, 'fundo': 847, 'data': 848, 'desfecho': 849, 'impossível': 850, 'dúvidas': 851, 'visto': 852, 'menor': 853, 'imagens': 854, 'acessível': 855, 'essas': 856, 'vieram': 857, 'entendimento': 858, 'distopia': 859, 'consciência': 860, 'ia': 861, 'redenção': 862, 'horrível': 863, 'montag': 864, 'tenta': 865, 'uso': 866, 'social': 867, 'trechos': 868, 'país': 869, 'escreveu': 870, 'razão': 871, 'sequer': 872, 'teria': 873, 'aprendizado': 874, 'investimentos': 875, 'perda': 876, 'profundo': 877, 'jamais': 878, 'infantil': 879, 'merece': 880, 'arthur': 881, 'apaixonada': 882, 'junto': 883, 'pensa': 884, 'esperando': 885, 'cenas': 886, 'segue': 887, 'envolve': 888, 'trajetória': 889, 'fizeram': 890, 'percebi': 891, 'acima': 892, 'passou': 893, 'amigo': 894, 'lições': 895, 'cultura': 896, 'pesquisa': 897, 'propõe': 898, 'ajudar': 899, 'possa': 900, 'aspectos': 901, 'crítica': 902, 'sociais': 903, 'eram': 904, 'entretanto': 905, 'sentir': 906, 'liberdade': 907, 'históricos': 908, 'uns': 909, 'tivesse': 910, 'rotina': 911, 'confuso': 912, 'manter': 913, 'usar': 914, 'levar': 915, 'primeiras': 916, 'sair': 917, 'útil': 918, 'enorme': 919, 'defeito': 920, 'estavam': 921, 'condições': 922, 'tv': 923, '90': 924, 'youtube': 925, 'evolução': 926, 'linha': 927, '”': 928, 'mês': 929, 'quiser': 930, 'diálogos': 931, 'bela': 932, 'resultado': 933, 'devido': 934, 'conto': 935, 'acabei': 936, 'cima': 937, 'responsabilidade': 938, 'tratar': 939, 'pagar': 940, 'estudos': 941, 'referências': 942, 'endereço': 943, 'emocionante': 944, 'consequências': 945, 'completa': 946, 'dinâmica': 947, 'divertida': 948, 'sequência': 949, 'vejo': 950, 'livre': 951, 'americana': 952, 'política': 953, 'criar': 954, 'bonita': 955, 'conversa': 956, 'necessidade': 957, 'disse': 958, 'manhã': 959, 'física': 960, 'veja': 961, 'sono': 962, 'noite': 963, 'teoria': 964, 'anteriores': 965, 'dito': 966, 'repensar': 967, 'jovens': 968, 'facilmente': 969, 'filosofia': 970, 'raiva': 971, 'sentimento': 972, 'baixo': 973, 'querendo': 974, 'três': 975, 'ação': 976, 'surpreendente': 977, 'parecer': 978, 'justamente': 979, 'deixando': 980, 'mostrando': 981, '20': 982, 'comprado': 983, 'proposta': 984, 'trama': 985, 'conjunto': 986, 'contexto': 987, 'opção': 988, 'perde': 989, 'fãs': 990, 'cidade': 991, 'provavelmente': 992, 'abusivo': 993, 'clássicos': 994, 'russo': 995, 'direta': 996, 'filha': 997, 'morte': 998, 'carreira': 999, 'kéfera': 1000, 'vídeos': 1001, 'investir': 1002, 'comportamento': 1003, 'walter': 1004, 'estrela': 1005, 'vender': 1006, 'arte': 1007, 'tentei': 1008, 'lamentável': 1009, 'devolver': 1010, 'compro': 1011, 'definitivamente': 1012, 'mari': 1013, 'novas': 1014, 'tá': 1015, 'leiam': 1016, 'obama': 1017, 'eua': 1018, 'daqueles': 1019, 'fantástica': 1020, 'acha': 1021, 'lista': 1022, 'praticamente': 1023, 'nomes': 1024, 'mudou': 1025, 'xx': 1026, 'escola': 1027, 'espécie': 1028, 'violência': 1029, 'escolha': 1030, 'gênero': 1031, 'garota': 1032, 'número': 1033, 'obrigado': 1034, 'leya': 1035, 'imagem': 1036, 'tomar': 1037, 'sistema': 1038, 'questões': 1039, 'direitos': 1040, 'vivemos': 1041, 'linhas': 1042, 'favor': 1043, 'legal': 1044, 'brasileiros': 1045, 'emoções': 1046, 'passam': 1047, 'querer': 1048, 'conhecido': 1049, 'fahrenheit': 1050, '451': 1051, 'bradbury': 1052, 'correto': 1053, 'tentativa': 1054, 'ordem': 1055, 'ignorância': 1056, 'regime': 1057, 'direito': 1058, 'esquerda': 1059, 'resumo': 1060, 'claramente': 1061, 'música': 1062, 'dessas': 1063, 'rica': 1064, 'público': 1065, 'obter': 1066, 'prático': 1067, 'adquirir': 1068, 'crenças': 1069, 'milionária': 1070, 'conceito': 1071, 'nunes': 1072, 'rasgado': 1073, 'idiotas': 1074, 'atwood': 1075, 'reembolso': 1076, 'danificado': 1077, 'previsível': 1078, 'realizar': 1079, 'emoção': 1080, 'fortes': 1081, 'humor': 1082, 'tutu': 1083, 'seguir': 1084, 'amar': 1085, 'ja': 1086, 'príncipe': 1087, 'próximos': 1088, 'vcs': 1089, 'nele': 1090, 'estados': 1091, 'irmã': 1092, 'referência': 1093, 'prova': 1094, 'mão': 1095, 'propaganda': 1096, 'basicamente': 1097, 'acordar': 1098, 'repetitivo': 1099, 'positivo': 1100, 'ótica': 1101, 'cheguei': 1102, 'próprias': 1103, 'versos': 1104, 'estupro': 1105, 'anterior': 1106, 'vivem': 1107, 'ricos': 1108, 'ir': 1109, 'clichê': 1110, 'ensino': 1111, 'tornam': 1112, 'última': 1113, 'acreditar': 1114, 'sabemos': 1115, 'branco': 1116, 'nesta': 1117, 'natureza': 1118, 'vamos': 1119, 'rocco': 1120, 'atendimento': 1121, 'edições': 1122, 'absolutamente': 1123, 'feitas': 1124, 'distópica': 1125, 'superior': 1126, 'loja': 1127, 'publicação': 1128, 'direita': 1129, 'científica': 1130, 'aquisição': 1131, 'passagens': 1132, 'objetiva': 1133, 'demorei': 1134, 'adultos': 1135, 'conclusões': 1136, 'delas': 1137, 'teorias': 1138, 'mudanças': 1139, '12': 1140, 'baixa': 1141, 'autobiografia': 1142, 'fotos': 1143, 'guia': 1144, 'diário': 1145, 'identificar': 1146, 'best': 1147, 'abaixo': 1148, '34': 1149, 'brasileiro': 1150, 'verdades': 1151, 'dizem': 1152, 'mutantes': 1153, 'lixo': 1154, 'preconceito': 1155, 'saga': 1156, 'jussara': 1157, 'adquiri': 1158, 'olha': 1159, 'digo': 1160, 'medida': 1161, 'felizes': 1162, 'crescer': 1163, 'continuação': 1164, 'arrepender': 1165, 'igual': 1166, 'louca': 1167, 'amo': 1168, 'limites': 1169, 'viva': 1170, 'fundamental': 1171, 'prima': 1172, 'terá': 1173, 'capitulo': 1174, 'relato': 1175, 'mãe': 1176, 'viver': 1177, 'educação': 1178, 'esposa': 1179, 'transformação': 1180, 'devemos': 1181, 'óbvio': 1182, 'embalado': 1183, '8': 1184, 'mídia': 1185, 'viu': 1186, 'sabia': 1187, 'opiniões': 1188, 'inteligência': 1189, 'lindas': 1190, 'exercícios': 1191, 'dormir': 1192, 'quantidade': 1193, 'corpo': 1194, 'pré': 1195, 'transformar': 1196, 'influenciar': 1197, 'dale': 1198, 'perspectiva': 1199, 'relacionamentos': 1200, 'espaço': 1201, 'necessário': 1202, 'cuidado': 1203, 'tipos': 1204, 'ouvir': 1205, 'gostam': 1206, 'motivo': 1207, 'achando': 1208, 'filmes': 1209, 'ah': 1210, 'cena': 1211, 'mensagens': 1212, 'rosie': 1213, 'perdi': 1214, 'amizade': 1215, 'entrar': 1216, 'técnica': 1217, 'perdido': 1218, 'entregue': 1219, 'chegaram': 1220, 'comprem': 1221, 'pocket': 1222, 'marca': 1223, 'impressionante': 1224, 'significa': 1225, 'ficando': 1226, 'gostar': 1227, 'pequena': 1228, 'econômica': 1229, 'acontecendo': 1230, 'barato': 1231, 'contada': 1232, 'professor': 1233, 'imperdível': 1234, 'avaliar': 1235, 'introdução': 1236, 'extremo': 1237, 'bombeiros': 1238, 'ficam': 1239, 'assistir': 1240, 'solução': 1241, 'chama': 1242, 'lida': 1243, 'semanas': 1244, 'meses': 1245, 'tentando': 1246, 'dizendo': 1247, 'mercado': 1248, 'primeiramente': 1249, 'tais': 1250, 'tirar': 1251, 'clichês': 1252, 'esforço': 1253, 'contando': 1254, 'cortella': 1255, 'direto': 1256, 'cliente': 1257, 'preços': 1258, 'máximo': 1259, 'aplicar': 1260, 'mindset': 1261, 'efeito': 1262, 'justo': 1263, 'entrei': 1264, 'carlos': 1265, 'alberto': 1266, 'serviço': 1267, 'filósofo': 1268, 'tom': 1269, 'defeitos': 1270, 'fontes': 1271, 'castigo': 1272, 'cantora': 1273, 'acrescenta': 1274, 'bolso': 1275, 'decepcionante': 1276, 'ridículo': 1277, 'enrolação': 1278, 'venda': 1279, 'cativante': 1280, 'superação': 1281, 'repleto': 1282, 'mar': 1283, 'chorar': 1284, 'apaixonar': 1285, 'las': 1286, 'construir': 1287, 'acabar': 1288, 'juntos': 1289, 'perfeita': 1290, 'aliás': 1291, 'incríveis': 1292, 'fluida': 1293, 'mil': 1294, 'curti': 1295, 'descobrir': 1296, 'ambiente': 1297, 'familiar': 1298, 'coragem': 1299, 'governo': 1300, 'ensinar': 1301, 'áreas': 1302, 'pude': 1303, 'gostoso': 1304, 'vergonha': 1305, 'trocar': 1306, 'sofre': 1307, 'genial': 1308, 'praticar': 1309, 'conhece': 1310, 'faço': 1311, 'sinto': 1312, 'engano': 1313, 'vive': 1314, 'brilhante': 1315, 'expressar': 1316, 'dor': 1317, 'conforme': 1318, 'língua': 1319, 'últimos': 1320, 'suspense': 1321, 'cartas': 1322, 'invés': 1323, 'principais': 1324, 'aparece': 1325, 'cancelar': 1326, 'pouca': 1327, 'dica': 1328, 'escritos': 1329, 'bonito': 1330, 'crônicas': 1331, 'usado': 1332, 'ocorre': 1333, 'brancas': 1334, 'irá': 1335, 'jogo': 1336, 'sob': 1337, 'controle': 1338, 'descrições': 1339, 'continua': 1340, 'ar': 1341, 'embalagem': 1342, 'senhor': 1343, 'argumentos': 1344, 'elementos': 1345, 'capaz': 1346, 'humanos': 1347, 'negócios': 1348, 'fronteira': 1349, 'críticas': 1350, 'lógica': 1351, 'abordados': 1352, 'estas': 1353, 'utiliza': 1354, 'jogar': 1355, 'odiei': 1356, 'aprendi': 1357, 'portanto': 1358, '7': 1359, 'imaginar': 1360, 'perguntas': 1361, 'passando': 1362, 'adolescente': 1363, 'explica': 1364, 'tornando': 1365, 'base': 1366, 'buscar': 1367, 'tratado': 1368, 'ali': 1369, 'mãos': 1370, 'resto': 1371, 'deveriam': 1372, 'presentear': 1373, 'arrependi': 1374, 'sabem': 1375, 'pontas': 1376, 'trabalhar': 1377, 'profundidade': 1378, 'peso': 1379, 'método': 1380, 'práticos': 1381, 'sorte': 1382, 'úteis': 1383, 'financeiramente': 1384, 'positivos': 1385, '11': 1386, 'precisamos': 1387, 'quebra': 1388, 'custo': 1389, 'revista': 1390, 'escolher': 1391, 'frase': 1392, 'democracia': 1393, 'justifica': 1394, 'entendi': 1395, 'transportadora': 1396, 'dostoiévski': 1397, 'repetitiva': 1398, 'artista': 1399, 'interpretação': 1400, 'aia': 1401, 'devolução': 1402, 'porcaria': 1403, 'estivesse': 1404, 'mocinha': 1405, 'boca': 1406, 'quatro': 1407, 'custa': 1408, 'filho': 1409, 'terra': 1410, 'indispensável': 1411, 'trazer': 1412, 'marido': 1413, 'prender': 1414, 'descrever': 1415, 'contém': 1416, 'instigante': 1417, 'unidos': 1418, 'conflitos': 1419, 'procurando': 1420, 'encontrei': 1421, 'universo': 1422, 'desenvolver': 1423, 'esteja': 1424, 'cheia': 1425, 'posição': 1426, 'luxo': 1427, 'faculdade': 1428, 'chegando': 1429, 'próprios': 1430, 'admirável': 1431, 'didático': 1432, '05': 1433, 'crescimento': 1434, 'pergunta': 1435, 'colocando': 1436, 's': 1437, 'excelentes': 1438, 'carnegie': 1439, 'semelhante': 1440, 'experiências': 1441, 'resenha': 1442, 'queimar': 1443, 'canto': 1444, 'mostrou': 1445, 'buscam': 1446, 'obviamente': 1447, 'ritmo': 1448, 'tapa': 1449, 'pequenos': 1450, 'médio': 1451, 'virou': 1452, 'surpreendi': 1453, 'usando': 1454, 'mail': 1455, 'encontro': 1456, 'incrivelmente': 1457, 'dispensa': 1458, 'local': 1459, 'iria': 1460, 'muda': 1461, 'atos': 1462, 'centenas': 1463, 'observar': 1464, 'pegar': 1465, 'breve': 1466, 'chamado': 1467, 'vir': 1468, 'decisões': 1469, 'planeta': 1470, 'link': 1471, 'significado': 1472, 'superou': 1473, 'quão': 1474, 'iniciar': 1475, 'luta': 1476, 'orelha': 1477, 'irei': 1478, 'serão': 1479, 'politicamente': 1480, 'cinema': 1481, 'redes': 1482, 'demonstra': 1483, 'impresso': 1484, 'período': 1485, 'notas': 1486, 'discurso': 1487, 'feminista': 1488, 'construção': 1489, 'assassino': 1490, 'compreender': 1491, 'dão': 1492, 'malvadão': 1493, 'vendido': 1494, 'altamente': 1495, 'legais': 1496, 'decepcionado': 1497, 'f': 1498, 'aparecem': 1499, 'p': 1500, 'faltando': 1501, 'comprando': 1502, 'embasamento': 1503, 'coaching': 1504, 'decorrer': 1505, 'porem': 1506, 'histórica': 1507, 'poema': 1508, 'traduções': 1509, 'amareladas': 1510, 'letra': 1511, 'achar': 1512, 'leio': 1513, 'crédito': 1514, 'nathalia': 1515, 'gasto': 1516, 'estudar': 1517, 'biografado': 1518, 'quis': 1519, 'offred': 1520, 'vendidos': 1521, 'afirma': 1522, 'produtos': 1523, 'baixar': 1524, 'cartão': 1525, 'repete': 1526, 'eva': 1527, 'sonhos': 1528, 'figuras': 1529, 'explicar': 1530, 'elogios': 1531, 'mega': 1532, 'ama': 1533, 'venha': 1534, 'apaixona': 1535, 'engraçado': 1536, 'ideal': 1537, 'inspirador': 1538, 'agir': 1539, 'fé': 1540, 'sobretudo': 1541, 'espetacular': 1542, 'trabalha': 1543, 'relevante': 1544, 'gostosa': 1545, 'contadas': 1546, 'apresentadas': 1547, 'comunidade': 1548, 'água': 1549, 'amanhã': 1550, 'semana': 1551, 'ganhei': 1552, 'devo': 1553, 'inicia': 1554, 'interior': 1555, 'descaso': 1556, 'profundamente': 1557, 'distante': 1558, 'narra': 1559, 'daí': 1560, 'paciência': 1561, 'resolver': 1562, 'comuns': 1563, 'frustrada': 1564, 'inicio': 1565, 'sugiro': 1566, 'varias': 1567, 'volumes': 1568, 'ilustrada': 1569, 'resistente': 1570, 'imaginei': 1571, 'diria': 1572, 'televisão': 1573, 'westeros': 1574, 'dificuldades': 1575, 'satisfeito': 1576, 'possuem': 1577, 'complexo': 1578, 'reis': 1579, 'publicado': 1580, 'estará': 1581, 'cujo': 1582, 'plástico': 1583, 'escritores': 1584, 'disponível': 1585, 'mágico': 1586, 'humanas': 1587, 'conheço': 1588, 'apresentados': 1589, 'procura': 1590, 'prendeu': 1591, 'maiana': 1592, 'nana': 1593, 'finalmente': 1594, 'curto': 1595, 'pensam': 1596, 'terem': 1597, 'alta': 1598, 'decidi': 1599, 'bombeiro': 1600, 'geralmente': 1601, 'pais': 1602, 'encontra': 1603, '–': 1604, 'povo': 1605, 'próxima': 1606, 'literalmente': 1607, 'genialidade': 1608, 'funciona': 1609, 'impactante': 1610, 'modelo': 1611, '50': 1612, 'toa': 1613, 'atemporal': 1614, 'quê': 1615, 'atrapalha': 1616, 'casamento': 1617, 'memória': 1618, 'lugares': 1619, 'viveu': 1620, 'longe': 1621, '40': 1622, 'adolescentes': 1623, 'figura': 1624, 'aguardando': 1625, 'queiroz': 1626, 'traição': 1627, 'acompanha': 1628, 'lançamento': 1629, 'arrogante': 1630, 'ai': 1631, 'forçado': 1632, 'peça': 1633, 'divertido': 1634, 'contudo': 1635, 'fico': 1636, 'geração': 1637, 'minutos': 1638, 'sente': 1639, 'conhecimentos': 1640, 'mitos': 1641, 'mentais': 1642, 'práticas': 1643, 'enviar': 1644, '17': 1645, 'i': 1646, 'paradigmas': 1647, 'cabeceira': 1648, 'cair': 1649, 'seller': 1650, 'média': 1651, 'vindo': 1652, 'penso': 1653, 'toque': 1654, 'monte': 1655, 'ilíada': 1656, 'homero': 1657, 'verso': 1658, 'reclamação': 1659, 'mark': 1660, 'blog': 1661, 'ligar': 1662, 'superficiais': 1663, 'tratava': 1664, 'pura': 1665, 'redundante': 1666, 'nath': 1667, 'seguinte': 1668, '100': 1669, 'viés': 1670, 'memórias': 1671, 'receber': 1672, 'gilead': 1673, 'absurda': 1674, 'científico': 1675, 'justificar': 1676, 'amassados': 1677, 'parei': 1678, 'fraca': 1679, 'amassada': 1680, 'megan': 1681, 'lembranças': 1682, 'intensa': 1683, 'preconceitos': 1684, 'supera': 1685, 'difíceis': 1686, 'biblioteca': 1687, 'cinco': 1688, 'comédia': 1689, 'dom': 1690, 'maravilhosos': 1691, 'saudades': 1692, 'excepcional': 1693, 'conhecemos': 1694, 'acompanho': 1695, 'peguei': 1696, 'n': 1697, 'centavo': 1698, 'indicado': 1699, 'branca': 1700, 'norte': 1701, 'doce': 1702, 'conviver': 1703, 'feminino': 1704, 'permite': 1705, 'buscando': 1706, 'presidente': 1707, 'defender': 1708, 'ideais': 1709, 'decepciona': 1710, 'detalhe': 1711, 'ex': 1712, 'irmão': 1713, 'quarto': 1714, 'infeliz': 1715, 'trump': 1716, 'redor': 1717, 'vencer': 1718, 'cotidiano': 1719, 'coloridas': 1720, 'ferramentas': 1721, 'faça': 1722, 'ambos': 1723, 'desafio': 1724, 'spoiler': 1725, 'cumpre': 1726, 'pro': 1727, '21': 1728, 'precisava': 1729, 'afirmar': 1730, 'pesquisas': 1731, 'disposto': 1732, 'clientes': 1733, 'ontem': 1734, 'expõe': 1735, 'qualidades': 1736, 'estaria': 1737, 'descobri': 1738, 'representa': 1739, 'voz': 1740, 'tocante': 1741, 'milhares': 1742, 'luz': 1743, 'presentes': 1744, 'poesias': 1745, 'moral': 1746, 'fantasia': 1747, 'conseguem': 1748, 'bacana': 1749, 'reclamar': 1750, 'roteiro': 1751, 'nacional': 1752, 'direção': 1753, 'ficaram': 1754, 'destino': 1755, 'voce': 1756, 'muitíssimo': 1757, 'ajudam': 1758, 'parado': 1759, 'pesquisar': 1760, 'preto': 1761, 'altura': 1762, 'espaçamento': 1763, 'mapa': 1764, 'gelo': 1765, 'folha': 1766, 'recomendaria': 1767, 'necessariamente': 1768, 'restante': 1769, 'alerta': 1770, 'finas': 1771, 'cabe': 1772, 'motivos': 1773, 'considerar': 1774, 'vocabulário': 1775, 'considero': 1776, 'científicas': 1777, 'atualmente': 1778, 'acrescentar': 1779, 'ciência': 1780, 'algoritmos': 1781, 'potencial': 1782, 'estes': 1783, 'bíblia': 1784, 'comportamentos': 1785, 'possibilidades': 1786, 'fôlego': 1787, 'produção': 1788, 'avanço': 1789, 'questionar': 1790, 'temperatura': 1791, 'acordo': 1792, 'países': 1793, 'segredos': 1794, 'aventura': 1795, 'revisão': 1796, 'conquista': 1797, 'mau': 1798, 'investimento': 1799, 'comentar': 1800, 'acesso': 1801, 'percebe': 1802, 'respostas': 1803, 'materiais': 1804, 'funcionam': 1805, 'teatro': 1806, 'população': 1807, 'curioso': 1808, 'crítico': 1809, 'entretenimento': 1810, 'absurdas': 1811, 'mesmas': 1812, 'prazerosa': 1813, '1984': 1814, 'ruas': 1815, 'cenário': 1816, 'indivíduos': 1817, 'laranja': 1818, 'mecânica': 1819, 'desconforto': 1820, 'abre': 1821, 'perdendo': 1822, 'acerca': 1823, 'intenção': 1824, 'personalidade': 1825, 'glossário': 1826, 'tratamento': 1827, 'particularmente': 1828, 'detalhada': 1829, 'hitler': 1830, 'área': 1831, 'alemanha': 1832, 'divina': 1833, 'lançado': 1834, 'assumir': 1835, 'alem': 1836, 'atitude': 1837, 'aguardo': 1838, 'comigo': 1839, 'rainha': 1840, 'russa': 1841, 'pensando': 1842, 'empresas': 1843, 'âmbito': 1844, 'essência': 1845, 'certos': 1846, 'unlimited': 1847, 'mental': 1848, 'rapidamente': 1849, 'emocional': 1850, 'invisível': 1851, 'arquivos': 1852, 'provável': 1853, '6': 1854, 'vendas': 1855, '15': 1856, 'milionário': 1857, 'queira': 1858, 'relacionar': 1859, 'ajudou': 1860, 'recomendação': 1861, 'the': 1862, 'classe': 1863, 'estudante': 1864, 'famílias': 1865, 'abordar': 1866, 'selva': 1867, 'perdida': 1868, 'novidade': 1869, 'grupo': 1870, 'posto': 1871, 'gastar': 1872, 'lombada': 1873, 'premium': 1874, 'felipe': 1875, 'saiu': 1876, 'sermos': 1877, 'drogas': 1878, 'análises': 1879, 'básico': 1880, 'encher': 1881, 'décadas': 1882, 'complexidade': 1883, 'arcuri': 1884, 'noção': 1885, 'claret': 1886, '500': 1887, 'paulo': 1888, 'intelectual': 1889, 'pintor': 1890, 'decepcionou': 1891, 'chamar': 1892, 'religiosa': 1893, 'raso': 1894, 'prolixo': 1895, 'repetição': 1896, 'afirmações': 1897, 'solicitei': 1898, 'ok': 1899, 'pulando': 1900, 'embrulho': 1901, 'ideológico': 1902, 'marketing': 1903, 'pedi': 1904, 'agradou': 1905, 'foto': 1906, 'virtual': 1907, 'linguiça': 1908, 'digitais': 1909, 'decepcionei': 1910, 'arrastada': 1911, 'rasgadas': 1912, 'rachel': 1913, 'eleonora': 1914, 'soube': 1915, 'maurício': 1916, 'chave': 1917, 'autoestima': 1918, 'sonho': 1919, 'ju': 1920, 'ganhou': 1921, 'acompanhando': 1922, 'wattpad': 1923, 'risadas': 1924, 'rir': 1925, 'ri': 1926, 'escritas': 1927, 'quente': 1928, 'mistura': 1929, 'chorei': 1930, 'medos': 1931, 'paixão': 1932, 'daquelas': 1933, 'esperança': 1934, 'lembrei': 1935, 'desperta': 1936, 'influência': 1937, 'biografias': 1938, 'discorre': 1939, 'fascinante': 1940, 'gramatura': 1941, 'atingir': 1942, 'vendo': 1943, 'milhões': 1944, 'cedo': 1945, 'mostram': 1946, 'cérebro': 1947, 'automaticamente': 1948, 'caminhos': 1949, 'passei': 1950, 'recomento': 1951, 'of': 1952, 'comunicação': 1953, 'relevantes': 1954, 'antigo': 1955, 'popular': 1956, 'aquelas': 1957, 'dê': 1958, 'queima': 1959, 'abuso': 1960, 'começando': 1961, 'sofrimento': 1962, 'vá': 1963, 'choque': 1964, 'premissa': 1965, 'apresentada': 1966, 'criatividade': 1967, 'recomendadíssimo': 1968, 'descritas': 1969, 'mails': 1970, 'conselho': 1971, 'faltou': 1972, 'haver': 1973, 'emails': 1974, 'nela': 1975, 'celular': 1976, 'escolhas': 1977, 'perdemos': 1978, 'bonitas': 1979, 'ansioso': 1980, 'magnífica': 1981, 'm': 1982, 'ênfase': 1983, 'existentes': 1984, 'compras': 1985, 'adequado': 1986, 'bolsa': 1987, 'transparentes': 1988, 'george': 1989, 'br': 1990, 'portugal': 1991, 'perfeitamente': 1992, 'lindos': 1993, 'mestre': 1994, 'parecendo': 1995, '9': 1996, 'maus': 1997, 'suficiente': 1998, 'repleta': 1999, 'versões': 2000, 'flui': 2001, 'movimento': 2002, 'pobres': 2003, 'pretendo': 2004, 'aprofundar': 2005, 'criado': 2006, 'religião': 2007, 'seguida': 2008, 'historiador': 2009, 'animais': 2010, 'vídeo': 2011, 'possíveis': 2012, 'falhas': 2013, 'insights': 2014, 'padrão': 2015, 'atento': 2016, 'exige': 2017, 'gostou': 2018, 'rumo': 2019, 'eficiente': 2020, 'peca': 2021, 'apareceu': 2022, 'diferença': 2023, 'romances': 2024, 'frete': 2025, 'correta': 2026, 'perfeitas': 2027, 'inicial': 2028, 'gráfica': 2029, 'considerada': 2030, 'cor': 2031, 'ray': 2032, 'refere': 2033, 'cidadãos': 2034, 'constante': 2035, 'colocados': 2036, 'perguntar': 2037, 'começou': 2038, 'dado': 2039, 'recentemente': 2040, 'falam': 2041, 'medíocre': 2042, 'acham': 2043, 'escolas': 2044, 'alienação': 2045, 'autoritário': 2046, 'distopias': 2047, 'revela': 2048, 'conforto': 2049, 'chamada': 2050, 'revolução': 2051, 'abandonar': 2052, 'morrer': 2053, 'imagine': 2054, 'cultural': 2055, 'editoras': 2056, 'atualidade': 2057, 'religioso': 2058, 'político': 2059, 'destruição': 2060, 'possibilidade': 2061, 'origem': 2062, 'interessa': 2063, 'ruins': 2064, 'parecia': 2065, 'ebooks': 2066, 'fundamentais': 2067, 'fossem': 2068, 'nadsat': 2069, 'traduzido': 2070, 'idades': 2071, 'sentidos': 2072, 'posteriormente': 2073, 'tenham': 2074, 'polônia': 2075, 'interesses': 2076, 'intuito': 2077, 'achava': 2078, 'cronológica': 2079, 'aula': 2080, 'enfadonho': 2081, 'narrativas': 2082, 'erradas': 2083, 'trouxe': 2084, 'desejam': 2085, 'dívida': 2086, 'positivas': 2087, 'ceo': 2088, 't': 2089, 'inúmeras': 2090, 'pudesse': 2091, 'protagonistas': 2092, 'mudando': 2093, 'tristan': 2094, 'rs': 2095, 'tristeza': 2096, 'dono': 2097, 'queda': 2098, 'esperei': 2099, 'escura': 2100, 'fazia': 2101, 'acontecido': 2102, 'publicar': 2103, 'emprego': 2104, 'ouvi': 2105, 'natural': 2106, 'tao': 2107, 'comprarei': 2108, 'palavrões': 2109, 'estudo': 2110, 'métodos': 2111, 'ótimas': 2112, 'verdadeiramente': 2113, 'objetos': 2114, 'promete': 2115, 'recomendações': 2116, 'sites': 2117, 'jornada': 2118, 'harv': 2119, 'falsas': 2120, 'famoso': 2121, 'compromisso': 2122, 'perca': 2123, 'pensava': 2124, 'depende': 2125, 'apresentando': 2126, 'porta': 2127, 'extrema': 2128, 'daquela': 2129, 'duvidas': 2130, 'so': 2131, 'regras': 2132, 'abriu': 2133, 'incluindo': 2134, 'deram': 2135, 'crer': 2136, 'percepção': 2137, 'cai': 2138, 'gigantes': 2139, 'lago': 2140, 'puro': 2141, 'faltam': 2142, 'conter': 2143, '24': 2144, 'feitos': 2145, 'grata': 2146, '80': 2147, 'honestidade': 2148, '99': 2149, 'percebemos': 2150, 'sérios': 2151, 'responsável': 2152, 'desnecessários': 2153, 'bibliográficas': 2154, 'seguem': 2155, 'resume': 2156, '2017': 2157, 'simplista': 2158, 'sensacionalista': 2159, 'adulto': 2160, 'últimas': 2161, 'poupe': 2162, 'rock': 2163, 'sexual': 2164, 'cadernos': 2165, 'citações': 2166, 'tela': 2167, 'mona': 2168, 'lisa': 2169, 'gênios': 2170, 'imaginação': 2171, 'entregar': 2172, 'feminina': 2173, 'intolerância': 2174, 'feministas': 2175, 'baseadas': 2176, 'desnecessário': 2177, 'fraquíssimo': 2178, 'desperdício': 2179, 'frustrante': 2180, 'vende': 2181, 'presta': 2182, 'irritante': 2183, 'piores': 2184, 'consumidor': 2185, '0': 2186, 'paga': 2187, 'originais': 2188, 'desnecessária': 2189, 'enrola': 2190, 'download': 2191, 'oque': 2192, 'neto': 2193, 'continuidade': 2194, 'incorreto': 2195, 'atraso': 2196, 'má': 2197, 'hype': 2198, 'planos': 2199, 'envolvendo': 2200, 'lágrimas': 2201, 'literária': 2202, 'terão': 2203, 'trazem': 2204, 'felizmente': 2205, 'imagino': 2206, 'recomendada': 2207, 'ouro': 2208, 'aberto': 2209, 'determinados': 2210, 'aventuras': 2211, 'conosco': 2212, 'mistério': 2213, 'perderam': 2214, 'conseguiram': 2215, 'encontram': 2216, 'continue': 2217, 'escrevendo': 2218, 'emocionar': 2219, 'oficial': 2220, 'deixei': 2221, 'apaixonei': 2222, 'simplismente': 2223, 'apaixonante': 2224, 'superar': 2225, 'tbm': 2226, 'devorei': 2227, 'leitora': 2228, 'alegria': 2229, 'obs': 2230, 'físicos': 2231, 'íntimos': 2232, 'criação': 2233, 'profissão': 2234, 'desafios': 2235, 'barack': 2236, 'forças': 2237, 'filhas': 2238, 'motivação': 2239, 'honesto': 2240, 'belo': 2241, 'amiga': 2242, 'legado': 2243, 'batalhas': 2244, 'objetivos': 2245, 'podia': 2246, 'inteira': 2247, 'dificuldade': 2248, 'distorcida': 2249, 'entrevistas': 2250, 'diga': 2251, 'encantador': 2252, 'básicos': 2253, 'estratégia': 2254, 'utilizados': 2255, 'clássica': 2256, 'apena': 2257, '2018': 2258, 'relata': 2259, 'sofreu': 2260, 'fortemente': 2261, 'trabalhos': 2262, 'conseguia': 2263, 'facebook': 2264, 'tiveram': 2265, 'produtivo': 2266, 'recursos': 2267, 'transformador': 2268, 'pratica': 2269, 'funcional': 2270, 'consequentemente': 2271, 'levam': 2272, 'procurar': 2273, 'conduz': 2274, 'colocam': 2275, 'profissionais': 2276, 'imaginava': 2277, 'toca': 2278, 'receita': 2279, 'machista': 2280, 'abusos': 2281, 'atrocidades': 2282, 'merecem': 2283, 'precisam': 2284, 'entende': 2285, 'd': 2286, 'encontrou': 2287, 'damos': 2288, 'agrada': 2289, 'tris': 2290, 'explicação': 2291, 'encanto': 2292, 'pretende': 2293, 'gostinho': 2294, 'independente': 2295, 'haha': 2296, 'virar': 2297, 'pesado': 2298, 'nisso': 2299, 'empolgante': 2300, 'surpresas': 2301, 'termina': 2302, 'universidade': 2303, 'altos': 2304, 'né': 2305, 'terminou': 2306, 'fiel': 2307, 'cartões': 2308, 'amostra': 2309, 'demora': 2310, 'gostado': 2311, 'pagina': 2312, 'relevo': 2313, 'desenho': 2314, 'entra': 2315, 'diferenças': 2316, 'chegam': 2317, 'mapas': 2318, 'iguais': 2319, 'tirando': 2320, 'gt': 2321, 'pago': 2322, 'apresentação': 2323, 'marcantes': 2324, 'estragar': 2325, 'houve': 2326, 'boxes': 2327, 'exagero': 2328, 'famosa': 2329, 'vistas': 2330, 'lemos': 2331, 'específico': 2332, 'longa': 2333, 'políticos': 2334, 'incomoda': 2335, 'lojas': 2336, 'comparado': 2337, 'anéis': 2338, 'coerente': 2339, 'preocupação': 2340, 'cuja': 2341, 'possamos': 2342, 'tratados': 2343, 'utilizada': 2344, 'mágica': 2345, 'inúmeros': 2346, 'criou': 2347, 'exercício': 2348, 'comprá': 2349, 'observações': 2350, 'expostas': 2351, 'indicar': 2352, 'receio': 2353, 'relevância': 2354, 'evoluir': 2355, 'inovação': 2356, 'titulo': 2357, 'deuses': 2358, 'serviu': 2359, 'caráter': 2360, 'avó': 2361, 'mocinho': 2362, 'amando': 2363, 'conquistou': 2364, 'pedra': 2365, 'filosofal': 2366, 'amada': 2367, 'cores': 2368, 'ilustração': 2369, 'optar': 2370, 'sete': 2371, 'vazio': 2372, 'procure': 2373, '1953': 2374, 'pega': 2375, 'determinado': 2376, 'função': 2377, 'resumos': 2378, 'instituições': 2379, 'sabendo': 2380, 'lia': 2381, 'central': 2382, 'consiste': 2383, 'decisão': 2384, 'saudável': 2385, 'fênix': 2386, 'acostumado': 2387, 'raciocínio': 2388, 'segurança': 2389, 'proibidos': 2390, 'guardar': 2391, 'destaque': 2392, 'surpreendeu': 2393, 'massa': 2394, 'destes': 2395, 'atividades': 2396, 'lei': 2397, 'moça': 2398, 'porquê': 2399, 'considerado': 2400, 'traduzida': 2401, 'saindo': 2402, 'invenções': 2403, 'status': 2404, 'notar': 2405, 'finais': 2406, 'adaptação': 2407, '70': 2408, 'resenhas': 2409, 'naquela': 2410, 'lidos': 2411, 'anthony': 2412, 'igualmente': 2413, 'dentre': 2414, 'apresentado': 2415, 'criada': 2416, 'suporte': 2417, 'interpretações': 2418, 'usadas': 2419, 'papo': 2420, 'citados': 2421, 'curso': 2422, 'gilbert': 2423, '22': 2424, 'números': 2425, 'americanos': 2426, 'impressões': 2427, 'estratégias': 2428, 'expansão': 2429, 'esperado': 2430, 'plano': 2431, 'existir': 2432, 'foge': 2433, 'viagem': 2434, 'h': 2435, 'príncipes': 2436, 'costuma': 2437, 'surpreende': 2438, 'agradecer': 2439, 'logan': 2440, 'perfeição': 2441, 'títulos': 2442, 'novela': 2443, 'contemporânea': 2444, 'rever': 2445, 'curiosa': 2446, 'eventos': 2447, 'velocidade': 2448, 'k': 2449, 'oferece': 2450, 'leves': 2451, 'propósitos': 2452, 'indicação': 2453, 'mário': 2454, 'ultimo': 2455, 'considerando': 2456, 'provoca': 2457, 'extra': 2458, 'identifiquei': 2459, 'adolescência': 2460, 'irão': 2461, 'show': 2462, 'dramalhão': 2463, 'acredita': 2464, 'talo': 2465, 'morreu': 2466, 'fique': 2467, 'curtos': 2468, 'oportunidades': 2469, 'books': 2470, 'especificamente': 2471, 'traçar': 2472, 'metas': 2473, 'sugestões': 2474, 'utilizando': 2475, 'cobrar': 2476, 'sucedido': 2477, 'proposto': 2478, 'padrões': 2479, 'descritos': 2480, 'aplicados': 2481, 'alcançar': 2482, 'g': 2483, 'enriquecer': 2484, 'justificativa': 2485, 'técnico': 2486, 'interna': 2487, 'negócio': 2488, 'financeiros': 2489, 'gasta': 2490, 'óbvias': 2491, 'desconto': 2492, 'varios': 2493, 'explora': 2494, 'partindo': 2495, 'comunismo': 2496, 'quesito': 2497, 'selvagem': 2498, 'abandonei': 2499, 'universal': 2500, 'trecho': 2501, 'terceira': 2502, 'lacunas': 2503, 'retirada': 2504, 'lembro': 2505, 'aconselho': 2506, 'condição': 2507, 'especialistas': 2508, 'inteligencia': 2509, 'jornalista': 2510, 'negar': 2511, 'recheado': 2512, 'imediatamente': 2513, 'bobo': 2514, 'cansativos': 2515, 'cheios': 2516, 'perspectivas': 2517, 'sinal': 2518, 'importar': 2519, 'oferecido': 2520, 'bobagem': 2521, 'concordo': 2522, 'possivel': 2523, 'comentário': 2524, 'energia': 2525, 'contradição': 2526, 'colocado': 2527, 'fútil': 2528, 'blá': 2529, 'passaram': 2530, 'chances': 2531, 'paralelo': 2532, 'estrutura': 2533, 'relatos': 2534, 'voltado': 2535, 'finalizar': 2536, 'publicados': 2537, 'zero': 2538, 'manipulação': 2539, 'livrinho': 2540, 'musical': 2541, 'haja': 2542, 'pinturas': 2543, 'perto': 2544, 'lateral': 2545, 'radicais': 2546, 'aias': 2547, 'esposas': 2548, 'ameaça': 2549, 'golpe': 2550, 'arrependo': 2551, 'adquirido': 2552, 'confusa': 2553, 'aproveitar': 2554, 'complicado': 2555, 'peço': 2556, 'arrependimento': 2557, 'email': 2558, 'falácias': 2559, 'tendencioso': 2560, 'pseudo': 2561, 'quinto': 2562, 'danificada': 2563, 'enrolado': 2564, 'descuido': 2565, 'resposta': 2566, 'cobrado': 2567, 'retorno': 2568, 'achismo': 2569, 'maçante': 2570, 'separação': 2571, 'escolhi': 2572, 'chatas': 2573, 'dava': 2574, 'apresentar': 2575, '140': 2576, 'baixei': 2577, 'ridícula': 2578, 'pottermore': 2579, 'comparar': 2580, 'lou': 2581, 'forçada': 2582, 'desrespeito': 2583, 'leria': 2584, 'tons': 2585, 'apaixonado': 2586, 'traumas': 2587, 'perdão': 2588, 'ficamos': 2589, 'lafaiete': 2590, 'presença': 2591, 'lara': 2592, 'aberta': 2593, 'romântico': 2594, 'enredos': 2595, 'terrível': 2596, '😍😍': 2597, 'carinho': 2598, 'maravilhosas': 2599, 'louco': 2600, 'tambem': 2601, 'drama': 2602, 'tb': 2603, 'perfeitos': 2604, 'leal': 2605, 'compartilha': 2606, 'loucuras': 2607, 'amores': 2608, 'cama': 2609, 'dez': 2610, 'ímpar': 2611, 'mergulhar': 2612, 'livrarias': 2613, '1000': 2614, 'viciante': 2615, 'pitadas': 2616, 'fase': 2617, 'engraçada': 2618, 'conhecê': 2619, 'revelador': 2620, 'universidades': 2621, 'dama': 2622, 'prepare': 2623, 'emocionei': 2624, 'empatia': 2625, 'revelar': 2626, 'quadro': 2627, 'equilibrar': 2628, 'conhecia': 2629, 'venceu': 2630, 'obstáculos': 2631, 'fugir': 2632, 'lembra': 2633, 'sincera': 2634, 'zona': 2635, 'pensou': 2636, 'pediu': 2637, 'usada': 2638, 'frustração': 2639, 'tô': 2640, 'batalha': 2641, 'cotidiana': 2642, 'ajudará': 2643, 'dedicar': 2644, 'acidente': 2645, 'levou': 2646, 'poderá': 2647, 'lança': 2648, 'transformações': 2649, 'afirmação': 2650, 'pessoalmente': 2651, 'quantas': 2652, 'provar': 2653, 'miracle': 2654, 'morning': 2655, 'desempenho': 2656, 'voltei': 2657, 'new': 2658, 'morais': 2659, 'elogio': 2660, 'perante': 2661, 'xix': 2662, 'progresso': 2663, 'bolo': 2664, 'dou': 2665, 'fará': 2666, 'tempestade': 2667, 'lembre': 2668, 'bruxas': 2669, 'necessária': 2670, 'grito': 2671, 'abusivos': 2672, 'enfrentar': 2673, 'aprendizados': 2674, 'resistência': 2675, 'forem': 2676, 'relido': 2677, 'despertar': 2678, 'ganha': 2679, 'atendeu': 2680, 'sobreviver': 2681, 'jogos': 2682, 'vorazes': 2683, 'falha': 2684, 'mto': 2685, 'esperamos': 2686, 'impacto': 2687, 'imagina': 2688, 'assistido': 2689, 'estarem': 2690, 'acontecem': 2691, 'negativa': 2692, 'livraria': 2693, 'chamou': 2694, 'desistir': 2695, 'dezenas': 2696, 'mandar': 2697, 'preferidos': 2698, 'amam': 2699, 'retrata': 2700, 'lembrar': 2701, 'dores': 2702, 'assisti': 2703, 'fluída': 2704, 'formado': 2705, 'y': 2706, 'sentimos': 2707, 'tarde': 2708, 'favoritos': 2709, 'queremos': 2710, 'favorito': 2711, 'interação': 2712, 'gravuras': 2713, 'margem': 2714, 'dignas': 2715, 'artes': 2716, 'inseridas': 2717, 'houvesse': 2718, 'irrelevantes': 2719, 'embalados': 2720, 'possuir': 2721, 'combo': 2722, 'vivo': 2723, 'douradas': 2724, 'representam': 2725, 'seriado': 2726, 'casas': 2727, 'distintos': 2728, 'ocorrem': 2729, 'fúria': 2730, 'extraordinário': 2731, 'tronos': 2732, 'importam': 2733, 'recompensa': 2734, 'cidades': 2735, 'parágrafos': 2736, 'explicações': 2737, 'preso': 2738, 'papelão': 2739, 'bolha': 2740, 'previsto': 2741, 'inimigo': 2742, 'lento': 2743, 'porto': 2744, 'pensadores': 2745, 'fanático': 2746, 'religiosos': 2747, 'vivendo': 2748, 'falsa': 2749, 'distópico': 2750, 'biologia': 2751, 'centro': 2752, 'harari': 2753, 'analisa': 2754, 'âmbitos': 2755, 'modificar': 2756, 'alterar': 2757, 'passe': 2758, 'risco': 2759, 'amp': 2760, 'ouvido': 2761, 'tomando': 2762, 'imprescindível': 2763, 'pop': 2764, 'futuros': 2765, 'acreditava': 2766, 'cenários': 2767, 'tecnologia': 2768, 'desejo': 2769, 'dispensável': 2770, 'alcance': 2771, 'iniciando': 2772, 'amontoado': 2773, 'promover': 2774, 'completar': 2775, 'capazes': 2776, 'passagem': 2777, 'escolheu': 2778, 'heroína': 2779, 'v': 2780, 'autoras': 2781, 'fake': 2782, 'cruel': 2783, 'belíssima': 2784, 'esquecendo': 2785, 'manusear': 2786, 'marcador': 2787, 'cantos': 2788, 'francamente': 2789, 'bonitos': 2790, 'artigo': 2791, 'definitiva': 2792, 're': 2793, 'reação': 2794, 'brilho': 2795, 'descreveu': 2796, 'programas': 2797, 'queimados': 2798, 'puder': 2799, 'poeira': 2800, 'filosóficas': 2801, 'evitando': 2802, 'clarisse': 2803, 'belas': 2804, 'totalitário': 2805, 'verificar': 2806, 'similar': 2807, 'assistindo': 2808, 'programa': 2809, 'telefone': 2810, 'caminhar': 2811, 'interessar': 2812, 'conversas': 2813, 'senhora': 2814, 'semelhança': 2815, 'defende': 2816, 'baseada': 2817, 'consequência': 2818, 'pensamos': 2819, 'sensibilidade': 2820, 'futurista': 2821, 'censura': 2822, 'impedir': 2823, 'indústria': 2824, 'relativamente': 2825, 'década': 2826, 'prefácio': 2827, 'parou': 2828, 'midiática': 2829, 'crise': 2830, 'salvar': 2831, 'saúde': 2832, 'recebeu': 2833, 'impressas': 2834, 'ato': 2835, 'inquieta': 2836, 'gama': 2837, 'psicológico': 2838, 'estranho': 2839, 'minoria': 2840, 'regimes': 2841, 'contemporâneo': 2842, 'descrito': 2843, 'carregar': 2844, 'discussão': 2845, 'francês': 2846, 'visualização': 2847, 'digno': 2848, 'transforma': 2849, 'curta': 2850, 'gírias': 2851, 'burgess': 2852, 'vasto': 2853, 'usados': 2854, 'linguajar': 2855, 'estética': 2856, 'violento': 2857, 'egoísta': 2858, 'cometer': 2859, 'crimes': 2860, 'indivíduo': 2861, 'limite': 2862, 'trazendo': 2863, 'consideração': 2864, 'editado': 2865, 'primoroso': 2866, 'marcante': 2867, 'diariamente': 2868, '08': 2869, 'clareza': 2870, 'objetividade': 2871, 'prisioneiros': 2872, 'efetivamente': 2873, 'pedir': 2874, 'determinadas': 2875, 'vimos': 2876, 'tiver': 2877, 'panorama': 2878, 'ocorreu': 2879, 'bebê': 2880, 'inocente': 2881, 'neném': 2882, 'alheia': 2883, 'maxwell': 2884, 'meia': 2885, 'sinceridade': 2886, 'tônica': 2887, 'autoconhecimento': 2888, 'feio': 2889, 'inspiração': 2890, 'incondicional': 2891, 'detestei': 2892, 'rsrs': 2893, 'torno': 2894, 'entendeu': 2895, 'pele': 2896, 'qdo': 2897, 'unica': 2898, 'frio': 2899, 'querida': 2900, 'largar': 2901, 'l': 2902, 'velho': 2903, 'prepotente': 2904, 'aprendendo': 2905, 'virgem': 2906, 'cru': 2907, 'assinatura': 2908, 'confortável': 2909, 'negativas': 2910, 'conhecidos': 2911, 'passados': 2912, 'esclarecer': 2913, 'passos': 2914, 'vemos': 2915, 'corporativo': 2916, 'constantemente': 2917, 'organização': 2918, 'traduz': 2919, 'carisma': 2920, 'ouvindo': 2921, 'brinde': 2922, 'julgar': 2923, 'filosófica': 2924, 'convite': 2925, 'sabedoria': 2926, 'fruto': 2927, 'x': 2928, 'palestras': 2929, 'ótimos': 2930, 'burocracia': 2931, 'mt': 2932, 'caras': 2933, 'absorver': 2934, 'focarmos': 2935, 'proveito': 2936, 'mínima': 2937, 'iniciantes': 2938, 'meios': 2939, 'tradicionais': 2940, 'ensinado': 2941, 'praticamos': 2942, 'perfil': 2943, 'organizar': 2944, 'facilidade': 2945, 'indicações': 2946, 'sequencia': 2947, 'deixam': 2948, 'acrescentou': 2949, 'ajudando': 2950, 'pedindo': 2951, 'efeitos': 2952, 'alunos': 2953, 'desenvolvido': 2954, 'modelos': 2955, 'enriquecimento': 2956, 'eker': 2957, 'c': 2958, 'doença': 2959, 'acreditam': 2960, 'desculpa': 2961, 'focalizam': 2962, 'companhia': 2963, 'negativos': 2964, 'sugere': 2965, 'tente': 2966, '13': 2967, 'patrimônio': 2968, 'rendimento': 2969, 'fases': 2970, 'lição': 2971, 'abundância': 2972, 'prega': 2973, 'didática': 2974, 'pobreza': 2975, 'sigo': 2976, 'argumentação': 2977, 'ganho': 2978, 'ta': 2979, 'contas': 2980, 'piada': 2981, 'entrada': 2982, 'poupar': 2983, 'controlar': 2984, 'vendeu': 2985, 'milhão': 2986, 'prosperidade': 2987, 'voltar': 2988, 'positiva': 2989, 'to': 2990, 'típico': 2991, 'criando': 2992, 'fixar': 2993, 'preciosos': 2994, 'otimo': 2995, 'tido': 2996, 'investidores': 2997, 'entrevista': 2998, 'menciona': 2999, '•': 3000, 'follett': 3001, 'russos': 3002, 'ken': 3003, 'grigori': 3004, 'participar': 3005, 'cobrando': 3006, 'entendendo': 3007, 'bate': 3008, 'comparei': 3009, 'xavier': 3010, 'pinheiro': 3011, 'gustave': 3012, 'direi': 3013, 'ânimo': 3014, 'considera': 3015, 'caderno': 3016, 'grega': 3017, 'grego': 3018, 'compara': 3019, 'pastor': 3020, 'encadernação': 3021, 'odisseia': 3022, 'antiga': 3023, '⠀': 3024, 'famosas': 3025, 'item': 3026, 'duvida': 3027, 'desapontada': 3028, 'humorada': 3029, 'intelectuais': 3030, 'racional': 3031, 'realista': 3032, 'venho': 3033, 'intrigante': 3034, 'tira': 3035, 'leram': 3036, 'governos': 3037, 'manson': 3038, 'novidades': 3039, 'chance': 3040, 'corrigir': 3041, 'fracos': 3042, 'confiável': 3043, 'acompanhar': 3044, 'reclamando': 3045, 'historias': 3046, 'estranhos': 3047, 'científicos': 3048, 'costumo': 3049, 'experimentos': 3050, 'psicologia': 3051, 'baratos': 3052, 'pacote': 3053, 'enriquecedor': 3054, 'contado': 3055, 'economia': 3056, 'disciplina': 3057, 'lembrança': 3058, 'poupa': 3059, 'sr': 3060, 'enganação': 3061, 'daquele': 3062, 'funcionar': 3063, 'rupi': 3064, 'kaur': 3065, 'almeida': 3066, 'raskólnikov': 3067, 'cria': 3068, 'entao': 3069, 'imersão': 3070, 'dostoievski': 3071, 'consiga': 3072, 'comete': 3073, 'responder': 3074, 'técnicos': 3075, 'sensíveis': 3076, 'questionáveis': 3077, 'comprou': 3078, 'dano': 3079, 'roberto': 3080, 'famosos': 3081, 'fantasioso': 3082, 'defesa': 3083, 'lenta': 3084, 'próximas': 3085, 'retratada': 3086, 'artistas': 3087, 'renascença': 3088, 'xv': 3089, 'engenheiro': 3090, 'desculpem': 3091, 'apreciar': 3092, 'ceia': 3093, 'intrínseca': 3094, '400': 3095, 'concluir': 3096, 'supostamente': 3097, 'tamanha': 3098, 'sombra': 3099, 'olho': 3100, 'pintura': 3101, 'publicações': 3102, 'personalidades': 3103, 'submissão': 3104, 'américa': 3105, 'radical': 3106, 'cristãos': 3107, 'comandantes': 3108, 'historiadores': 3109, 'fundamentalismo': 3110, 'república': 3111, 'assume': 3112, 'margaret': 3113, 'vantagem': 3114, 'flashbacks': 3115, 'cristianismo': 3116, 'exemplares': 3117, 'tê': 3118, 'prefiro': 3119, 'imensa': 3120, 'câmara': 3121, 'bolsonaro': 3122, 'fria': 3123, 'fundamento': 3124, 'astrólogo': 3125, 'engana': 3126, 'conspiração': 3127, 'acadêmico': 3128, 'sellers': 3129, 'semelhantes': 3130, 'quiçá': 3131, 'chateada': 3132, 'rasgos': 3133, 'secreta': 3134, 'enigma': 3135, 'atualização': 3136, 'sebo': 3137, 'bordas': 3138, 'correio': 3139, 'ora': 3140, 'ficado': 3141, 'goste': 3142, 'grosseiro': 3143, 'adequada': 3144, 'resumindo': 3145, 'insatisfeita': 3146, 'prazos': 3147, 'amassadas': 3148, 'submarino': 3149, 'pagamento': 3150, 'estorno': 3151, 'cortadas': 3152, 'transporte': 3153, 'cópia': 3154, 'submissa': 3155, 'rasa': 3156, 'vendedor': 3157, 'rasos': 3158, 'ctrl': 3159, 'desenrolar': 3160, 'comunistas': 3161, 'parágrafo': 3162, 'resolveu': 3163, 'deparei': 3164, 'merchandising': 3165, 'gratuito': 3166, 'repetitivos': 3167, 'cumpriram': 3168, 'aceito': 3169, 'daria': 3170, 'metáforas': 3171, 'encheção': 3172, 'deprimente': 3173, 'compensa': 3174, 'fuja': 3175, 'notei': 3176, 'encomenda': 3177, 'amaçada': 3178, 'pareceu': 3179, 'donald': 3180, 'disseram': 3181, 'will': 3182, 'convence': 3183, 'desisti': 3184, 'inaceitável': 3185, 'indisponível': 3186, 'soltas': 3187, 'esquece': 3188, 'desgosto': 3189, 'grey': 3190, 'gideon': 3191, 'scott': 3192, 'terror': 3193, 'latim': 3194, 'intenso': 3195, 'ressaca': 3196, 'envolver': 3197, 'ganhando': 3198, 'premiado': 3199, 'smithe': 3200, 'mergulho': 3201, 'cativa': 3202, 'demonstrar': 3203, 'compartilhar': 3204, 'altas': 3205, 'existente': 3206, 'desapegar': 3207, 'loucura': 3208, 'mariana': 3209, 'sofreram': 3210, 'precisavam': 3211, 'cresce': 3212, 'apoio': 3213, 'garantia': 3214, 'criativa': 3215, 'sao': 3216, 'aprende': 3217, 'deixe': 3218, 'conseguimos': 3219, 'normais': 3220, 'talento': 3221, 'agradeço': 3222, 'encantos': 3223, 'torcer': 3224, 'unico': 3225, 'surreal': 3226, 'chicago': 3227, 'robinson': 3228, 'esquecer': 3229, 'admirar': 3230, 'focar': 3231, 'pacífico': 3232, 'realidades': 3233, 'produz': 3234, 'registro': 3235, 'grave': 3236, 'inspirado': 3237, 'lutar': 3238, 'prioridades': 3239, 'atrair': 3240, 'amizades': 3241, 'usou': 3242, 'união': 3243, 'bastidores': 3244, 'passamos': 3245, 'envolvido': 3246, 'postura': 3247, 'digna': 3248, 'aplausos': 3249, 'negra': 3250, 'sul': 3251, 'infinitas': 3252, 'encantada': 3253, 'remete': 3254, 'inclui': 3255, 'praticando': 3256, 'hal': 3257, 'elrod': 3258, 'carro': 3259, 'utilizar': 3260, 'nesses': 3261, 'começaram': 3262, 'daqui': 3263, 'acordei': 3264, '44': 3265, 'todavia': 3266, 'definir': 3267, 'criei': 3268, 'razões': 3269, 'motivar': 3270, 'ajudado': 3271, 'distribuição': 3272, 'motivada': 3273, 'positivamente': 3274, 'possam': 3275, 'orgulho': 3276, 'convencer': 3277, 'observação': 3278, 'read': 3279, 'habilidades': 3280, 'trate': 3281, 'garanto': 3282, 'respire': 3283, 'salva': 3284, 'julgamento': 3285, 'cinza': 3286, 'amanda': 3287, 'prestes': 3288, 'crua': 3289, 'sobrevivência': 3290, 'transtornos': 3291, 'agressiva': 3292, 'fogueiras': 3293, 'internos': 3294, 'delicada': 3295, 'amarga': 3296, 'digerir': 3297, 'ensinadas': 3298, 'probabilidades': 3299, 'fogueira': 3300, 'espaços': 3301, 'tapas': 3302, 'tinta': 3303, 'composto': 3304, 'aonde': 3305, 'onda': 3306, 'prendem': 3307, 'encontrará': 3308, 'identificação': 3309, 'envolvem': 3310, 'reviravoltas': 3311, 'valer': 3312, 'adaptações': 3313, 'necessárias': 3314, 'tivéssemos': 3315, 'convergente': 3316, 'anteriormente': 3317, 'boston': 3318, 'indo': 3319, 'distância': 3320, 'continuam': 3321, 'baixos': 3322, 'minuto': 3323, 'ma': 3324, 'levanta': 3325, 'astral': 3326, 'reconhecer': 3327, 'cultivar': 3328, 'compraria': 3329, 'cansa': 3330, 'cativou': 3331, 'segurar': 3332, 'ficarem': 3333, 'infelicidade': 3334, 'el': 3335, 'en': 3336, 'sera': 3337, 'grosso': 3338, 'região': 3339, 'fita': 3340, 'normalmente': 3341, 'kkkk': 3342, 'termo': 3343, 'retratam': 3344, 'rei': 3345, 'nascimento': 3346, 'valendo': 3347, 'case': 3348, 'serie': 3349, 'orelhas': 3350, 'tranquila': 3351, 'elogiar': 3352, 'acostuma': 3353, 'direitinho': 3354, 'pt': 3355, 'clímax': 3356, 'estórias': 3357, 'limitações': 3358, 'mídias': 3359, 'cheiro': 3360, 'tyrion': 3361, 'preferido': 3362, 'ambições': 3363, 'parecerem': 3364, 'evidente': 3365, 'breves': 3366, 'colaborar': 3367, 'calma': 3368, 'tranquilamente': 3369, 'aguardar': 3370, 'facetas': 3371, 'elaborada': 3372, 'xxi': 3373, 'questionamentos': 3374, 'ensaio': 3375, 'cientista': 3376, 'explicado': 3377, 'chego': 3378, 'aparenta': 3379, 'aprofunda': 3380, 'merecidamente': 3381, 'certezas': 3382, 'previsões': 3383, 'depressão': 3384, 'causar': 3385, 'tendência': 3386, 'seres': 3387, 'especiais': 3388, 'consultor': 3389, 'dp': 3390, 'tomadas': 3391, 'yuval': 3392, 'civilização': 3393, 'controlada': 3394, 'puramente': 3395, 'servindo': 3396, 'acompanhava': 3397, 'parentes': 3398, 'conquistas': 3399, 'responsabilidades': 3400, 'pense': 3401, 'naquele': 3402, 'torci': 3403, 'reizinho': 3404, 'herói': 3405, 'cafajeste': 3406, 'manipulador': 3407, 'situar': 3408, 'hahahaha': 3409, 'deixo': 3410, 'negativo': 3411, 'gritante': 3412, 'baseando': 3413, 'diferencial': 3414, 'lt': 3415, 'ilustrado': 3416, 'gerações': 3417, 'colecionador': 3418, 'jacket': 3419, 'prontamente': 3420, 'devolvi': 3421, 'embarcar': 3422, 'amante': 3423, 'colecionadores': 3424, 'adorar': 3425, 'kkkkkk': 3426, 'namorada': 3427, 'françois': 3428, 'truffaut': 3429, 'oposto': 3430, 'preferiu': 3431, 'guardava': 3432, 'faber': 3433, 'lados': 3434, 'alterações': 3435, '“só': 3436, 'naturalmente': 3437, 'incêndios': 3438, 'causam': 3439, 'disto': 3440, 'televisores': 3441, 'dividida': 3442, 'apagar': 3443, 'atear': 3444, 'tomada': 3445, 'críticos': 3446, 'repressão': 3447, 'fascínio': 3448, 'prever': 3449, 'silêncio': 3450, 'desconfortável': 3451, 'encontrada': 3452, 'andar': 3453, 'velha': 3454, 'temática': 3455, 'queimado': 3456, 'graus': 3457, 'custar': 3458, 'relacionamos': 3459, 'anda': 3460, 'sensações': 3461, 'alienada': 3462, 'dirigir': 3463, 'aprofundamento': 3464, 'tecnologias': 3465, 'ditas': 3466, 'bobagens': 3467, 'digressões': 3468, 'angustiante': 3469, 'verificável': 3470, 'italiana': 3471, 'budista': 3472, 'dever': 3473, 'praticado': 3474, 'costumes': 3475, 'impostos': 3476, 'estômago': 3477, 'desinformação': 3478, 'variadas': 3479, 'maneiras': 3480, 'prestar': 3481, 'ocorrer': 3482, 'essencialmente': 3483, 'grupos': 3484, 'duração': 3485, 'básica': 3486, 'utopia': 3487, 'aplica': 3488, 'aparentemente': 3489, 'músicas': 3490, 'fator': 3491, 'surgir': 3492, 'idéias': 3493, 'tornei': 3494, 'inerente': 3495, 'atividade': 3496, 'fernandes': 3497, 'atraentes': 3498, 'inovador': 3499, 'gíria': 3500, 'ideologias': 3501, 'inicialmente': 3502, 'adquirimos': 3503, 'aleph': 3504, 'extras': 3505, 'desenrola': 3506, 'sombrio': 3507, 'eventualmente': 3508, 'usei': 3509, 'incompleto': 3510, 'expressões': 3511, 'razoável': 3512, 'variados': 3513, 'judeus': 3514, 'detalhadamente': 3515, 'fotografias': 3516, 'pág': 3517, '2015': 3518, 'colegas': 3519, 'vítimas': 3520, 'caiu': 3521, 'voltou': 3522, 'suma': 3523, 'pós': 3524, 'fechados': 3525, 'ampla': 3526, 'militares': 3527, 'naquilo': 3528, 'desafiador': 3529, 'suposições': 3530, 'conflito': 3531, 'fornece': 3532, 'utilizadas': 3533, 'territórios': 3534, 'inseridos': 3535, 'poderoso': 3536, 'bondade': 3537, 'ameaças': 3538, 'verdadeiros': 3539, 'afeto': 3540, 'inexperiente': 3541, 'moderno': 3542, 'modos': 3543, 'construído': 3544, 'drasticamente': 3545, 'top': 3546, 'suspeita': 3547, 'ficaria': 3548, 'corri': 3549, 'prejuízo': 3550, 'começam': 3551, 'criticas': 3552, 'resolvido': 3553, 'sofrendo': 3554, 'satisfação': 3555, 'detalhado': 3556, 'venham': 3557, 'matar': 3558, 'di': 3559, 'alma': 3560, 'botar': 3561, 'virando': 3562, 'principio': 3563, 'intrigas': 3564, 'beleza': 3565, 'química': 3566, 'delicadeza': 3567, 'saudade': 3568, 'foca': 3569, 'j': 3570, 'rowling': 3571, 'prateleira': 3572, 'descontraída': 3573, 'fáceis': 3574, 'gestores': 3575, 'sinopse': 3576, 'setor': 3577, 'curtas': 3578, 'trabalhador': 3579, 'circunstâncias': 3580, 'trará': 3581, 'mecanismos': 3582, 'prof': 3583, 'preocupa': 3584, 'sacadas': 3585, 'motivações': 3586, 'mario': 3587, 'individuo': 3588, 'experiente': 3589, 'nobre': 3590, 'induz': 3591, 'bullying': 3592, 'msm': 3593, 'comprarem': 3594, '5inco': 3595, 'pés': 3596, 'fama': 3597, 'mexicano': 3598, 'maria': 3599, 'bairro': 3600, 'sofrer': 3601, 'bienal': 3602, 'descontraído': 3603, 'mito': 3604, 'sintetiza': 3605, 'estudiosos': 3606, 'eficazes': 3607, 'abordado': 3608, 'empolgado': 3609, 'pretensioso': 3610, 'valiosas': 3611, 'pressa': 3612, 'explorar': 3613, 'gera': 3614, 'futura': 3615, 'fazê': 3616, 'planejar': 3617, 'roda': 3618, 'seguindo': 3619, 'seleção': 3620, 'editor': 3621, 'tópicos': 3622, 'torne': 3623, 'facilita': 3624, 'possivelmente': 3625, 'parâmetros': 3626, 'monge': 3627, 'focado': 3628, 'repetições': 3629, 'inconscientemente': 3630, 'ensinando': 3631, 'certas': 3632, 'verdadeiras': 3633, 'rendimentos': 3634, 'conduzem': 3635, 'vitimismo': 3636, 'ganhar': 3637, 'ricamente': 3638, 'sucedidos': 3639, 'difere': 3640, 'cases': 3641, 'segredo': 3642, 'preferem': 3643, 'absoluta': 3644, 'lembrando': 3645, 'marcadas': 3646, 'relendo': 3647, 'apos': 3648, 'avançar': 3649, 'fielmente': 3650, 'colocamos': 3651, 'consciente': 3652, 'financeiras': 3653, 'errar': 3654, 'coloquei': 3655, 'desmistificar': 3656, 'marketeiro': 3657, 'esqueça': 3658, 'lerei': 3659, 'coloque': 3660, 'quebrar': 3661, 'apontar': 3662, 'relê': 3663, '2x': 3664, 'particular': 3665, 'impedem': 3666, 'empreendedora': 3667, 'contrario': 3668, 'deixarmos': 3669, 'visitar': 3670, 'encare': 3671, 'projetos': 3672, 'mandei': 3673, 'percebo': 3674, 'banho': 3675, 'valioso': 3676, 'sede': 3677, 'magnífico': 3678, 'perdidos': 3679, 'investidor': 3680, 'fundamentalista': 3681, 'axiomas': 3682, 'existência': 3683, 'terceiros': 3684, 'colunas': 3685, 'tornará': 3686, 'eficaz': 3687, 'exploração': 3688, 'ângulos': 3689, 'maud': 3690, 'eternidade': 3691, 'fio': 3692, 'costume': 3693, 'socialistas': 3694, 'conservador': 3695, 'liberais': 3696, 'alemão': 3697, 'esforços': 3698, 'liga': 3699, 'parecidos': 3700, 'império': 3701, 'propriedade': 3702, 'manifestações': 3703, 'atrativo': 3704, 'estrada': 3705, 'vindas': 3706, 'passaria': 3707, 'mudam': 3708, 'fluído': 3709, 'pilares': 3710, 'europa': 3711, 'tratando': 3712, 'gigante': 3713, 'encontros': 3714, 'inferno': 3715, 'disponíveis': 3716, 'doré': 3717, 'cousa': 3718, 'penosa': 3719, 'cousas': 3720, 'escuro': 3721, 'salvo': 3722, 'perigoso': 3723, 'rude': 3724, 'moura': 3725, 'vestido': 3726, 'tarefa': 3727, 'angústia': 3728, 'monumental': 3729, 'formação': 3730, 'cristão': 3731, 'ocidental': 3732, 'opositor': 3733, 'latina': 3734, 'musicalidade': 3735, 'sílabas': 3736, 'simplificando': 3737, 'unidades': 3738, 'sílaba': 3739, 'tônicas': 3740, 'âncora': 3741, 'soltaram': 3742, 'heróis': 3743, 'cheias': 3744, 'comporta': 3745, 'premiada': 3746, 'vieira': 3747, 'especialista': 3748, 'métrica': 3749, 'conferir': 3750, 'resolve': 3751, 'apresentam': 3752, 'realizadas': 3753, 'atrapalhe': 3754, 'agradáveis': 3755, '35': 3756, 'acabado': 3757, 'acessar': 3758, 'ultimamente': 3759, 'fiscal': 3760, 'correios': 3761, 'depoimentos': 3762, 'discussões': 3763, 'confirmar': 3764, 'socialista': 3765, 'pensador': 3766, 'sai': 3767, 'coerência': 3768, 'elaborado': 3769, 'mudá': 3770, 'permanecer': 3771, 'responsáveis': 3772, 'ocorreram': 3773, 'aprenda': 3774, 'choques': 3775, 'ué': 3776, 'profundas': 3777, 'exclusiva': 3778, 'ledo': 3779, 'aponta': 3780, 'rédeas': 3781, 'queiram': 3782, 'complementar': 3783, 'levantar': 3784, 'informal': 3785, 'marquei': 3786, 'filosofias': 3787, 'vazias': 3788, 'achado': 3789, 'sarcasmo': 3790, 'corrida': 3791, 'dinâmico': 3792, 'orientações': 3793, 'entrou': 3794, 'tirados': 3795, 'revelam': 3796, 'pesquisou': 3797, 'relatados': 3798, 'formam': 3799, 'mudado': 3800, 'livrar': 3801, 'dívidas': 3802, 'tomei': 3803, 'querido': 3804, 'fizer': 3805, 'ate': 3806, 'leigo': 3807, 'disponibilizar': 3808, 'contidas': 3809, 'econômicos': 3810, 'dezembro': 3811, 'eh': 3812, 'pleno': 3813, 'conteúdos': 3814, 'carrega': 3815, 'soluções': 3816, 'óbvios': 3817, 'vejam': 3818, 'aplique': 3819, 'eletrônico': 3820, '60': 3821, 'essenciais': 3822, 'aventurar': 3823, 'teríamos': 3824, 'influenciada': 3825, 'aumentar': 3826, 'trabalhado': 3827, 'professores': 3828, 'evitar': 3829, 'raro': 3830, 'oleg': 3831, 'literário': 3832, 'subsolo': 3833, 'confiar': 3834, 'bezerra': 3835, 'idioma': 3836, 'rapaz': 3837, 'raras': 3838, 'envolvidos': 3839, 'assusta': 3840, 'falas': 3841, 'perceba': 3842, 'impressiona': 3843, 'seculo': 3844, 'encanta': 3845, 'fisicamente': 3846, 'acabada': 3847, 'levados': 3848, 'dificulta': 3849, 'retrato': 3850, 'derrotas': 3851, 'compositora': 3852, 'gil': 3853, 'participação': 3854, 'domingo': 3855, 'parque': 3856, 'fantasminha': 3857, 'descobre': 3858, 'desnuda': 3859, 'justificada': 3860, 'record': 3861, 'lp': 3862, 'escondida': 3863, 'tragédias': 3864, 'desculpe': 3865, 'ditadura': 3866, 'esquecimento': 3867, 'inviável': 3868, 'optei': 3869, 'parcial': 3870, 'aspecto': 3871, 'esboços': 3872, 'milão': 3873, 'históricas': 3874, 'inventor': 3875, 'séculos': 3876, 'sonhar': 3877, 'primas': 3878, 'santa': 3879, 'avisar': 3880, 'realizado': 3881, 'issacson': 3882, 'renascimento': 3883, 'conhecidas': 3884, 'observador': 3885, 'curiosos': 3886, 'nacionais': 3887, 'engenharia': 3888, 'inteiros': 3889, 'considerados': 3890, '33': 3891, 'investigação': 3892, 'mistérios': 3893, 'marco': 3894, 'islâmicos': 3895, 'minorias': 3896, 'sociedades': 3897, 'implantando': 3898, 'prosa': 3899, 'narradora': 3900, 'patriarcal': 3901, 'assustador': 3902, 'extremos': 3903, 'primórdios': 3904, 'acabam': 3905, 'perdem': 3906, 'categoria': 3907, 'merecia': 3908, 'anti': 3909, 'sexuais': 3910, 'fluxo': 3911, 'distantes': 3912, 'impossivel': 3913, 'praticados': 3914, 'recomendável': 3915, 'fanáticos': 3916, 'cristã': 3917, 'conclui': 3918, 'maturidade': 3919, 'baita': 3920, 'aniversário': 3921, 'raposa': 3922, 'entendem': 3923, 'frequência': 3924, '19': 3925, 'infantis': 3926, 'intitula': 3927, 'evolui': 3928, 'chamá': 3929, 'piorar': 3930, 'artigos': 3931, 'jornal': 3932, 'generalizações': 3933, 'coesão': 3934, 'contraditório': 3935, 'compilador': 3936, 'bel': 3937, 'apanhado': 3938, 'experiencia': 3939, 'premissas': 3940, 'incapaz': 3941, 'bolhas': 3942, 'compradores': 3943, 'desapontado': 3944, 'comprador': 3945, 'lançar': 3946, 'pdf': 3947, 'edicao': 3948, 'entregas': 3949, 'pontuação': 3950, 'maio': 3951, 'fatura': 3952, 'encontraram': 3953, 'anne': 3954, 'impostura': 3955, 'mundiais': 3956, 'autorais': 3957, 'popularidade': 3958, 'vendem': 3959, 'preconceituosa': 3960, 'vulgar': 3961, 'laterais': 3962, 'descola': 3963, 'abraço': 3964, 'jackson': 3965, 'americanas': 3966, 'tinham': 3967, 'minimamente': 3968, 'formar': 3969, 'baixado': 3970, 'longamente': 3971, 'impressionar': 3972, 'ferramenta': 3973, 'cálice': 3974, 'avariado': 3975, 'envio': 3976, 'ofensa': 3977, 'empolga': 3978, 'solicitação': 3979, 'frustrado': 3980, 'divulgar': 3981, 'confunde': 3982, 'gastei': 3983, 'compilação': 3984, 'recortes': 3985, 'exclusivamente': 3986, 'vazia': 3987, 'enganado': 3988, 'debitado': 3989, 'conspirações': 3990, 'youtuber': 3991, 'devidas': 3992, 'academia': 3993, 'sozinho': 3994, 'traduzindo': 3995, 'entediante': 3996, 'divisão': 3997, 'aparente': 3998, 'regra': 3999, 'errada': 4000, 'chimpanzés': 4001, 'igreja': 4002, 'irresponsável': 4003, 'patético': 4004, 'desserviço': 4005, 'piorou': 4006, 'produtividade': 4007, 'miraclemorning': 4008, 'beneficiam': 4009, 'affff': 4010, 'referencias': 4011, 'adivinha': 4012, 'gastem': 4013, 'pesada': 4014, 'resumido': 4015, 'estimular': 4016, 'horrores': 4017, 'assemelha': 4018, 'cartilha': 4019, 'solicito': 4020, 'estranha': 4021, 'monótono': 4022, 'achou': 4023, 'trocas': 4024, 'acreditando': 4025, 'indignado': 4026, '27': 4027, 'desagradável': 4028, 'pula': 4029, 'irreal': 4030, 'apelo': 4031, 'joguei': 4032, 'trepa': 4033, 'corrido': 4034, 'cadê': 4035, 'alternativa': 4036, 'is': 4037, 'direcionado': 4038, 'riscos': 4039, 'pessimo': 4040, 'efetuar': 4041, 'argumento': 4042, 'disfarça': 4043, 'democrático': 4044, 'esquerdista': 4045, 'afirmando': 4046, 'gratuitamente': 4047, 'falado': 4048, 'desinteressante': 4049, 'reclamam': 4050, 'exemplar': 4051, 'comemorativa': 4052, 'repetem': 4053, 'jorge': 4054, 'dona': 4055, 'inferior': 4056, 'grudada': 4057, 'danificados': 4058, 'estao': 4059, 'greve': 4060, 'verifiquei': 4061, 'preconceituoso': 4062, 'honestamente': 4063, 'carece': 4064, 'corrija': 4065, 'soubesse': 4066, 'citar': 4067, 'wright': 4068, 'território': 4069, 'fanfic': 4070, 'obviedades': 4071, 'imatura': 4072, 'suspeito': 4073, 'demasiadamente': 4074, 'religiosas': 4075, 'cinquentas': 4076, 'suja': 4077, 'plot': 4078, 'perguntando': 4079, 'insuportável': 4080, 'matou': 4081, 'anna': 4082, 'geram': 4083, 'depressivo': 4084, 'seriamente': 4085, 'sumário': 4086, 'proteção': 4087, '1949': 4088, 'lafaietes': 4089, 'correu': 4090, 'dócil': 4091, 'maumau': 4092, 'decidido': 4093, 'revelando': 4094, 'mazelas': 4095, 'superadas': 4096, '😍': 4097, 'eleonor': 4098, 'chefe': 4099, 'apaixonantes': 4100, 'apaixonados': 4101, 'corre': 4102, 'despedir': 4103, 'imensamente': 4104, 'espectativas': 4105, 'madura': 4106, 'pitada': 4107, 'devorar': 4108, 'eternamente': 4109, 'releio': 4110, 'companheirismo': 4111, 'impulsiona': 4112, 'felicidades': 4113, 'parabenizar': 4114, 'cairá': 4115, '❤': 4116, 'sonham': 4117, 'encantar': 4118, '🧡': 4119, 'extraordinária': 4120, 'barreiras': 4121, 'sexy': 4122, 'casada': 4123, 'anciosa': 4124, 'morrendo': 4125, 'admiradora': 4126, 'mary': 4127, 'tornamos': 4128, 'inevitável': 4129, 'urgentemente': 4130, 'erotismo': 4131, 'abençoando': 4132, 'ficarão': 4133, 'divertir': 4134, 'oq': 4135, 'comedia': 4136, 'amado': 4137, 'subúrbio': 4138, 'cresceu': 4139, 'coadjuvante': 4140, 'guerreira': 4141, 'conheceu': 4142, 'encantei': 4143, 'independência': 4144, 'expor': 4145, 'segregação': 4146, 'registrar': 4147, 'grandiosidade': 4148, 'injustiças': 4149, 'persistente': 4150, 'impostas': 4151, 'vivenciar': 4152, 'buscamos': 4153, 'finaliza': 4154, 'determinação': 4155, 'enfrentou': 4156, 'públicas': 4157, 'negros': 4158, 'acaso': 4159, 'privada': 4160, 'interessantíssima': 4161, 'presidência': 4162, 'oposição': 4163, 'importava': 4164, 'eleito': 4165, 'colega': 4166, 'eleição': 4167, 'notícias': 4168, 'vivências': 4169, 'recomendar': 4170, 'disciplinar': 4171, 'atuação': 4172, 'claros': 4173, 'valem': 4174, 'explicativo': 4175, 'seriam': 4176, 'comentando': 4177, 'leituras': 4178, 'psicológica': 4179, 'ouviu': 4180, 'fantásticos': 4181, 'am': 4182, 'vinho': 4183, 'coach': 4184, 'iniciei': 4185, 'acreditei': 4186, 'exceto': 4187, 'mantenho': 4188, 'motivado': 4189, 'mentalmente': 4190, 'propostas': 4191, 'ritual': 4192, 'precisei': 4193, 'inspira': 4194, 'aperfeiçoamento': 4195, 'enrolando': 4196, 'ilustrar': 4197, 'produzir': 4198, 'melhorou': 4199, 'produtiva': 4200, '18': 4201, 'influenciou': 4202, 'encontrá': 4203, 'conhecem': 4204, 'falecido': 4205, 'labirinto': 4206, 'questionados': 4207, 'falsidade': 4208, 'conscientes': 4209, 'denota': 4210, 'sincero': 4211, 'recebe': 4212, 'avalio': 4213, 'intangível': 4214, 'agente': 4215, 'maestria': 4216, 'poderosos': 4217, 'must': 4218, 'emocionais': 4219, 'necessidades': 4220, 'desejos': 4221, 'excessão': 4222, 'desenvolve': 4223, 'argumenta': 4224, 'interessam': 4225, 'aluno': 4226, 'raízes': 4227, 'corte': 4228, 'punir': 4229, 'chão': 4230, 'magia': 4231, 'princesa': 4232, 'dividido': 4233, 'teremos': 4234, 'elemento': 4235, 'menção': 4236, 'queimadas': 4237, 'chamadas': 4238, 'explodir': 4239, 'relatam': 4240, 'parceiros': 4241, 'àqueles': 4242, 'reforça': 4243, 'sororidade': 4244, 'unidas': 4245, 'ativa': 4246, 'cotidianas': 4247, 'cinzas': 4248, 'apreciado': 4249, 'escancara': 4250, 'arma': 4251, 'visível': 4252, 'levá': 4253, 'vibe': 4254, 'deveríamos': 4255, 'emociona': 4256, 'sangue': 4257, 'irmãs': 4258, 'bruxa': 4259, 'símbolo': 4260, 'pronta': 4261, 'b': 4262, 'belos': 4263, 'ira': 4264, 'nestes': 4265, 'ode': 4266, 'bravura': 4267, 'desigualdades': 4268, 'incomodar': 4269, 'olhamos': 4270, 'achamos': 4271, 'admiração': 4272, 'juventude': 4273, 'horizontes': 4274, 'montados': 4275, 'rindo': 4276, 'chorando': 4277, 'tentam': 4278, 'tivessem': 4279, 'vivido': 4280, 'entenderá': 4281, 'vivi': 4282, 'prevista': 4283, 'devastador': 4284, 'explicados': 4285, 'fic': 4286, 'pare': 4287, 'fechamento': 4288, 'conciso': 4289, 'perfis': 4290, 'únicas': 4291, 'elaborados': 4292, 'levarmos': 4293, 'juvenil': 4294, 'rsrsrsrs': 4295, 'brilhantemente': 4296, 'reconhece': 4297, 'possibilitando': 4298, 'narrado': 4299, 'bilhetes': 4300, 'trailer': 4301, 'enfoque': 4302, 'maluca': 4303, 'romântica': 4304, 'harvard': 4305, 'cursar': 4306, 'medicina': 4307, 'acidentes': 4308, 'segura': 4309, 'viaja': 4310, 'desencontros': 4311, 'odeio': 4312, 'convincente': 4313, 'velhice': 4314, 'devorando': 4315, 'ra': 4316, 'katie': 4317, 'extrovertida': 4318, 'morto': 4319, 'empolgação': 4320, 'íntimo': 4321, 'concentra': 4322, 'sms': 4323, 'postais': 4324, 'maravilhada': 4325, 'tortura': 4326, 'vozes': 4327, 'trocadas': 4328, 'ahern': 4329, 'conheci': 4330, 'casais': 4331, 'amarrada': 4332, 'libro': 4333, 'puedes': 4334, 'cual': 4335, 'desenlace': 4336, 'identificada': 4337, 'esa': 4338, 'miedo': 4339, 'agonia': 4340, 'caprichada': 4341, 'espalhadas': 4342, 'cm': 4343, 'lançada': 4344, 'fitinha': 4345, 'intacto': 4346, 'soft': 4347, 'colorido': 4348, 'prateado': 4349, 'coloridos': 4350, 'capitulos': 4351, 'sutis': 4352, 'correspondente': 4353, 'danos': 4354, 'brilhantes': 4355, 'contras': 4356, 'menores': 4357, 'mero': 4358, 'soltando': 4359, 'spoilers': 4360, 'inesperado': 4361, 'robert': 4362, 'farei': 4363, 'iram': 4364, 'contêm': 4365, 'símbolos': 4366, 'integral': 4367, 'mochila': 4368, 'negociação': 4369, 'certinho': 4370, 'frágeis': 4371, 'traduzidos': 4372, 'á': 4373, 'incompletos': 4374, 'resisti': 4375, 'densidade': 4376, 'compará': 4377, 'tolkien': 4378, 'comparação': 4379, 'dimensão': 4380, 'televisiva': 4381, 'fração': 4382, 'ps': 4383, 'similares': 4384, 'aumentará': 4385, 'partido': 4386, 'vilões': 4387, 'artimanhas': 4388, 'jon': 4389, 'snow': 4390, 'daenerys': 4391, 'encantou': 4392, 'arya': 4393, 'vira': 4394, 'game': 4395, 'thrones': 4396, 'disputam': 4397, 'acompanhamos': 4398, 'focando': 4399, 'episódio': 4400, 'andamento': 4401, 'prejudicam': 4402, 'beira': 4403, 'inacreditável': 4404, 'livres': 4405, 'contam': 4406, 'dita': 4407, 'calhamaço': 4408, 'individuais': 4409, 'protagonismo': 4410, 'memoráveis': 4411, 'reveja': 4412, 'orçamento': 4413, 'elenco': 4414, 'complexa': 4415, 'trono': 4416, 'sí': 4417, 'portuguesa': 4418, '14': 4419, 'hbo': 4420, 'combater': 4421, 'define': 4422, 'toma': 4423, 'afetados': 4424, 'descrevê': 4425, 'abrangente': 4426, 'comprovação': 4427, 'adotarmos': 4428, 'baseados': 4429, 'explanações': 4430, 'crença': 4431, 'benefícios': 4432, 'causou': 4433, 'mitologia': 4434, 'inventar': 4435, 'computação': 4436, 'humanista': 4437, 'vistos': 4438, 'previsão': 4439, 'ondas': 4440, 'funcionamento': 4441, 'conviveram': 4442, 'espécies': 4443, 'tenhamos': 4444, 'absolutas': 4445, 'lucas': 4446, 'políticas': 4447, 'líderes': 4448, 'presenteia': 4449, 'class': 4450, 'hook': 4451, 'product': 4452, 'linked': 4453, 'href': 4454, 'revisitar': 4455, 'opções': 4456, 'massas': 4457, 'inúteis': 4458, 'estupidez': 4459, 'valorizar': 4460, 'algoritmo': 4461, 'conseguisse': 4462, 'reveladora': 4463, 'lógico': 4464, 'viradas': 4465, 'públicos': 4466, 'antropológico': 4467, 'dedicação': 4468, 'mundialmente': 4469, 'conhecida': 4470, 'tecer': 4471, 'tecnológico': 4472, 'genética': 4473, 'inteligentes': 4474, 'produziram': 4475, 'adaptar': 4476, 'servirá': 4477, 'formada': 4478, 'atraída': 4479, 'evolutiva': 4480, 'cientifico': 4481, 'recente': 4482, 'pecadora': 4483, 'matt': 4484, 'diva': 4485, 'trabalhadora': 4486, 'interesseira': 4487, 'encantando': 4488, 'vermos': 4489, 'funcionou': 4490, 'apaixonamos': 4491, 'inocência': 4492, 'irritada': 4493, 'vinda': 4494, 'tensa': 4495, 'cereja': 4496, 'pedaço': 4497, 'merecedor': 4498, 'adult': 4499, 'esplêndido': 4500, 'altíssima': 4501, 'parecidas': 4502, 'contatei': 4503, 'impecáveis': 4504, 'adorou': 4505, 'deixaram': 4506, 'tesouro': 4507, 'amaram': 4508, 'direct': 4509, 'express': 4510, 'belíssimas': 4511, 'lindíssimo': 4512, 'resolução': 4513, 'desenhos': 4514, 'questiona': 4515, 'desperdiçadas': 4516, 'parecido': 4517, 'devia': 4518, 'proteger': 4519, 'deixem': 4520, 'pegando': 4521, 'estragando': 4522, 'literárias': 4523, 'acompanhado': 4524, 'característica': 4525, 'construções': 4526, 'serviriam': 4527, 'narcóticos': 4528, 'casado': 4529, 'mildred': 4530, 'céu': 4531, 'conversar': 4532, 'queimada': 4533, 'fuga': 4534, 'afastamento': 4535, 'cuidadosa': 4536, 'decide': 4537, 'relembra': 4538, 'adaptado': 4539, 'influências': 4540, 'duvido': 4541, 'fábrica': 4542, 'inconsciente': 4543, 'apagam': 4544, 'convenceram': 4545, 'chegue': 4546, 'reconstruir': 4547, 'chamados': 4548, 'resumida': 4549, 'desconhecidos': 4550, 'incêndio': 4551, 'queridinho': 4552, 'perigo': 4553, 'expressão': 4554, 'velocidades': 4555, 'psicológicas': 4556, 'chamamos': 4557, 'preferindo': 4558, 'aplicativos': 4559, 'enfrentamos': 4560, 'competência': 4561, 'encontrado': 4562, 'pensem': 4563, 'manipuladas': 4564, 'controladas': 4565, 'detrimento': 4566, 'semelhanças': 4567, 'impacta': 4568, 'tomou': 4569, 'alusões': 4570, 'automáticas': 4571, 'possuía': 4572, 'miolo': 4573, 'proporciona': 4574, 'encantamento': 4575, 'recomendadíssima': 4576, 'tirou': 4577, 'vividas': 4578, 'posse': 4579, 'desuso': 4580, 'estando': 4581, 'prisão': 4582, 'orgulhoso': 4583, 'reinante': 4584, 'medroso': 4585, 'covarde': 4586, 'orwell': 4587, 'chamas': 4588, 'agulha': 4589, 'precursores': 4590, 'vizinha': 4591, 'fúteis': 4592, 'vazios': 4593, 'interagindo': 4594, 'andando': 4595, 'vigente': 4596, 'protesto': 4597, 'perseguição': 4598, 'opressores': 4599, 'dominar': 4600, 'pôr': 4601, 'alheios': 4602, 'lhes': 4603, 'editorial': 4604, 'preferência': 4605, 'condenada': 4606, 'prol': 4607, 'estabilidade': 4608, 'vivenciando': 4609, 'instigantes': 4610, 'respondendo': 4611, 'olhada': 4612, 'espanto': 4613, 'zen': 4614, 'homossexual': 4615, 'bárbaros': 4616, 'restam': 4617, 'falem': 4618, 'repeti': 4619, 'telas': 4620, 'padronização': 4621, 'pregando': 4622, 'soco': 4623, 'recorrente': 4624, 'avisando': 4625, 'simplificação': 4626, 'news': 4627, 'ocorra': 4628, 'opressor': 4629, 'ditos': 4630, 'minoritários': 4631, 'louvor': 4632, 'citado': 4633, 'anunciaram': 4634, 'domínio': 4635, 'arbítrio': 4636, 'ausência': 4637, 'agonizante': 4638, 'preocupante': 4639, 'espelho': 4640, 'autoritários': 4641, 'vislumbrar': 4642, 'lutam': 4643, 'continuem': 4644, 'respirar': 4645, 'classico': 4646, 'incomodam': 4647, 'manobra': 4648, 'descrita': 4649, 'fábio': 4650, 'explicando': 4651, 'junção': 4652, 'velhos': 4653, 'utilizado': 4654, 'estranheza': 4655, 'deparar': 4656, 'amoral': 4657, 'deliciando': 4658, 'criador': 4659, 'tece': 4660, 'amadurecimento': 4661, 'devidamente': 4662, 'memorável': 4663, 'kubrick': 4664, 'cinquenta': 4665, 'comumente': 4666, 'design': 4667, 'ambientação': 4668, 'preocupar': 4669, 'acostumei': 4670, 'sensível': 4671, 'narração': 4672, 'ligado': 4673, 'magistral': 4674, 'visceral': 4675, 'trabalhou': 4676, 'assustar': 4677, 'singular': 4678, 'narrador': 4679, 'frescura': 4680, 'nazistas': 4681, '920': 4682, '39': 4683, 'capital': 4684, 'reich': 4685, 'concluí': 4686, 'enfatizar': 4687, 'homérica': 4688, 'propicia': 4689, 'dantesco': 4690, 'japoneses': 4691, 'ditador': 4692, 'stálin': 4693, '2ª': 4694, 'informar': 4695, 'cujas': 4696, 'sala': 4697, 'diretamente': 4698, 'incrivel': 4699, 'maldade': 4700, 'heroísmo': 4701, 'hã': 4702, 'noções': 4703, 'perceberá': 4704, 'equivocadas': 4705, 'nazista': 4706, 'aliados': 4707, 'eixo': 4708, 'efetivos': 4709, 'movimentos': 4710, 'minucioso': 4711, 'planejado': 4712, '170': 4713, 'literários': 4714, 'conspira': 4715, 'fidelidade': 4716, 'bônus': 4717, 'espectadores': 4718, 'leitoras': 4719, 'esperados': 4720, 'conturbado': 4721, 'perdidamente': 4722, 'viajar': 4723, 'imaginário': 4724, 'necessita': 4725, 'alheio': 4726, 'charme': 4727, 'simplicidade': 4728, 'enganei': 4729, 'explosão': 4730, 'coadjuvantes': 4731, 'iniciais': 4732, 'empoderamento': 4733, 'delicioso': 4734, 'conseguindo': 4735, 'contrato': 4736, 'ultra': 4737, 'descoberta': 4738, 'esfolar': 4739, 'asfalto': 4740, 'ansiosas': 4741, 'topo': 4742, 'doar': 4743, 'viria': 4744, 'completou': 4745, 'ogro': 4746, 'escroto': 4747, 'proporcionar': 4748, 'construiu': 4749, 'armadura': 4750, 'neh': 4751, 'juro': 4752, 'despertou': 4753, 'arrasou': 4754, 'atras': 4755, 'suar': 4756, 'mereceu': 4757, 'ó': 4758, '🔥': 4759, 'sophia': 4760, 'globo': 4761, 'surpreendendo': 4762, 'apertar': 4763, 'castellani': 4764, 'bestseller': 4765, 'homen': 4766, '♥️': 4767, 'odio': 4768, 'amadurecer': 4769, 'epílogo': 4770, 'veremos': 4771, 'poderemos': 4772, 'brevemente': 4773, 'sofrimentos': 4774, 'livrooooo': 4775, 'montanha': 4776, 'desenfreada': 4777, 'estoria': 4778, 'haverá': 4779, 'educar': 4780, 'corretamente': 4781, 'relíquias': 4782, 'falaram': 4783, 'maravilha': 4784, 'mimo': 4785, 'gostaram': 4786, 'tirem': 4787, 'rony': 4788, 'transmitir': 4789, 'declarado': 4790, 'reviver': 4791, 'imerso': 4792, 'atrapalhou': 4793, 'autoria': 4794, 'servem': 4795, 'entenderem': 4796, 'atuam': 4797, 'simplórias': 4798, 'iluda': 4799, 'segui': 4800, 'pinceladas': 4801, 'salário': 4802, 'sentem': 4803, 'posições': 4804, 'gestor': 4805, 'redação': 4806, 'retórica': 4807, 'aparentando': 4808, 'desinteresses': 4809, 'contribuição': 4810, 'valia': 4811, 'proposito': 4812, 'limitante': 4813, 'funcionários': 4814, 'significativas': 4815, 'significados': 4816, 'fluente': 4817, 'aplicável': 4818, 'orienta': 4819, 'complexos': 4820, 'descomplicada': 4821, 'provocar': 4822, 'sergio': 4823, 'interessados': 4824, 'rotineiras': 4825, 'refletirmos': 4826, 'discorrer': 4827, 'prazeroso': 4828, 'inserido': 4829, 'confiança': 4830, 'inspirar': 4831, 'dobro': 4832, 's2': 4833, 'fenômenos': 4834, 'entendemos': 4835, 'bastasse': 4836, 'ídolos': 4837, 'acreditem': 4838, 'duvidar': 4839, 'usava': 4840, 'desbocada': 4841, 'beijo': 4842, 'ensinamento': 4843, 'sessão': 4844, 'teresa': 4845, 'professora': 4846, 'kefera': 4847, 'gay': 4848, 'talos': 4849, 'concursos': 4850, 'estímulo': 4851, 'programada': 4852, 'fugiu': 4853, 'humilde': 4854, 'aabb': 4855, 'existia': 4856, 'fundamentação': 4857, 'rápidas': 4858, 'estruturado': 4859, 'mencionadas': 4860, 'básicas': 4861, 'ignorados': 4862, 'aplicação': 4863, 'corrigi': 4864, 'vícios': 4865, 'contribui': 4866, 'idéia': 4867, 'aperfeiçoar': 4868, 'estudei': 4869, 'pnl': 4870, 'exemplificativo': 4871, 'exigente': 4872, 'links': 4873, 'reinventar': 4874, 'atualizar': 4875, 'validar': 4876, 'precisando': 4877, 'saco': 4878, 'diversidade': 4879, 'macetes': 4880, 'forçar': 4881, 'esclarecedores': 4882, 'acadêmica': 4883, 'aplicáveis': 4884, 'simplório': 4885, 'enaltecer': 4886, 'grátis': 4887, 'tentado': 4888, 'berço': 4889, 'clube': 4890, 'adicionar': 4891, 'sintetizado': 4892, 'seção': 4893, 'concretas': 4894, 'fórmula': 4895, 'ressaltar': 4896, 'cursos': 4897, 'consta': 4898, 'apto': 4899, 'mundos': 4900, 'limita': 4901, 'crucial': 4902, 'campos': 4903, 'entram': 4904, 'assumem': 4905, 'gerar': 4906, 'almeja': 4907, 'estimulante': 4908, 'autopromoção': 4909, 'necessários': 4910, 'recebedoras': 4911, 'péssimas': 4912, 'remuneradas': 4913, 'quantia': 4914, 'estabeleça': 4915, 'líquido': 4916, 'mensal': 4917, 'poupança': 4918, 'administram': 4919, 'aceitar': 4920, 'administrar': 4921, 'duro': 4922, 'paralisar': 4923, 'brasileiras': 4924, 'mentalizar': 4925, 'possibilita': 4926, 'diagnóstico': 4927, 'quântica': 4928, 'setores': 4929, 'insucesso': 4930, 'vítima': 4931, 'separado': 4932, 'levado': 4933, 'beneficio': 4934, 'armadilhas': 4935, 'reprogramar': 4936, 'satisfatórios': 4937, 'melhorias': 4938, 'forçadas': 4939, 'recuperar': 4940, 'mexe': 4941, 'limitantes': 4942, 'irrefutável': 4943, 'sucedidas': 4944, 'informa': 4945, 'oh': 4946, 'formidável': 4947, 'mentes': 4948, 'finalidade': 4949, 'postas': 4950, 'porcentagem': 4951, 'revisada': 4952, 'concepção': 4953, 'gratificante': 4954, 'princípio': 4955, 'comece': 4956, 'discordo': 4957, 'prosperar': 4958, 'votos': 4959, 'tarefas': 4960, 'recomendando': 4961, 'mtos': 4962, 'chegada': 4963, 'quebrou': 4964, 'incentiva': 4965, 'entusiasmado': 4966, 'cabem': 4967, 'tabus': 4968, 'avia': 4969, 'efetivo': 4970, 'crises': 4971, 'requer': 4972, 'próspera': 4973, 'familiares': 4974, 'riquezas': 4975, 'instigam': 4976, 'quebrando': 4977, 'etapas': 4978, 'inovadoras': 4979, 'life': 4980, 'trabalham': 4981, 'julgue': 4982, 'vencedora': 4983, 'dará': 4984, 'deseje': 4985, 'operante': 4986, 'obrigando': 4987, 'acompanham': 4988, 'melhorarmos': 4989, 'distinta': 4990, 'pratique': 4991, 'exterior': 4992, 'riquíssimo': 4993, 'quiserem': 4994, 'aplicando': 4995, 'ciclo': 4996, 'referentes': 4997, 'aplicam': 4998, 'orientação': 4999, 'motivador': 5000, 'ensinou': 5001, 'limitado': 5002, 'resolva': 5003, 'buffett': 5004, 'biblia': 5005, 'value': 5006, 'investing': 5007, 'graham': 5008, 'leigos': 5009, 'iniciante': 5010, 'apostas': 5011, 'aleatórias': 5012, 'esclarecedora': 5013, 'analistas': 5014, 'propriamente': 5015, 'ingressar': 5016, 'imóveis': 5017, 'arriscar': 5018, 'acredite': 5019, 'mostradas': 5020, 'mostrados': 5021, 'caindo': 5022, 'libertadora': 5023, 'válidas': 5024, 'revolucionária': 5025, 'viagens': 5026, 'reciclagem': 5027, 'propagandas': 5028, 'amou': 5029, 'curiosidades': 5030, 'notícia': 5031, 'vinha': 5032, 'exímio': 5033, 'contador': 5034, 'aristocracia': 5035, 'britânica': 5036, 'atinge': 5037, 'ethel': 5038, 'fitzherbert': 5039, 'moralidade': 5040, 'ingleses': 5041, 'alemães': 5042, 'posicionados': 5043, 'desencadearam': 5044, 'impérios': 5045, 'conde': 5046, 'von': 5047, 'peshkov': 5048, 'voto': 5049, 'davam': 5050, 'czar': 5051, 'comunista': 5052, 'mantém': 5053, 'follet': 5054, 'preguiça': 5055, 'membros': 5056, 'participações': 5057, 'assíduos': 5058, 'srs': 5059, 'cativantes': 5060, 'encantado': 5061, 'únicos': 5062, 'sensualidade': 5063, '“a': 5064, 'otto': 5065, 'carpeaux': 5066, 'tenebrosa': 5067, 'espessura': 5068, 'inda': 5069, 'narrar': 5070, 'abandonado': 5071, 'pavor': 5072, 'olhei': 5073, 'aquieta': 5074, 'peito': 5075, 'volveu': 5076, 'remirar': 5077, 'floresta': 5078, 'reto': 5079, 'enchera': 5080, 'fera': 5081, 'minh’alma': 5082, 'contemplar': 5083, 'terminava': 5084, 'raios': 5085, 'águas': 5086, 'italo': 5087, 'amantes': 5088, 'eterna': 5089, 'cosmologia': 5090, 'renascentista': 5091, 'círculo': 5092, 'épico': 5093, 'adjetivos': 5094, 'quesitos': 5095, 'poeta': 5096, 'tentou': 5097, 'longas': 5098, 'compostos': 5099, 'compostas': 5100, 'porção': 5101, '67': 5102, 'citando': 5103, 'firmando': 5104, 'traseiras': 5105, 'levadas': 5106, 'ajazes': 5107, 'ajaz': 5108, 'escuras': 5109, 'espessas': 5110, 'avança': 5111, 'sopro': 5112, 'tocada': 5113, 'pez': 5114, 'adianta': 5115, 'procela': 5116, 'maravilhas': 5117, 'atrapalhar': 5118, 'trajano': 5119, 'christian': 5120, 'werner': 5121, 'frederico': 5122, 'lourenço': 5123, 'citadas': 5124, 'lidas': 5125, 'matéria': 5126, 'eneida': 5127, 'editora34': 5128, 'interessou': 5129, 'episódios': 5130, 'temporal': 5131, 'aquiles': 5132, 'gregos': 5133, 'importantíssimo': 5134, 'plantão': 5135, 'trabalhando': 5136, 'reduziu': 5137, 'black': 5138, 'friday': 5139, 'fizesse': 5140, 'épicos': 5141, 'compreensível': 5142, 'métricas': 5143, 'delícia': 5144, 'sobra': 5145, 'jus': 5146, 'finge': 5147, 'acerto': 5148, 'estiver': 5149, 'compondo': 5150, 'nuances': 5151, 'daquilo': 5152, 'transição': 5153, 'conveniente': 5154, 'esquerdalha': 5155, 'ácidos': 5156, 'contraponto': 5157, 'rasteiro': 5158, 'arrasa': 5159, 'avaliam': 5160, 'típica': 5161, 'alcança': 5162, 'síntese': 5163, 'tratou': 5164, 'internas': 5165, 'conservadoras': 5166, 'chegamos': 5167, 'esclarecedor': 5168, 'revolucionário': 5169, 'credibilidade': 5170, 'diminuir': 5171, 'criticar': 5172, 'seriedade': 5173, 'adequar': 5174, 'sérias': 5175, 'despretensiosa': 5176, '“você': 5177, 'sugeridas': 5178, 'continuei': 5179, 'ajudaram': 5180, 'encarar': 5181, 'amigável': 5182, 'egoístas': 5183, 'repetindo': 5184, 'escuros': 5185, 'sol': 5186, 'arrogância': 5187, 'neles': 5188, 'interferem': 5189, 'decidir': 5190, 'permitem': 5191, 'excessivamente': 5192, 'prefira': 5193, 'concisa': 5194, 'prioridade': 5195, 'misto': 5196, 'filósofos': 5197, 'compaixão': 5198, 'firulas': 5199, 'cacete': 5200, 'confirmou': 5201, 'compartilhando': 5202, 'recentes': 5203, 'lembram': 5204, 'expressa': 5205, 'apreciam': 5206, 'circo': 5207, 'exigências': 5208, 'irreverente': 5209, 'revoltada': 5210, 'culpada': 5211, 'pretensões': 5212, 'nó': 5213, 'garganta': 5214, 'mimada': 5215, 'entenda': 5216, 'tire': 5217, 'religiões': 5218, 'orientais': 5219, 'tiverem': 5220, 'referente': 5221, 'frequentes': 5222, 'obvias': 5223, 'insiste': 5224, 'bola': 5225, \"'\": 5226, 'tablet': 5227, 'exposto': 5228, 'discute': 5229, 'moderna': 5230, 'mesquinha': 5231, 'recebido': 5232, 'fracasso': 5233, 'doses': 5234, 'generosas': 5235, 'ironia': 5236, 'par': 5237, 'facil': 5238, 'piadas': 5239, 'coloquial': 5240, 'analisarmos': 5241, 'ocasiões': 5242, \"'o\": 5243, 'contextualizando': 5244, 'desnecessárias': 5245, 'tristes': 5246, 'condenados': 5247, 'remédio': 5248, 'combatê': 5249, 'inimigos': 5250, 'instrumento': 5251, 'astronomia': 5252, 'culturais': 5253, 'pensado': 5254, 'moldam': 5255, 'criamos': 5256, 'agilidade': 5257, 'habilmente': 5258, 'notamos': 5259, 'influenciáveis': 5260, 'extensa': 5261, 'lacrado': 5262, 'adorando': 5263, 'processos': 5264, 'perdoe': 5265, 'cuidar': 5266, 'alias': 5267, 'banco': 5268, 'financiamento': 5269, 'brincando': 5270, 'campo': 5271, 'empolgada': 5272, 'natália': 5273, 'economizar': 5274, 'econômicas': 5275, 'bens': 5276, 'consumo': 5277, 'realizarmos': 5278, 'juros': 5279, 'chatos': 5280, 'narrativo': 5281, 'lançou': 5282, 'preencher': 5283, 'concerteza': 5284, 'nathália': 5285, 'mudei': 5286, 'gastos': 5287, 'otima': 5288, 'nação': 5289, 'planejamento': 5290, 'carga': 5291, 'factíveis': 5292, 'evitei': 5293, 'irretocável': 5294, 'ampliar': 5295, 'aplicações': 5296, 'imediato': 5297, 'dependendo': 5298, '1936': 5299, 'permanece': 5300, 'modismo': 5301, 'deveras': 5302, 'check': 5303, 'comprovações': 5304, 'consideravelmente': 5305, 'beirando': 5306, 'aliviada': 5307, 'transmitidas': 5308, 'trato': 5309, 'instiga': 5310, 'treinar': 5311, 'vendedores': 5312, 'auxílio': 5313, 'motivacionais': 5314, 'aproveita': 5315, 'adotar': 5316, 'interessadas': 5317, 'clássicas': 5318, 'comercial': 5319, 'ache': 5320, 'vivida': 5321, 'causando': 5322, 'identidade': 5323, 'aproxima': 5324, 'específicos': 5325, 'destacar': 5326, 'and': 5327, 'dominada': 5328, 'obstante': 5329, 'enfadonhas': 5330, 'pouquinho': 5331, 'tivemos': 5332, 'cosac': 5333, 'densa': 5334, 'fiódor': 5335, 'marcada': 5336, 'frustrações': 5337, 'teses': 5338, 'pretensos': 5339, '300': 5340, 'fluir': 5341, 'pedante': 5342, '’': 5343, 'descoberto': 5344, 'forçados': 5345, 'dialogar': 5346, 'aprecia': 5347, 'intenções': 5348, 'concordar': 5349, 'soberba': 5350, 'layout': 5351, 'realismo': 5352, 'fragilidade': 5353, 'tese': 5354, 'mortos': 5355, 'admirador': 5356, 'libertador': 5357, 'vermelha': 5358, 'marcar': 5359, 'franca': 5360, 'sucessos': 5361, 'nascidos': 5362, 'riquíssima': 5363, 'gilberto': 5364, 'festivais': 5365, 'festival': 5366, 'apelidos': 5367, 'férias': 5368, 'específica': 5369, 'solo': 5370, 'justiça': 5371, 'monstro': 5372, 'primor': 5373, 'celebridades': 5374, '1967': 5375, 'ávido': 5376, 'oferta': 5377, 'disponibilizado': 5378, 'vila': 5379, 'deliciosa': 5380, 'internações': 5381, 'mortes': 5382, 'brigas': 5383, 'briga': 5384, 'democráticos': 5385, 'caetano': 5386, 'produtor': 5387, 'economiza': 5388, 'alcoolismo': 5389, 'fantasma': 5390, 'sessenta': 5391, 'discursos': 5392, 'www': 5393, 'ares': 5394, 'esclarece': 5395, 'conversando': 5396, 'café': 5397, 'registros': 5398, 'palcos': 5399, 'subtítulo': 5400, 'eventuais': 5401, 'regiões': 5402, 'relatando': 5403, 'bandas': 5404, 'angústias': 5405, 'doenças': 5406, 'geniais': 5407, 'bobocas': 5408, 'florença': 5409, 'itália': 5410, 'maquiavel': 5411, 'césar': 5412, 'bórgia': 5413, 'documentos': 5414, 'arquiteto': 5415, 'construída': 5416, 'meias': 5417, 'grandeza': 5418, 'steve': 5419, 'jobs': 5420, 'preocupado': 5421, 'afins': 5422, 'carente': 5423, 'biógrafo': 5424, 'elaboração': 5425, 'referenciado': 5426, 'criativo': 5427, 'anatomia': 5428, 'arquitetura': 5429, 'vaidoso': 5430, 'impediu': 5431, 'plena': 5432, 'fascinou': 5433, 'limitam': 5434, 'agregam': 5435, 'animal': 5436, 'escultor': 5437, 'amava': 5438, 'anotar': 5439, 'minuciosas': 5440, 'retratar': 5441, 'davinci': 5442, 'interessava': 5443, 'aprendemos': 5444, 'pano': 5445, 'italiano': 5446, 'produziu': 5447, 'pesquisador': 5448, 'mergulharmos': 5449, 'iletrado': 5450, 'pudor': 5451, 'períodos': 5452, 'revistas': 5453, 'nuclear': 5454, 'estéreis': 5455, 'criadas': 5456, 'castas': 5457, 'reproduzir': 5458, 'tias': 5459, 'mantido': 5460, 'poética': 5461, 'monges': 5462, 'mosteiro': 5463, 'fundamentalistas': 5464, 'brutalidade': 5465, 'relatar': 5466, 'acostumados': 5467, 'ruptura': 5468, 'chegaremos': 5469, 'pensarmos': 5470, 'hulu': 5471, 'aconteça': 5472, 'tradição': 5473, 'reside': 5474, 'devastadores': 5475, 'nisto': 5476, 'pistas': 5477, 'machismo': 5478, 'jogadas': 5479, 'bagunçada': 5480, 'estarrecedor': 5481, 'teoricamente': 5482, 'unicamente': 5483, 'servir': 5484, 'lavagem': 5485, 'cerebral': 5486, 'procriar': 5487, 'quanta': 5488, 'assustadora': 5489, 'determinada': 5490, 'válida': 5491, 'advogados': 5492, 'muro': 5493, 'pública': 5494, 'corpos': 5495, 'opressão': 5496, 'salvadoras': 5497, 'june': 5498, 'temporada': 5499, 'reprodução': 5500, 'haviam': 5501, 'extremismos': 5502, 'instagram': 5503, 'teocrática': 5504, 'aborto': 5505, 'ideologia': 5506, 'subjugar': 5507, 'pinça': 5508, 'parecida': 5509, 'incômodo': 5510, 'liberdades': 5511, 'objeto': 5512, 'proposital': 5513, 'dialoga': 5514, 'suave': 5515, '2019': 5516, 'distorcidos': 5517, 'resolvessem': 5518, 'especulativa': 5519, 'façam': 5520, 'descomplicados': 5521, 'desfrutar': 5522, '“amar': 5523, 'dispositivo': 5524, 'cativar': 5525, '26': 5526, 'pérola': 5527, 'entenderia': 5528, 'compartilho': 5529, 'paulus': 5530, 'diálogo': 5531, 'releitura': 5532, 'adapta': 5533, 'adoram': 5534, 'saint': 5535, 'exupéry': 5536, 'colocadas': 5537, 'posicionadas': 5538, 'castelo': 5539, 'apelativa': 5540, 'critério': 5541, 'meninas': 5542, '🙄': 5543, 'lamentavel': 5544, 'olá': 5545, 'alteração': 5546, 'retornando': 5547, 'coletiva': 5548, 'panfleto': 5549, 'coletânea': 5550, 'distorções': 5551, 'inocentes': 5552, 'acadêmicos': 5553, 'encosta': 5554, 'estudioso': 5555, 'distorce': 5556, 'desconhecem': 5557, 'aposta': 5558, 'fática': 5559, 'conflituoso': 5560, 'desperdice': 5561, 'birrenta': 5562, 'soltos': 5563, 'classifica': 5564, 'vitimismos': 5565, 'ptismo': 5566, 'lulismo': 5567, 'flertar': 5568, 'reafirmados': 5569, 'compram': 5570, 'publicada': 5571, 'farto': 5572, 'destilação': 5573, 'mesclas': 5574, 'cito': 5575, 'ligando': 5576, 'americano': 5577, 'levando': 5578, 'aversão': 5579, 'sirva': 5580, 'desenvolvidos': 5581, 'proveitoso': 5582, 'inutilidade': 5583, 'repetidas': 5584, 'conservação': 5585, 'reembolsaram': 5586, 'grosseiros': 5587, 'rodapé': 5588, 'inquisidor': 5589, 'indicando': 5590, 'martins': 5591, 'ilegível': 5592, 'decente': 5593, 'lástima': 5594, 'editores': 5595, 'copia': 5596, 'interessado': 5597, 'mostrada': 5598, 'indignação': 5599, 'barata': 5600, 'colocada': 5601, 'maldita': 5602, 'incluem': 5603, 'conotação': 5604, '01': 5605, 'informam': 5606, 'enviaram': 5607, 'frank': 5608, 'faurisson': 5609, 'evidências': 5610, 'transformou': 5611, 'argumentações': 5612, 'exceção': 5613, 'aparato': 5614, 'consultorias': 5615, 'implantação': 5616, 'destas': 5617, 'médico': 5618, 'suposto': 5619, 'masculino': 5620, 'excita': 5621, 'estúpido': 5622, 'caracteriza': 5623, 'trai': 5624, 'engolir': 5625, 'errou': 5626, 'aparência': 5627, 'nojento': 5628, 'bdsm': 5629, 'elegância': 5630, 'originalidade': 5631, 'humilhação': 5632, 'oito': 5633, 'brochura': 5634, 'respondo': 5635, 'percy': 5636, 'hp': 5637, 'atender': 5638, 'aumentam': 5639, 'booktubers': 5640, 'saraiva': 5641, 'caramba': 5642, 'terço': 5643, 'arrastei': 5644, 'pautas': 5645, 'coladas': 5646, 'comparando': 5647, 'comprados': 5648, 'séries': 5649, 'pulei': 5650, 'classificação': 5651, 'picantes': 5652, 'cansada': 5653, 'garoto': 5654, 'óbvia': 5655, 'contraditória': 5656, 'simplistas': 5657, 'interações': 5658, 'sofrível': 5659, 'aibda': 5660, 'bilhete': 5661, 'ocorrido': 5662, 'motivacional': 5663, 'tecnicas': 5664, 'mentira': 5665, 'obtive': 5666, 'extrair': 5667, 'alicerce': 5668, 'sobrinha': 5669, 'banca': 5670, 'romanceado': 5671, 'enfadonha': 5672, 'contestar': 5673, 'desvelar': 5674, 'passadas': 5675, 'afiados': 5676, 'caçar': 5677, 'analisei': 5678, 'indícios': 5679, 'busquei': 5680, 'paralelas': 5681, 'lunático': 5682, 'encaro': 5683, 'analfabeta': 5684, 'textual': 5685, 'elencados': 5686, 'falácia': 5687, 'https': 5688, 'youtu': 5689, 'be': 5690, 'ejq9kvvuw0y': 5691, 'temo': 5692, 'oportunista': 5693, 'marxismo': 5694, 'estudem': 5695, 'jornalistas': 5696, 'max': 5697, 'nazismo': 5698, 'incapacidade': 5699, 'divergente': 5700, 'compraram': 5701, 'chatice': 5702, 'silábica': 5703, 'aleatória': 5704, 'conversão': 5705, 'falo': 5706, 'atestar': 5707, 'cer': 5708, 'sac': 5709, 'evitavam': 5710, 'irritantes': 5711, 'havido': 5712, 'ocorrendo': 5713, 'relatado': 5714, 'arrependido': 5715, 'índice': 5716, 'avalicao': 5717, 'suscitar': 5718, 'imaginacao': 5719, 'teor': 5720, 'ciritco': 5721, 'especulacoes': 5722, 'ciencia': 5723, 'exclui': 5724, 'incomodos': 5725, 'pessimismo': 5726, 'perversoes': 5727, 'desvios': 5728, 'agua': 5729, 'evolucionistas': 5730, 'livra': 5731, 'raça': 5732, 'sutil': 5733, 'mascarada': 5734, 'visa': 5735, 'seguidores': 5736, 'leviana': 5737, 'agricultores': 5738, 'agricultura': 5739, 'contradições': 5740, 'apela': 5741, 'alguem': 5742, 'errados': 5743, 'rua': 5744, 'excesso': 5745, 'corta': 5746, 'desperdicei': 5747, 'dólares': 5748, 'doente': 5749, 'publico': 5750, 'viável': 5751, 'camundongos': 5752, 'macacos': 5753, 'implantes': 5754, 'cerebrais': 5755, 'hostil': 5756, 'eletro': 5757, 'laboratórios': 5758, 'ratos': 5759, 'descobrirem': 5760, 'exemplificar': 5761, 'danificadas': 5762, 'incorporar': 5763, 'reduzido': 5764, '75': 5765, 'entusiasta': 5766, 'descartável': 5767, 'voltas': 5768, 'escolho': 5769, 'login': 5770, 'imediata': 5771, 'amamossp': 5772, 'equivocadamente': 5773, 'autorizo': 5774, 'ajustem': 5775, 'desconfortos': 5776, 'dória': 5777, 'informando': 5778, 'açúcar': 5779, 'curte': 5780, 'orientado': 5781, 'lirismo': 5782, 'atraves': 5783, 'prendi': 5784, 'descartado': 5785, 'aborrecido': 5786, 'escolhe': 5787, 'repetir': 5788, 'procurado': 5789, 'hawking': 5790, 'incompreensível': 5791, 'tampouco': 5792, 'plastico': 5793, 'poderei': 5794, 'natal': 5795, '20h': 5796, 'escolhida': 5797, 'micharia': 5798, 'rasgo': 5799, 'grudadas': 5800, 'danfe': 5801, 'ajustar': 5802, 'cansam': 5803, 'confundi': 5804, 'estranhas': 5805, 'esqueci': 5806, 'esbarrei': 5807, 'confirmação': 5808, 'clique': 5809, 'livreto': 5810, 'explorando': 5811, 'anseio': 5812, 'duvidosa': 5813, 'brincadeira': 5814, 'incutir': 5815, 'cabeças': 5816, 'futilidade': 5817, 'ultimos': 5818, 'dispensavél': 5819, 'inscritos': 5820, 'cabelo': 5821, 'esteticamente': 5822, 'vide': 5823, 'moeda': 5824, 'virtude': 5825, 'sacrificar': 5826, 'suposta': 5827, 'consistentes': 5828, 'semente': 5829, 'questionável': 5830, 'conan': 5831, 'substituição': 5832, 'demoraria': 5833, 'evitado': 5834, 'custos': 5835, 'horríveis': 5836, 'amaçadas': 5837, 'devolvendo': 5838, 'sebos': 5839, 'significar': 5840, 'custando': 5841, 'compiladas': 5842, 'charlatão': 5843, 'steven': 5844, 'levitsky': 5845, 'julga': 5846, 'concerne': 5847, 'obtusa': 5848, 'doutrinador': 5849, 'apresentasse': 5850, 'hugo': 5851, 'superficialidade': 5852, 'suportamos': 5853, 'alternância': 5854, 'vêem': 5855, 'abismo': 5856, 'tendenciosos': 5857, 'flávio': 5858, 'esquerdistas': 5859, '“o': 5860, 'populações': 5861, 'árabes': 5862, 'fome': 5863, 'frequentemente': 5864, 'eleições': 5865, 'dói': 5866, 'hipocrisia': 5867, 'fascistas': 5868, 'democracias': 5869, 'democratas': 5870, 'aparelho': 5871, \"''\": 5872, 'oculto': 5873, 'atacar': 5874, 'atentado': 5875, 'faca': 5876, 'primário': 5877, 'babaca': 5878, 'enviesado': 5879, 'teórico': 5880, 'identifique': 5881, 'extrapole': 5882, 'percebeu': 5883, 'estuprada': 5884, 'mancha': 5885, 'baboseira': 5886, 'jojo': 5887, 'poço': 5888, 'baixíssimo': 5889, 'online': 5890, 'deparo': 5891, 'faturar': 5892, 'vergonhoso': 5893, 'adoraria': 5894, 'acessíveis': 5895, 'afronta': 5896, 'abismada': 5897, 'pirataria': 5898, 'ignorado': 5899, 'respondem': 5900, 'reclamações': 5901, 'desalinhadas': 5902, 'comentá': 5903, '257': 5904, 'poxa': 5905, 'pólen': 5906, 'apagadas': 5907, 'droga': 5908, 'praticidade': 5909, 'pirata': 5910, 'posicionamento': 5911, 'candeiras': 5912, 'envolvida': 5913, 'desrespeitando': 5914, 'mencionando': 5915, 'informado': 5916, 'estejam': 5917, 'mudem': 5918, 'contribuir': 5919, 'lombadas': 5920, 'dobradas': 5921, 'fina': 5922, 'comidas': 5923, 'porco': 5924, 'descascando': 5925, 'externa': 5926, 'recém': 5927, 'recomendou': 5928, 'cancelado': 5929, 'debito': 5930, 'individualmente': 5931, 'continuarei': 5932, 'normalizado': 5933, 'distorcer': 5934, 'fracas': 5935, 'goela': 5936, 'alertar': 5937, 'dedo': 5938, 'configuração': 5939, 'configurar': 5940, 'incomodado': 5941, 'narloch': 5942, 'correções': 5943, 'florestas': 5944, 'barbaridades': 5945, 'confiáveis': 5946, 'aulas': 5947, 'primarismo': 5948, 'barroco': 5949, 'descontinuidade': 5950, 'escravidão': 5951, 'santos': 5952, 'dumont': 5953, 'piadinhas': 5954, 'agrícola': 5955, 'percam': 5956, 'surgimento': 5957, 'manifesto': 5958, 'deturpa': 5959, 'horror': 5960, 'conteudo': 5961, 'dicionário': 5962, 'satisfeita': 5963, 'valido': 5964, 'caótico': 5965, 'idas': 5966, 'monótona': 5967, 'ataques': 5968, 'baixou': 5969, 'condizem': 5970, 'cronologia': 5971, 'continuo': 5972, 'repetido': 5973, 'livreco': 5974, 'lances': 5975, 'fila': 5976, 'jogado': 5977, 'bobos': 5978, 'atendida': 5979, 'reparo': 5980, 'disponibilidade': 5981, 'evasivos': 5982, 'corrobora': 5983, 'contradiz': 5984, '“nem': 5985, 'tente”': 5986, 'propaga': 5987, 'instrutivo': 5988, 'prescritiva': 5989, 'seguirem': 5990, 'mágicas': 5991, 'infalíveis': 5992, 'academicamente': 5993, 'comprovado': 5994, 'prescreve': 5995, 'viveria': 5996, 'seguisse': 5997, 'promove': 5998, 'horrivel': 5999, 'anastácia': 6000, 'james': 6001, 'gerou': 6002, 'palavrão': 6003, 'agrega': 6004, 'parto': 6005, 'estúpida': 6006, 'amadureceram': 6007, 'silvia': 6008, 'day': 6009, 'mae': 6010, 'morta': 6011, 'abertas': 6012, 'corinne': 6013, 'epilogo': 6014, 'imitação': 6015, 'exagerado': 6016, 'oi': 6017, 'descobrem': 6018, 'rio': 6019, 'piscina': 6020, 'lenga': 6021, 'iam': 6022, 'merda': 6023, 'nessas': 6024, 'descolando': 6025, 'luto': 6026, 'darkside': 6027, 'kiss': 6028, 'mentiroso': 6029, 'feyre': 6030, 'thriller': 6031, 'hitchcock': 6032, 'arrasta': 6033, 'trem': 6034, 'psiquiatra': 6035, 'kamal': 6036, 'paula': 6037, 'ciumento': 6038, 'it': 6039, 'moro': 6040, 'chat': 6041, 'proporcional': 6042, 'rotas': 6043, 'reclamou': 6044, 'abri': 6045, 'coletanea': 6046, 'esconde': 6047, 'pressuposto': 6048, 'evolucionismo': 6049, '“mitos': 6050, 'imaginários”': 6051, 'fraquinho': 6052, 'precisou': 6053, 'guarda': 6054, '576': 6055, '577': 6056, 'espere': 6057, 'acabo': 6058, '54': 6059, 'visionário': 6060, 'atrativos': 6061, 'escuto': 6062, 'reclamarem': 6063, 'saíam': 6064, 'inconsistência': 6065, 'formatações': 6066, 'seguiu': 6067, 'pegaram': 6068, 'converteram': 6069, 'fundadores': 6070, 'mantidos': 6071, 'godrico': 6072, 'grifinória': 6073, 'salazar': 6074, 'sonserina': 6075, 'tocá': 6076, 'acentuação': 6077, 'hífen': 6078, 'chamala': 6079, 'tocala': 6080, 'hifenizadas': 6081, 'justificado': 6082, 'alinhado': 6083, 'justificaram': 6084, 'stalin': 6085, 'reparações': 6086, 'enganada': 6087, 'ilegal': 6088, 'fodão': 6089, 'doutrinação': 6090, 'cis': 6091, 'interromper': 6092, 'robbins': 6093, 'desconexo': 6094, 'chateou': 6095, 'itatiaia': 6096, 'bonitinho': 6097, 'sintoma': 6098, 'dorme': 6099, 'instapoesia': 6100, 'curtir': 6101, 'quebras': 6102, 'poético': 6103, 'toc': 6104, 'ge': 6105, 'empolgou': 6106, 'arrebatada': 6107, 'emocionada': 6108, 'mauricio': 6109, 'solteiro': 6110, 'arrebatou': 6111, 'arrebatando': 6112, 'aceitação': 6113, 'queridas': 6114, 'pedacinho': 6115, 'aiai': 6116, 'órfãos': 6117, '😔': 6118, 'ganharia': 6119, 'simpatia': 6120, 'superamos': 6121, 'vencemos': 6122, 'barreira': 6123, 'insistiu': 6124, 'plenamente': 6125, 'fofissimo': 6126, 'bernardo': 6127, 'mini': 6128, 'lacrou': 6129, '⭐⭐⭐⭐⭐': 6130, 'fechou': 6131, 'contagiante': 6132, 'afonso': 6133, 'lafaetes': 6134, 'aglutinar': 6135, 'oferecer': 6136, 'dosado': 6137, 'dificultamos': 6138, 'custi': 6139, 'sorrir': 6140, 'suficientes': 6141, 'sadeleitora': 6142, \"louca'\": 6143, 'merecido': 6144, 'agradecemos': 6145, 'precisas': 6146, 'bjs': 6147, 'hilários': 6148, 'valentina': 6149, 'atendem': 6150, 'adoooooorei': 6151, 'obstinada': 6152, 'elevada': 6153, 'face': 6154, 'molhado': 6155, 'aah': 6156, 'lembrado': 6157, '4°': 6158, 'apaixono': 6159, '♥': 6160, 'irreparáveis': 6161, 'mostraram': 6162, 'reergueram': 6163, 'theus': 6164, '❤❤❤❤❤': 6165, 'sadleitora': 6166, 'tamojunto': 6167, '❤❤❤❤❤❤❤❤❤❤❤❤❤': 6168, 'albuquerques': 6169, 'estarão': 6170, 'corações': 6171, 'amooooo': 6172, 'estive': 6173, 'safadezas': 6174, 'fértil': 6175, 'fortalecidos': 6176, 'definem': 6177, 'multiplica': 6178, '🥰🥰': 6179, '🥰🥰🥰🥰': 6180, 'fortalecido': 6181, 'superaram': 6182, 'albuquerque': 6183, 'amoooooooo': 6184, '❤️❤️❤️❤️': 6185, 'amélia': 6186, 'sorri': 6187, 'gargalhadas': 6188, 'gravidez': 6189, 'gêmeos': 6190, 'acontecesse': 6191, 'intragável': 6192, '1000essa': 6193, 'megashow': 6194, 'quentes': 6195, 'empoderada': 6196, 'enlouquecer': 6197, '😂😂😂': 6198, '😏': 6199, '🤗🤗🤗🤗😍😍😍👏👏👏👏👏👏amo': 6200, 'amorosa': 6201, 'coroada': 6202, 'brilhe': 6203, 'sad': 6204, 'assumidissima': 6205, 'loka': 6206, 'sadleitoras': 6207, 'loucas': 6208, 'saírem': 6209, 'seguiremos': 6210, 'solta': 6211, 'dedicada': 6212, 'idolatro': 6213, 'prendendo': 6214, 'disparado': 6215, 'moram': 6216, 'risos': 6217, 'alice': 6218, 'indicado❤❤': 6219, 'bochechas': 6220, 'corarem': 6221, 'inexplicável': 6222, 'entrarmos': 6223, 'surpe': 6224, 'rot': 6225, 'fofo': 6226, 'simpatiza': 6227, 'frequentou': 6228, 'emblemáticas': 6229, 'ascensão': 6230, 'inquietudes': 6231, 'notoriedade': 6232, 'desenhado': 6233, '44ª': 6234, 'maternidade': 6235, 'impactaram': 6236, 'épocas': 6237, 'abdicou': 6238, 'voos': 6239, 'sogra': 6240, 'otimista': 6241, 'irrefreável': 6242, 'antídoto': 6243, 'atravessou': 6244, '“minha': 6245, 'história”': 6246, 'origens': 6247, 'racial': 6248, 'permeado': 6249, 'esperançosa': 6250, 'fronteiras': 6251, 'suco': 6252, 'fixados': 6253, 'incerteza': 6254, 'fraqueza': 6255, 'resiliência': 6256, 'habilidade': 6257, 'perseverança': 6258, 'recompensada': 6259, 'inseguranças': 6260, 'michele': 6261, 'íntima': 6262, 'saída': 6263, 'mandatos': 6264, 'autoconfiança': 6265, 'importantíssimas': 6266, 'meritocracia': 6267, 'matriarcal': 6268, 'dera': 6269, 'negras': 6270, 'inspiradora': 6271, 'estimulador': 6272, 'michelleobamaforpresident': 6273, 'valoriza': 6274, 'observada': 6275, 'julgada': 6276, 'calhou': 6277, 'odiou': 6278, 'brigavam': 6279, 'respondido': 6280, 'fofocas': 6281, 'dividindo': 6282, 'racista': 6283, 'desespero': 6284, '2h': 6285, 'admirava': 6286, 'mandato': 6287, 'transmissões': 6288, 'role': 6289, 'model': 6290, 'preparem': 6291, 'carismático': 6292, 'empático': 6293, 'acolher': 6294, 'rivalidade': 6295, 'contextos': 6296, 'chinesa': 6297, 'sun': 6298, 'tzu': 6299, 'óbito': 6300, 'compila': 6301, 'utilizou': 6302, 'afetou': 6303, 'de\\xa0tim': 6304, 'ferriss': 6305, 'tony': 6306, 'robins\\xa0': 6307, 'mencionados': 6308, 'simplificar': 6309, 'global': 6310, 'desde\\xa0a': 6311, 'meditação': 6312, '\\xa0visualização': 6313, 'motivadora': 6314, 'disponibiliza': 6315, 'finalizei': 6316, 'cético': 6317, '06': 6318, 'pratiquei': 6319, 'drástica': 6320, 'faixa': 6321, 'etária': 6322, 'costumava': 6323, 'dormi': 6324, 'acordava': 6325, 'instruções': 6326, 'dominante': 6327, 'descansar': 6328, 'acordarei': 6329, 'energizado': 6330, 'repito': 6331, 'durmo': 6332, 'dormia': 6333, 'atualizando': 6334, '109': 6335, 'matutino': 6336, 'levei': 6337, 'despertador': 6338, 'busque': 6339, 'estiverem': 6340, 'hrs': 6341, 'meditar': 6342, 'manhãs': 6343, 'significativa': 6344, '83': 6345, 'entusiasmo': 6346, 'dagoberto': 6347, 'aranha': 6348, 'pacheco': 6349, 'pílulas': 6350, 'gradativo': 6351, 'antologia': 6352, 'lessons': 6353, 'abyss': 6354, 'argumentava': 6355, 'feria': 6356, 'treinando': 6357, 'ativo': 6358, 'carnegiu': 6359, 'treinamentos': 6360, 'executivos': 6361, 'comportamentais': 6362, 'vivenciadas': 6363, 'almejam': 6364, 'desatualizado': 6365, 'cerne': 6366, 'eremita': 6367, 'caverna': 6368, 'divino': 6369, 'líder': 6370, 'socializar': 6371, 'adubar': 6372, 'árvore': 6373, 'abra': 6374, 'florescer': 6375, 'contidos': 6376, 'alertando': 6377, 'distúrbios': 6378, 'avisa': 6379, 'utilização': 6380, 'posicionarem': 6381, 'misericórdia': 6382, 'sujeitas': 6383, 'fagulha': 6384, 'punidos': 6385, 'durrubar': 6386, 'estruturas': 6387, 'machistas': 6388, 'permanecem': 6389, 'erguidas': 6390, 'revoltante': 6391, 'queimem': 6392, 'laços': 6393, 'busquem': 6394, 'sereia': 6395, 'instinto': 6396, 'alimentares': 6397, 'fragilizada': 6398, 'narrou': 6399, 'personificação': 6400, 'debates': 6401, 'invocam': 6402, 'saturado': 6403, 'desenrolando': 6404, 'identifica': 6405, 'rainhas': 6406, 'adoradas': 6407, 'conclama': 6408, 'abaixar': 6409, 'apague': 6410, 'permita': 6411, 'apaguem': 6412, 'apagamentos': 6413, 'sofridos': 6414, 'obrigadão': 6415, '💙': 6416, 'veias': 6417, 'xingamento': 6418, 'diminutivo': 6419, 'move': 6420, 'quisemos': 6421, 'voar': 6422, 'puxaram': 6423, 'lovelave': 6424, 'ilumina': 6425, 'regados': 6426, 'incandescente': 6427, 'opressora': 6428, 'vencidas': 6429, 'levantam': 6430, 'raiar': 6431, 'engulo': 6432, 'lar': 6433, 'permanente': 6434, 'dentes': 6435, 'cadência': 6436, 'doçura': 6437, 'encontrados': 6438, 'grita': 6439, 'incendeiem': 6440, 'poças': 6441, 'forneceu': 6442, 'tocaram': 6443, 'sobres': 6444, 'bruxinhas': 6445, 'pesados': 6446, 'ordenado': 6447, 'amarra': 6448, 'exaltando': 6449, 'euforia': 6450, 'ressalva': 6451, 'lutado': 6452, 'veronica': 6453, 'roth': 6454, 'alterna': 6455, 'ponte': 6456, 'toooop': 6457, 'triologia': 6458, 'virei': 6459, 'saibam': 6460, 'desanime': 6461, 'viciantes': 6462, 'plágio': 6463, 'jv': 6464, 'acelerado': 6465, 'traçados': 6466, 'detalhados': 6467, 'mantiveram': 6468, 'intensos': 6469, 'porquês': 6470, 'infanto': 6471, 'julgá': 6472, 'soros': 6473, 'usarmos': 6474, 'congresso': 6475, 'revoltas': 6476, 'lutas': 6477, 'encerra': 6478, 'ass': 6479, 'verônica': 6480, 'instantâneas': 6481, 'realizei': 6482, 'cartaz': 6483, 'obriga': 6484, 'companheira': 6485, 'candidataram': 6486, 'faculdades': 6487, 'hotelaria': 6488, 'separando': 6489, 'parariam': 6490, 'redondamente': 6491, 'dramático': 6492, 'subir': 6493, 'despencava': 6494, 'confidentes': 6495, 'inseparáveis': 6496, 'dublin': 6497, 'irlanda': 6498, 'oceano': 6499, 'desanda': 6500, 'detalhando': 6501, 'estágio': 6502, 'cansar': 6503, 'parava': 6504, 'impaciência': 6505, 'aflição': 6506, 'lho': 6507, 'sos': 6508, 'resmungona': 6509, 'batalhadora': 6510, 'tropeços': 6511, 'partida': 6512, 'acomodado': 6513, 'animada': 6514, 'impulsiva': 6515, 'secundários': 6516, 'kevin': 6517, 'peixe': 6518, '448': 6519, 'fogos': 6520, 'artifício': 6521, 'paro': 6522, 'empolguei': 6523, 'xodozinhos': 6524, 'confirmei': 6525, 'enganar': 6526, 'concentração': 6527, 'simpatizei': 6528, 'lamentar': 6529, 'abusar': 6530, 'otimismo': 6531, 'devolva': 6532, 'narrada': 6533, 'convites': 6534, 'prenderam': 6535, 'reservar': 6536, 'assistam': 6537, 'raramente': 6538, 'assisto': 6539, 'revisões': 6540, 'desanimaram': 6541, 'odiaria': 6542, 'trocados': 6543, 'ruby': 6544, 'toby': 6545, 'salientar': 6546, 'adorável': 6547, 'magnifico': 6548, 'surpreender': 6549, 'app': 6550, 'separados': 6551, 'similaridades': 6552, 'cecilia': 6553, 'ágil': 6554, 'comunicam': 6555, 'linear': 6556, 'aproveitá': 6557, 'curam': 6558, 'aiaiai': 6559, 'mensajes': 6560, 'lees': 6561, 'atrapa': 6562, 'un': 6563, 'ni': 6564, 'verte': 6565, 'muestra': 6566, 'aceptar': 6567, 'eso': 6568, 'arriesgarnos': 6569, 'mucho': 6570, 'tiempo': 6571, 'titula': 6572, 'deba': 6573, 'temprano': 6574, 'acontecera': 6575, 'desencontro': 6576, '❤❤❤': 6577, 'misturam': 6578, 'romantica': 6579, 'demorassem': 6580, 'spoillers': 6581, 'maleável': 6582, 'amarelada': 6583, 'rondônia': 6584, 'touch': 6585, 'inico': 6586, 'complicações': 6587, 'franquia': 6588, 'arcar': 6589, 'transbordou': 6590, 'representaram': 6591, 'virem': 6592, 'auxiliar': 6593, 'evidência': 6594, 'assistiu': 6595, 'incentivar': 6596, 'prós': 6597, 'divididos': 6598, 'continente': 6599, 'uniformidade': 6600, 'recurso': 6601, 'debilitado': 6602, 'caçada': 6603, 'ned': 6604, 'stark': 6605, 'avulsas': 6606, 'colorida': 6607, 'dragões': 6608, 'catelyn': 6609, 'aveludado': 6610, 'compactos': 6611, 'caberem': 6612, 'ocupar': 6613, 'aproximou': 6614, 'corrigiram': 6615, 'reduzindo': 6616, 'adaptados': 6617, 'paquerei': 6618, 'gravações': 6619, 'divergem': 6620, 'cogitarmos': 6621, 'cospe': 6622, 'significam': 6623, 'conhecendo': 6624, 'habituando': 6625, 'frenética': 6626, 'culminar': 6627, 'torce': 6628, 'acabem': 6629, 'espetacularmente': 6630, 'produzida': 6631, 'ater': 6632, 'naval': 6633, 'clamor': 6634, 'embates': 6635, 'morder': 6636, 'ardiloso': 6637, 'lannisters': 6638, 'digamos': 6639, 'vitoria': 6640, 'temporária': 6641, 'evoluem': 6642, 'estranhamente': 6643, 'danadinha': 6644, 'd’as': 6645, '1998': 6646, 'prossegue': 6647, 'iniciada': 6648, 'lordes': 6649, 'reinos': 6650, 'proclamam': 6651, 'colabora': 6652, 'testemunha': 6653, 'reagir': 6654, 'medidas': 6655, 'desesperadas': 6656, 'reveses': 6657, 'reforçadas': 6658, 'ego': 6659, 'polidos': 6660, 'definições': 6661, 'descartadas': 6662, 'implícitas': 6663, 'refiro': 6664, 'suavizar': 6665, 'aprecie': 6666, 'inexiste': 6667, 'favorece': 6668, 'descubra': 6669, 'exércitos': 6670, 'exclusivas': 6671, 'alinhou': 6672, 'tormenta': 6673, 'espadas': 6674, 'burrada': 6675, 'elevo': 6676, 'tiraram': 6677, 'transita': 6678, 'reino': 6679, 'bagunça': 6680, 'fluíra': 6681, 'terminará': 6682, 'almofadas': 6683, 'vêm': 6684, 'protegida': 6685, 'rivais': 6686, 'implicam': 6687, 'blefes': 6688, 'continuamos': 6689, 'palaciana': 6690, 'traiçoeira': 6691, 'provocadora': 6692, 'desvalorização': 6693, 'divindades': 6694, 'antigas': 6695, 'humanismo': 6696, 'abordando': 6697, 'pensativo': 6698, 'futurologias': 6699, 'profeta': 6700, 'coerentes': 6701, 'espinhosos': 6702, 'fecha': 6703, 'dataísmo': 6704, 'estarmos': 6705, 'amparada': 6706, 'dispomos': 6707, 'retoma': 6708, 'prospectiva': 6709, 'neurociência': 6710, 'celebrada': 6711, 'xeque': 6712, 'liberalismo': 6713, 'antropocêntrica': 6714, 'relativisa': 6715, 'processamento': 6716, 'biológicos': 6717, 'aterrorizante': 6718, 'amedrontar': 6719, 'limitada': 6720, 'possuímos': 6721, 'computacionais': 6722, 'desenvolvimentos': 6723, 'tecnológicos': 6724, 'capacete': 6725, 'eletromagnéticas': 6726, 'curar': 6727, 'imortalidade': 6728, 'prolongamento': 6729, 'indefinido': 6730, 'factualmente': 6731, 'criarmos': 6732, 'convivendo': 6733, 'erectus': 6734, 'neandertalense': 6735, 'humanoides': 6736, 'comprovadamente': 6737, 'coexistiram': 6738, 'ambiental': 6739, 'engloba': 6740, 'colocarmos': 6741, 'éticas': 6742, 'desconstrói': 6743, 'consentâneas': 6744, 'meras': 6745, 'de\\xa0': 6746, 'hist': 6747, 'oacute': 6748, 'ria': 6749, 'b00uzlpcgq': 6750, 'engenhosos': 6751, 'rumos': 6752, 'interiorizar': 6753, 'relativa': 6754, 'limitação': 6755, 'oceânica': 6756, 'geramos': 6757, 'advento': 6758, 'bioquímicos': 6759, 'crescentemente': 6760, 'eletrônicos': 6761, 'nosa': 6762, 'desacoplando': 6763, 'renunciemos': 6764, 'derrapa': 6765, 'propor': 6766, '“feudalismo': 6767, 'digital”': 6768, 'acoplados': 6769, 'sistemas': 6770, 'viverão': 6771, 'descartas': 6772, 'descarta': 6773, 'infinita': 6774, 'priorizar': 6775, 'funções': 6776, 'enciclopédicas': 6777, 'estatísticas': 6778, 'anedóticas': 6779, 'tarefeiras': 6780, 'determinantes': 6781, 'vulnerabilidade': 6782, 'excelência': 6783, 'questionadora': 6784, 'pavimentação': 6785, 'gerada': 6786, 'isenta': 6787, 'evolutivos': 6788, 'convergência': 6789, 'seguuda': 6790, 'preparado': 6791, 'imoacto': 6792, 'estabelece': 6793, 'humanindade': 6794, 'mcluhan': 6795, 'paradoxal': 6796, 'virá': 6797, 'sapins': 6798, 'laçamento': 6799, 'semanalmente': 6800, 'aumentava': 6801, 'proporcionou': 6802, 'bioengenharia': 6803, 'nanotecnologia': 6804, 'embasado': 6805, 'tendências': 6806, 'revoluções': 6807, 'encadeada': 6808, 'captaram': 6809, 'cercam': 6810, 'civilizações': 6811, 'máquinas': 6812, 'adentra': 6813, 'deslumbra': 6814, 'disruptiva': 6815, 'crescendo': 6816, 'expôs': 6817, 'cogitaria': 6818, 'subiu': 6819, 'níveis': 6820, 'elevadissimos': 6821, '😆': 6822, 'artur': 6823, 'contente': 6824, 'nanete': 6825, '😙': 6826, 'superrecomendo': 6827, 'ouvia': 6828, 'sofri': 6829, 'amarei': 6830, 'antônio': 6831, 'estudiosa': 6832, 'vagabunda': 6833, 'horroroso': 6834, 'nojentas': 6835, 'estrangeiros': 6836, 'soando': 6837, 'transa': 6838, 'karma': 6839, 'reli': 6840, 'rendeu': 6841, 'lutadora': 6842, 'piscar': 6843, 'lutadoras': 6844, 'suportável': 6845, 'very': 6846, 'vilão': 6847, 'entendia': 6848, 'mulherada': 6849, 'antonio': 6850, 'contraditórios': 6851, 'faziam': 6852, 'mayana': 6853, 'fisgou': 6854, 'inquestionável': 6855, 'brinda': 6856, 'muuuuito': 6857, 'fosca': 6858, 'resistentes': 6859, 'recobre': 6860, 'comprido': 6861, 'tonalidades': 6862, 'macio': 6863, 'cetim': 6864, 'amassaram': 6865, 'destacada': 6866, 'solicitaram': 6867, 'defeituoso': 6868, 'receberem': 6869, 'trocado': 6870, 'belíssimo': 6871, 'tivessemos': 6872, 'sobrinhos': 6873, 'quiseram': 6874, 'exibição': 6875, 'metálicas': 6876, 'atenciosa': 6877, 'inédita': 6878, 'encerado': 6879, 'agrado': 6880, 'aveludada': 6881, 'dourado': 6882, 'mandou': 6883, 'tinhas': 6884, 'pirou': 6885, 'imaginem': 6886, 'infarto': 6887, 'ar…': 6888, 'imaginou': 6889, 'comprada': 6890, 'vendida': 6891, 'prontas': 6892, 'telões': 6893, 'improvável': 6894, 'acorda': 6895, 'intrigado': 6896, 'deixará': 6897, 'queime': 6898, 'parados': 6899, 'espalhe': 6900, 'questione': 6901, 'consagrou': 6902, 'filmado': 6903, '1966': 6904, 'proscritos': 6905, 'constitui': 6906, 'industrial': 6907, 'deterioração': 6908, 'urbano': 6909, '“bombeiros”': 6910, 'incendeiam': 6911, 'entupir': 6912, 'guy': 6913, 'murais': 6914, 'televisivos': 6915, 'transmitem': 6916, 'ininterruptamente': 6917, '“novelas”': 6918, 'moradores': 6919, 'interagir': 6920, '“resumos': 6921, 'coluna': 6922, 'manchete': 6923, 'dissolve': 6924, 'estorvo': 6925, 'retilínea': 6926, 'percalços': 6927, 'baque': 6928, 'voltando': 6929, 'aproveitam': 6930, '“porquê”': 6931, 'presencia': 6932, '“e': 6933, 'livros”': 6934, 'rebela': 6935, 'investigado': 6936, 'cúmplice': 6937, '“se': 6938, 'nenhum”': 6939, 'beatty': 6940, 'escondidos': 6941, 'senta': 6942, 'notou': 6943, 'revendo': 6944, 'batizado': 6945, 'fabricante': 6946, 'lápis': 6947, 'astuto': 6948, 'mim”': 6949, 'desenha': 6950, 'apocalíptico': 6951, 'perturbador': 6952, 'proibição': 6953, '“supriam”': 6954, 'buscavam': 6955, 'indiscriminado': 6956, '“cultura”': 6957, 'bombardeia': 6958, 'incessantemente': 6959, 'gritam': 6960, 'gostos': 6961, 'competições': 6962, 'culinárias': 6963, 'cozinhar': 6964, '“': 6965, 'falava': 6966, 'desesperado': 6967, 'telefonou': 6968, 'jantar': 6969, 'destrói': 6970, 'reconstruí': 6971, 'aprendamos': 6972, 'precisemos': 6973, 'precisaremos': 6974, 'preferir': 6975, 'sentar': 6976, 'contido': 6977, 'isolamento': 6978, 'consumismo': 6979, 'mecanização': 6980, 'espantei': 6981, 'fortaleceu': 6982, 'fortalecer': 6983, 'descartados': 6984, 'problemática': 6985, 'envolta': 6986, 'equipamentos': 6987, 'sonoros': 6988, 'extinguindo': 6989, 'estaríamos': 6990, 'conectados': 6991, 'dificultaria': 6992, 'introspecção': 6993, 'desagrada': 6994, 'sentisse': 6995, 'criminalizar': 6996, 'magistralmente': 6997, 'evoluída': 6998, 'tecnologicamente': 6999, 'autodestrutiva': 7000, 'tvs': 7001, 'seguros': 7002, 'atingindo': 7003, 'aplacar': 7004, 'provocadas': 7005, 'virado': 7006, 'defronte': 7007, 'computadores': 7008, 'celulares': 7009, 'existam': 7010, 'passem': 7011, 'smartfones': 7012, 'discutido': 7013, 'grandiosa': 7014, 'simbologia': 7015, 'ajam': 7016, 'permitindo': 7017, 'inconformado': 7018, 'insurgindo': 7019, 'ostensiva': 7020, 'provocada': 7021, 'desenfreado': 7022, 'diferencie': 7023, 'especificados': 7024, 'contida': 7025, 'denso': 7026, 'considerável': 7027, 'revelou': 7028, 'manuel': 7029, 'costa': 7030, 'pinto': 7031, 'instigando': 7032, 'preparando': 7033, 'encadeando': 7034, 'ligeira': 7035, 'confronto': 7036, 'reexperimentar': 7037, 'elaborar': 7038, 'tentem': 7039, 'alienado': 7040, 'caíram': 7041, 'tornaram': 7042, 'proscritas': 7043, 'infratores': 7044, 'sujeitos': 7045, 'máquina': 7046, 'assassina': 7047, 'sabujo': 7048, 'clarissa': 7049, 'enredar': 7050, 'fá': 7051, 'vigentes': 7052, 'proscrição': 7053, 'engendrando': 7054, 'inteiramente': 7055, 'elo': 7056, 'tríade': 7057, 'juntamente': 7058, 'aldous': 7059, 'huxley': 7060, 'respectivamente': 7061, 'denúncia': 7062, 'corrosivo': 7063, 'diversões': 7064, 'naqueles': 7065, 'automóveis': 7066, 'altíssimas': 7067, 'atropelar': 7068, 'andassem': 7069, 'nobel': 7070, 'predizer': 7071, 'elucidadas': 7072, 'cão': 7073, 'mecânico': 7074, 'patas': 7075, 'veículo': 7076, 'salamandra': 7077, 'alternativo': 7078, 'ievguêni': 7079, 'zamiátin': 7080, 'bichos': 7081, 'incinerações': 7082, 'exercem': 7083, 'obstinadas': 7084, 'desafiam': 7085, 'estabelecida': 7086, 'decisivos': 7087, 'urdidura': 7088, 'testemunja': 7089, 'autoimolação': 7090, 'recusa': 7091, 'paralelamente': 7092, 'mcclellan': 7093, 'instilada': 7094, 'espontâneas': 7095, 'indagação': 7096, 'excrescência': 7097, 'utilitário': 7098, 'fahrennheit': 7099, 'protocolares': 7100, 'ávidos': 7101, 'queimarem': 7102, 'clarice': 7103, 'testemunhar': 7104, 'incidente': 7105, 'quo': 7106, 'rejeitou': 7107, 'entretenimentos': 7108, 'salão': 7109, 'tidos': 7110, 'caos': 7111, 'instalado': 7112, 'disfarce': 7113, 'subverter': 7114, 'contramão': 7115, 'liberta': 7116, 'inconcebível': 7117, 'recorrentes': 7118, 'tosca': 7119, 'editam': 7120, 'aprouver': 7121, 'valorização': 7122, 'denotam': 7123, 'compõe': 7124, 'quinteto': 7125, 'aclamadas': 7126, 'perturbadoras': 7127, 'rigoroso': 7128, 'aprisionamento': 7129, 'banidos': 7130, 'decida': 7131, 'comprovando': 7132, 'apologia': 7133, 'fanatismo': 7134, 'extremismo': 7135, 'renovado': 7136, 'massificador': 7137, 'estejamos': 7138, 'provocadoras': 7139, 'pgs': 7140, '134': 7141, '135': 7142, 'queimando': 7143, 'conserva': 7144, 'exsurge': 7145, 'profecia': 7146, 'involuntária': 7147, 'carregando': 7148, 'fósforos': 7149, 'acesos': 7150, 'batista': 7151, 'unitarista': 7152, 'irlandesa': 7153, 'octogenária': 7154, 'sionista': 7155, 'adventista': 7156, 'sétimo': 7157, 'republicana': 7158, 'evangelho': 7159, 'quadrangular': 7160, 'esparramar': 7161, 'querosene': 7162, 'acender': 7163, 'pavio': 7164, 'autoproclamados': 7165, 'passarão': 7166, 'bombardeados': 7167, 'afligem': 7168, 'mecanicista': 7169, 'alusão': 7170, 'fadada': 7171, 'reproduzindo': 7172, 'enraizados': 7173, 'nascerem': 7174, 'programação': 7175, 'observando': 7176, 'previu': 7177, 'supôs': 7178, 'ocorreria': 7179, 'acertou': 7180, 'antecipa': 7181, 'tirania': 7182, 'totalitários': 7183, 'instalam': 7184, 'tiranias': 7185, 'salvacionismo': 7186, 'atualíssimo': 7187, 'desprezo': 7188, 'reconsiderar': 7189, 'existencial': 7190, 'perpetuam': 7191, 'abundantes': 7192, 'consumidoras': 7193, 'simplificadas': 7194, 'proíba': 7195, 'negue': 7196, 'acarretados': 7197, 'perigos': 7198, 'advindos': 7199, 'contundente': 7200, 'optamos': 7201, 'simploriedade': 7202, 'vislumbrava': 7203, 'chegaria': 7204, 'cinematográfica': 7205, 'filmável': 7206, 'diluição': 7207, 'apreciação': 7208, 'fraquejou': 7209, 'fracassou': 7210, 'mergulharam': 7211, 'desarticulação': 7212, 'truffault': 7213, 'comentado': 7214, 'icônicas': 7215, 'inversão': 7216, 'prepotência': 7217, 'assombrar': 7218, 'mentiras': 7219, 'veiculadas': 7220, 'levantada': 7221, 'rapida': 7222, 'conhecerem': 7223, 'instrumentos': 7224, 'possibilite': 7225, 'robôs': 7226, 'desplugamento': 7227, 'hipnotizado': 7228, 'bestiais': 7229, 'concretizam': 7230, 'perturba': 7231, 'vigilantes': 7232, 'perigosos': 7233, 'arbitrários': 7234, 'prazeres': 7235, 'imediatos': 7236, 'entristece': 7237, 'bizarro': 7238, 'indefinida': 7239, 'suprimidas': 7240, 'sobrevivam': 7241, 'desinteresse': 7242, 'diretor': 7243, 'pensaram': 7244, 'pervesas': 7245, 'bibliotecas': 7246, 'virtuais': 7247, 'espalhem': 7248, 'rincão': 7249, 'protegendo': 7250, 'potencialmente': 7251, 'ofenderá': 7252, 'proibida': 7253, 'deverão': 7254, 'frequente': 7255, 'entretêm': 7256, 'elucidam': 7257, 'hemos': 7258, 'classicos': 7259, 'controla': 7260, 'homenagem': 7261, 'imaginada': 7262, 'negligenciada': 7263, 'diferentemente': 7264, 'proíbe': 7265, 'decidem': 7266, 'susto': 7267, 'confeccionou': 7268, 'inventadas': 7269, 'compreendemos': 7270, 'incompreensíveis': 7271, 'consulte': 7272, '“glossário': 7273, 'nadsat”': 7274, 'utilize': 7275, '“chutar”': 7276, 'gargalo': 7277, 'freio': 7278, 'engole': 7279, 'faladas': 7280, 'sedutor': 7281, 'hábil': 7282, 'esperto': 7283, 'espirituoso': 7284, 'simpático': 7285, \"'simpático\": 7286, 'teia': 7287, 'blinda': 7288, 'demasiado': 7289, 'abomináveis': 7290, 'elegante': 7291, 'subcultura': 7292, 'rebelião': 7293, 'gangues': 7294, 'secundárias': 7295, 'isbn': 7296, '9788576571360': 7297, 'burges': 7298, 'arbitrariamente': 7299, 'inconsequente': 7300, '“recuperado”': 7301, 'reabilitação': 7302, 'autorregulamentação': 7303, 'contextualizado': 7304, '1962': 7305, 'stanley': 7306, 'gangue': 7307, 'exercer': 7308, 'fascinando': 7309, 'nacionalidades': 7310, 'gurgess': 7311, 'incompreensão': 7312, 'familiaridade': 7313, 'congratulo': 7314, 'interessantíssimos': 7315, 'extremante': 7316, 'hobby': 7317, 'punições': 7318, 'submetido': 7319, 'bloquear': 7320, 'ética': 7321, 'relativização': 7322, 'tona': 7323, 'voga': 7324, 'estranhar': 7325, 'explicita': 7326, 'impensável': 7327, 'chocam': 7328, 'gráficas': 7329, 'obrã': 7330, 'película': 7331, 'baseou': 7332, 'indissociavelmente': 7333, 'variamos': 7334, 'glória': 7335, 'ocaso': 7336, 'veladas': 7337, 'permeiam': 7338, 'deparemos': 7339, 'batendo': 7340, 'mandando': 7341, 'eternizou': 7342, 'constar': 7343, 'disputa': 7344, 'ocorrência': 7345, 'pesquisadores': 7346, 'crueza': 7347, 'combates': 7348, 'fixação': 7349, 'exterminar': 7350, 'expressas': 7351, 'futuras': 7352, 'lideranças': 7353, 'desequilibradas': 7354, 'influenciem': 7355, 'detalhadíssimos': 7356, 'ocupação': 7357, 'alemã': 7358, 'iniciozinho': 7359, 'cerco': 7360, 'varsóvia': 7361, 'fomentasse': 7362, '974': 7363, 'bibliografia': 7364, 'agradecimentos': 7365, 'julho': 7366, 'assídua': 7367, '778': 7368, '02': 7369, 'assegurar': 7370, 'concernentes': 7371, 'espantosa': 7372, 'palpável': 7373, 'ensandecidos': 7374, 'paranoias': 7375, 'etnia': 7376, 'judaica': 7377, 'faria': 7378, 'exterminados': 7379, 'mendigos': 7380, 'homossexuais': 7381, 'ciganos': 7382, 'traídores': 7383, 'contenda': 7384, 'embate': 7385, 'kennedy': 7386, 'nadou': 7387, 'arquipélago': 7388, 'ilhas': 7389, 'salomão': 7390, 'socorro': 7391, 'infortúnio': 7392, 'barco': 7393, 'pique': 7394, 'boiando': 7395, 'agarrados': 7396, 'tora': 7397, 'madeira': 7398, 'saberemos': 7399, 'bush': 7400, '58a': 7401, 'missão': 7402, 'abatendo': 7403, 'esquadras': 7404, 'atingido': 7405, 'japão': 7406, 'resgatado': 7407, 'deixariam': 7408, 'caírem': 7409, 'socorre': 7410, 'híper': 7411, 'beeemmm': 7412, 'abrangem': 7413, 'diferencia': 7414, 'supérfluos': 7415, 'adicionais': 7416, 'caminhando': 7417, 'simultâneas': 7418, 'confecção': 7419, 'logística': 7420, 'localização': 7421, 'leste': 7422, 'europeu': 7423, 'evento': 7424, 'falou': 7425, 'entremeando': 7426, 'cobre': 7427, 'táticos': 7428, 'enriquece': 7429, 'suscintamente': 7430, 'prejudicado': 7431, 'tambéms': 7432, 'antony': 7433, 'beevor': 7434, 'desumanidade': 7435, 'corretos': 7436, 'baixas': 7437, 'soldados': 7438, 'desembarque': 7439, 'normandia': 7440, 'qualificar': 7441, 'imprecisas': 7442, '2a': 7443, 'marcou': 7444, 'massacre': 7445, 'aplicara': 7446, 'derrotar': 7447, 'zonas': 7448, 'arsenais': 7449, 'retomada': 7450, 'documento': 7451, 'arrasando': 7452, 'carinhosamente': 7453, 'adiante': 7454, '👏👏😍😍🔥🔥recomendadíssimo': 7455, '😘😘já': 7456, 'odeia': 7457, 'impensadas': 7458, 'hummmm': 7459, 'acordada': 7460, 'hs': 7461, '👏👏👏👏': 7462, 'abençoe': 7463, '😘😘😘': 7464, 'figurar': 7465, '1º': 7466, 'miríade': 7467, 'sustentação': 7468, 'encantadora': 7469, 'permeada': 7470, 'divertidos': 7471, 'exato': 7472, 'fascinar': 7473, 'detestamos': 7474, 'instalando': 7475, 'permissão': 7476, 'adicionam': 7477, 'creditando': 7478, 'intrínsecas': 7479, 'acolhimento': 7480, 'afloram': 7481, 'avançarmos': 7482, 'irreverência': 7483, 'transpiram': 7484, 'cativos': 7485, 'coro': 7486, 'pacionais': 7487, 'fadas': 7488, 'torcendo': 7489, 'aéreas': 7490, 'htl': 7491, 'guimarães': 7492, 'dança': 7493, 'balé': 7494, 'ramo': 7495, 'empresarial': 7496, 'herdeiro': 7497, 'medir': 7498, 'meiga': 7499, 'madrasta': 7500, 'enteada': 7501, 'carregará': 7502, 'nove': 7503, 'fachada': 7504, 'conseguirá': 7505, 'renderá': 7506, 'conquistando': 7507, 'conquistadas': 7508, 'turbulência': 7509, 'rivalizada': 7510, 'largá': 7511, 'arraso': 7512, 'envolvimento': 7513, 'ãs': 7514, 'arrasou👏👏👏👏👏': 7515, 'quebradas': 7516, 'esperavam': 7517, 'mudarão': 7518, 'sensual': 7519, 'negação': 7520, 'sublime': 7521, 'apronta': 7522, 'come': 7523, 'pedacinhos': 7524, 'micros': 7525, 'tiro': 7526, 'firmeza': 7527, 'corra': 7528, 'banharam': 7529, 'galáxias': 7530, 'alcançou': 7531, 'topos': 7532, 'esquecidos': 7533, 'construindo': 7534, 'acompanhe': 7535, 'sentirá': 7536, 'parabéns🎉': 7537, 'infinito': 7538, 'descobriu': 7539, 'amornioso': 7540, 'theo': 7541, 'giulia': 7542, 'massante': 7543, 'repetivo': 7544, 'rapidinho': 7545, 'ansiosamente': 7546, 'êxtase': 7547, 'vom': 7548, '❤❤❤sofia': 7549, 'sacana': 7550, '🔥🔥': 7551, 'bocado': 7552, '❤❤😍😍😍': 7553, '❤❤❤❤': 7554, 'preferida': 7555, 'ansiedades': 7556, 'gigantesca': 7557, 'machucou': 7558, '😍❤': 7559, 'sentiu': 7560, 'aprontaram': 7561, 'sofrimentozinho': 7562, 'impactada': 7563, 'treco': 7564, 'almas': 7565, 'rendam': 7566, 'sacolejo': 7567, 'correr': 7568, 'perdoa': 7569, 'camisa': 7570, 'rendendo': 7571, 'sófia': 7572, 'láni': 7573, 'gueiros': 7574, 'impressionate': 7575, 'doida': 7576, 'lani😂😂': 7577, 'sempre😘😘😘😘': 7578, 'pegada': 7579, 'morri': 7580, 'gravidas': 7581, 'alturas': 7582, 'modifica': 7583, 'geito': 7584, 'resistiu': 7585, 'ohhh': 7586, 'emocionou': 7587, 'fascina': 7588, 'envolventes': 7589, 'amoooo': 7590, '👏🏼': 7591, 'colocaria': 7592, 'pudesse😍': 7593, 'decididos': 7594, '💖💖💖': 7595, 'cinto': 7596, '😉': 7597, 'apaguei': 7598, 'eli': 7599, '😑': 7600, 'kkk': 7601, 'crueldades': 7602, 'sofrida': 7603, 'prometem': 7604, 'amarradas': 7605, 'giro': 7606, '180': 7607, 'lembraram': 7608, 'sexie': 7609, 'quarteirão': 7610, 'molhar': 7611, 'calcinha': 7612, 'maneiro': 7613, 'lane': 7614, 'liro': 7615, 'miriede': 7616, 'tristesa': 7617, 'superacao': 7618, 'vovo': 7619, 'meg': 7620, 'apaixonam': 7621, 'duvide': 7622, 'mexeu': 7623, 'mexer': 7624, 'durões': 7625, 'reconquistar': 7626, 'maraaa': 7627, 'parabens': 7628, 'consolidado': 7629, 'característico': 7630, 'polêmico': 7631, 'demore': 7632, 'ogros': 7633, 'tbem': 7634, 'segurado': 7635, 'inesquecível': 7636, 'explosivo': 7637, 'arebatador': 7638, 'bailarina': 7639, 'derrubou': 7640, 'lindamente': 7641, 'encantadores': 7642, 'paragrafo': 7643, 'nenem': 7644, '1000000000': 7645, '4h': 7646, 'teatral': 7647, 'estranhei': 7648, 'evoluiu': 7649, 'rebeldes': 7650, 'trupe': 7651, 'supreende': 7652, 'lerceber': 7653, 'removível': 7654, 'criticaram': 7655, 'potterhead': 7656, 'hardcore': 7657, 'lombriga': 7658, 'justa': 7659, 'reflete': 7660, 'contentamento': 7661, 'refinada': 7662, 'luva': 7663, 'brilhosa': 7664, 'espaçadas': 7665, 'poís': 7666, 'hermione': 7667, 'alvo': 7668, 'escórpio': 7669, 'eixos': 7670, 'pertencimento': 7671, 'desenvolvem': 7672, 'concisos': 7673, 'apreender': 7674, 'provocação': 7675, 'consultar': 7676, 'equipes': 7677, 'insatisfação': 7678, \"''por\": 7679, \"fazemos''\": 7680, 'lideradas': 7681, 'lideram': 7682, 'privado': 7683, 'contemporaneidade': 7684, 'enfatiza': 7685, 'validem': 7686, 'engrenagem': 7687, 'empresário': 7688, 'liderar': 7689, 'questionava': 7690, 'acessivel': 7691, 'demarcação': 7692, 'confusos': 7693, 'portella': 7694, 'desempenhando': 7695, 'satisfaçam': 7696, 'cartela': 7697, 'cbn': 7698, 'espelha': 7699, 'mencionar': 7700, 'nomenclatura': 7701, 'individualismo': 7702, 'sentida': 7703, 'exigem': 7704, 'empreendedor': 7705, 'funcionário': 7706, 'interessantíssimas': 7707, 'ociosos': 7708, 'fundamentado': 7709, 'estimula': 7710, 'carreiras': 7711, 'reforçando': 7712, 'pertinentes': 7713, 'formatos': 7714, 'entenderão': 7715, 'criticamente': 7716, 'conceituado': 7717, 'agradavel': 7718, 'provaveis': 7719, 'encaramos': 7720, '👍': 7721, 'cortela': 7722, 'visando': 7723, 'ícone': 7724, 'gestos': 7725, 'rapido': 7726, 'trabalhor': 7727, 'onibus': 7728, 'piloto': 7729, 'automático': 7730, 'conformidade': 7731, 'genérica': 7732, 'karnal': 7733, 'carismática': 7734, 'mergulhando': 7735, 'deixiei': 7736, 'escrevesse': 7737, 'engraçadas': 7738, 'conservado': 7739, 'chegado': 7740, 'sofrido': 7741, 'fisica': 7742, 'è': 7743, 'maravihoso': 7744, 'dms': 7745, 'espetáculo': 7746, 'demorou': 7747, 'estimaram': 7748, 'intimida': 7749, 'aprecio': 7750, 'ficava': 7751, 'perguntado': 7752, 'galera': 7753, 'musa': 7754, 'buchmann': 7755, 'you': 7756, 'tube': 7757, 'xuxa': 7758, 'matem': 7759, 'assiste': 7760, 'visualizações': 7761, 'lives': 7762, 'snaps': 7763, 'gata': 7764, 'lacradora': 7765, 'óculos': 7766, 'grossos': 7767, 'bunda': 7768, 'rios': 7769, 'deslumbrante': 7770, '143': 7771, 'zeiva': 7772, 'optava': 7773, 'cometam': 7774, 'espertamente': 7775, 'colocou': 7776, 'cadelinha': 7777, 'vilma': 7778, 'posa': 7779, 'câmeras': 7780, 'autógrafos': 7781, 'pulo': 7782, 'flatulências': 7783, 'tratam': 7784, 'subestimem': 7785, 'escondia': 7786, 'lentes': 7787, 'brilha': 7788, '❤️❤️❤️❤️❤️❤️❤️❤️❤️❤️❤️❤️❤️❤️a': 7789, 'er': 7790, 'arabe': 7791, 'albertinho': 7792, 'nu': 7793, 'inadimitalos': 7794, 'amém': 7795, 'descobertas': 7796, 'proeminentes': 7797, 'neurociencia': 7798, 'cognitiva': 7799, 'competitivo': 7800, 'prestamos': 7801, 'obtermos': 7802, 'aplicadas': 7803, 'alimentarmos': 7804, 'piamente': 7805, 'leituta': 7806, 'enraizada': 7807, 'uteis': 7808, 'teórica': 7809, 'revigorada': 7810, 'fomos': 7811, 'ensinados': 7812, 'duradouro': 7813, 'procuram': 7814, 'cumpriu': 7815, 'anunciado': 7816, 'precesso': 7817, 'reflexiva': 7818, 'expõem': 7819, 'teclas': 7820, 'aprofundadas': 7821, 'abordagens': 7822, 'autodidata': 7823, 'confirma': 7824, 'intuição': 7825, 'lópez': 7826, 'robledo': 7827, 'desavisados': 7828, 'lêem': 7829, 'agrupamento': 7830, 'avançadas': 7831, 'memorização': 7832, 'proveniente': 7833, 'associação': 7834, 'visual': 7835, 'intutivas': 7836, 'pausa': 7837, 'desafiadoras': 7838, 'obtenção': 7839, 'direcional': 7840, 'naondeveria': 7841, 'gatilhos': 7842, 'selecionou': 7843, 'sentia': 7844, 'acenderam': 7845, 'execução': 7846, 'enriquecedoras': 7847, 'aprimorar': 7848, 'encontradas': 7849, 'delongas': 7850, 'historinhas': 7851, 'praticava': 7852, 'detalhamento': 7853, 'considerou': 7854, '100℅': 7855, 'estimulam': 7856, 'atualizada': 7857, 'pesca': 7858, 'veia': 7859, 'libera': 7860, 'tecla': 7861, 'deplorável': 7862, 'respei5': 7863, 'implementados': 7864, 'listagem': 7865, 'produzem': 7866, 'alonga': 7867, 'auxiliou': 7868, 'educadora': 7869, 'guiá': 7870, 'variadad': 7871, 'introduzidas': 7872, 'bastassem': 7873, 'modernas': 7874, 'requerem': 7875, 'iluminação': 7876, 'cumpria': 7877, 'aplico': 7878, 'sugeridos': 7879, 'praticá': 7880, 'despir': 7881, 'percebendo': 7882, 'impomos': 7883, 'levará': 7884, 'transformadora': 7885, 'ensinará': 7886, 'frequências': 7887, 'equivocados': 7888, 'adquiridos': 7889, 'superá': 7890, 'diferenciam': 7891, 'desprezar': 7892, 'advém': 7893, 'mude': 7894, 'disciplinas': 7895, 'unir': 7896, 'espiritual': 7897, 'colocá': 7898, 'sobremaneira': 7899, 'desaprender': 7900, 'destaquei': 7901, 'crescem': 7902, 'frutos': 7903, 'subconsciente': 7904, 'enraizadas': 7905, 'vencem': 7906, 'raiz': 7907, 'insignificante': 7908, 'utilidade': 7909, 'queixa': 7910, 'imã': 7911, 'pulsante': 7912, 'estabeleceu': 7913, 'relidos': 7914, 'incorporarmos': 7915, 'crio': 7916, 'queixando': 7917, 'vitimas': 7918, 'gostariam': 7919, 'copo': 7920, 'nisso…': 7921, 'admiram': 7922, 'guardam': 7923, 'ressentimento': 7924, 'abençoar': 7925, 'destituam': 7926, 'fracassados': 7927, 'dissipe': 7928, 'escuridão': 7929, 'geraldo': 7930, 'rufino': 7931, 'positividade': 7932, 'desviar': 7933, 'resolvê': 7934, 'contínuo': 7935, 'desprendem': 7936, '“segurança”': 7937, 'teto': 7938, '“posso': 7939, 'coisas”': 7940, 'pensam””posso': 7941, 'coisa”': 7942, 'calcular': 7943, 'noticias': 7944, 'enriqueceram': 7945, 'põem': 7946, 'passivos': 7947, '16': 7948, 'agem': 7949, 'crescemos': 7950, 'aprimoram': 7951, '“ou': 7952, 'tempo”': 7953, 'incorporando': 7954, 'cano': 7955, 'dai': 7956, 'obrigatoria': 7957, 'gerenciamento': 7958, 'mudemos': 7959, 'enxergamos': 7960, 'referindo': 7961, 'saberá': 7962, 'condicionados': 7963, 'maltratar': 7964, 'administrá': 7965, 'adquirindo': 7966, 'mentalize': 7967, 'colo': 7968, 'empreendimentos': 7969, 'atraia': 7970, 'vivenciou': 7971, 'complemento': 7972, 'reavaliar': 7973, 'seguidas': 7974, 'boicotamos': 7975, 'caminhada': 7976, 'impulsos': 7977, 'travas': 7978, 'valiosos': 7979, 'relacionadas': 7980, 'influenciam': 7981, 'recomendadas': 7982, 'engane': 7983, 'periodicamente': 7984, 'desvinculando': 7985, 'tidas': 7986, 'propositais': 7987, 'coeso': 7988, 'preceito': 7989, 'situaçoes': 7990, 'aprofundamos': 7991, 'inadequada': 7992, 'relacionada': 7993, 'nariz': 7994, 'abertam': 7995, 'ampliou': 7996, 'realização': 7997, 'ousados': 7998, 'melhora': 7999, 'lúcido': 8000, 'encruzilhada': 8001, 'profissionalizar': 8002, 'desconfiei': 8003, 'prateleiras': 8004, 'psique': 8005, 'nalgum': 8006, 'boicotam': 8007, 'auxilia': 8008, 'adestrados': 8009, 'acumulação': 8010, 'ensejar': 8011, 'ousado': 8012, 'cava': 8013, 'decadentes': 8014, 'invasor': 8015, 'privacidade': 8016, 'vamo': 8017, 'reconstrução': 8018, 'trilhar': 8019, 'prometo': 8020, 'gestão': 8021, 'irrisório': 8022, 'milionárias': 8023, 'agirmos': 8024, 'tenra': 8025, 'dogmas': 8026, 'contrapõem': 8027, 'latente': 8028, 'advirto': 8029, 'ocorrerá': 8030, 'lançados': 8031, 'dividir': 8032, 'casando': 8033, 'sedento': 8034, 'propostos': 8035, 'desenfreadamente': 8036, 'solicita': 8037, 'levamos': 8038, 'releia': 8039, 'trilhos': 8040, 'multiplicar': 8041, 'desmistifica': 8042, 'executadas': 8043, 'exalta': 8044, 'intimamente': 8045, 'ligada': 8046, 'surpreendido': 8047, 'negocio': 8048, 'cia': 8049, 'falaria': 8050, 'desejamos': 8051, 'tras': 8052, 'condicionamentos': 8053, 'trazemos': 8054, 'refazer': 8055, 'pasadigmas': 8056, 'empolgava': 8057, 'mento': 8058, 'atributos': 8059, 'plenitude': 8060, 'obterá': 8061, 'canada': 8062, 'participarei': 8063, 'seminarios': 8064, 'desmistificação': 8065, 'esferas': 8066, 'valorizemos': 8067, 'benéfico': 8068, 'realizações': 8069, 'saberão': 8070, 'implementadas': 8071, 'frequencia': 8072, 'reformula': 8073, 'moldado': 8074, 'tds': 8075, 'dinhei': 8076, 'desmentir': 8077, 'insigths': 8078, 'equilibrada': 8079, 'empreendedores': 8080, 'questionei': 8081, 'prospera': 8082, 'pragmático': 8083, 'arnaldo': 8084, 'mind': 8085, 'set': 8086, 'aproveite': 8087, \"that's\": 8088, 'itnegou': 8089, 'oppottunity': 8090, 'change': 8091, 'your': 8092, 'prejudiciais': 8093, 'lerem': 8094, 'apliquem': 8095, 'tm': 8096, 'senão': 8097, 'lidamos': 8098, 'transformam': 8099, 'direciona': 8100, 'excedente': 8101, 'reprogramação': 8102, 'babilônia': 8103, 'fundamentos': 8104, 'statements': 8105, 'tangentes': 8106, 'libertarem': 8107, 'melhorando': 8108, 'area': 8109, 'interpretado': 8110, '“lápis': 8111, 'mão”': 8112, 'rendas': 8113, 'passivas': 8114, 'abordadas': 8115, 'presentar': 8116, 'execelente': 8117, 'muitoooo': 8118, 'erramos': 8119, 'fortuna': 8120, 'traçou': 8121, 'areas': 8122, 'quebrança': 8123, 'surpeendedor': 8124, 'enxergo': 8125, 'relacionado': 8126, 'ameiiiiiiiiii': 8127, 'adriana': 8128, 'santana': 8129, 'rodrigo': 8130, 'instrutor': 8131, 'confiante': 8132, 'borá': 8133, 'reeler': 8134, 'porq': 8135, 'bofetadas': 8136, 'negligencia': 8137, 'jason': 8138, 'zweig': 8139, 'alinhados': 8140, 'revisitá': 8141, 'norteiam': 8142, 'recomendados': 8143, 'fluidez': 8144, 'liguagem': 8145, 'desbravar': 8146, 'apegue': 8147, 'credencial': 8148, 'warren': 8149, 'biográficas': 8150, 'traga': 8151, 'antigos': 8152, 'válidos': 8153, 'dependente': 8154, 'call': 8155, 'imprevisibilidade': 8156, \"'especialistas'\": 8157, 'consonância': 8158, 'acumular': 8159, 'especuladores': 8160, 'baseiam': 8161, 'ingressou': 8162, 'pretender': 8163, 'moedas': 8164, 'adentrando': 8165, 'arriscados': 8166, 'fiar': 8167, 'ocultismos': 8168, 'psicanálise': 8169, 'experimentou': 8170, 'psicoterapia': 8171, 'incerta': 8172, 'simnples': 8173, 'investindo': 8174, 'administrado': 8175, 'sport': 8176, \"'verdades'\": 8177, 'polêmicos': 8178, 'especular': 8179, 'especulação': 8180, 'demasia': 8181, 'titular': 8182, \"'multifuncional'\": 8183, 'acampamento': 8184, 'combustível': 8185, 'marshmallows': 8186, 'tostados': 8187, 'reaproveitamento': 8188, 'proerd': 8189, 'naquelas': 8190, 'destaca': 8191, 'banquinho': 8192, 'dormiu': 8193, 'abraçada': 8194, 'netos': 8195, 'yourtuber': 8196, 'buraco': 8197, 'setenta': 8198, 'projeto': 8199, 'palco': 8200, 'despertando': 8201, 'capturou': 8202, 'ultrapassou': 8203, 'participam': 8204, 'indiretamente': 8205, '1911': 8206, '1924': 8207, 'drásticas': 8208, 'alteraram': 8209, 'múndi': 8210, 'operariado': 8211, 'mediante': 8212, 'ápice': 8213, 'críveis': 8214, 'governanta': 8215, 'leckwith': 8216, 'lady': 8217, 'desafiar': 8218, 'inverno': 8219, 'completam': 8220, 'compreende': 8221, 'hemisfério': 8222, 'galeses': 8223, 'derrubaram': 8224, 'regiam': 8225, 'billy': 8226, 'williams': 8227, 'corajosos': 8228, 'aristocratas': 8229, 'fitz': 8230, 'sufragista': 8231, 'administra': 8232, 'clínica': 8233, 'pediátrica': 8234, 'mães': 8235, 'solteiras': 8236, 'opta': 8237, 'escondido': 8238, 'ulrich': 8239, 'diplomata': 8240, 'londres': 8241, 'espião': 8242, 'gus': 8243, 'dewar': 8244, 'assessor': 8245, 'nações': 8246, 'futuramente': 8247, 'lev': 8248, 'trabalhadores': 8249, 'metalúrgica': 8250, 'núcleo': 8251, 'camponesa': 8252, 'nobres': 8253, 'terras': 8254, 'participa': 8255, 'ativamente': 8256, 'soviético': 8257, '“cair”': 8258, 'marx': 8259, 'saem': 8260, 'privilegiada': 8261, 'vilarejo': 8262, 'preparam': 8263, 'pão': 8264, 'carruagem': 8265, 'levantou': 8266, 'grã': 8267, 'bretanha': 8268, 'cortejo': 8269, 'gales': 8270, 'tragédia': 8271, 'ocorrida': 8272, 'superstar': 8273, 'caçando': 8274, 'marcos': 8275, 'decorar': 8276, 'cairia': 8277, 'classes': 8278, 'amarrar': 8279, 'existiram': 8280, 'vencedores': 8281, 'digitação': 8282, 'designado': 8283, 'remunerado': 8284, 'alçada': 8285, 'caracterizado': 8286, 'repassar': 8287, 'conexão': 8288, 'mergulha': 8289, 'conchavos': 8290, 'incoerência': 8291, 'recria': 8292, 'antecede': 8293, '1a': 8294, 'mesclando': 8295, 'fictícios': 8296, 'consistente': 8297, 'comédia”': 8298, 'folder': 8299, 'brava': 8300, 'asperidade': 8301, 'cuidosa': 8302, 'acerbidade': 8303, 'deparado': 8304, 'entrado': 8305, 'tomara': 8306, 'hei': 8307, 'colina': 8308, 'cercara': 8309, 'terminando': 8310, 'causara': 8311, 'banhando': 8312, 'espaldas': 8313, 'guiando': 8314, 'assombro': 8315, 'perdurava': 8316, 'atribulada': 8317, 'anélito': 8318, 'esgotava': 8319, 'lutava': 8320, 'treme': 8321, 'vencido': 8322, 'ditoso': 8323, 'joão': 8324, 'trentino': 8325, 'ziller': 8326, 'ateliê': 8327, '2011': 8328, 'terrena': 8329, 'senda': 8330, 'infunde': 8331, 'acre': 8332, 'falarei': 8333, 'ignoro': 8334, 'outeiro': 8335, 'ergui': 8336, 'raio': 8337, 'coberto': 8338, 'seguro': 8339, 'sumindo': 8340, 'adentro': 8341, 'vencera': 8342, 'consumindo': 8343, 'náufrago': 8344, 'alcançado': 8345, 'suspirada': 8346, 'meta': 8347, 'revolto': 8348, 'incerto': 8349, 'pensativa': 8350, 'ereta': 8351, 'vasco': 8352, 'landmark': 8353, '2005': 8354, 'aspra': 8355, 'temor': 8356, 'renova': 8357, 'agrura': 8358, 'saberei': 8359, 'veraz': 8360, 'assento': 8361, 'val’': 8362, 'tormento': 8363, 'ombros': 8364, 'cendal': 8365, 'recta': 8366, 'durava': 8367, 'arfava': 8368, 'escapando': 8369, 'pélago': 8370, 'deriva': 8371, 'perigosas': 8372, 'remirava': 8373, 'fugitiva': 8374, 'eugenio': 8375, 'maro': 8376, 'reta': 8377, 'volve': 8378, 'tolhido': 8379, 'encontrava': 8380, 'chegava': 8381, 'cerrava': 8382, 'vertente': 8383, 'vestida': 8384, 'quieta': 8385, 'ofegando': 8386, 'vara': 8387, 'bravio': 8388, 'praia': 8389, 'atingida': 8390, 'perigosa': 8391, 'encara': 8392, 'fugida': 8393, 'horrendo': 8394, 'contendo': 8395, 'adendo': 8396, 'fabuloso': 8397, 'acomodados': 8398, 'rígido': 8399, 'comprassem': 8400, 'cristo': 8401, 'honrar': 8402, 'eternos': 8403, 'luxuosa': 8404, 'relida': 8405, 'elucidativa': 8406, 'cosmogonia': 8407, 'teologia': 8408, 'gelado': 8409, 'aprisiona': 8410, 'equilibrados': 8411, 'divinos': 8412, 'passear': 8413, 'árduo': 8414, 'releituras': 8415, 'prazerosas': 8416, 'voltaram': 8417, 'crossover': 8418, 'sitiar': 8419, 'odisséia': 8420, 'monumentos': 8421, 'classicistas': 8422, 'talentosos': 8423, 'tradutores': 8424, 'agraciaram': 8425, 'erudito': 8426, 'hexâmetros': 8427, 'dactílicos': 8428, 'metro': 8429, 'comprometer': 8430, 'gregas': 8431, 'fluência': 8432, 'arrebatadora': 8433, 'provinha': 8434, 'rimas': 8435, 'tônicos': 8436, 'ditado': 8437, 'dactílico': 8438, 'correlação': 8439, 'imperfeita': 8440, 'tonicidade': 8441, 'desempenhassem': 8442, 'atonas': 8443, 'coloco': 8444, 'maiúscula': 8445, 'alcançada': 8446, '432': 8447, 'demorando': 8448, 'procurou': 8449, 'note': 8450, 'reiteração': 8451, 'plosivas': 8452, 'começarem': 8453, 'deslocada': 8454, 'amarras': 8455, '436': 8456, 'terminadas': 8457, 'ram': 8458, 'ras': 8459, 'transpor': 8460, 'símiles': 8461, 'enriquecem': 8462, 'mostrava': 8463, 'detalhadas': 8464, 'tropas': 8465, 'ajax': 8466, 'nuvens': 8467, 'carregadas': 8468, 'chuva': 8469, 'penedo': 8470, 'postado': 8471, 'divisa': 8472, 'nuvem': 8473, 'zéfiro': 8474, 'antolha': 8475, 'conduzindo': 8476, 'violenta': 8477, 'apavorado': 8478, 'recolhe': 8479, 'gruta': 8480, 'dileto': 8481, 'rebanho': 8482, 'zeus': 8483, 'descendentes': 8484, 'densas': 8485, 'levavam': 8486, 'eriçado': 8487, 'lanças': 8488, 'escudos': 8489, 'iv': 8490, '275': 8491, '282': 8492, '121': 8493, 'betume': 8494, 'poéticas': 8495, 'monumento': 8496, 'despede': 8497, 'andrômaca': 8498, 'tesouros': 8499, 'grifos': 8500, 'épicas': 8501, 'novíssima': 8502, 'cosacnaify': 8503, 'preserva': 8504, 'ritmos': 8505, 'sonoridades': 8506, '“bônus': 8507, 'adicionais”': 8508, 'elogiada': 8509, 'penguin': 8510, 'reitero': 8511, 'devam': 8512, 'novafronteira': 8513, 'aproximar': 8514, 'hexâmetro': 8515, 'datílico': 8516, 'épica': 8517, 'troia': 8518, 'exceptuando': 8519, 'prefere': 8520, 'lapso': 8521, 'aproximadamente': 8522, 'escrava': 8523, 'briseide': 8524, 'agamémnone': 8525, 'abster': 8526, 'abstenção': 8527, 'pelida': 8528, 'peleu': 8529, 'diomedes': 8530, 'odisseu': 8531, 'menelau': 8532, 'ausentes': 8533, '“beeem”': 8534, '\\xa0': 8535, 'revoltado': 8536, 'roteiristas': 8537, 'surpreenderá': 8538, 'omissões': 8539, 'exclusão': 8540, 'hecatombes': 8541, 'sacrifícios': 8542, 'minuciosamente': 8543, 'espólios': 8544, 'epopeia': 8545, 'enciclopédia': 8546, 'estimada': 8547, 'reforçada': 8548, 'míopes': 8549, 'confortavelmente': 8550, 'aaaaaaaaaaaaaaaaaaaaa': 8551, 'duras': 8552, 'introdutórios': 8553, 'complementares': 8554, 'atendendo': 8555, 'superando': 8556, 'mantem': 8557, 'dicionario': 8558, 'surpreendida': 8559, 'antiguidade': 8560, 'modernidade': 8561, 'imortais': 8562, 'levezinha': 8563, 'invólucro': 8564, 'caprichado': 8565, 'capricho': 8566, 'apêndices': 8567, 'homérico': 8568, 'dínamo': 8569, 'honesta': 8570, 'puc': 8571, 'indicados': 8572, 'armar': 8573, 'publica': 8574, 'critica': 8575, 'guichês': 8576, 'divulga': 8577, 'pegasse': 8578, 'nuca': 8579, 'esfregasse': 8580, 'gritando': 8581, 'mentecapto': 8582, 'escrevia': 8583, 'milênio': 8584, 'planejada': 8585, 'cultivada': 8586, 'intetesses': 8587, 'escusos': 8588, 'janela': 8589, 'ensolarada': 8590, 'jurrasica': 8591, 'pira': 8592, 'realistas': 8593, 'representado': 8594, 'metástases': 8595, 'sic': 8596, 'comprovada': 8597, 'esquerdiopatas': 8598, 'reconhecem': 8599, 'doutrinas': 8600, 'ultrapassadas': 8601, 'viraram': 8602, 'pó': 8603, 'fracassaram': 8604, 'resistem': 8605, 'repulsa': 8606, 'introduzir': 8607, 'oferecendo': 8608, 'quaestionis': 8609, 'erudição': 8610, 'pingo': 8611, 'pedantismo': 8612, 'construtiva': 8613, 'perceberem': 8614, 'esquizofrênicas': 8615, 'mundinho': 8616, 'funcionalidade': 8617, 'ludibriaram': 8618, 'ludibriar': 8619, 'espoliação': 8620, 'frédéric': 8621, 'bastiat': 8622, 'resumidademente': 8623, 'impressionantemente': 8624, 'deslegitimando': 8625, 'globalismo': 8626, 'sofisticação': 8627, '600': 8628, 'obritatória': 8629, 'confrontam': 8630, 'confrontador': 8631, 'fossemos': 8632, 'precisariamos': 8633, 'estudada': 8634, 'compreendida': 8635, 'gerais': 8636, 'mesmice': 8637, 'resgate': 8638, 'pedagogo': 8639, 'organizados': 8640, 'conferindo': 8641, 'culmina': 8642, 'raríssimos': 8643, 'tutoriais': 8644, 'vacina': 8645, 'esquerdopatia': 8646, 'libertam': 8647, 'cauterizada': 8648, 'marxista': 8649, 'argumentaram': 8650, 'prestaram': 8651, 'ví': 8652, 'analfabetismo': 8653, 'reina': 8654, 'reafirma': 8655, 'imenso': 8656, 'inovadores': 8657, 'encarados': 8658, 'sugestivo': 8659, 'preenchida': 8660, 'sensaçãozinha': 8661, '“estou': 8662, 'errado”': 8663, 'avaliarmos': 8664, 'capacidades': 8665, 'consequente': 8666, 'espírito': 8667, 'vice': 8668, 'versa': 8669, 'balanço': 8670, '“não': 8671, '“pessoas': 8672, 'chiliques': 8673, 'morrem': 8674, 'moldarão': 8675, 'hesitei': 8676, 'propôs': 8677, 'repente': 8678, 'triviais': 8679, 'exista': 8680, 'concentrado': 8681, 'agindo': 8682, 'mirabolante': 8683, 'besteira': 8684, 'interlocutor': 8685, 'sentirmos': 8686, 'bad': 8687, 'grosseiras': 8688, 'invertida': 8689, 'chuvosos': 8690, 'amenizar': 8691, 'regar': 8692, 'vermo': 8693, 'percebamos': 8694, 'alcançá': 8695, 'invertido': 8696, 'esforçamos': 8697, 'tivermos': 8698, 'julgamos': 8699, 'prestígio': 8700, 'dependem': 8701, 'avaliando': 8702, 'embutido': 8703, 'assuma': 8704, 'reage': 8705, 'reconheça': 8706, 'evolua': 8707, 'proporcionando': 8708, 'autênticas': 8709, 'contemple': 8710, 'iminência': 8711, 'permitirá': 8712, 'excessivos': 8713, 'moralista': 8714, 'sólido': 8715, 'estóico': 8716, 'aristotélico': 8717, 'rodapés': 8718, 'definirmos': 8719, 'assumindo': 8720, '“sofremos': 8721, 'biologicamente': 8722, 'eternas': 8723, 'cessam': 8724, 'repare': 8725, '“resolver”': 8726, 'evita': 8727, '“eis': 8728, 'diferenciar': 8729, 'flores': 8730, 'tomamos': 8731, 'seguimos': 8732, 'resolvemos': 8733, 'curisosa': 8734, 'interpretar': 8735, 'uau': 8736, 'indiferente': 8737, 'àquelas': 8738, 'provocam': 8739, 'admira': 8740, 'odiá': 8741, 'self': 8742, 'made': 8743, 'man': 8744, 'vantagens': 8745, 'schopenhauer': 8746, 'ayn': 8747, 'rand': 8748, 'revolta': 8749, 'atlas': 8750, 'milagres': 8751, 'discutir': 8752, 'pontua': 8753, '“todos': 8754, 'apavorados': 8755, 'esmagados': 8756, 'trivialidades': 8757, 'consumidos': 8758, 'models': 8759, 'esquecemos': 8760, 'acreditamos': 8761, 'satisfeitos': 8762, 'arrogâncias': 8763, 'arrodeios': 8764, 'bicho': 8765, 'tu': 8766, 'teu': 8767, 'intrigada': 8768, 'cativando': 8769, 'agruras': 8770, 'tóxicos': 8771, 'relvelador': 8772, 'ousadia': 8773, 'joga': 8774, 'aceitando': 8775, 'tênue': 8776, 'outrem': 8777, 'bagagem': 8778, 'aprendeu': 8779, 'aspirações': 8780, 'amadurecendo': 8781, 'costumamos': 8782, 'preocupando': 8783, 'insignificâncias': 8784, 'encontrarão': 8785, 'compromete': 8786, 'incomodas': 8787, 'lidadas': 8788, 'ignoramos': 8789, 'profundos': 8790, 'recuperá': 8791, 'praticam': 8792, 'guiada': 8793, 'hahaha': 8794, 'escutar': 8795, 'errantes': 8796, \"'as\": 8797, 'dispensamos': 8798, 'cidadão': 8799, 'danem': 8800, 'precia': 8801, 'air': 8802, 'machucando': 8803, 'betrano': 8804, 'cicrano': 8805, 'punk': 8806, 'incrívelmente': 8807, 'sábio': 8808, 'destruir': 8809, 'inquebrável': 8810, 'sinples': 8811, 'engolidos': 8812, 'lembrarmos': 8813, 'facilitar': 8814, 'convivemos': 8815, 'supérfulas': 8816, 'podcast': 8817, 'influencers': 8818, 'apresentavam': 8819, 'incentivada': 8820, 'adotamos': 8821, 'permeados': 8822, 'salpicados': 8823, 'cômicas': 8824, 'gratinados': 8825, 'fatias': 8826, 'prazeiroso': 8827, 'digeri': 8828, 'po': 8829, 'colocações': 8830, 'diária': 8831, 'rosas': 8832, 'contigo': 8833, 'conheça': 8834, 'conduta': 8835, 'necessáriomudar': 8836, 'condutas': 8837, 'rodeiam': 8838, 'satisfção': 8839, 'litratura': 8840, 'sugerir': 8841, 'expleção': 8842, 'prejorativa': 8843, 'comteudo': 8844, 'interressante': 8845, 'cogniçãoachei': 8846, 'iludam': 8847, 'fê': 8848, 'neute': 8849, 'sacudida': 8850, 'ilusões': 8851, 'diárias': 8852, 'relatadas': 8853, 'aprendam': 8854, 'panda': 8855, 'desilusão': 8856, 'valoroso': 8857, 'tomarmos': 8858, 'agimos': 8859, 'incorreta': 8860, 'óptica': 8861, 'entendê': 8862, \"porquê'\": 8863, 'fazermos': 8864, \"'já\": 8865, \"tarde'\": 8866, 'convida': 8867, 'prolixas': 8868, 'sabermos': 8869, 'implementar': 8870, 'percebermos': 8871, 'expande': 8872, 'achávamos': 8873, 'tínhamos': 8874, 'vivermos': 8875, 'indesejados': 8876, 'inadequados': 8877, 'reforçar': 8878, 'analisados': 8879, 'implementando': 8880, 'abrindo': 8881, 'esteve': 8882, 'prestarmos': 8883, 'percebíamos': 8884, 'entendíamos': 8885, 'cientistas': 8886, 'médicos': 8887, 'psicólogos': 8888, 'rotineiramente': 8889, 'surgindo': 8890, 'modificá': 8891, 'grau': 8892, 'profundeza': 8893, 'enraizamento': 8894, 'cérebros': 8895, 'esperançoso': 8896, 'mudarmos': 8897, '65': 8898, 'conhecermos': 8899, 'vencermos': 8900, 'inércia': 8901, 'surpreendentes': 8902, 'compilar': 8903, 'atem': 8904, 'exito': 8905, 'botando': 8906, 'privadas': 8907, 'suaves': 8908, 'gostava': 8909, 'habitual': 8910, 'construídos': 8911, 'revelaram': 8912, 'átila': 8913, 'nerdologia': 8914, 'aprofundado': 8915, 'posta': 8916, 'propõem': 8917, 'enventual': 8918, 'diferem': 8919, 'nocivos': 8920, 'sofremos': 8921, 'concretos': 8922, 'facilitam': 8923, 'mencionaram': 8924, 'oliver': 8925, 'sacks': 8926, 'pretenda': 8927, 'fumar': 8928, 'emagrecer': 8929, 'pensaríamos': 8930, 'induzir': 8931, 'charles': 8932, 'duhigg': 8933, 'comer': 8934, 'sobremesa': 8935, 'refeição': 8936, 'executando': 8937, 'constituída': 8938, 'executamos': 8939, 'recorde': 8940, 'embrulhado': 8941, 'amarelinhas': 8942, 'gerenciais': 8943, 'escolhendo': 8944, 'levem': 8945, 'embasou': 8946, 'indiquei': 8947, 'direcionamento': 8948, 'comprovam': 8949, 'levantadas': 8950, 'aproveitamento': 8951, 'repetidamente': 8952, 'entendermos': 8953, 'angular': 8954, '“os': 8955, 'indivíduos”': 8956, 'embasam': 8957, 'naty': 8958, 'terminá': 8959, 'hein': 8960, 'temidos': 8961, 'autógrafo': 8962, 'salario': 8963, 'nathy': 8964, 'transmite': 8965, 'negociei': 8966, 'divida': 8967, '087': 8968, '089': 8969, '63': 8970, 'antecipar': 8971, 'parcelas': 8972, 'endividada': 8973, 'quite': 8974, 'dividas': 8975, 'invista': 8976, 'enjoado': 8977, 'organizando': 8978, 'importantíssima': 8979, 'podendo': 8980, 'espinhoso': 8981, 'indicada': 8982, 'praticas': 8983, 'imprudente': 8984, 'cálculos': 8985, 'alcançarmos': 8986, 'engajar': 8987, 'autocontrole': 8988, 'pagava': 8989, 'esquivava': 8990, 'gastou': 8991, 'desperdiçar': 8992, 'proceder': 8993, 'identifiquemos': 8994, 'cativada': 8995, 'valorosas': 8996, 'aprofundados': 8997, 'impedi': 8998, 'prividência': 8999, 'selic': 9000, 'cdb': 9001, 'cdi': 9002, 'lca': 9003, 'lci': 9004, 'gratidão': 9005, 'compilado': 9006, 'experimentadas': 9007, 'cômico': 9008, 'pillar': 9009, 'implementei': 9010, 'revolucionar': 9011, 'tranquilo': 9012, 'mudará': 9013, 'traçado': 9014, 'tirei': 9015, 'carteira': 9016, 'livrei': 9017, 'carimbei': 9018, 'dinheiros': 9019, 'tornarem': 9020, 'estreia': 9021, 'importamos': 9022, 'botão': 9023, 'depiis': 9024, 'nathi': 9025, 'desfuder': 9026, 'reune': 9027, 'limpar': 9028, 'asneiras': 9029, 'economicas': 9030, 'basico': 9031, 'relacionados': 9032, 'alcançando': 9033, 'desf': 9034, 'unf': 9035, 'thenation': 9036, 'seguia': 9037, 'tracei': 9038, 'harmonizada': 9039, 'desconstraída': 9040, 'distanciarem': 9041, 'sustentável': 9042, 'redirecionamento': 9043, 'garantirmos': 9044, 'pontapé': 9045, 'tabelas': 9046, 'descomplicado': 9047, 'quebram': 9048, 'pararei': 9049, 'supreso': 9050, '1937': 9051, 'refletem': 9052, 'afetadas': 9053, 'saltavam': 9054, 'desordenada': 9055, 'saltava': 9056, 'pag': 9057, 'ofuscasse': 9058, 'espanta': 9059, 'convívio': 9060, 'liderança': 9061, 'apelar': 9062, 'tímidas': 9063, 'circulo': 9064, 'timido': 9065, 'mmn': 9066, 'aumentou': 9067, 'aventurando': 9068, 'aproveitem': 9069, 'gritantes': 9070, 'refletimos': 9071, 'despeito': 9072, 'requisitos': 9073, 'indiscutível': 9074, 'cabaçeira': 9075, 'seguissem': 9076, 'preceitos': 9077, 'empática': 9078, 'estruturada': 9079, 'autoajudas': 9080, 'genéricas': 9081, 'surpreso': 9082, 'revisita': 9083, 'tratarmos': 9084, 'receberemos': 9085, 'aina': 9086, 'vínculos': 9087, 'pensarem': 9088, 'trabalharmos': 9089, 'melhoria': 9090, 'tange': 9091, 'relaciono': 9092, 'salvou': 9093, 'fornecer': 9094, 'funcionaram': 9095, 'funcionarão': 9096, 'garantido': 9097, 'beneficiar': 9098, 'obtê': 9099, 'cumprir': 9100, 'capito': 9101, 'aprendido': 9102, 'cometemos': 9103, 'neve': 9104, 'buffet': 9105, 'bilionário': 9106, 'receoso': 9107, 'acompanhadas': 9108, 'pregou': 9109, 'exmpelos': 9110, 'tornarmos': 9111, 'eficientes': 9112, 'empresários': 9113, 'trarão': 9114, 'prestador': 9115, 'aprendo': 9116, 'viram': 9117, 'sustentarão': 9118, 'preocupações': 9119, 'desconfiada': 9120, 'engajamento': 9121, 'traduzem': 9122, 'testemunhamos': 9123, 'networking': 9124, 'engrandecer': 9125, 'use': 9126, 'fazedor': 9127, 'conseguirem': 9128, 'inter': 9129, 'conseguíamos': 9130, 'encantam': 9131, 'extremas': 9132, 'expondo': 9133, 'percepções': 9134, 'inevitavelmente': 9135, 'confundia': 9136, 'escrevi': 9137, 'reconhecimento': 9138, 'regeneração': 9139, 'renovação': 9140, 'nivevitáveis': 9141, 'ensinam': 9142, 'metamorfoses': 9143, 'entrelinha': 9144, 'rápidos': 9145, 'tocantes': 9146, 'possibilitam': 9147, 'percorrer': 9148, 'cicatrizes': 9149, 'acreditarmos': 9150, 'valorizarmos': 9151, 'meloso': 9152, 'amargo': 9153, 'milk': 9154, 'honey': 9155, 'manteve': 9156, 'filosófico': 9157, 'amadurecido': 9158, '1866': 9159, 'multívoca': 9160, 'intermitente': 9161, 'guiam': 9162, 'florescem': 9163, 'intensidade': 9164, 'inovadora': 9165, 'interpreta': 9166, 'ditam': 9167, 'discutidas': 9168, 'examplificadas': 9169, 'traria': 9170, 'pedida': 9171, 'divisor': 9172, 'tirada': 9173, 'facilitando': 9174, 'marcação': 9175, 'sairá': 9176, 'destaco': 9177, 'árduos': 9178, 'obtido': 9179, 'redações': 9180, 'imergir': 9181, 'apanhei': 9182, 'compreendi': 9183, 'deslumbrar': 9184, 'grandiozidade': 9185, 'dostóievski': 9186, 'materna': 9187, 'sobressaltos': 9188, 'exagera': 9189, 'revelações': 9190, 'diminutivos': 9191, 'liderados': 9192, 'materno': 9193, 'saudosa': 9194, 'mestres': 9195, 'enfastiante': 9196, 'conciliá': 9197, 'afazeres': 9198, 'preferível': 9199, 'degustá': 9200, 'concebida': 9201, 'célebre': 9202, 'conturbadas': 9203, 'perdas': 9204, 'larga': 9205, 'trajes': 9206, 'esfarrapados': 9207, 'petersburgo': 9208, 'ociosidade': 9209, 'somada': 9210, 'fatores': 9211, 'insana': 9212, 'integra': 9213, 'extraordinárias': 9214, 'napoleão': 9215, 'bonaparte': 9216, 'permitido': 9217, 'barbáries': 9218, 'arquitetando': 9219, 'maquiavélico': 9220, 'executar': 9221, 'simpatizou': 9222, 'roubar': 9223, 'pertences': 9224, 'desequilíbrio': 9225, 'razumíkhin': 9226, 'preocupados': 9227, 'psicopata': 9228, 'auspicioso': 9229, 'reforçado': 9230, '“sei': 9231, 'tevê': 9232, 'esmagadora': 9233, 'novelas': 9234, 'cadeia': 9235, 'impressione': 9236, 'sugeriria': 9237, 'comprasse': 9238, 'tende': 9239, 'interiores': 9240, 'juiz': 9241, 'jurídico': 9242, 'falso': 9243, '‘certo': 9244, 'fixa': 9245, 'duplo': 9246, 'assassinato': 9247, 'cometido': 9248, 'assassínio': 9249, 'estudantes': 9250, 'juízes': 9251, 'policiais': 9252, 'prostitutas': 9253, 'safar': 9254, 'punição': 9255, 'condenado': 9256, 'captar': 9257, 'totalidade': 9258, 'conquistado': 9259, 'acertei': 9260, 'transmissão': 9261, 'inerentes': 9262, 'evidenciam': 9263, 'caracterizante': 9264, 'russia': 9265, 'legou': 9266, 'preciosas': 9267, 'partilhando': 9268, 'culminante': 9269, 'desfazendo': 9270, 'karamazov': 9271, 'raskolnikov': 9272, 'transparecer': 9273, 'comentados': 9274, 'debate': 9275, 'tribunal': 9276, 'homicídio': 9277, 'equívoco': 9278, 'investigativo': 9279, 'impelidos': 9280, 'advogado': 9281, 'imbatível': 9282, 'chamativa': 9283, 'enfrentamento': 9284, 'conduzir': 9285, 'angustia': 9286, 'redime': 9287, 'ultrapassam': 9288, 'examinar': 9289, 'psicológicos': 9290, 'cordas': 9291, 'seguram': 9292, 'engraçadíssimas': 9293, 'emocionantes': 9294, 'cuidadosas': 9295, 'honestas': 9296, 'confirmada': 9297, 'cumprida': 9298, 'jaça': 9299, 'comprará': 9300, 'delonga': 9301, 'desnecessariamente': 9302, 'niilismo': 9303, 'expressam': 9304, 'plastificado': 9305, 'escancarada': 9306, 'caçula': 9307, 'paulistana': 9308, 'rebelde': 9309, 'experimentadora': 9310, 'causações': 9311, 'originou': 9312, 'bipolaridade': 9313, 'neta': 9314, 'joia': 9315, 'spotify': 9316, 'deezer': 9317, 'discografia': 9318, 'hilárias': 9319, 'cantarem': 9320, 'mutas': 9321, 'riam': 9322, 'debochavam': 9323, 'caretice': 9324, 'participantes': 9325, 'comovente': 9326, 'palpiteiro': 9327, 'esquecida': 9328, 'abelhudo': 9329, 'tratada': 9330, 'significativo': 9331, 'recordes': 9332, 'transcendeu': 9333, 'ilustres': 9334, 'elevou': 9335, 'patamar': 9336, 'surgidas': 9337, 'privilegia': 9338, \"'pingos\": 9339, \"is'\": 9340, 'realoca': 9341, 'pertenceu': 9342, 'olimpo': 9343, 'majestade': 9344, 'long': 9345, 'live': 9346, 'lovely': 9347, '1974': 9348, 'publicava': 9349, 'imprensa': 9350, 'pre': 9351, 'topei': 9352, '48': 9353, 'minutinho': 9354, 'degustar': 9355, 'fans': 9356, 'desejarem': 9357, 'expoente': 9358, 'musica': 9359, 'contemporâneos': 9360, '296': 9361, 'pacata': 9362, 'captura': 9363, 'crônica': 9364, 'soltar': 9365, 'sucessivas': 9366, 'desafetos': 9367, 'drops': 9368, 'anis': 9369, 'ovelha': 9370, 'auê': 9371, 'percurso': 9372, 'militarismo': 9373, 'abertura': 9374, 'elis': 9375, 'regina': 9376, 'veloso': 9377, 'tim': 9378, 'maia': 9379, 'desafeto': 9380, 'ezequiel': 9381, 'neves': 9382, 'hebe': 9383, 'carmargo': 9384, 'condescendência': 9385, 'terapêutico': 9386, 'ocorridos': 9387, 'guilherme': 9388, 'samora': 9389, 'esclarecendo': 9390, 'afetivas': 9391, 'desvalorizar': 9392, 'bial': 9393, '03': 9394, 'plataforma': 9395, 'play': 9396, 'eurbanidade': 9397, 'informativa': 9398, 'sagaz': 9399, 'dramas': 9400, 'gravidade': 9401, 'naturalidade': 9402, 'convidando': 9403, 'sensacionailismo': 9404, 'vitimização': 9405, 'dicotomias': 9406, 'prezam': 9407, 'rcck': 9408, 'luxuoso': 9409, 'detalha': 9410, 'roqueira': 9411, 'flor': 9412, 'rasgando': 9413, 'seda': 9414, 'inoxidável': 9415, 'deusa': 9416, 'feiticeira': 9417, 'divertidíssima': 9418, 'explicadinho': 9419, 'diminui': 9420, 'demorasse': 9421, 'doidas': 9422, 'narradas': 9423, 'fofa': 9424, 'permiti': 9425, 'íamos': 9426, 'jardim': 9427, 'comíamos': 9428, 'fatia': 9429, 'fubá': 9430, 'leite': 9431, 'ritinha': 9432, 'elevam': 9433, 'ritz': 9434, 'acervo': 9435, 'corajosa': 9436, 'papas': 9437, 'informaçōes': 9438, 'hay': 9439, 'tener': 9440, 'cojones': 9441, 'sórdidos': 9442, 'pròpria': 9443, 'confissōes': 9444, 'surpreendem': 9445, 'plus': 9446, 'esconda': 9447, 'gabe': 9448, 'hilária': 9449, 'procede': 9450, 'subjetivo': 9451, 'precisão': 9452, 'factual': 9453, 'deliciosas': 9454, 'rocks': 9455, 'precariedades': 9456, 'compensadas': 9457, 'acumulados': 9458, 'guardou': 9459, 'álbum': 9460, 'figurinhas': 9461, 'peter': 9462, 'pan': 9463, 'inserções': 9464, 'ghost': 9465, 'writer': 9466, 'assistente': 9467, 'encadeamento': 9468, 'nasci': 9469, 'operário': 9470, 'cambuci': 9471, 'cresci': 9472, 'ipiranga': 9473, 'esquecido': 9474, 'escaparam': 9475, 'disciplinada': 9476, 'coleta': 9477, 'despreendida': 9478, 'rolling': 9479, 'stones': 9480, 'brock': 9481, \"80's\": 9482, 'peculiar': 9483, 'autobiografias': 9484, 'seletiva': 9485, 'sujeito': 9486, 'alegrias': 9487, 'recomeços': 9488, 'contou': 9489, 'midiático': 9490, 'suporta': 9491, 'verve': 9492, 'humorística': 9493, 'praga': 9494, 'kkkkk': 9495, 'bomnpoder': 9496, 'hitórias': 9497, 'acordes': 9498, 'chapa': 9499, 'aposentadoria': 9500, 'tutti': 9501, 'frutti': 9502, 'raaa': 9503, 'astros': 9504, 'pitoresca': 9505, 'vigorosa': 9506, 'mpb': 9507, 'aquisições': 9508, 'suficientemente': 9509, 'ludovico': 9510, 'duque': 9511, 'mouro': 9512, 'agregados': 9513, 'brunelleschi': 9514, 'michelângelo': 9515, 'rafael': 9516, 'botticelli': 9517, 'fortíssimo': 9518, 'arcabouço': 9519, 'paixões': 9520, 'exageros': 9521, 'evidenciada': 9522, 'insaciável': 9523, 'obsessiva': 9524, 'talentos': 9525, 'músico': 9526, 'espetáculos': 9527, 'vegetariano': 9528, 'ambientalista': 9529, 'perfeccionista': 9530, 'procrastinador': 9531, 'desorganizado': 9532, 'metódico': 9533, 'exploradas': 9534, 'corretor': 9535, 'traiçoeiro': 9536, '55': 9537, 'séquito': 9538, 'cocha': 9539, 'salto': 9540, 'blusão': 9541, 'rosa': 9542, 'cross': 9543, 'dresser': 9544, 'chamaria': 9545, 'perguntasse': 9546, 'transeunte': 9547, 'disputado': 9548, 'nobreza': 9549, 'adquiriu': 9550, 'entediado': 9551, 'readquirirmos': 9552, 'permitiu': 9553, 'dispositivos': 9554, 'deliciar': 9555, 'notebook': 9556, 'prints': 9557, 'biógrafos': 9558, 'polímata': 9559, 'incessante': 9560, 'aceitava': 9561, 'percebia': 9562, 'realizou': 9563, 'mínimos': 9564, 'importancia': 9565, 'contagiar': 9566, 'genio': 9567, 'roma': 9568, 'fartamente': 9569, 'dificultada': 9570, 'facilitada': 9571, 'apple': 9572, 'einstein': 9573, 'benjamin': 9574, 'franklin': 9575, 'falamos': 9576, 'narrando': 9577, 'êxito': 9578, 'incorporado': 9579, 'monalisa': 9580, 'excepcionais': 9581, 'rígida': 9582, 'intimidar': 9583, '640': 9584, 'totais': 9585, '450': 9586, 'desfaz': 9587, 'revelado': 9588, 'inventos': 9589, 'existiriam': 9590, 'michelangelo': 9591, 'rival': 9592, 'ensaios': 9593, 'estéticos': 9594, 'demonstram': 9595, 'constatamos': 9596, 'muto': 9597, 'obsessivo': 9598, 'isento': 9599, 'inseguro': 9600, 'recorrer': 9601, 'mecenas': 9602, 'financiar': 9603, 'ambiciosas': 9604, 'impossíveis': 9605, 'cartonada': 9606, 'intersecção': 9607, 'recluso': 9608, 'inacabadas': 9609, 'avanços': 9610, 'disseminados': 9611, 'achá': 9612, 'observe': 9613, 'impulsionou': 9614, 'aclamada': 9615, 'dividem': 9616, 'enquadrado': 9617, 'estivéssemos': 9618, 'acasos': 9619, 'eis': 9620, 'merecer': 9621, 'envereda': 9622, 'almejados': 9623, 'epidemia': 9624, 'inexcedível': 9625, 'avidez': 9626, 'díspares': 9627, 'matemática': 9628, 'hidráulica': 9629, 'vestia': 9630, 'atenções': 9631, 'impedia': 9632, 'aturando': 9633, 'odor': 9634, 'cadáveres': 9635, 'dissecava': 9636, 'criteriosamente': 9637, 'músculos': 9638, 'lábios': 9639, 'perfeccionismo': 9640, 'exacerbado': 9641, 'legar': 9642, 'contratado': 9643, 'obsessão': 9644, 'imperceptíveis': 9645, 'acepção': 9646, 'grossas': 9647, 'nato': 9648, 'intocável': 9649, 'divide': 9650, 'compete': 9651, 'peças': 9652, 'arregaçar': 9653, 'mangas': 9654, 'reaprender': 9655, 'passava': 9656, 'adiciona': 9657, 'lançamentos': 9658, '2016': 9659, 'variada': 9660, 'cap': 9661, 'tornasse': 9662, 'maravilhar': 9663, 'multidisciplinar': 9664, 'amadureci': 9665, 'guardarei': 9666, 'esmiuça': 9667, '“viaja”': 9668, 'ilustradas': 9669, 'incursões': 9670, 'podiam': 9671, 'iconográfico': 9672, 'localizando': 9673, 'iniciativas': 9674, 'reunindo': 9675, 'vastos': 9676, 'remanescentes': 9677, 'apreciadas': 9678, 'persistência': 9679, 'inabalável': 9680, 'botânico': 9681, 'anatomista': 9682, 'presenteados': 9683, 'analisemos': 9684, 'oposta': 9685, 'habitaram': 9686, 'bizarramente': 9687, 'transpassar': 9688, 'nelas': 9689, 'didata': 9690, 'obcecado': 9691, 'afastam': 9692, 'estampado': 9693, 'eufemismos': 9694, 'viajamos': 9695, 'compreendermos': 9696, 'saliento': 9697, 'excessos': 9698, 'verossímil': 9699, 'cerceada': 9700, 'antagônico': 9701, 'devoradores': 9702, 'confiram': 9703, 'assistimos': 9704, 'ouvimos': 9705, 'rodas': 9706, 'teocráticos': 9707, 'coibidas': 9708, 'suprimida': 9709, 'vestir': 9710, 'desenvolvesse': 9711, 'ocidente': 9712, 'vizinho': 9713, 'devagar': 9714, 'sutilmente': 9715, 'literal': 9716, 'judaico': 9717, 'acomodação': 9718, 'fictícia': 9719, 'amedrontador': 9720, 'meados': 9721, 'oitenta': 9722, 'catástrofe': 9723, 'climática': 9724, 'tomo': 9725, 'fundada': 9726, 'testamento': 9727, 'guardiões': 9728, 'instrutoras': 9729, 'acentuada': 9730, 'dissidentes': 9731, 'imorais': 9732, 'retrate': 9733, 'opressivo': 9734, 'atwwood': 9735, 'adélia': 9736, 'prado': 9737, 'paráfrase': 9738, 'trapistas': 9739, 'viviam': 9740, 'trapista': 9741, 'tibirine': 9742, 'argélia': 9743, 'optaram': 9744, 'citada': 9745, 'pascal': 9746, 'convicção': 9747, 'detêm': 9748, 'observado': 9749, 'discutem': 9750, 'continuada': 9751, 'livraço': 9752, 'elegantíssima': 9753, 'modificações': 9754, 'autorizadas': 9755, '“vulgo': 9756, 'grace”': 9757, 'deter': 9758, 'comove': 9759, 'aterroriza': 9760, 'nevrálgico': 9761, 'distópicas': 9762, 'ambientações': 9763, 'dificilmente': 9764, 'reconhecível': 9765, 'omitida': 9766, 'apavora': 9767, '“república”': 9768, 'globalização': 9769, 'retrocesso': 9770, 'tendendo': 9771, 'protecionismo': 9772, 'abraçando': 9773, 'mgm': 9774, 'extrapola': 9775, 'elisabeth': 9776, 'moss': 9777, 'aberrações': 9778, 'náuseas': 9779, 'desencadeamentos': 9780, 'lógicos': 9781, 'aura': 9782, 'sinistra': 9783, 'protestante': 9784, 'alicerces': 9785, 'nocivo': 9786, 'assumirem': 9787, 'destaques': 9788, 'configura': 9789, 'mantêm': 9790, 'naturais': 9791, 'censuras': 9792, 'horripilantes': 9793, 'diversamente': 9794, 'escancaradas': 9795, 'desejadas': 9796, 'oprimidas': 9797, 'embala': 9798, 'ordenadas': 9799, 'respondida': 9800, 'subitamente': 9801, 'femininos': 9802, 'estereótipos': 9803, 'sujeição': 9804, 'pertencente': 9805, 'satisfaz': 9806, 'anulados': 9807, 'uniformizar': 9808, 'impõe': 9809, 'idosos': 9810, 'ressignificadas': 9811, 'enquadrada': 9812, 'respectivas': 9813, 'martas': 9814, 'realizam': 9815, 'domésticos': 9816, 'pesadelo': 9817, 'fred': 9818, 'surgem': 9819, 'arriscarem': 9820, 'maiúsculas': 9821, 'usá': 9822, 'mano': 9823, 'sutileza': 9824, 'indigesto': 9825, 'proximidade': 9826, 'garantir': 9827, 'girl': 9828, 'power': 9829, 'migs': 9830, 'poderosa': 9831, 'encaixa': 9832, 'subjugada': 9833, 'ressurreição': 9834, 'concretizar': 9835, \"aia'\": 9836, 'jornais': 9837, 'extintas': 9838, 'criminosos': 9839, 'fuzilados': 9840, 'pendurados': 9841, 'praça': 9842, 'apodrecem': 9843, 'teocrático': 9844, 'preferenciais': 9845, 'anuladas': 9846, 'precedentes': 9847, 'divididas': 9848, 'categorias': 9849, 'marthas': 9850, 'coube': 9851, 'pertencer': 9852, 'chamava': 9853, 'declarou': 9854, 'adúlteros': 9855, 'segundos': 9856, 'casamentos': 9857, 'uniões': 9858, 'doada': 9859, 'adoção': 9860, 'tornada': 9861, 'civis': 9862, 'prêmios': 9863, 'presenciar': 9864, 'contribuem': 9865, 'redobrada': 9866, 'caída': 9867, 'queixo': 9868, 'existencialista': 9869, 'lembrou': 9870, 'beauvoir': 9871, '☝🏼': 9872, 'sofrem': 9873, 'dupla': 9874, 'primordialmente': 9875, 'reações': 9876, 'nucleares': 9877, 'tornado': 9878, 'mentores': 9879, 'levada': 9880, 'carne': 9881, 'despido': 9882, 'conservadores': 9883, 'denunciar': 9884, 'patriarcado': 9885, 'aproveitou': 9886, 'aproveitará': 9887, 'legislativo': 9888, 'judiciário': 9889, 'sexualidade': 9890, 'incorporem': 9891, 'livrices': 9892, 'entramos': 9893, 'oprimir': 9894, 'genteeee': 9895, '😱': 9896, 'conheçam': 9897, 'inspirou': 9898, 'emmy': 9899, 'influentes': 9900, 'tradicionalismo': 9901, 'bíblico': 9902, 'seguido': 9903, 'risca': 9904, 'errônea': 9905, 'férteis': 9906, 'obrigadas': 9907, 'feminismo': 9908, 'gêneros': 9909, 'ficaríamos': 9910, 'instauração': 9911, 'exceções': 9912, 'gradativamente': 9913, 'nichos': 9914, 'percer': 9915, 'autoritárias': 9916, 'nega': 9917, 'totalitarismo': 9918, 'ideologismo': 9919, 'conformismo': 9920, 'ácidas': 9921, 'analisar': 9922, 'contextualizar': 9923, 'handmands': 9924, 'tale': 9925, 'desfruta': 9926, 'oferecida': 9927, 'brutalmente': 9928, 'ofred': 9929, 'obscuros': 9930, 'estamo': 9931, 'visualizando': 9932, 'atualíssima': 9933, 'pretendido': 9934, 'paralelos': 9935, 'inevitáveis': 9936, 'similitudes': 9937, 'didáticas': 9938, 'atmosfera': 9939, 'cerceamento': 9940, 'distópicos': 9941, 'alarmante': 9942, 'dificil': 9943, 'fantantico': 9944, 'ninguem': 9945, 'pu': 9946, 'crias': 9947, 'embrulhar': 9948, 'aliadas': 9949, 'direções': 9950, 'conservadora': 9951, 'leis': 9952, 'decretado': 9953, 'marcial': 9954, 'brusca': 9955, 'domina': 9956, 'afetas': 9957, 'afeta': 9958, 'pontual': 9959, 'pódium': 9960, 'pego': 9961, 'rememorando': 9962, 'vargas': 9963, 'llosa': 9964, 'desenvolvida': 9965, 'memorias': 9966, 'pierre': 9967, 'bordieu': 9968, 'muuitooo': 9969, 'handmaids': 9970, 'fale': 9971, 'buracos': 9972, 'basead': 9973, 'tendenciosa': 9974, 'sci': 9975, 'fi': 9976, '23°': 9977, 'plástica': 9978, 'alegorias': 9979, '85': 9980, 'interpessoais': 9981, 'indefinidamente': 9982, 'carregue': 9983, 'assitiu': 9984, 'semelhanca': 9985, '1985': 9986, 'emergindo': 9987, 'totalitária': 9988, 'utilizam': 9989, 'agenda': 9990, 'superiores': 9991, 'teriam': 9992, 'tardiamente': 9993, 'carentes': 9994, 'puderem': 9995, 'celebrações': 9996, 'relativas': 9997, 'otimamente': 9998, 'reproduzidos': 9999, 'atravessam': 10000, 'atravessarão': 10001, 'ganância': 10002, 'cativado': 10003, 'saltarão': 10004, 'reflita': 10005, 'desfrute': 10006, 'leveza': 10007, 'questiono': 10008, 'fábula': 10009, 'cisco': 10010, 'caído': 10011, 'queridos': 10012, 'despretensiosamente': 10013, 'ilustrando': 10014, 'singeleza': 10015, 'criativamente': 10016, 'açucaram': 10017, 'preocupou': 10018, 'hehehe': 10019, 'tocará': 10020, 'reconhecemos': 10021, 'valerá': 10022, 'valorizado': 10023, 'ponta': 10024, 'inutilidades': 10025, 'repense': 10026, 'volte': 10027, 'consiguir': 10028, 'compreendidas': 10029, 'abrirão': 10030, 'lembrem': 10031, 'metamorfose': 10032, 'recordava': 10033, 'resgatá': 10034, 'façanha': 10035, 'vaidade': 10036, 'materialismo': 10037, 'voltarmos': 10038, 'antoine': 10039, 'plantou': 10040, 'pequenininhas': 10041, 'ensinador': 10042, 'paramos': 10043, 'tocar': 10044, 'sentimentalismo': 10045, 'simplificado': 10046, 'capta': 10047, 'adulta': 10048, 'sábias': 10049, 'gentil': 10050, 'humildade': 10051, 'sentimental': 10052, 'miniaturas': 10053, 'ortográfico': 10054, 'infancia': 10055, 'tocado': 10056, 'eternecedora': 10057, 'hj': 10058, 'simbiontico': 10059, 'cativados': 10060, 'certmente': 10061, 'maravilhos': 10062, 'reflexivo': 10063, '1943': 10064, 'resgatar': 10065, 'eterno': 10066, 'compacta': 10067, 'msmo': 10068, 'retomar': 10069, 'tranqüila': 10070, 'pesar': 10071, 'terrivelmente': 10072, 'gostarem': 10073, 'exergar': 10074, 'pureza': 10075, 'desaprendemos': 10076, 'estimado': 10077, 'textura': 10078, 'emborrachada': 10079, 'comprava': 10080, 'azul': 10081, 'hogwarts': 10082, 'incluir': 10083, 'acrescento': 10084, 'atraente': 10085, 'aff': 10086, 'notificação': 10087, 'solicitava': 10088, 'direcionava': 10089, 'adivinhar': 10090, 'adicionei': 10091, 'endereços': 10092, 'vetusto': 10093, 'sofista': 10094, 'surto': 10095, 'sufoca': 10096, 'incongruência': 10097, 'pretendem': 10098, 'vagas': 10099, 'freyre': 10100, 'boris': 10101, 'fausto': 10102, 'lilia': 10103, 'moritz': 10104, 'schwarcz': 10105, 'cascudo': 10106, 'tremendas': 10107, 'notoriamente': 10108, 'espantosos': 10109, 'primárias': 10110, 'preguiçosos': 10111, 'difamações': 10112, 'on': 10113, 'line': 10114, 'desencoraja': 10115, 'progressistas': 10116, 'contradizem': 10117, 'imanentistas': 10118, 'gerando': 10119, 'requentado': 10120, 'macartismo': 10121, 'bosta': 10122, 'leem': 10123, 'iludem': 10124, 'vã': 10125, 'robustecer': 10126, 'fraude': 10127, 'reconhecidamente': 10128, 'embusteiro': 10129, 'reiterada': 10130, 'desmascarado': 10131, 'chavões': 10132, 'parachoques': 10133, 'caminhões': 10134, 'xingar': 10135, 'adora': 10136, 'jane': 10137, 'austen': 10138, 'experimentar': 10139, 'svetlana': 10140, 'aleksiévitch': 10141, 'idiotice': 10142, 'filósoso': 10143, 'bandido': 10144, 'iludidos': 10145, 'frequentar': 10146, 'iludir': 10147, 'acredta': 10148, 'metiras': 10149, 'facricas': 10150, 'senil': 10151, 'cursou': 10152, 'minimo': 10153, 'delírios': 10154, 'paranoicos': 10155, 'risada': 10156, 'banheiro': 10157, 'birra': 10158, 'copos': 10159, 'estarei': 10160, 'budistas': 10161, 'mastiga': 10162, 'correlacionando': 10163, 'regrado': 10164, 'convencimento': 10165, 'sofisma': 10166, 'distribuído': 10167, 'indiretas': 10168, 'aprendem': 10169, 'fracassos': 10170, 'adquirida': 10171, 'encaixando': 10172, 'sugerindo': 10173, 'fracassar': 10174, 'temer': 10175, 'subdesenvolvida': 10176, 'produtivas': 10177, 'enxugando': 10178, 'distrações': 10179, 'estadounidense': 10180, 'extraído': 10181, 'foda': 10182, 'decepcionaram': 10183, 'ola': 10184, 'cerca': 10185, '190': 10186, 'prosaico': 10187, 'prosaica': 10188, 'markenting': 10189, 'pueril': 10190, 'enxertos': 10191, 'tática': 10192, 'rechear': 10193, 'profusão': 10194, 'amparo': 10195, 'avaliado': 10196, 'fo': 10197, 'outrossim': 10198, '194': 10199, '195': 10200, '198': 10201, '199': 10202, '202': 10203, '203': 10204, '206': 10205, '207': 10206, '210': 10207, '211': 10208, '214': 10209, '215': 10210, '218': 10211, '219': 10212, '221': 10213, 'intrinseca': 10214, 'qd': 10215, 'cortando': 10216, 'amassar': 10217, 'baixíssima': 10218, 'agradar': 10219, 'corretamento': 10220, 'escanearam': 10221, 'coxas': 10222, 'castigaram': 10223, 'polêmica': 10224, 'nitidamente': 10225, 'formatada': 10226, 'comparem': 10227, 'chorem': 10228, 'deviam': 10229, 'envergonhar': 10230, 'portugues': 10231, 'traducao': 10232, 'centaur': 10233, 'arcaicas': 10234, \"'couchette'\": 10235, \"'brilhante'\": 10236, 'blah': 10237, 'corresponde': 10238, 'referido': 10239, 'constava': 10240, 'dimensões': 10241, 'devolvido': 10242, 'pestanejar': 10243, 'zelo': 10244, 'pesaram': 10245, 'dizia': 10246, 'antemão': 10247, 'julguei': 10248, 'pasmem': 10249, 'calvino': 10250, 'incluída': 10251, 'pule': 10252, 'equívocos': 10253, 'grafia': 10254, 'completude': 10255, 'aproveitaram': 10256, 'atentar': 10257, 'livreiro': 10258, 'observou': 10259, 'qe': 10260, '04': 10261, 'amazom': 10262, 'localizou': 10263, 'horários': 10264, 'alegados': 10265, 'reembolsar': 10266, 'farsa': 10267, 'falsificadores': 10268, 'confessadamente': 10269, 'admitiram': 10270, 'famigerado': 10271, 'alterada': 10272, 'deturpada': 10273, 'manipulada': 10274, 'prefeitos': 10275, 'vereadores': 10276, 'deputados': 10277, 'estaduais': 10278, 'federais': 10279, 'partirem': 10280, 'cabível': 10281, 'infâmia': 10282, 'retirar': 10283, 'infinidade': 10284, 'praças': 10285, 'largos': 10286, 'teatros': 10287, 'colégios': 10288, 'catedrático': 10289, 'lyon': 10290, 'dissecou': 10291, 'desmascarou': 10292, 'impiedosamente': 10293, 'frieza': 10294, 'investigativa': 10295, 'autêntico': 10296, 'provou': 10297, 'infindáveis': 10298, 'diários': 10299, 'desnudar': 10300, 'fabulosamente': 10301, 'rendoso': 10302, 'falsificação': 10303, 'tifo': 10304, 'hospitalizado': 10305, 'auschwitz': 10306, 'sobreviveu': 10307, 'somas': 10308, 'demandas': 10309, 'tio': 10310, 'filão': 10311, 'interminável': 10312, 'looooongas': 10313, 'exposições': 10314, 'marra': 10315, 'tentada': 10316, 'bases': 10317, 'isis': 10318, 'solucionáveis': 10319, 'medicamentos': 10320, 'biociências': 10321, 'consultórios': 10322, 'terapeutas': 10323, 'mote': 10324, 'acabaria': 10325, 'terminam': 10326, 'sobrepor': 10327, 'concretizarão': 10328, 'idealização': 10329, 'commodity': 10330, 'memories': 10331, 'eliminará': 10332, 'quadros': 10333, 'clínicos': 10334, 'indesejáveis': 10335, 'meramente': 10336, 'continuamente': 10337, 'temático': 10338, 'cognitivo': 10339, 'seremos': 10340, 'cognitivos': 10341, 'sonâmbulos': 10342, 'caminham': 10343, 'extinção': 10344, 'neandertais': 10345, 'extinta': 10346, 'chorariam': 10347, 'traí': 10348, 'dominação': 10349, 'brutal': 10350, 'persegue': 10351, 'puxando': 10352, 'braço': 10353, 'consentimento': 10354, 'segurando': 10355, 'opçao': 10356, 'cedendo': 10357, 'manipula': 10358, 'virgindade': 10359, 'calor': 10360, 'sertão': 10361, 'bruto': 10362, 'estupros': 10363, 'romantizados': 10364, 'interessada': 10365, 'recusei': 10366, 'interpreto': 10367, 'aturar': 10368, 'irma': 10369, 'desprezam': 10370, 'mimado': 10371, 'mahteus': 10372, 'representação': 10373, 'repugnante': 10374, 'apontada': 10375, 'chocada': 10376, 'degradante': 10377, 'pudica': 10378, 'desserviços': 10379, 'pílula': 10380, 'universitária': 10381, 'desrespeitosa': 10382, 'estrupo': 10383, 'matheus': 10384, 'chicotinho': 10385, 'concentimento': 10386, 'solicitou': 10387, 'repugnantes': 10388, 'vomitar': 10389, 'narrados': 10390, 'destrutivo': 10391, 'decepcionantes': 10392, 'elegançia': 10393, 'choradeira': 10394, 'indecisão': 10395, 'suportar': 10396, 'fobia': 10397, 'rsrsr': 10398, 'concerto': 10399, 'detonada': 10400, 'puxar': 10401, 'rasgaram': 10402, 'extremidades': 10403, 'machucada': 10404, 'adesivo': 10405, 'incharam': 10406, 'chateado': 10407, 'incentive': 10408, 'auxiliaram': 10409, 'redirecionam': 10410, 'mantive': 10411, 'localizado': 10412, 'pedem': 10413, 'carolbran31': 10414, 'gmail': 10415, 'extraviado': 10416, '353': 10417, '384': 10418, 'atentei': 10419, 'entregá': 10420, 'atualizou': 10421, 'omitir': 10422, 'concretizaram': 10423, 'voltarei': 10424, 'saquinhos': 10425, '2outros': 10426, 'livrinhos': 10427, 'danificou': 10428, 'vinham': 10429, 'empoeirados': 10430, 'oferecem': 10431, 'cala': 10432, 'coleciona': 10433, 'detales': 10434, 'cartao': 10435, 'proximo': 10436, 'desagradavel': 10437, 'lançaram': 10438, 'inves': 10439, 'parcela': 10440, 'uktima': 10441, 'venderam': 10442, 'aceitável': 10443, '228': 10444, '25': 10445, 'aguardode': 10446, 'ajuste': 10447, 'prendesse': 10448, 'nonsense': 10449, 'abertamente': 10450, 'sustentou': 10451, 'analisando': 10452, 'vomitando': 10453, 'saiam': 10454, 'aventureiros': 10455, 'flop': 10456, 'jutificativa': 10457, 'papinho': 10458, 'manutenção': 10459, 'software': 10460, 'wtf': 10461, 'ultrapassado': 10462, 'prolixa': 10463, 'rubens': 10464, 'doado': 10465, 'doava': 10466, 'respondesse': 10467, 'questionário': 10468, 'cobraram': 10469, 'estima': 10470, 'ferrando': 10471, 'redimindo': 10472, 'castelli': 10473, 'novamento': 10474, 'aviso': 10475, 'chula': 10476, 'ultrapassa': 10477, 'retirado': 10478, 'discorrendo': 10479, 'variação': 10480, 'citaria': 10481, 'tranquilidade': 10482, 'jargões': 10483, 'toas': 10484, 'lanni': 10485, 'primária': 10486, 'léguas': 10487, 'promessa': 10488, 'expandirmos': 10489, 'agregado': 10490, 'citação': 10491, 'atende': 10492, 'refencial': 10493, 'menções': 10494, 'mmarketing': 10495, 'fanfiction': 10496, 'tocou': 10497, 'aprovou': 10498, 'horrivelmente': 10499, 'soou': 10500, 'preguiçoso': 10501, 'jack': 10502, 'thorne': 10503, 'apoia': 10504, 'reclamei': 10505, 'alfa': 10506, 'arce': 10507, 'postou': 10508, 'martilho': 10509, 'preferia': 10510, 'chá': 10511, 'redimir': 10512, 'rascunhado': 10513, 'vertido': 10514, 'distorcidas': 10515, 'potterfanaticos': 10516, 'usaram': 10517, 'poção': 10518, 'polussuco': 10519, 'figurantes': 10520, 'fingem': 10521, 'responde': 10522, 'empregador': 10523, 'carregado': 10524, 'sofismas': 10525, 'platitudes': 10526, 'descontextualizadas': 10527, 'desonestidade': 10528, 'qtd': 10529, 'rasas': 10530, 'chatinho': 10531, 'intediante': 10532, 'óbivias': 10533, 'irrelevante': 10534, 'preparada': 10535, 'reeducação': 10536, 'atingiu': 10537, 'adptou': 10538, 'erroneamente': 10539, 'aproveitosa': 10540, 'pacientes': 10541, 'metodologias': 10542, 'fantasiosas': 10543, 'religiao': 10544, 'desesperados': 10545, 'reproduziir': 10546, 'permitirem': 10547, 'prenda': 10548, 'demagogia': 10549, 'ilusório': 10550, 'lamentavelmente': 10551, 'utópicas': 10552, 'levarão': 10553, 'missionário': 10554, 'afirmacoes': 10555, 'acrrdita': 10556, 'madrugada': 10557, 'buscava': 10558, 'criticá': 10559, 'autodesenvolvimento': 10560, 'praxe': 10561, 'infudados': 10562, 'impíricas': 10563, 'sustente': 10564, 'descancaradamente': 10565, 'pseudociência': 10566, 'sensacionalismo': 10567, 'charlatanismo': 10568, 'parcialmente': 10569, 'corrobar': 10570, 'phd': 10571, 'levemento': 10572, 'modificados': 10573, 'grandiosos': 10574, 'esteje': 10575, 'ressalvas': 10576, 'encharquei': 10577, 'desanima': 10578, 'palestra': 10579, 'sulerficial': 10580, 'correlatos': 10581, 'va': 10582, 'conseguiríamos': 10583, 'post': 10584, 'producentes': 10585, 'pretendia': 10586, 'desconhecidas': 10587, 'usualmente': 10588, 'exibe': 10589, 'reduzida': 10590, 'treinamento': 10591, 'tecnica': 10592, 'certificando': 10593, 'copiada': 10594, 'blogs': 10595, 'web': 10596, 'precisar': 10597, 'comenta': 10598, 'enganador': 10599, 'gulliver': 10600, 'entreter': 10601, 'proporcione': 10602, 'moleque': 10603, 'influenciadas': 10604, 'desenvolvam': 10605, 'deêm': 10606, 'crassos': 10607, 'constato': 10608, 'relatada': 10609, 'proposições': 10610, 'destinadas': 10611, 'tolerância': 10612, 'criticidade': 10613, 'zombar': 10614, 'imbecil': 10615, 'atraídos': 10616, 'imbecis': 10617, 'coletivos': 10618, 'ocuparam': 10619, 'entregaram': 10620, 'lamentáveis': 10621, 'imbecilidade': 10622, 'fiem': 10623, 'engraçadinhos': 10624, 'astrólogos': 10625, 'oportunistas': 10626, 'desprezem': 10627, 'leviano': 10628, 'regresso': 10629, 'seequer': 10630, 'escora': 10631, 'comprometedor': 10632, 'generalista': 10633, 'declara': 10634, 'niels': 10635, 'bhor': 10636, 'heisenberg': 10637, 'inventores': 10638, 'karl': 10639, 'ernest': 10640, 'ludwig': 10641, 'planck': 10642, 'heliocentrismo': 10643, 'petista': 10644, 'pregar': 10645, 'defendeu': 10646, 'sucinto': 10647, 'muuuito': 10648, 'wikipedia': 10649, 'paretto': 10650, 'aclamação': 10651, 'enviada': 10652, 'pm': 10653, 'noah': 10654, 'bizarrices': 10655, 'mul': 10656, 'heres': 10657, 'imônias': 10658, 'rifício': 10659, 'partic': 10660, 'ular': 10661, 'mod': 10662, 'erno': 10663, 'sconhecidos': 10664, 'alterando': 10665, 'desloca': 10666, 'minado': 10667, 'desprazer': 10668, 'comprometê': 10669, 'update': 10670, 'informo': 10671, 'encaminhando': 10672, 'editar': 10673, 'atenciosamente': 10674, 'subscrevo': 10675, 'contratempo': 10676, 'nelson': 10677, 'meirelles': 10678, 'defendidas': 10679, 'trocá': 10680, 'legíveis': 10681, 'vivos': 10682, 'gorilas': 10683, 'orangotangos': 10684, 'fêmea': 10685, 'primata': 10686, 'ancestral': 10687, 'anfíbio': 10688, 'réptil': 10689, 'chimpanzé': 10690, 'especulações': 10691, 'moda': 10692, 'ateísmo': 10693, 'historica': 10694, 'eficiência': 10695, 'pouquíssimos': 10696, 'assertivo': 10697, 'comprovadas': 10698, 'induzindo': 10699, 'globalistas': 10700, 'máscara': 10701, 'militante': 10702, 'vangloriar': 10703, 'equiparando': 10704, 'imperfeitos': 10705, 'desrespeitosos': 10706, 'notadamente': 10707, 'católica': 10708, 'escopo': 10709, 'alegadamente': 10710, 'inegável': 10711, 'implantar': 10712, 'barbárie': 10713, 'fruição': 10714, 'compromissos': 10715, 'esteira': 10716, 'marcuse': 10717, 'inexistência': 10718, 'arqueológicas': 10719, 'darwinismo': 10720, 'ultrapassada': 10721, 'coletores': 10722, 'caçadores': 10723, 'seguiram': 10724, 'ignorando': 10725, 'crescido': 10726, 'dominaram': 10727, 'risível': 10728, 'trigo': 10729, 'permanecido': 10730, 'armadilha': 10731, 'deseducador': 10732, 'implica': 10733, 'necessáriamente': 10734, 'besteirol': 10735, 'sustentar': 10736, 'matasse': 10737, 'procuro': 10738, 'atoa': 10739, 'intelecto': 10740, 'deduções': 10741, 'devolve': 10742, 'confortavel': 10743, 'coletora': 10744, 'manipulando': 10745, 'desonesto': 10746, 'evolucionista': 10747, 'indicaria': 10748, 'marqueteiro': 10749, 'estrelismo': 10750, 'ajudas': 10751, 'requentadas': 10752, 'ostensivamente': 10753, 'vitorioso': 10754, 'poderosamente': 10755, 'pauto': 10756, 'genuíno': 10757, 'unindo': 10758, 'cumprido': 10759, 'agressivo': 10760, 'subliminar': 10761, 'panelinha': 10762, 'bonzão': 10763, 'baixe': 10764, 'explorarei': 10765, 'cadastro': 10766, 'revolucionou': 10767, 'complementações': 10768, 'recomenda': 10769, 'american': 10770, 'way': 10771, 'pésssimo': 10772, 'queimá': 10773, 'retifico': 10774, 'fracassado': 10775, 'curiosamente': 10776, 'devendo': 10777, '2008': 10778, 'gastava': 10779, 'acordará': 10780, '3h': 10781, '9h': 10782, 'mutatis': 10783, 'mutandis': 10784, 'famosinho': 10785, 'mantra': 10786, 'ignorante': 10787, 'apendice': 10788, 'repetivos': 10789, 'insignificantes': 10790, 'ridículas': 10791, 'habitos': 10792, 'rele': 10793, 'aplicado': 10794, 'empecilhos': 10795, 'classificado': 10796, 'datado': 10797, 'irrisórios': 10798, 'anedotas': 10799, 'desprezei': 10800, 'taxado': 10801, 'politico': 10802, 'palhaçada': 10803, 'estude': 10804, 'etica': 10805, 'kantiana': 10806, 'enviado': 10807, 'encaminhado': 10808, 'selecionada': 10809, 'selecionei': 10810, 'usufruído': 10811, 'sairia': 10812, 'cobrou': 10813, 'fluem': 10814, 'madre': 10815, 'calcutá': 10816, 'comunistinha': 10817, 'convicções': 10818, 'mudarem': 10819, 'condiz': 10820, 'pupilo': 10821, 'napolleon': 10822, 'hill': 10823, 'mormente': 10824, 'discípulo': 10825, 'motivou': 10826, 'adular': 10827, 'otário': 10828, 'siga': 10829, 'manjadas': 10830, 'interlocutores': 10831, 'perceberão': 10832, 'trouxa': 10833, 'saudoso': 10834, 'mazzaropi': 10835, 'funcionando': 10836, 'irônica': 10837, 'detestável': 10838, 'quietos': 10839, 'antecessor': 10840, 'jogando': 10841, '“literatura”': 10842, 'publicaram': 10843, 'mercantil': 10844, 'alternada': 10845, 'atração': 10846, 'continuando': 10847, 'gostando': 10848, 'hospital': 10849, 'aniversario': 10850, 'nest': 10851, 'eultimo': 10852, 'concluídos': 10853, 'insurgente': 10854, 'linguica': 10855, 'falhar': 10856, 'qundo': 10857, 'sengido': 10858, 'muits': 10859, 'eitores': 10860, 'respondidas': 10861, 'tobias': 10862, 'marcam': 10863, 'festa': 10864, 'inteirinho': 10865, 'agrade': 10866, 'enfatizado': 10867, 'correspondências': 10868, 'afetivo': 10869, 'tomam': 10870, 'justificativas': 10871, 'patéticas': 10872, 'concretização': 10873, 'rose': 10874, 'fanboys': 10875, 'cecelia': 10876, 'perdoem': 10877, 'contava': 10878, 'perssonagens': 10879, 'ateve': 10880, 'escultura': 10881, 'debruçar': 10882, 'dadas': 10883, 'desinteressantes': 10884, 'conhecedor': 10885, 'arraste': 10886, 'desconfio': 10887, 'largado': 10888, '49': 10889, '41': 10890, 'kindler': 10891, 'desanimador': 10892, 'grato': 10893, 'limitou': 10894, 'alega': 10895, 'estritamente': 10896, 'internacionalmente': 10897, 'acanha': 10898, 'confessar': 10899, 'interessem': 10900, 'rebuscada': 10901, 'complica': 10902, 'conferia': 10903, 'centralizado': 10904, 'dorso': 10905, 'diagramada': 10906, 'doados': 10907, 'minuscula': 10908, 'benefício': 10909, 'prazentear': 10910, 'chegará': 10911, 'seguidos': 10912, 'colocavam': 10913, '8h': 10914, 'entregariam': 10915, 'efetuavam': 10916, 'efetuou': 10917, '193': 10918, 'descolada': 10919, 'entreguei': 10920, 'parcel': 10921, 'service': 10922, 'afixada': 10923, 'apresentava': 10924, 'violado': 10925, 'constam': 10926, 'cpf': 10927, 'aumento': 10928, 'tédio': 10929, 'recorrendo': 10930, 'neologismos': 10931, 'relembrando': 10932, 'atrapalharam': 10933, 'formadas': 10934, 'mecanismo': 10935, 'agradando': 10936, 'trabalhoso': 10937, 'voltaria': 10938, 'preferiria': 10939, 'didáticos': 10940, 'inciativa': 10941, 'gratis': 10942, 'promoçao': 10943, 'houvr': 10944, 'algun': 10945, 'resolvidos': 10946, 'fórmulas': 10947, 'variar': 10948, 'cosmos': 10949, 'sumir': 10950, 'perceberia': 10951, 'declaração': 10952, 'maldigo': 10953, 'subconscientes': 10954, 'válido': 10955, 'exploram': 10956, 'apelos': 10957, 'persuasão': 10958, 'empregas': 10959, 'visam': 10960, 'ingênuo': 10961, 'karla': 10962, 'excepcionalmente': 10963, 'deteriorar': 10964, 'amassos': 10965, 'nestas': 10966, 'imaginando': 10967, 'faturou': 10968, 'pedidos': 10969, 'duplicadas': 10970, 'assemelham': 10971, 'cassino': 10972, 'mesa': 10973, 'pôquer': 10974, 'especulador': 10975, 'quebre': 10976, 'oferecidas': 10977, 'operadores': 10978, 'manada': 10979, 'mera': 10980, 'propagando': 10981, 'possue': 10982, 'ajude': 10983, 'aproveitável': 10984, 'minúscula': 10985, 'excluído': 10986, 'fast': 10987, 'auxilie': 10988, 'retirem': 10989, 'disposição': 10990, 'desculp': 10991, 'destrui': 10992, 'promiscua': 10993, 'norteia': 10994, 'deseduca': 10995, 'brincadeiras': 10996, 'formador': 10997, 'prestado': 10998, 'escória': 10999, 'ânsia': 11000, 'diagramado': 11001, 'grampeado': 11002, 'criatura': 11003, 'um”influenciador”': 11004, 'sobrinho': 11005, 'assistia': 11006, 'protestos': 11007, 'passada': 11008, 'ensinava': 11009, '“burras”': 11010, 'xingou': 11011, 'youtubers': 11012, 'capitaliza': 11013, 'gibis': 11014, 'turma': 11015, 'mônica': 11016, 'souza': 11017, 'likes': 11018, 'expressava': 11019, 'pintando': 11020, 'like': 11021, 'modinhas': 11022, 'teens': 11023, 'bm': 11024, '64': 11025, 'aposto': 11026, 'utilizaram': 11027, 'aumentariam': 11028, 'lançando': 11029, 'lobotomia': 11030, 'medianamente': 11031, 'shopping': 11032, 'condizente': 11033, 'cannot': 11034, 'access': 11035, 'all': 11036, 'are': 11037, 'unavailable': 11038, 'there': 11039, 'place': 11040, 'complain': 11041, 'or': 11042, 'if': 11043, 'my': 11044, 'debitaram': 11045, 'estornaram': 11046, 'estrangeira': 11047, 'habilidosa': 11048, 'destacando': 11049, 'adultas': 11050, 'cauxa': 11051, 'contempla': 11052, 'estrofes': 11053, 'completemente': 11054, 'artificiais': 11055, 'penguim': 11056, 'giros': 11057, 'capenga': 11058, 'resumir': 11059, 'restará': 11060, 'fantasiado': 11061, 'banais': 11062, 'validos': 11063, 'david': 11064, 'allen': 11065, 'infos': 11066, 'prouditividade': 11067, 'machucados': 11068, '09': 11069, 'amassão': 11070, 'prestam': 11071, 'vacilaram': 11072, 'enviarem': 11073, '28': 11074, 'estipulado': 11075, 'rebatia': 11076, 'sir': 11077, 'doyle': 11078, 'rasga': 11079, 'descuidado': 11080, 'doyale': 11081, 'trocou': 11082, 'substituir': 11083, 'recorrência': 11084, 'extremidade': 11085, 'embalassem': 11086, 'harpercollins': 11087, 'frágil': 11088, 'ceder': 11089, 'fôrro': 11090, 'colado': 11091, 'ondulações': 11092, 'salvaram': 11093, 'inspeção': 11094, 'minuciosa': 11095, 'estender': 11096, 'pegarei': 11097, 'zahar': 11098, 'gráfico': 11099, 'primorosos': 11100, 'sherlock': 11101, 'holmes': 11102, 'harper': 11103, 'collins': 11104, 'acessibilidade': 11105, 'estreita': 11106, 'espuma': 11107, 'pancadas': 11108, 'arranhões': 11109, 'encarregada': 11110, 'aconchegante': 11111, 'reentregar': 11112, 'valeriam': 11113, 'comprometidos': 11114, 'requinte': 11115, 'locados': 11116, 'fungo': 11117, 'ácaro': 11118, 'realizada': 11119, 'novembro': 11120, 'postados': 11121, 'completas': 11122, 'resumem': 11123, 'cancele': 11124, 'stela': 11125, 'maris': 11126, 'estragada': 11127, 'decorativo': 11128, 'funcionarios': 11129, 'estereótipo': 11130, 'ranzinza': 11131, 'certinha': 11132, 'obvio': 11133, 'cliches': 11134, 'canalha': 11135, 'atrela': 11136, 'mesquinhos': 11137, 'misticismo': 11138, 'indiano': 11139, 'espiritismo': 11140, 'induismo': 11141, 'reclama': 11142, 'lu': 11143, 'voces': 11144, 'pau': 11145, 'falei': 11146, 'mes': 11147, 'ganhado': 11148, 'disputas': 11149, 'partidos': 11150, 'agremiações': 11151, 'chávez': 11152, 'definitivo': 11153, \"'establish'\": 11154, 'munição': 11155, 'festim': 11156, 'ingênuos': 11157, 'ressonar': 11158, 'desconsidera': 11159, 'ameaçadoras': 11160, 'ds': 11161, 'videntes': 11162, 'mimados': 11163, 'ouviram': 11164, 'educacional': 11165, 'analítica': 11166, 'associações': 11167, 'grampiar': 11168, 'roger': 11169, 'scruton': 11170, 'mises': 11171, 'gordon': 11172, 'tampa': 11173, 'concluem': 11174, 'ditatoriais': 11175, 'destruíram': 11176, 'economias': 11177, 'africanos': 11178, 'latino': 11179, 'miséria': 11180, 'locupletaram': 11181, 'poderem': 11182, 'emitiram': 11183, 'acabava': 11184, 'midias': 11185, 'criaram': 11186, 'fortaleceram': 11187, 'compadrios': 11188, 'concessões': 11189, 'rodovias': 11190, 'portos': 11191, 'aeroportos': 11192, 'petróleo': 11193, 'elétrica': 11194, '“povo”': 11195, 'migalhas': 11196, 'recalque': 11197, 'recalcadas': 11198, 'acordarmos': 11199, 'transe': 11200, 'intitulam': 11201, 'pesquisares': 11202, 'progressista': 11203, 'convidados': 11204, 'emprestar': 11205, 'credenciais': 11206, 'autoridade': 11207, 'vexame': 11208, 'teimam': 11209, 'aceitarem': 11210, 'ouvirão': 11211, 'eleiçõesss': 11212, 'aceitem': 11213, 'europeia': 11214, 'ruirá': 11215, 'cansamos': 11216, 'costas': 11217, '”vão': 11218, 'capinar': 11219, 'lote': 11220, 'analfabeto': 11221, 'achismos': 11222, 'chamam': 11223, 'assassinadas': 11224, 'qualificados': 11225, 'difusão': 11226, '1917': 11227, 'salvando': 11228, 'liberal': 11229, 'libertarian': 11230, 'costuman': 11231, 'costumam': 11232, 'xingam': 11233, 'acusam': 11234, 'investi': 11235, 'sairiam': 11236, 'respondam': 11237, 'pixels': 11238, 'setembro': 11239, '37': 11240, 'injustificado': 11241, 'denuncia': 11242, 'adequadamente': 11243, 'pátria': 11244, 'banalização': 11245, 'fascista': 11246, \"nazista''\": 11247, 'discordadão': 11248, 'establishment': 11249, 'entidades': 11250, 'mascarado': 11251, 'dissertação': 11252, 'presidentes': 11253, 'republicanos': 11254, 'centristas': 11255, 'psdb': 11256, 'mdb': 11257, 'mixa': 11258, 'caluniá': 11259, 'desacreditá': 11260, 'letvinsky': 11261, 'andou': 11262, 'jair': 11263, 'apareceram': 11264, 'criminoso': 11265, 'membro': 11266, 'psol': 11267, 'negão': 11268, 'enfiou': 11269, 'marionete': 11270, 'instituído': 11271, 'obrigatório': 11272, 'mata': 11273, 'ridículos': 11274, 'aportuguesamento': 11275, 'ganguêês': 11276, 'gangs': 11277, 'gangsterismo': 11278, 'escrevem': 11279, 'ganguesterismo': 11280, 'decaído': 11281, 'cá': 11282, 'gaste': 11283, 'compar': 11284, 'lógicas': 11285, 'infestado': 11286, 'brincar': 11287, 'factóide': 11288, 'artificioso': 11289, 'inventado': 11290, 'reputação': 11291, 'rádio': 11292, 'denunciado': 11293, 'operação': 11294, 'duplicaram': 11295, '😤': 11296, 'adivinhem': 11297, 'afirmam': 11298, 'remover': 11299, 'intens': 11300, 'ahhh': 11301, 'ciências': 11302, 'sociologia': 11303, 'antropologia': 11304, 'nivelado': 11305, 'boçal': 11306, 'estuda': 11307, 'acinte': 11308, 'limítrofe': 11309, 'escorar': 11310, 'deixara': 11311, 'pinta': 11312, 'globais': 11313, 'ameaçam': 11314, 'preferências': 11315, 'frequentado': 11316, 'reconhecida': 11317, 'considerarmos': 11318, 'bolsominions': 11319, 'nando': 11320, 'mbl': 11321, 'aparecer': 11322, 'européia': 11323, 'prezados': 11324, 'descontaram': 11325, 'março': 11326, 'campanha': 11327, 'doação': 11328, 'lesado': 11329, 'elegível': 11330, 'expirado': 11331, 'pouquíssimas': 11332, 'le': 11333, 'tediosa': 11334, 'metodos': 11335, 'duvidosos': 11336, 'espremer': 11337, 'recebida': 11338, 'dolorosa': 11339, 'caminhão': 11340, 'bregas': 11341, 'mandaram': 11342, 'analisem': 11343, 'giram': 11344, 'acertar': 11345, 'vitimizaçao': 11346, 'prestando': 11347, 'devida': 11348, 'fingi': 11349, 'gozar': 11350, 'etecetera': 11351, 'autocentrada': 11352, 'corda': 11353, 'cedido': 11354, 'cinematográficas': 11355, 'intermediária': 11356, 'guardem': 11357, 'preferi': 11358, 'recordacao': 11359, 'mania': 11360, 'suicida': 11361, 'repentinamente': 11362, 'wil': 11363, 'trocassem': 11364, 'ligação': 11365, 'novelesco': 11366, 'aguardada': 11367, 'deixado': 11368, 'chatinha': 11369, 'fofas': 11370, 'continuaçao': 11371, 'desajeitado': 11372, 'bobinha': 11373, 'bar': 11374, 'humilhada': 11375, 'atrasado': 11376, 'repara': 11377, 'desagrado': 11378, 'fiscalização': 11379, 'recomendarei': 11380, 'coleccionador': 11381, 'hobbit': 11382, '1954': 11383, '1973': 11384, 'gratuita': 11385, 'conseguida': 11386, 'disponibilizam': 11387, 'readers': 11388, 'exploratório': 11389, '98': 11390, 'convertido': 11391, 'milênios': 11392, 'injustificável': 11393, 'engrenaram': 11394, 'imune': 11395, 'bobear': 11396, '2013': 11397, 'jaa': 11398, 'ten': 11399, 'isenção': 11400, 'impressos': 11401, 'naada': 11402, 'china': 11403, 'nárnia': 11404, 'ço': 11405, 'entusiasmada': 11406, 'estratosférico': 11407, 'pagando': 11408, 'infinitamente': 11409, 'us': 11410, 'internacional': 11411, 'cabimento': 11412, 'gastam': 11413, 'iriam': 11414, 'aumentaram': 11415, 'dirá': 11416, 'desmotivado': 11417, 'aneis': 11418, 'reclamem': 11419, 'corrupto': 11420, 'estourou': 11421, '105': 11422, 'pagaria': 11423, 'enviam': 11424, '192': 11425, '225': 11426, 'inconformada': 11427, 'higiênico': 11428, 'enviou': 11429, 'decepciono': 11430, 'expirou': 11431, 'confira': 11432, 'enviarei': 11433, 'desestimula': 11434, 'xerox': 11435, '4a': 11436, 'utlizada': 11437, '224': 11438, 'chagando': 11439, '288': 11440, 'disparados': 11441, 'fininho': 11442, 'apertado': 11443, 'polindo': 11444, 'capturado': 11445, 'possuo': 11446, 'observei': 11447, 'gratuitas': 11448, 'comprovei': 11449, 'circula': 11450, 'inclusão': 11451, 'comercializar': 11452, 'digitalizar': 11453, 'permitir': 11454, 'minisserie': 11455, 'denúncias': 11456, 'candeias': 11457, 'consumidores': 11458, 'comercializando': 11459, 'fraudulento': 11460, 'absurdamente': 11461, 'pronunciar': 11462, 'ricardo': 11463, 'cobra': 11464, 'financiando': 11465, 'estabelecimentos': 11466, 'promocional': 11467, '120': 11468, 'gastaria': 11469, 'beiram': 11470, 'dada': 11471, 'distribuídos': 11472, 'net': 11473, 'trampolim': 11474, 'absurdos': 11475, 'http': 11476, 'song': 11477, 'fire': 11478, 'b000qcs8tw': 11479, 'ref': 11480, 'pd': 11481, 'sbs': 11482, 'kinc': 11483, 'tava': 11484, 'entregues': 11485, 'compactada': 11486, 'ilustrativa': 11487, 'descontentamento': 11488, 'inúmero': 11489, 'ortografia': 11490, 'concordâncias': 11491, 'nominal': 11492, 'verbal': 11493, 'info': 11494, 'compensação': 11495, 'inadmissível': 11496, 'cortar': 11497, 'pedaços': 11498, 'feridos': 11499, 'redigir': 11500, 'pecou': 11501, 'fotografia': 11502, 'pretos': 11503, 'dourados': 11504, 'prata': 11505, 'especificada': 11506, 'máxima': 11507, 'indignada': 11508, 'especificar': 11509, 'riscada': 11510, 'sujos': 11511, \"''comidas''\": 11512, 'recepcionista': 11513, 'dobras': 11514, 'reembolsam': 11515, 'comentarios': 11516, 'sujo': 11517, 'arranhado': 11518, 'eai': 11519, 'descoladas': 11520, 'olhem': 11521, 'amaçados': 11522, 'riscadas': 11523, 'cancelamento': 11524, 'retornam': 11525, 'recebo': 11526, 'sugeria': 11527, 'efetuei': 11528, 'tremenda': 11529, 'atendente': 11530, 'estoque': 11531, 'politica': 11532, 'cancelei': 11533, 'dali': 11534, 'credito': 11535, 'pendente': 11536, 'atrapalham': 11537, 'devolvo': 11538, 'encalhado': 11539, 'miúda': 11540, 'desonestos': 11541, 'prejudicaram': 11542, 'honestos': 11543, 'vantajoso': 11544, 'comentou': 11545, 'previamente': 11546, 'voltada': 11547, 'individual': 11548, 'separadamente': 11549, 'explícita': 11550, 'contatar': 11551, 'popularização': 11552, 'baratear': 11553, 'caros': 11554, 'substituiria': 11555, 'usufruindo': 11556, 'julgo': 11557, 'atrofiar': 11558, 'sujarão': 11559, 'manuseio': 11560, 'nítido': 11561, 'lavrado': 11562, 'áspero': 11563, 'mm': 11564, 'm²': 11565, 'informada': 11566, 'comprarmos': 11567, 'olhe': 11568, 'abaixarem': 11569, 'pausar': 11570, 'assumi': 11571, 'tolo': 11572, 'cansativas': 11573, 'abandonando': 11574, 'ficasse': 11575, 'incontrolável': 11576, 'excluí': 11577, 'males': 11578, 'ignoram': 11579, 'islã': 11580, 'hejab': 11581, 'burca': 11582, 'impor': 11583, 'cheguem': 11584, 'embotar': 11585, 'parâmetro': 11586, 'entulho': 11587, 'ficcção': 11588, 'destópica': 11589, 'percebidas': 11590, 'desconectada': 11591, 'paranóia': 11592, 'hipóteses': 11593, 'doentia': 11594, 'fere': 11595, 'integridade': 11596, 'psíquica': 11597, 'moças': 11598, 'impressionáveis': 11599, 'principalemente': 11600, 'engajados': 11601, 'conivente': 11602, 'fantasias': 11603, 'destrutivas': 11604, 'monstros': 11605, 'inexistentes': 11606, 'desperdiçando': 11607, 'divulgados': 11608, 'reboque': 11609, 'malta': 11610, 'panfletário': 11611, 'divulgá': 11612, 'totalitárias': 11613, 'pensavam': 11614, 'irrefutáveis': 11615, 'invisíveis': 11616, 'ataque': 11617, 'facilitado': 11618, 'manipular': 11619, 'meninada': 11620, 'livresca': 11621, 'disposta': 11622, 'populares': 11623, 'prejudicada': 11624, 'alinha': 11625, 'prejudica': 11626, 'iphone': 11627, 'formatado': 11628, 'impossibilita': 11629, 'alocados': 11630, 'exibido': 11631, 'dificultando': 11632, 'providencia': 11633, 'reformatação': 11634, 'envia': 11635, 'adquiriram': 11636, 'postagens': 11637, 'truncado': 11638, 'havendo': 11639, 'constantes': 11640, 'interrompesse': 11641, 'comercialização': 11642, 'retorna': 11643, 'excluir': 11644, 'portugueses': 11645, 'preservar': 11646, 'indios': 11647, 'escolares': 11648, 'bancar': 11649, 'espinafrando': 11650, 'vendidas': 11651, '2014': 11652, 'intencionada': 11653, 'estudamos': 11654, 'concepções': 11655, 'america': 11656, 'mudadas': 11657, 'disforme': 11658, 'corrige': 11659, 'bastava': 11660, 'mentirosas': 11661, 'arrumarem': 11662, 'esquerdo': 11663, 'ocupando': 11664, 'amzon': 11665, 'brancos': 11666, 'bonzinhos': 11667, 'ignaros': 11668, 'inverdades': 11669, 'intencionadas': 11670, 'anunciar': 11671, 'esperam': 11672, 'superinteressante': 11673, 'revistinha': 11674, 'cientificamente': 11675, 'respeitados': 11676, 'descendo': 11677, 'lenha': 11678, 'colunista': 11679, 'escreveria': 11680, 'repórter': 11681, 'viajado': 11682, 'visitado': 11683, 'templos': 11684, 'barrocos': 11685, 'wies': 11686, 'asam': 11687, 'munique': 11688, 'anjos': 11689, 'possuíam': 11690, 'faces': 11691, 'tortas': 11692, 'exclusivo': 11693, 'artístico': 11694, 'artesãos': 11695, 'esculturas': 11696, 'ficavam': 11697, 'cautelas': 11698, 'folga': 11699, 'atravessados': 11700, 'passional': 11701, 'tacanha': 11702, 'contrariem': 11703, 'acusar': 11704, 'culpados': 11705, 'desmerecer': 11706, 'qualificando': 11707, 'alfinetar': 11708, '249': 11709, 'argumentar': 11710, 'demonstrações': 11711, 'comprovar': 11712, 'voaram': 11713, 'demonstração': 11714, 'pô': 11715, 'inventaram': 11716, 'avião': 11717, 'copiar': 11718, 'souber': 11719, 'somar': 11720, 'veder': 11721, 'reza': 11722, 'lenda': 11723, 'penhasco': 11724, 'josé': 11725, 'murilo': 11726, 'desonesta': 11727, 'enfatizava': 11728, 'conceções': 11729, 'elites': 11730, 'dominantes': 11731, 'ambiciosa': 11732, 'infrutífera': 11733, 'povos': 11734, 'apropriar': 11735, 'neoliberais': 11736, 'enfeitados': 11737, 'denigre': 11738, 'representantes': 11739, 'preconceituosos': 11740, 'grotescos': 11741, 'anacronismo': 11742, 'nãos': 11743, 'enganem': 11744, 'renomados': 11745, 'grotesca': 11746, 'rancor': 11747, 'mesquinho': 11748, 'nãorecomendo': 11749, 'colonização': 11750, 'devastadas': 11751, 'nativas': 11752, 'enxergasse': 11753, 'cautelosa': 11754, 'recair': 11755, 'simplismo': 11756, 'abs': 11757, 'rascunho': 11758, 'historicamente': 11759, 'trivial': 11760, 'abusa': 11761, 'metodo': 11762, 'desconstruçao': 11763, 'jesus': 11764, 'madalena': 11765, 'decadas': 11766, 'reacionários': 11767, 'desmoralizar': 11768, 'prosseguindo': 11769, 'desfaçado': 11770, 'procurei': 11771, 'comprovados': 11772, 'paraguai': 11773, 'samba': 11774, 'suplantado': 11775, 'anticomunista': 11776, '1964': 11777, 'desmedido': 11778, 'academicas': 11779, 'metodológico': 11780, 'ignora': 11781, 'historicidade': 11782, 'falsifica': 11783, 'delinquente': 11784, 'formatacao': 11785, 'tendencia': 11786, 'deturpação': 11787, 'séria': 11788, 'bisonho': 11789, 'encontre': 11790, 'definição': 11791, 'repositório': 11792, 'besteiras': 11793, 'boba': 11794, 'tolos': 11795, 'filhinho': 11796, 'papai': 11797, 'lata': 11798, 'trocadinhos': 11799, 'terminologia': 11800, 'ss': 11801, 'judéus': 11802, 'crueldade': 11803, 'locais': 11804, 'carla': 11805, 'bruzetti': 11806, 'imiscuídas': 11807, 'itálico': 11808, 'precedente': 11809, 'posterior': 11810, 'urge': 11811, 'correção': 11812, 'recomendoi': 11813, 'tedioso': 11814, 'operações': 11815, 'retratando': 11816, 'pegadinha': 11817, 'misturando': 11818, 'cronologicamente': 11819, 'simultâneos': 11820, 'caótica': 11821, 'ii': 11822, 'criptoanálise': 11823, 'bletchley': 11824, 'park': 11825, 'chaves': 11826, 'massacres': 11827, 'paladina': 11828, 'versalhes': 11829, 'sistemática': 11830, 'toscas': 11831, 'insight': 11832, 'travada': 11833, 'dificultam': 11834, 'estabelecer': 11835, 'arrazoado': 11836, 'quinta': 11837, 'pretensão': 11838, 'confusas': 11839, 'graaaaande': 11840, 'entendesse': 11841, 'relacionametos': 11842, 'decidiu': 11843, 'enchimento': 11844, 'tomavam': 11845, 'kéh': 11846, 'cansativamente': 11847, 'largou': 11848, 'historietas': 11849, \"'autora'\": 11850, 'anonimato': 11851, 'tonta': 11852, 'contratam': 11853, 'ghosts': 11854, 'writers': 11855, 'escreverem': 11856, 'trocam': 11857, 'imaturo': 11858, 'nexo': 11859, 'cronológico': 11860, 'furiosamente': 11861, 'hormonal': 11862, 'namoradinhos': 11863, 'nojo': 11864, 'saliva': 11865, 'invalidar': 11866, 'envolva': 11867, 'umbigo': 11868, 'indicador': 11869, 'riste': 11870, 'demoníaco': 11871, \"rock'n'roll\": 11872, 'cachorro': 11873, 'presumo': 11874, 'banal': 11875, 'roteirista': 11876, 'júnior': 11877, 'saído': 11878, 'bolar\\u200a—\\u200asem': 11879, 'chapado\\u200a—\\u200ae': 11880, 'disney': 11881, 'meet': 11882, 'greet': 11883, 'industria': 11884, 'obsecados': 11885, 'atendido': 11886, 'golpista': 11887, 'engatinhando': 11888, 'receitas': 11889, 'rota': 11890, 'instrução': 11891, '“receitinhas”': 11892, 'pretensamente': 11893, 'rotuladas': 11894, '“hábitos”': 11895, 'assimilação': 11896, 'despender': 11897, 'alfredo': 11898, 'sant’anna': 11899, 'junior': 11900, 'meada': 11901, 'terei': 11902, 'verifiquem': 11903, 'reparem': 11904, 'usuários': 11905, 'lesados': 11906, 'assinar': 11907, 'kindke': 11908, 'injusto': 11909, 'manchas': 11910, 'tonalidade': 11911, 'decisivo': 11912, 'cegas': 11913, 'desapontamento': 11914, 'fenix': 11915, 'recebir': 11916, 'kit': 11917, 'ouve': 11918, 'estragado': 11919, 'reduza': 11920, 'consumista': 11921, 'restringe': 11922, 'colégio': 11923, \"'adoraram'\": 11924, 'adquiram': 11925, 'aceita': 11926, 'jatinho': 11927, 'carros': 11928, 'abusador': 11929, 'perseguidor': 11930, 'demonstrou': 11931, 'desconhecimento': 11932, 'perversão': 11933, 'curada': 11934, 'acharem': 11935, 'reconhecerem': 11936, 'cura': 11937, 'usam': 11938, 'rr': 11939, 'inaginacao': 11940, 'impulso': 11941, 'repetiu': 11942, 'descabida': 11943, 'negligenciados': 11944, 'bocuda': 11945, 'trepadas': 11946, 'masculina': 11947, 'acostumada': 11948, 'desceu': 11949, 'grosseira': 11950, 'constrangida': 11951, 'envergonhada': 11952, 'coitada': 11953, 'atrativa': 11954, 'camuflar': 11955, 'manual': 11956, '😢😢': 11957, 'jogaram': 11958, 'ingredientes': 11959, 'pronto': 11960, 'contextualização': 11961, 'caracterização': 11962, 'filtro': 11963, 'passável': 11964, 'eleita': 11965, 'desrespeitosas': 11966, 'aguenta': 11967, 'insistente': 11968, 'puxa': 11969, 'sacal': 11970, 'terminado': 11971, 'per': 11972, 'minna': 11973, 'opiniao': 11974, 'deixarao': 11975, 'incopiaveis': 11976, 'error': 11977, 'esperavamos': 11978, 'bebezinho': 11979, 'pe': 11980, 'blacklist': 11981, 'assinado': 11982, 'emissora': 11983, 'deixasse': 11984, 'brechas': 11985, 'preenchidas': 11986, '4º': 11987, 'resta': 11988, 'desfecha': 11989, 'inserindo': 11990, 'gidion': 11991, 'chatisse': 11992, 'lingüiça': 11993, 'franco': 11994, 'incabadas': 11995, 'prometeu': 11996, 'crossfire': 11997, 'atualiza': 11998, 'faltantes': 11999, 'insulto': 12000, 'acompanhou': 12001, 'chegou😥quero': 12002, 'aguarde': 12003, 'aspas': 12004, 'encheu': 12005, 'janeiro': 12006, 'desponibilizando': 12007, 'sacanagem': 12008, 'gente😣': 12009, 'esticar': 12010, 'pareciam': 12011, 'envolvia': 12012, 'apimentada': 12013, 'obriguei': 12014, 'arquivo': 12015, 'conferiram': 12016, 'qts': 12017, 'decoração': 12018, 'chorona': 12019, 'desrtruir': 12020, 'graças': 12021, 'emprestado': 12022, 'putz': 12023, 'interminado': 12024, 'tempão': 12025, 'finalizadas': 12026, 'trey': 12027, 'cary': 12028, 'morno': 12029, 'olhando': 12030, 'equiparar': 12031, 'solucao': 12032, 'tento': 12033, 'decepcão': 12034, 'lua': 12035, 'mel': 12036, 'prolongou': 12037, 'junho': 12038, 'caricata': 12039, 'escondeu': 12040, 'comparada': 12041, 'anastasia': 12042, 'repassei': 12043, 'senas': 12044, 'muiiiito': 12045, 'monótonas': 12046, 'entendiante': 12047, 'patricinha': 12048, 'correndo': 12049, 'manda': 12050, 'réplica': 12051, 'psicologicamente': 12052, 'pertubadas': 12053, 'sexualmente': 12054, 'descompensadas': 12055, 'dependencia': 12056, 'brinquedos': 12057, 'esquisitos': 12058, 'disposicao': 12059, 'irritar': 12060, 'inseguranca': 12061, 'pássaros': 12062, 'elogiam': 12063, 'encontramos': 12064, 'apostei': 12065, 'aguentava': 12066, 'pitadinhas': 12067, 'minúsculas': 12068, 'tuuuudo': 12069, 'bofe': 12070, 'mobilizada': 12071, 'flutua': 12072, 'fixada': 12073, 'sorry': 12074, 'vidrados': 12075, 'roupas': 12076, 'móveis': 12077, 'arrepiada': 12078, 'rola': 12079, 'pesares': 12080, 'morar': 12081, 'bagaça': 12082, 'maaaaas': 12083, 'puta': 12084, 'paisagem': 12085, 'sequências': 12086, 'confiei': 12087, 'comeca': 12088, 'reportagens': 12089, 'andam': 12090, 'criancas': 12091, 'começamos': 12092, 'desequilibrada': 12093, 'ouros': 12094, 'palpite': 12095, 'indução': 12096, 'automutilação': 12097, 'esforcei': 12098, 'surgiram': 12099, 'lidando': 12100, 'primordial': 12101, 'animado': 12102, 'decepcion': 12103, 'deception': 12104, 'heart': 12105, 'betrayol': 12106, '31': 12107, 'marcadores': 12108, 'vendendo': 12109, 'adequadas': 12110, 'misterioso': 12111, 'tentarei': 12112, 'avô': 12113, 'sequestrou': 12114, 'comeco': 12115, 'ladeira': 12116, 'pistaa': 12117, 'dao': 12118, 'introducao': 12119, 'lancado': 12120, 'prequeal': 12121, 'subestima': 12122, 'rocambolesco': 12123, 'inverossímil': 12124, 'edificante': 12125, 'reportado': 12126, 'usuário': 12127, 'costurado': 12128, 'desenvolveu': 12129, 'sal': 12130, 'chaaaaaatooooooooo': 12131, 'affffffff': 12132, 'comprovou': 12133, 'previa': 12134, 'complementou': 12135, 'fiasco': 12136, '95': 12137, 'crepúsculo': 12138, 'sucumbi': 12139, 'arrependida': 12140, 'tosco': 12141, 'tanlim': 12142, 'sensacional”': 12143, 'irritantemente': 12144, 'soar': 12145, 'substantivos': 12146, 'vitimiza': 12147, 'background': 12148, 'comparável': 12149, 'medieval': 12150, 'argumentam': 12151, 'eé': 12152, 'torturar': 12153, 'comecar': 12154, 'notado': 12155, 'votar': 12156, 'vidro': 12157, 'ossos': 12158, 'misturou': 12159, 'falada': 12160, 'deprimida': 12161, 'alcóolica': 12162, 'suportei': 12163, 'recordações': 12164, 'desgraça': 12165, 'repetitivas': 12166, 'improváveis': 12167, 'fortuitos': 12168, 'desnecessario': 12169, 'vibração': 12170, 'compartimentação': 12171, 'trajetórias': 12172, 'razoavelmente': 12173, 'psicopatas': 12174, 'tacada': 12175, 'surpreendia': 12176, 'revelacao': 12177, 'dispensavel': 12178, 'prometidas': 12179, 'dramática': 12180, 'anotado': 12181, 'depressiva': 12182, 'contagiado': 12183, 'elogiado': 12184, 'maçantes': 12185, 'melhoram': 12186, 'femininas': 12187, 'instáveis': 12188, 'obsessivas': 12189, 'caricatos': 12190, 'divagações': 12191, 'salvasse': 12192, 'compensou': 12193, 'decifrar': 12194, 'anima': 12195, 'seis': 12196, 'acessórios': 12197, '‘quem': 12198, 'mora': 12199, 'idílico': 12200, 'dolorida': 12201, 'ô': 12202, 'besta': 12203, 'sofredora': 12204, 'alcoólatra': 12205, 'gorda': 12206, 'ninfomaníaca': 12207, 'anotei': 12208, 'anotações': 12209, '‘falam’': 12210, 'diversificar': 12211, 'cuida': 12212, 'bêbada': 12213, 'apanhava': 12214, 'bebida': 12215, 'quatrocentas': 12216, '‘coisa’': 12217, '‘de': 12218, 'grátis’': 12219, 'chã': 12220, 'pista': 12221, 'patética': 12222, 'manteria': 12223, 'palerma': 12224, 'justificasse': 12225, 'enchi': 12226, 'ahei': 12227, 'doentio': 12228, 'king': 12229, 'esquisito': 12230, 'desorganizada': 12231, 'pararam': 12232, 'melhorado': 12233, 'chequei': 12234, 'fan': 12235, 'surreais': 12236, 'olar': 12237, 'mencionada': 12238, \"tcc's\": 12239, 'complexas': 12240, 'serviços': 12241, 'experienciei': 12242, 'espantoso': 12243, 'insistia': 12244, 'inversamente': 12245, 'eficácia': 12246, 'disponibilizei': 12247, 'enviei': 12248, 'reiterando': 12249, 'desculpando': 12250, 'reembolsado': 12251, 'respondi': 12252, 'compartilhei': 12253, 'autorizei': 12254, 'milongas': 12255, '07': 12256, 'compulsória': 12257, 'creditado': 12258, 'faturas': 12259, 'corrente': 12260, 'débito': 12261, 'boletos': 12262, 'traída': 12263, 'consumido': 12264, 'fatídica': 12265, 'estragou': 12266, 'nauseantes': 12267, 'exageradamente': 12268, 'descritivo': 12269, 'tia': 12270, 'brincava': 12271, 'compreendido': 12272, 'concluído': 12273, 'fiapo': 12274, 'dialogos': 12275, 'desnecessarios': 12276, 'marco10': 12277, 'classifiquei': 12278, 'volto': 12279, 'doído': 12280, 'palpavel': 12281, 'desculpar': 12282, 'julia': 12283, 'roberts': 12284, 'campbell': 12285, 'kenny': 12286, 'retrovisor': 12287, 'arqueologia': 12288, 'deleitar': 12289, 'hominídeo': 12290, 'encontraria': 12291, 'reflexivos': 12292, 'frustada': 12293, 'seríssimo': 12294, 'assessoria': 12295, 'especializada': 12296, 'especializado': 12297, 'pobremente': 12298, 'momentâneas': 12299, 'distrai': 12300, 'perspicazes': 12301, 'características': 12302, 'mta': 12303, 'boradas': 12304, 'impossibilitando': 12305, 'oxida': 12306, 'guardados': 12307, 'conservados': 12308, 'amarelo': 12309, 'gato': 12310, 'lebre': 12311, 'estragados': 12312, 'postar': 12313, 'rede': 12314, 'desconfigurado': 12315, 'mias': 12316, 'vei': 12317, 'contracapa': 12318, 'dobrada': 12319, 'presenteei': 12320, 'caracteres': 12321, 'esforçar': 12322, 'pede': 12323, 'pular': 12324, 'pulou': 12325, 'relaçao': 12326, 'vendendor': 12327, 'responderam': 12328, 'compreendo': 12329, 'caminhoneiros': 12330, 'fiando': 12331, 'burros': 12332, \"n'água\": 12333, 'concatenadas': 12334, 'compilados': 12335, 'desagradaram': 12336, 'folheie': 12337, 'mesmoq': 12338, 'devolvia': 12339, 'tijolo': 12340, 'filosoficas': 12341, 'afixionado': 12342, 'encadeado': 12343, 'desconexos': 12344, 'ministradas': 12345, 'ratificar': 12346, 'generalistas': 12347, 'adesão': 12348, 'catolicismo': 12349, 'twist': 12350, 'terminamos': 12351, 'kotler': 12352, 'pensaria': 12353, 'jogada': 12354, 'cogita': 12355, 'fa': 12356, 'evoluímos': 12357, 'contínua': 12358, 'assíduo': 12359, 'riquíssimas': 12360, 'repetiam': 12361, 'revisado': 12362, 'especulativos': 12363, 'falhos': 12364, 'suprassumo': 12365, 'bando': 12366, 'sucessivamente': 12367, 'ermo': 12368, 'biologica': 12369, 'mestrado': 12370, 'colecionando': 12371, 'bibliográficos': 12372, 'encaminhados': 12373, 'deficiências': 12374, 'recordar': 12375, 'ilações': 12376, 'inferências': 12377, 'levaríamos': 12378, 'insistiram': 12379, 'culturas': 12380, 'fornecedor': 12381, 'sustentáculo': 12382, 'cooperação': 12383, 'absoluto': 12384, 'valoração': 12385, 'subjetiva': 12386, 'cooperar': 12387, 'axioma': 12388, 'age': 12389, 'lotado': 12390, 'equivocada': 12391, 'desastre': 12392, 'taxa': 12393, 'assertivas': 12394, 'bibliográfica': 12395, 'fundamentar': 12396, 'tres': 12397, 'concordei': 12398, 'obrigação': 12399, 'superada': 12400, 'chamativo': 12401, 'agregou': 12402, 'precariedade': 12403, 'bacaninha': 12404, 'comparações': 12405, 'bukowsk': 12406, 'ipad': 12407, 'posicionando': 12408, 'engraçados': 12409, 'detonado': 12410, 'laterias': 12411, 'marcas': 12412, 'encaixam': 12413, 'caixinha': 12414, 'estufou': 12415, 'destruídas': 12416, 'garantindo': 12417, 'impedindo': 12418, 'trinta': 12419, '545': 12420, '609': 12421, 'descolamento': 12422, '8532505708': 12423, 'anúncio': 12424, 'emplastificado': 12425, 'raladas': 12426, 'ranhuras': 12427, 'fabricação': 12428, 'maltratados': 12429, 'fino': 12430, 'transparente': 12431, 'rasgar': 12432, 'aparentam': 12433, 'separam': 12434, 'separa': 12435, 'pobrezinho': 12436, 'surrado': 12437, 'destruída': 12438, 'surrada': 12439, 'duplicada': 12440, 'descascada': 12441, 'míope': 12442, 'bula': 12443, 'atenciosos': 12444, 'prestativos': 12445, 'assistência': 12446, 'indicaram': 12447, 'geraria': 12448, 'respeitoso': 12449, 'implemente': 12450, 'directamente': 12451, 'enrolada': 12452, 'theon': 12453, '4158': 12454, 'coincidência': 12455, 'corrigido': 12456, 'desigual': 12457, 'disformes': 12458, 'editados': 12459, 'ásperas': 12460, 'formatados': 12461, '4192': 12462, 'formtação': 12463, 'css': 12464, 'cat': 12465, 'barulho': 12466, 'umberto': 12467, 'eco': 12468, 'publicadas': 12469, 'restringirá': 12470, 'acréscimo': 12471, 'apostilas': 12472, 'adiantes': 12473, 'margens': 12474, 'estreitas': 12475, 'miúdas': 12476, 'escrevermos': 12477, 'rebuscadas': 12478, 'registroa': 12479, 'impressoes': 12480, 'impede': 12481, 'apertamento': 12482, 'creme': 12483, 'abadia': 12484, 'divergência': 12485, 'legenda': 12486, 'aterei': 12487, 'consagrado': 12488, 'proveitosa': 12489, '1300': 12490, 'misteriosas': 12491, 'investigar': 12492, 'ocorrências': 12493, 'bibliotecário': 12494, 'investigador': 12495, 'acessa': 12496, 'artifícios': 12497, 'complicar': 12498, 'espelhos': 12499, 'deformam': 12500, 'incensos': 12501, 'alucinações': 12502, 'vento': 12503, 'ruídos': 12504, 'macabros': 12505, 'traduzidas': 12506, 'tatibitate': 12507, 'cansei': 12508, 'iniciou': 12509, 'arrastado': 12510, '1947': 12511, 'deixava': 12512, 'descritivas': 12513, 'shows': 12514, 'tumultuada': 12515, 'incomuns': 12516, 'humorado': 12517, 'carteirinha': 12518, 'musicais': 12519, 'importando': 12520, 'relativo': 12521, 'decepcionar': 12522, 'amargurada': 12523, 'minimizamos': 12524, 'ateísta': 12525, 'cometa': 12526, 'biológica': 12527, 'imaginamos': 12528, 'eróticos': 12529, 'erótica': 12530, 'balela': 12531, 'influenciável': 12532, 'subliminares': 12533, 'aguçou': 12534, 'curiosodade': 12535, 'estipulados': 12536, 'aja': 12537, 'serei': 12538, 'respectivos': 12539, 'tomem': 12540, 'rastrear': 12541, 'rastreamento': 12542, 'desapontou': 12543, 'saia': 12544, 'arranhada': 12545, 'colocarem': 12546, 'antecipadamente': 12547, 'jogasse': 12548, 'balde': 12549, 'indelicado': 12550, 'camêra': 12551, 'corresponderam': 12552, 'aparencia': 12553, 'cantinho': 12554, 'horriveis': 12555, 'vivas': 12556, 'teresina': 12557, 'piauí': 12558, 'protegido': 12559, 'transportadoras': 12560, 'cumprindo': 12561, 'confirmo': 12562, 'massacrante': 12563, 'causava': 12564, 'confusão': 12565, 'tuso': 12566, 'considerei': 12567, 'guerras': 12568, 'cometidas': 12569, 'coitadinha': 12570, 'versailhes': 12571, 'continuou': 12572, 'reivindicando': 12573, 'frança': 12574, 'exigia': 12575, 'woodrow': 12576, 'wilson': 12577, 'excessivas': 12578, 'perdurou': 12579, '1929': 12580, 'esquecem': 12581, 'chanceler': 12582, 'roubados': 12583, 'nervoso': 12584, 'abismado': 12585, 'computador': 12586, 'escorrega': 12587, 'batido': 12588, 'sentiria': 12589, 'casar': 12590, 'coma': 12591, 'roubou': 12592, 'leon': 12593, 'vingança': 12594, 'prelúdio': 12595, 'romantiza': 12596, 'velada': 12597, 'afim': 12598, 'arque': 12599, 'indecisões': 12600, 'insensível': 12601, 'espontânea': 12602, 'reclamado': 12603, 'nenê': 12604, 'uísque': 12605, 'bebem': 12606, 'bufo': 12607, 'significasse': 12608, 'deixassem': 12609, 'castelanni': 12610, 'incoerentes': 12611, 'erótico': 12612, 'chiche': 12613, 'coagir': 12614, 'exagerada': 12615, 'apartamento': 12616, 'york': 12617, 'possessivo': 12618, 'excitante': 12619, 'interminavelmente': 12620, 'acontecimento': 12621, 'pressão': 12622, 'regenerando': 12623, 'petitiivas': 12624, 'fogem': 12625, 'tornarão': 12626, 'enriquecido': 12627, 'exercitar': 12628, 'pirncipios': 12629, 'mereça': 12630, 'desafia': 12631, 'pertinente': 12632, 'ancestrais': 12633, 'distração': 12634, 'apreço': 12635, 'unilateral': 12636, 'vasta': 12637, 'exalam': 12638, 'simplória': 12639, 'comportamental': 12640, 'conexões': 12641, 'cunho': 12642, 'acabando': 12643, 'disfarçada': 12644, 'típicas': 12645, 'passatempo': 12646, 'sitar': 12647, 'kal': 12648, 'maxi': 12649, 'humanitárias': 12650, 'misse': 12651, 'combina': 12652, 'agnósticos': 12653, 'céticos': 12654, 'ateus': 12655, 'bíblicas': 12656, '45': 12657, 'contei': 12658, 'grifei': 12659, 'voltados': 12660, 'casadas': 12661, 'emagrecendo': 12662, 'molecular': 12663, 'impactou': 12664, 'sociológicas': 12665, 'diluídas': 12666, 'fortíssimas': 12667, 'desconexas': 12668, 'paul': 12669, 'mackenna': 12670, 'augusto': 12671, 'cury': 12672, 'shinyashiki': 12673, 'lair': 12674, 'ribeiro': 12675, 'intermináveis': 12676, '256': 12677, 'promessas': 12678, 'concorrentes': 12679, 'discutidos': 12680, 'subjacente': 12681, 'proselitismo': 12682, 'pregação': 12683, 'bacanas': 12684, 'pressupostos': 12685, 'falaciosos': 12686, 'substancial': 12687, 'ibook': 12688, 'indepe': 12689, 'ndente': 12690, 'reparar': 12691, 'vertical': 12692, 'marcando': 12693, 'embalaram': 12694, 'plásticos': 12695, 'encomendei': 12696, 'liguei': 12697, 'atestando': 12698, 'pal': 12699, 'avras': 12700, 'paraíso': 12701, 'enganosa': 12702, 'encarte': 12703, 'truncada': 12704, 'frustante': 12705, 'dore': 12706, 'cristiano': 12707, 'painel': 12708, 'ocupam': 12709, 'inteiras': 12710, 'editada': 12711, 'descubro': 12712, 'quinhentas': 12713, 'tomos': 12714, 'somam': 12715, 'oitocentas': 12716, 'deixados': 12717, 'corrigindo': 12718, 'chegariam': 12719, 'cálculo': 12720, 'magníficas': 12721, 'prêmio': 12722, 'consolação': 12723, '32': 12724, 'seleta': 12725, 'prometia': 12726, 'centenária': 12727, 'saborosa': 12728, 'bonitinha': 12729, 'descuidada': 12730, 'autojuda': 12731, 'precisamente': 12732, 'seguintes': 12733, 'agradaram': 12734, 'superações': 12735, 'compartilhamento': 12736, 'perigosamente': 12737, 'prometer': 12738, 'convidar': 12739, 'convencendo': 12740, 'caberia': 12741, 'melhoraria': 12742, 'conquistar': 12743, 'afirmativos': 12744, 'descobriram': 12745, 'hollywood': 12746, 'morre': 12747, 'emotiva': 12748, 'contundentes': 12749, 'sítese': 12750, 'valiosa': 12751, 'obre': 12752, 'estretégia': 12753, \"'estrutura'\": 12754, 'severa': 12755, 'anúncios': 12756, 'incomodo': 12757, 'divulgação': 12758, 'reconheci': 12759, '300k': 12760, 'inédito': 12761, 'méritos': 12762, 'sozinha': 12763, 'induzem': 12764, 'miga': 12765, 'bater': 12766, 'video': 12767, 'tedtalk': 12768, 'digitalmente': 12769, 'cedi': 12770, 'ânimos': 12771, 'exacerbados': 12772, 'entonação': 12773, 'salvam': 12774, 'guardaria': 12775, 'postaria': 12776, 'propagar': 12777, '“negativa”': 12778, 'registrada': 12779, 'claras': 12780, 'preocupada': 12781, 'poetisa': 12782, 'jeitos': 12783, 'enfrentando': 12784, '208': 12785, 'rabiscos': 12786, 'ocasionais': 12787, 'temáticos': 12788, 'saiba': 12789, 'vergonhosamente': 12790, 'derivativo': 12791, 'emprega': 12792, 'fragmentos': 12793, 'sentença': 12794, 'deslocadas': 12795, 'incongruentes': 12796, 'enlouqueceram': 12797, 'ficariam': 12798, 'líricos': 12799, 'aproximaram': 12800, 'impressionaram': 12801, 'superestimado': 12802, 'aclamado': 12803, 'ângulo': 12804, 'desconectadas': 12805, 'aparecerem': 12806, 'miseráveis': 12807, 'victor': 12808, 'naify': 12809, 'entretê': 12810, 'delongada': 12811, 'tuvesse': 12812, 'choraria': 12813, 'moyes': 12814, 'una': 12815, 'elena': 12816, 'ferrante': 12817, 'egocêntrico': 12818, 'suportava': 12819, 'dispôs': 12820, 'recusou': 12821, 'alijado': 12822, 'acrescentam': 12823, 'mérito': 12824, 'delicados': 12825, 'eutanásia': 12826, 'suicídio': 12827, 'tetraplégicos': 12828, 'tavez': 12829, 'captado': 12830, 'entediou': 12831, 'tetraplégico': 12832, 'fraquinha': 12833, 'emilia': 12834, 'clarke': 12835, 'sam': 12836, 'clafin': 12837, 'mediocridade': 12838, 'felicidads': 12839, 'entretando': 12840, 'comunzinho': 12841, 'crível': 12842, 'encarada': 12843, 'engrenar': 12844, 'lino': 12845, '👎🏻': 12846, 'rodeios': 12847, 'minuciosos': 12848, 'manias': 12849, 'esboço': 12850, 'aquém': 12851, 'entregou': 12852, 'proporcionaram': 12853, 'bill': 12854, 'gates': 12855, 'ferrei': 12856, 'obsessivos': 12857, 'explique': 12858, 'verossímeis': 12859, 'verosimilhança': 12860, 'john': 12861, 'green': 12862, 'chatíssimo': 12863, 'recheada': 12864, 'concordância': 12865, 'infiel': 12866, 'istoria': 12867, 'embromou': 12868, 'violão': 12869, 'expandindo': 12870, 'perceberam': 12871, 'terminaria': 12872, 'narradores': 12873, 'descreva': 12874, 'thriler': 12875, 'tensão': 12876, 'causado': 12877, 'elaboradas': 12878, 'fluido': 12879, 'desmascarada': 12880, 'recebia': 12881}\n"
          ]
        }
      ]
    },
    {
      "cell_type": "code",
      "metadata": {
        "id": "wkJlHkxe7R6u",
        "colab": {
          "base_uri": "https://localhost:8080/"
        },
        "outputId": "78fa1607-eea3-4add-f6b0-b1a500c686b2"
      },
      "source": [
        "x_train[0]"
      ],
      "execution_count": null,
      "outputs": [
        {
          "output_type": "execute_result",
          "data": {
            "text/plain": [
              "array([   6,  115, 6091,   38,    5,    3,    7,   26,  291,  120, 1158,\n",
              "        445,    1, 1012,   80,  112,    1,  519,    8, 1159,    0,    0,\n",
              "          0,    0,    0,    0,    0,    0,    0,    0,    0,    0,    0,\n",
              "          0,    0,    0,    0,    0,    0,    0,    0,    0,    0,    0,\n",
              "          0,    0,    0,    0,    0,    0,    0,    0,    0,    0,    0,\n",
              "          0,    0,    0,    0,    0,    0,    0,    0,    0,    0,    0,\n",
              "          0,    0,    0,    0,    0,    0,    0,    0,    0,    0,    0,\n",
              "          0,    0,    0,    0,    0,    0,    0,    0,    0,    0,    0,\n",
              "          0,    0,    0,    0,    0,    0,    0,    0,    0,    0,    0,\n",
              "          0,    0,    0,    0,    0,    0,    0,    0,    0,    0,    0,\n",
              "          0,    0,    0,    0,    0,    0,    0,    0,    0,    0,    0,\n",
              "          0,    0,    0,    0,    0,    0,    0,    0,    0,    0,    0,\n",
              "          0,    0,    0,    0,    0,    0,    0,    0,    0,    0,    0,\n",
              "          0,    0,    0,    0,    0,    0,    0,    0,    0,    0,    0,\n",
              "          0,    0,    0,    0,    0,    0,    0,    0,    0,    0,    0,\n",
              "          0,    0,    0,    0,    0,    0,    0,    0,    0,    0,    0,\n",
              "          0,    0,    0,    0,    0,    0,    0,    0,    0,    0,    0,\n",
              "          0,    0,    0,    0,    0,    0,    0,    0,    0,    0,    0,\n",
              "          0,    0,    0,    0,    0,    0,    0,    0,    0,    0,    0,\n",
              "          0,    0,    0,    0,    0,    0,    0,    0,    0,    0,    0,\n",
              "          0,    0,    0,    0,    0,    0,    0,    0,    0,    0,    0,\n",
              "          0,    0,    0,    0,    0,    0,    0,    0,    0,    0,    0,\n",
              "          0,    0,    0,    0,    0,    0,    0,    0,    0,    0,    0,\n",
              "          0,    0,    0,    0,    0,    0,    0,    0,    0,    0,    0,\n",
              "          0,    0,    0,    0,    0,    0,    0,    0,    0,    0,    0,\n",
              "          0,    0,    0,    0,    0,    0,    0,    0,    0,    0,    0,\n",
              "          0,    0,    0,    0,    0,    0,    0,    0,    0,    0,    0,\n",
              "          0,    0,    0], dtype=int32)"
            ]
          },
          "metadata": {},
          "execution_count": 26
        }
      ]
    },
    {
      "cell_type": "code",
      "metadata": {
        "id": "zMdXljoaoYgf",
        "colab": {
          "base_uri": "https://localhost:8080/"
        },
        "outputId": "35aa274e-3787-405c-9fce-40a7b08a2707"
      },
      "source": [
        "# Construir o modelo convlucional LSTM, usando os rótulos auxiliares como perda para mesclar as informações\n",
        "def create_model(no_of_vocab, embedding_dimension, word_index, embedding_matrix=0):\n",
        "    words = Input(shape=(x_train.shape[1:])) \n",
        "\n",
        "    x = Embedding(input_dim=vocab_size, output_dim=emdedding_size, weights=[pretrained_weights], trainable=True)(words)\n",
        "    x = Conv1D(128, 3)(x)\n",
        "    x = Conv1D(128, 3)(x)\n",
        "    x = Conv1D(64, 3)(x)\n",
        "    x = LSTM(128, return_sequences=True)(x)\n",
        "    x = LSTM(64, return_sequences=True)(x)\n",
        "    x = LSTM(32, return_sequences=False)(x)\n",
        "    x = layers.Dropout(0.2)(x)\n",
        "\n",
        "    x = layers.Dense(128, activation = 'relu')(x)\n",
        "    x = layers.Dropout(0.2)(x)\n",
        "\n",
        "    x = layers.Dense(64, activation = 'relu')(x)\n",
        "    x = layers.Dropout(0.2)(x)\n",
        "\n",
        "    x = layers.Dense(32, activation = 'relu')(x)\n",
        "\n",
        "    x = layers.Dropout(0.2)(x)\n",
        "\n",
        "    aux_result = Dense(2, activation='softmax')(x)\n",
        "\n",
        "    model = Model(inputs=words, outputs=[aux_result])\n",
        "    model.summary()\n",
        "\n",
        "    return model\n",
        "\n",
        "\n",
        "#Criação do modelo\n",
        "model = create_model(no_of_vocab, 300, word_index)\n",
        "\n",
        "#Compile do modelo\n",
        "model.compile(loss='binary_crossentropy', optimizer=tf.keras.optimizers.Adam(learning_rate=1e-3), metrics=['accuracy'],)"
      ],
      "execution_count": null,
      "outputs": [
        {
          "output_type": "stream",
          "name": "stdout",
          "text": [
            "Model: \"model\"\n",
            "_________________________________________________________________\n",
            " Layer (type)                Output Shape              Param #   \n",
            "=================================================================\n",
            " input_1 (InputLayer)        [(None, 300)]             0         \n",
            "                                                                 \n",
            " embedding (Embedding)       (None, 300, 300)          3819000   \n",
            "                                                                 \n",
            " conv1d (Conv1D)             (None, 298, 128)          115328    \n",
            "                                                                 \n",
            " conv1d_1 (Conv1D)           (None, 296, 128)          49280     \n",
            "                                                                 \n",
            " conv1d_2 (Conv1D)           (None, 294, 64)           24640     \n",
            "                                                                 \n",
            " lstm (LSTM)                 (None, 294, 128)          98816     \n",
            "                                                                 \n",
            " lstm_1 (LSTM)               (None, 294, 64)           49408     \n",
            "                                                                 \n",
            " lstm_2 (LSTM)               (None, 32)                12416     \n",
            "                                                                 \n",
            " dropout (Dropout)           (None, 32)                0         \n",
            "                                                                 \n",
            " dense (Dense)               (None, 128)               4224      \n",
            "                                                                 \n",
            " dropout_1 (Dropout)         (None, 128)               0         \n",
            "                                                                 \n",
            " dense_1 (Dense)             (None, 64)                8256      \n",
            "                                                                 \n",
            " dropout_2 (Dropout)         (None, 64)                0         \n",
            "                                                                 \n",
            " dense_2 (Dense)             (None, 32)                2080      \n",
            "                                                                 \n",
            " dropout_3 (Dropout)         (None, 32)                0         \n",
            "                                                                 \n",
            " dense_3 (Dense)             (None, 2)                 66        \n",
            "                                                                 \n",
            "=================================================================\n",
            "Total params: 4,183,514\n",
            "Trainable params: 4,183,514\n",
            "Non-trainable params: 0\n",
            "_________________________________________________________________\n"
          ]
        }
      ]
    },
    {
      "cell_type": "code",
      "metadata": {
        "id": "eBQx9i6aoYgi",
        "colab": {
          "base_uri": "https://localhost:8080/"
        },
        "outputId": "e971ea60-1e84-450b-8d25-b6fa5725b39c"
      },
      "source": [
        "#Treinamento\n",
        "print(\"Training Start\")\n",
        "start_time = dt.now()\n",
        "\n",
        "\n",
        "history = model.fit(x_train, y_train, epochs=200, batch_size=32,\n",
        "                    validation_split=.20, verbose=1,\n",
        "                    callbacks=keras.callbacks.EarlyStopping(patience=5))\n",
        "\n",
        "print(\"Training Complete, time elapsed =\", dt.now()-start_time)"
      ],
      "execution_count": null,
      "outputs": [
        {
          "output_type": "stream",
          "name": "stdout",
          "text": [
            "Training Start\n",
            "Epoch 1/200\n",
            "43/43 [==============================] - 20s 74ms/step - loss: 0.6950 - accuracy: 0.4930 - val_loss: 0.6930 - val_accuracy: 0.5265\n",
            "Epoch 2/200\n",
            "43/43 [==============================] - 3s 72ms/step - loss: 0.6935 - accuracy: 0.4996 - val_loss: 0.6933 - val_accuracy: 0.4735\n",
            "Epoch 3/200\n",
            "43/43 [==============================] - 2s 47ms/step - loss: 0.6931 - accuracy: 0.5092 - val_loss: 0.6938 - val_accuracy: 0.4735\n",
            "Epoch 4/200\n",
            "43/43 [==============================] - 2s 43ms/step - loss: 0.6935 - accuracy: 0.5151 - val_loss: 0.6929 - val_accuracy: 0.4794\n",
            "Epoch 5/200\n",
            "43/43 [==============================] - 2s 44ms/step - loss: 0.6943 - accuracy: 0.5224 - val_loss: 0.6949 - val_accuracy: 0.4765\n",
            "Epoch 6/200\n",
            "43/43 [==============================] - 2s 43ms/step - loss: 0.6920 - accuracy: 0.5040 - val_loss: 0.6925 - val_accuracy: 0.4735\n",
            "Epoch 7/200\n",
            "43/43 [==============================] - 2s 43ms/step - loss: 0.6878 - accuracy: 0.5350 - val_loss: 0.6793 - val_accuracy: 0.6059\n",
            "Epoch 8/200\n",
            "43/43 [==============================] - 2s 44ms/step - loss: 0.6808 - accuracy: 0.5541 - val_loss: 0.6892 - val_accuracy: 0.5588\n",
            "Epoch 9/200\n",
            "43/43 [==============================] - 2s 44ms/step - loss: 0.6813 - accuracy: 0.5681 - val_loss: 0.6757 - val_accuracy: 0.6000\n",
            "Epoch 10/200\n",
            "43/43 [==============================] - 2s 47ms/step - loss: 0.6902 - accuracy: 0.5173 - val_loss: 0.6920 - val_accuracy: 0.5147\n",
            "Epoch 11/200\n",
            "43/43 [==============================] - 2s 52ms/step - loss: 0.6902 - accuracy: 0.5298 - val_loss: 0.6922 - val_accuracy: 0.5412\n",
            "Epoch 12/200\n",
            "43/43 [==============================] - 2s 44ms/step - loss: 0.6767 - accuracy: 0.5703 - val_loss: 0.6888 - val_accuracy: 0.5500\n",
            "Epoch 13/200\n",
            "43/43 [==============================] - 2s 44ms/step - loss: 0.6720 - accuracy: 0.5872 - val_loss: 0.6882 - val_accuracy: 0.5647\n",
            "Epoch 14/200\n",
            "43/43 [==============================] - 2s 43ms/step - loss: 0.6786 - accuracy: 0.5872 - val_loss: 0.6705 - val_accuracy: 0.5882\n",
            "Epoch 15/200\n",
            "43/43 [==============================] - 2s 43ms/step - loss: 0.6478 - accuracy: 0.6468 - val_loss: 0.6701 - val_accuracy: 0.6088\n",
            "Epoch 16/200\n",
            "43/43 [==============================] - 2s 43ms/step - loss: 0.6378 - accuracy: 0.6542 - val_loss: 0.7007 - val_accuracy: 0.5765\n",
            "Epoch 17/200\n",
            "43/43 [==============================] - 2s 42ms/step - loss: 0.6301 - accuracy: 0.6740 - val_loss: 0.6907 - val_accuracy: 0.5941\n",
            "Epoch 18/200\n",
            "43/43 [==============================] - 2s 42ms/step - loss: 0.6273 - accuracy: 0.6681 - val_loss: 0.7039 - val_accuracy: 0.6118\n",
            "Epoch 19/200\n",
            "43/43 [==============================] - 2s 43ms/step - loss: 0.6460 - accuracy: 0.6578 - val_loss: 0.6787 - val_accuracy: 0.5853\n",
            "Epoch 20/200\n",
            "43/43 [==============================] - 2s 43ms/step - loss: 0.6214 - accuracy: 0.6777 - val_loss: 0.7025 - val_accuracy: 0.5912\n",
            "Training Complete, time elapsed = 0:00:58.018207\n"
          ]
        }
      ]
    },
    {
      "cell_type": "code",
      "metadata": {
        "id": "CwtRkdsSmBA1",
        "colab": {
          "base_uri": "https://localhost:8080/",
          "height": 515
        },
        "outputId": "70b8270a-92eb-4c89-bfe2-e6d54880fecd"
      },
      "source": [
        "plt.figure(figsize=(10,8))\n",
        "plt.title(f\"Gráfico de Loss\")\n",
        "plt.xlabel(\"Épocas\")\n",
        "plt.ylabel(\"Valor\")\n",
        "plt.plot(history.history['loss'], label=\"loss\")\n",
        "plt.plot(history.history['val_loss'], label=\"val_loss\")\n",
        "plt.legend()\n",
        "plt.show()"
      ],
      "execution_count": null,
      "outputs": [
        {
          "output_type": "display_data",
          "data": {
            "text/plain": [
              "<Figure size 720x576 with 1 Axes>"
            ],
            "image/png": "[encoded data removed]"
          },
          "metadata": {
            "needs_background": "light"
          }
        }
      ]
    },
    {
      "cell_type": "code",
      "metadata": {
        "id": "uRItzQ6kmBA2",
        "colab": {
          "base_uri": "https://localhost:8080/",
          "height": 515
        },
        "outputId": "742f683e-2e68-446d-cf16-02cc1d258369"
      },
      "source": [
        "plt.figure(figsize=(10,8))\n",
        "plt.title(f\"Gráfico de Accuracy\")\n",
        "plt.xlabel(\"Épocas\")\n",
        "plt.ylabel(\"Valor\")\n",
        "plt.plot(history.history['accuracy'], label=\"accuracy\")\n",
        "plt.plot(history.history['val_accuracy'], label=\"val_accuracy\")\n",
        "plt.legend()\n",
        "plt.show()"
      ],
      "execution_count": null,
      "outputs": [
        {
          "output_type": "display_data",
          "data": {
            "text/plain": [
              "<Figure size 720x576 with 1 Axes>"
            ],
            "image/png": "[encoded data removed]"
          },
          "metadata": {
            "needs_background": "light"
          }
        }
      ]
    },
    {
      "cell_type": "code",
      "metadata": {
        "id": "MSfoYUmNmBA3"
      },
      "source": [
        "#Predict do modelo\n",
        "y_pred = np.argmax(model.predict(x_test), axis=1)"
      ],
      "execution_count": null,
      "outputs": []
    },
    {
      "cell_type": "code",
      "metadata": {
        "colab": {
          "base_uri": "https://localhost:8080/",
          "height": 286
        },
        "id": "Ijvo1es00PI0",
        "outputId": "8ec9f063-9a20-4bca-adfd-7d5ca57ce688"
      },
      "source": [
        "#Matriz de Confusão da classificação do modelo\n",
        "cm = confusion_matrix(y_test.argmax(axis=1), y_pred, normalize='true')\n",
        "sns.heatmap(cm, annot=True, cmap='Blues_r')"
      ],
      "execution_count": null,
      "outputs": [
        {
          "output_type": "execute_result",
          "data": {
            "text/plain": [
              "<matplotlib.axes._subplots.AxesSubplot at 0x7fefdd7f0810>"
            ]
          },
          "metadata": {},
          "execution_count": 33
        },
        {
          "output_type": "display_data",
          "data": {
            "text/plain": [
              "<Figure size 432x288 with 2 Axes>"
            ],
            "image/png": "[encoded data removed]"
          },
          "metadata": {
            "needs_background": "light"
          }
        }
      ]
    },
    {
      "cell_type": "code",
      "metadata": {
        "id": "l7wGFkUSptsn",
        "colab": {
          "base_uri": "https://localhost:8080/"
        },
        "outputId": "dfb16dc9-b7b0-4adb-8ec9-d7422178b1d9"
      },
      "source": [
        "#Outras métricas de avaliação\n",
        "print(classification_report(y_test.argmax(axis=1), y_pred))"
      ],
      "execution_count": null,
      "outputs": [
        {
          "output_type": "stream",
          "name": "stdout",
          "text": [
            "              precision    recall  f1-score   support\n",
            "\n",
            "           0       0.62      0.50      0.56       150\n",
            "           1       0.58      0.70      0.64       150\n",
            "\n",
            "    accuracy                           0.60       300\n",
            "   macro avg       0.60      0.60      0.60       300\n",
            "weighted avg       0.60      0.60      0.60       300\n",
            "\n"
          ]
        }
      ]
    },
    {
      "cell_type": "code",
      "metadata": {
        "id": "MsUl5Eqivoih"
      },
      "source": [
        "#Criando dataframes para os comentários de teste e seus respectivos predicts\n",
        "df_pred = pd.DataFrame(data=X_test_df)\n",
        "df_pred_y = pd.DataFrame(data=y_pred, columns=['Predict'])"
      ],
      "execution_count": null,
      "outputs": []
    },
    {
      "cell_type": "code",
      "metadata": {
        "colab": {
          "base_uri": "https://localhost:8080/",
          "height": 424
        },
        "id": "79tHrybJvoim",
        "outputId": "d8e32c2b-943d-44b0-89d7-0ca1514572ce"
      },
      "source": [
        "#Concatenando os datasets\n",
        "df_predict = pd.concat([df_pred, df_pred_y], axis=1, ignore_index=True)\n",
        "df_predict.columns = ['Comentarios', 'Predict']\n",
        "df_predict"
      ],
      "execution_count": null,
      "outputs": [
        {
          "output_type": "execute_result",
          "data": {
            "text/plain": [
              "                                           Comentarios  Predict\n",
              "0    foi meu primeiro contato literário com o autor...        0\n",
              "1    meu box chegou com alguma bolhas nas capas de ...        1\n",
              "2    diante de tantos comentários espinafrando a ve...        1\n",
              "3    boa estória quis ler antes de ver o filme que ...        0\n",
              "4    se você pretende ler esse livro obviamente eu ...        0\n",
              "..                                                 ...      ...\n",
              "295  que casal é esse gente você inicia o livro que...        1\n",
              "296  um livro prático com ótimas dicas e exemplos r...        0\n",
              "297  a obra de arthur conan doyale é simplesmente e...        1\n",
              "298  livro que deveria ser lido por todos principal...        1\n",
              "299  um livro muito bom para mostrar o quanto os no...        1\n",
              "\n",
              "[300 rows x 2 columns]"
            ],
            "text/html": [
              "\n",
              "  <div id=\"df-cb714ddc-87a3-4051-b52c-8cc79c234185\">\n",
              "    <div class=\"colab-df-container\">\n",
              "      <div>\n",
              "<style scoped>\n",
              "    .dataframe tbody tr th:only-of-type {\n",
              "        vertical-align: middle;\n",
              "    }\n",
              "\n",
              "    .dataframe tbody tr th {\n",
              "        vertical-align: top;\n",
              "    }\n",
              "\n",
              "    .dataframe thead th {\n",
              "        text-align: right;\n",
              "    }\n",
              "</style>\n",
              "<table border=\"1\" class=\"dataframe\">\n",
              "  <thead>\n",
              "    <tr style=\"text-align: right;\">\n",
              "      <th></th>\n",
              "      <th>Comentarios</th>\n",
              "      <th>Predict</th>\n",
              "    </tr>\n",
              "  </thead>\n",
              "  <tbody>\n",
              "    <tr>\n",
              "      <th>0</th>\n",
              "      <td>foi meu primeiro contato literário com o autor...</td>\n",
              "      <td>0</td>\n",
              "    </tr>\n",
              "    <tr>\n",
              "      <th>1</th>\n",
              "      <td>meu box chegou com alguma bolhas nas capas de ...</td>\n",
              "      <td>1</td>\n",
              "    </tr>\n",
              "    <tr>\n",
              "      <th>2</th>\n",
              "      <td>diante de tantos comentários espinafrando a ve...</td>\n",
              "      <td>1</td>\n",
              "    </tr>\n",
              "    <tr>\n",
              "      <th>3</th>\n",
              "      <td>boa estória quis ler antes de ver o filme que ...</td>\n",
              "      <td>0</td>\n",
              "    </tr>\n",
              "    <tr>\n",
              "      <th>4</th>\n",
              "      <td>se você pretende ler esse livro obviamente eu ...</td>\n",
              "      <td>0</td>\n",
              "    </tr>\n",
              "    <tr>\n",
              "      <th>...</th>\n",
              "      <td>...</td>\n",
              "      <td>...</td>\n",
              "    </tr>\n",
              "    <tr>\n",
              "      <th>295</th>\n",
              "      <td>que casal é esse gente você inicia o livro que...</td>\n",
              "      <td>1</td>\n",
              "    </tr>\n",
              "    <tr>\n",
              "      <th>296</th>\n",
              "      <td>um livro prático com ótimas dicas e exemplos r...</td>\n",
              "      <td>0</td>\n",
              "    </tr>\n",
              "    <tr>\n",
              "      <th>297</th>\n",
              "      <td>a obra de arthur conan doyale é simplesmente e...</td>\n",
              "      <td>1</td>\n",
              "    </tr>\n",
              "    <tr>\n",
              "      <th>298</th>\n",
              "      <td>livro que deveria ser lido por todos principal...</td>\n",
              "      <td>1</td>\n",
              "    </tr>\n",
              "    <tr>\n",
              "      <th>299</th>\n",
              "      <td>um livro muito bom para mostrar o quanto os no...</td>\n",
              "      <td>1</td>\n",
              "    </tr>\n",
              "  </tbody>\n",
              "</table>\n",
              "<p>300 rows × 2 columns</p>\n",
              "</div>\n",
              "      <button class=\"colab-df-convert\" onclick=\"convertToInteractive('df-cb714ddc-87a3-4051-b52c-8cc79c234185')\"\n",
              "              title=\"Convert this dataframe to an interactive table.\"\n",
              "              style=\"display:none;\">\n",
              "        \n",
              "  <svg xmlns=\"http://www.w3.org/2000/svg\" height=\"24px\"viewBox=\"0 0 24 24\"\n",
              "       width=\"24px\">\n",
              "    <path d=\"M0 0h24v24H0V0z\" fill=\"none\"/>\n",
              "    <path d=\"M18.56 5.44l.94 2.06.94-2.06 2.06-.94-2.06-.94-.94-2.06-.94 2.06-2.06.94zm-11 1L8.5 8.5l.94-2.06 2.06-.94-2.06-.94L8.5 2.5l-.94 2.06-2.06.94zm10 10l.94 2.06.94-2.06 2.06-.94-2.06-.94-.94-2.06-.94 2.06-2.06.94z\"/><path d=\"M17.41 7.96l-1.37-1.37c-.4-.4-.92-.59-1.43-.59-.52 0-1.04.2-1.43.59L10.3 9.45l-7.72 7.72c-.78.78-.78 2.05 0 2.83L4 21.41c.39.39.9.59 1.41.59.51 0 1.02-.2 1.41-.59l7.78-7.78 2.81-2.81c.8-.78.8-2.07 0-2.86zM5.41 20L4 18.59l7.72-7.72 1.47 1.35L5.41 20z\"/>\n",
              "  </svg>\n",
              "      </button>\n",
              "      \n",
              "  <style>\n",
              "    .colab-df-container {\n",
              "      display:flex;\n",
              "      flex-wrap:wrap;\n",
              "      gap: 12px;\n",
              "    }\n",
              "\n",
              "    .colab-df-convert {\n",
              "      background-color: #E8F0FE;\n",
              "      border: none;\n",
              "      border-radius: 50%;\n",
              "      cursor: pointer;\n",
              "      display: none;\n",
              "      fill: #1967D2;\n",
              "      height: 32px;\n",
              "      padding: 0 0 0 0;\n",
              "      width: 32px;\n",
              "    }\n",
              "\n",
              "    .colab-df-convert:hover {\n",
              "      background-color: #E2EBFA;\n",
              "      box-shadow: 0px 1px 2px rgba(60, 64, 67, 0.3), 0px 1px 3px 1px rgba(60, 64, 67, 0.15);\n",
              "      fill: #174EA6;\n",
              "    }\n",
              "\n",
              "    [theme=dark] .colab-df-convert {\n",
              "      background-color: #3B4455;\n",
              "      fill: #D2E3FC;\n",
              "    }\n",
              "\n",
              "    [theme=dark] .colab-df-convert:hover {\n",
              "      background-color: #434B5C;\n",
              "      box-shadow: 0px 1px 3px 1px rgba(0, 0, 0, 0.15);\n",
              "      filter: drop-shadow(0px 1px 2px rgba(0, 0, 0, 0.3));\n",
              "      fill: #FFFFFF;\n",
              "    }\n",
              "  </style>\n",
              "\n",
              "      <script>\n",
              "        const buttonEl =\n",
              "          document.querySelector('#df-cb714ddc-87a3-4051-b52c-8cc79c234185 button.colab-df-convert');\n",
              "        buttonEl.style.display =\n",
              "          google.colab.kernel.accessAllowed ? 'block' : 'none';\n",
              "\n",
              "        async function convertToInteractive(key) {\n",
              "          const element = document.querySelector('#df-cb714ddc-87a3-4051-b52c-8cc79c234185');\n",
              "          const dataTable =\n",
              "            await google.colab.kernel.invokeFunction('convertToInteractive',\n",
              "                                                     [key], {});\n",
              "          if (!dataTable) return;\n",
              "\n",
              "          const docLinkHtml = 'Like what you see? Visit the ' +\n",
              "            '<a target=\"_blank\" href=https://colab.research.google.com/notebooks/data_table.ipynb>data table notebook</a>'\n",
              "            + ' to learn more about interactive tables.';\n",
              "          element.innerHTML = '';\n",
              "          dataTable['output_type'] = 'display_data';\n",
              "          await google.colab.output.renderOutput(dataTable, element);\n",
              "          const docLink = document.createElement('div');\n",
              "          docLink.innerHTML = docLinkHtml;\n",
              "          element.appendChild(docLink);\n",
              "        }\n",
              "      </script>\n",
              "    </div>\n",
              "  </div>\n",
              "  "
            ]
          },
          "metadata": {},
          "execution_count": 36
        }
      ]
    },
    {
      "cell_type": "code",
      "metadata": {
        "colab": {
          "base_uri": "https://localhost:8080/"
        },
        "id": "_xWTDxDWvoip",
        "outputId": "99409314-223a-4d74-bb7d-47d0ac60ad80"
      },
      "source": [
        "#Mostrando algumas classificações\n",
        "for i in range(0,11):\n",
        "  print('Comentário', i,':', df_predict['Comentarios'][i])\n",
        "  print('Predict', i,':', df_predict['Predict'][i])"
      ],
      "execution_count": null,
      "outputs": [
        {
          "output_type": "stream",
          "name": "stdout",
          "text": [
            "Comentário 0 : foi meu primeiro contato literário com o autor e achei o livro bastante superficial não acrescentou muita informação nova \n",
            "Predict 0 : 0\n",
            "Comentário 1 : meu box chegou com alguma bolhas nas capas de alguns livros e a orelha de um dos livros está bem surrada \n",
            "Predict 1 : 1\n",
            "Comentário 2 : diante de tantos comentários espinafrando a versão digital para o kindle pela má formatação e pela falta de respeito ao consumidor de obras vendidas através da amazon com tantos problemas tomei a decisão de comprar a versão impressa papel li todos os comentários e um mais recente de maio de 2014 relata que o problema permanece lamentável \n",
            "Predict 2 : 1\n",
            "Comentário 3 : boa estória quis ler antes de ver o filme que na época fez sucesso a experiência de usar o glossário na versão digital foi massacrante pois tinha que marcar a página para voltar onde tinha parado e a linguagem diferente causava confusão ao tentar continuar a leitura tendo muitas vezes que reler a frase ou parágrafo \n",
            "Predict 3 : 0\n",
            "Comentário 4 : se você pretende ler esse livro obviamente eu espero já leu os outros dois então não desanime pelo começo vai parecer confuso mas não pare vai valer a pena \n",
            "Predict 4 : 0\n",
            "Comentário 5 : não é porque o tema é relevante que o livro tem que necessariamente ser bom tiveram poucos bons momentos mas no geral me senti lendo frases de caminhão ou textos bregas de facebook \n",
            "Predict 5 : 1\n",
            "Comentário 6 : livro mais perfeito impossível capa dura ilustrações incríveis a rocco está de parabéns por esse trabalho esplêndido assim também pelo frete e pelo atendimento da amazon que é sempre perfeito amando muuuuito esse livro lt 3 \n",
            "Predict 6 : 1\n",
            "Comentário 7 : fanfic das mais toscas que já vi deturpa vários personagens como o rony e o próprio harry e os personagens novos são completamente sentido \n",
            "Predict 7 : 1\n",
            "Comentário 8 : tudo que poderia falar de uma boa análise da guerra do paraguai e do surgimento do samba foi suplantado por um discurso superficial e rasteiro da metade do livro em diante parece um manifesto anticomunista sua defesa incondicional ao golpe de 1964 foi algo desmedido e que a meu ver perdeu toda a relevância de uma pesquisa que virou pura retórica \n",
            "Predict 8 : 0\n",
            "Comentário 9 : livro muito velho nao está em estado de conservação partes do livro estavam saindo insatisfeita não recomendo nao recomendo nao recomendo \n",
            "Predict 9 : 1\n",
            "Comentário 10 : não gostei são várias histórias desconectadas e muito chatas além de aparecerem vários erros de português essa é minha avaliação \n",
            "Predict 10 : 1\n"
          ]
        }
      ]
    },
    {
      "cell_type": "code",
      "metadata": {
        "id": "zJIqBDlEvoiz"
      },
      "source": [
        "#Criando um comentário negativo\n",
        "frase = ['Esse livro é péssimo, me arrependo de pagar 56 reais nisso']\n",
        "frase = tokenization.texts_to_sequences(frase)\n",
        "frase_pad = sequence.pad_sequences(frase,maxlen= 300)"
      ],
      "execution_count": null,
      "outputs": []
    },
    {
      "cell_type": "code",
      "metadata": {
        "colab": {
          "base_uri": "https://localhost:8080/"
        },
        "id": "Drt_DzDevoi0",
        "outputId": "8d678f3b-91da-4edf-a62d-32626ec01d9a"
      },
      "source": [
        "#Classificando o comentário criado\n",
        "#Classe 0 = Positivo\n",
        "#Classe 1 = Negativo\n",
        "frase_pred = model.predict(frase_pad)\n",
        "frase_pred.argmax()"
      ],
      "execution_count": null,
      "outputs": [
        {
          "output_type": "execute_result",
          "data": {
            "text/plain": [
              "1"
            ]
          },
          "metadata": {},
          "execution_count": 97
        }
      ]
    },
    {
      "cell_type": "code",
      "metadata": {
        "id": "wd_5dsAKvoi1"
      },
      "source": [
        "#Criando um comentário positvo\n",
        "frase2 = ['Me impressionei bastante com essa obra. Achava que ia ser mais um clichê entediante porem acabou sendo muito bom e divertido']\n",
        "frase2 = tokenization.texts_to_sequences(frase2)\n",
        "frase2_pad = sequence.pad_sequences(frase2,maxlen= 300)"
      ],
      "execution_count": null,
      "outputs": []
    },
    {
      "cell_type": "code",
      "metadata": {
        "colab": {
          "base_uri": "https://localhost:8080/"
        },
        "id": "Qvunu4uXvoi1",
        "outputId": "7a222f04-7d5c-4498-d667-14a0679d0157"
      },
      "source": [
        "#Classificando o comentário criado\n",
        "frase_pred2 = model.predict(frase2_pad)\n",
        "frase_pred2.argmax()"
      ],
      "execution_count": null,
      "outputs": [
        {
          "output_type": "execute_result",
          "data": {
            "text/plain": [
              "1"
            ]
          },
          "metadata": {},
          "execution_count": 99
        }
      ]
    },
    {
      "cell_type": "code",
      "metadata": {
        "id": "7pu9uQKVvoi6"
      },
      "source": [
        "#Salvando o modelo\n",
        "model.save('LSTM_model.h5')"
      ],
      "execution_count": null,
      "outputs": []
    },
    {
      "cell_type": "markdown",
      "metadata": {
        "id": "bt89Vn_phFez"
      },
      "source": [
        "#GRU"
      ]
    },
    {
      "cell_type": "code",
      "metadata": {
        "id": "GCNdPMLbvtWS"
      },
      "source": [
        "# Realizando a divisão dos dados de treino e teste \n",
        "# O tamanho do conjunto de teste é definido com 25% do total de dados\n",
        "X_train, X_test, y_train, y_test = train_test_split(X, y, shuffle=True, test_size = 0.25)"
      ],
      "execution_count": null,
      "outputs": []
    },
    {
      "cell_type": "markdown",
      "source": [],
      "metadata": {
        "id": "n2hYUxpkchVH"
      }
    },
    {
      "cell_type": "code",
      "metadata": {
        "id": "H9lk-D0EyNk4"
      },
      "source": [
        "#Salvando os comentários de teste\n",
        "X_test_df = pd.DataFrame(X_test, columns=['Comentários'])"
      ],
      "execution_count": null,
      "outputs": []
    },
    {
      "cell_type": "code",
      "metadata": {
        "colab": {
          "base_uri": "https://localhost:8080/"
        },
        "id": "vOSTTJa5v8si",
        "outputId": "e70b2ad2-9aa5-4806-c819-c560c1218db2"
      },
      "source": [
        "print('X_train dimension:', X_train.shape)\n",
        "print('y_train dimension:', y_train.shape)\n",
        "print('X_test dimension:', X_test.shape)\n",
        "print('y_test dimension:', y_test.shape)"
      ],
      "execution_count": null,
      "outputs": [
        {
          "output_type": "stream",
          "name": "stdout",
          "text": [
            "X_train dimension: (1499,)\n",
            "y_train dimension: (1499,)\n",
            "X_test dimension: (500,)\n",
            "y_test dimension: (500,)\n"
          ]
        }
      ]
    },
    {
      "cell_type": "code",
      "metadata": {
        "id": "MPIgBrTZrq_D"
      },
      "source": [
        "#Realizando a tokenização \n",
        "qnt_token = 30000\n",
        "max_sequence_length = 100\n",
        "tokenizer = Tokenizer(num_words = qnt_token)\n",
        "\n",
        "#Criando um vocabulário com os texto do treinamento\n",
        "tokenizer.fit_on_texts(list(X_train))\n",
        "\n",
        "#Convertendo os textos para uma sequência de inteiros\n",
        "X_train_seq = tokenizer.texts_to_sequences(X_train)\n",
        "X_test_seq = tokenizer.texts_to_sequences(X_test)\n",
        "         \n",
        "#Fixando o tamanho da sequência em um tamanho único\n",
        "X_train_pad  = pad_sequences(X_train_seq, maxlen = max_sequence_length)\n",
        "X_test_pad = pad_sequences(X_test_seq, maxlen = max_sequence_length)"
      ],
      "execution_count": null,
      "outputs": []
    },
    {
      "cell_type": "code",
      "metadata": {
        "colab": {
          "base_uri": "https://localhost:8080/"
        },
        "id": "TreqUHFKsM2y",
        "outputId": "310820b3-5839-41f0-e624-25c6e10dba9e"
      },
      "source": [
        "#Novo tamanho dos dados de treino\n",
        "X_train_pad.shape"
      ],
      "execution_count": null,
      "outputs": [
        {
          "output_type": "execute_result",
          "data": {
            "text/plain": [
              "(1499, 100)"
            ]
          },
          "metadata": {},
          "execution_count": 47
        }
      ]
    },
    {
      "cell_type": "code",
      "metadata": {
        "id": "fSptX-bksw7q",
        "colab": {
          "base_uri": "https://localhost:8080/"
        },
        "outputId": "a068003d-d128-48e1-d0bd-25c5c331b5d6"
      },
      "source": [
        "word_index = tokenizer.word_index\n",
        "size_of_vocabulary = len(tokenizer.word_index) + 1 #+1 for padding\n",
        "size_of_vocabulary"
      ],
      "execution_count": null,
      "outputs": [
        {
          "output_type": "execute_result",
          "data": {
            "text/plain": [
              "10739"
            ]
          },
          "metadata": {},
          "execution_count": 48
        }
      ]
    },
    {
      "cell_type": "code",
      "metadata": {
        "colab": {
          "base_uri": "https://localhost:8080/"
        },
        "id": "y318lRL6420A",
        "outputId": "6c92b9c2-60fd-486d-9472-2202ca8628c8"
      },
      "source": [
        "# Exibindo o tamanho do vocabulário\n",
        "size_of_vocabulary"
      ],
      "execution_count": null,
      "outputs": [
        {
          "output_type": "execute_result",
          "data": {
            "text/plain": [
              "10739"
            ]
          },
          "metadata": {},
          "execution_count": 49
        }
      ]
    },
    {
      "cell_type": "code",
      "metadata": {
        "id": "hp36tFnVtrUJ"
      },
      "source": [
        "# Utilizando LabelEncoder para converter as labels para inteiros\n",
        "encoder = preprocessing.LabelEncoder()\n",
        "encoder.fit(list(y_train) + list(y_test)) \n",
        "y_train = encoder.transform(y_train)\n",
        "y_test = encoder.transform(y_test)"
      ],
      "execution_count": null,
      "outputs": []
    },
    {
      "cell_type": "code",
      "metadata": {
        "id": "zQOXAliEuGy6"
      },
      "source": [
        "# Binarizando as classes\n",
        "num_classes = np.max(y_train) + 1\n",
        "y_train = utils.to_categorical(y_train, num_classes)\n",
        "y_test = utils.to_categorical(y_test, num_classes)"
      ],
      "execution_count": null,
      "outputs": []
    },
    {
      "cell_type": "code",
      "metadata": {
        "colab": {
          "base_uri": "https://localhost:8080/"
        },
        "id": "cBnwfEu0uqfq",
        "outputId": "281fc944-9b11-41b2-f14c-cfb95db97d5b"
      },
      "source": [
        "print('New dimensions')\n",
        "print('X_train dimension:', X_train.shape)\n",
        "print('y_train dimension:', y_train.shape)\n",
        "print('X_test dimension:', X_test.shape)\n",
        "print('y_test dimension:', y_test.shape)"
      ],
      "execution_count": null,
      "outputs": [
        {
          "output_type": "stream",
          "name": "stdout",
          "text": [
            "New dimensions\n",
            "X_train dimension: (1499,)\n",
            "y_train dimension: (1499, 2)\n",
            "X_test dimension: (500,)\n",
            "y_test dimension: (500, 2)\n"
          ]
        }
      ]
    },
    {
      "cell_type": "code",
      "metadata": {
        "id": "EvoveyD7wTva",
        "colab": {
          "base_uri": "https://localhost:8080/"
        },
        "outputId": "56dad81d-c5a3-4ab7-ea68-1677069381fe"
      },
      "source": [
        "# Criação do modelo de GRU\n",
        "GRU = keras.Sequential()\n",
        "\n",
        "# Camada de Embedding \n",
        "GRU.add(layers.Embedding(size_of_vocabulary, 200,\n",
        "                        input_length = X_train_pad.shape[1],\n",
        "                        trainable = False)) \n",
        "GRU.add(layers.SpatialDropout1D(0.3))\n",
        "GRU.add(layers.GRU(200, recurrent_dropout = 0.3, return_sequences = True))\n",
        "GRU.add(layers.GRU(200, recurrent_dropout = 0.3))\n",
        "GRU.add(layers.Dense(512, activation = 'relu'))\n",
        "\n",
        "GRU.add(layers.Dense(128, activation = 'relu')) \n",
        "\n",
        "GRU.add(layers.Dense(64, activation = 'relu')) \n",
        "\n",
        "GRU.add(layers.Dense(32, activation = 'relu'))\n",
        "\n",
        "GRU.add(layers.Dense(num_classes, activation = 'softmax')) "
      ],
      "execution_count": null,
      "outputs": [
        {
          "output_type": "stream",
          "name": "stdout",
          "text": [
            "WARNING:tensorflow:Layer gru will not use cuDNN kernels since it doesn't meet the criteria. It will use a generic GPU kernel as fallback when running on GPU.\n",
            "WARNING:tensorflow:Layer gru_1 will not use cuDNN kernels since it doesn't meet the criteria. It will use a generic GPU kernel as fallback when running on GPU.\n"
          ]
        }
      ]
    },
    {
      "cell_type": "code",
      "metadata": {
        "colab": {
          "base_uri": "https://localhost:8080/",
          "height": 1000
        },
        "id": "hkiEu5pdzETB",
        "outputId": "0bbc6909-947a-4099-8c78-02b7a992ae02"
      },
      "source": [
        "GRU.summary()\n",
        "plot_model(GRU)"
      ],
      "execution_count": null,
      "outputs": [
        {
          "output_type": "stream",
          "name": "stdout",
          "text": [
            "Model: \"sequential\"\n",
            "_________________________________________________________________\n",
            " Layer (type)                Output Shape              Param #   \n",
            "=================================================================\n",
            " embedding_1 (Embedding)     (None, 100, 200)          2147800   \n",
            "                                                                 \n",
            " spatial_dropout1d (SpatialD  (None, 100, 200)         0         \n",
            " ropout1D)                                                       \n",
            "                                                                 \n",
            " gru (GRU)                   (None, 100, 200)          241200    \n",
            "                                                                 \n",
            " gru_1 (GRU)                 (None, 200)               241200    \n",
            "                                                                 \n",
            " dense_4 (Dense)             (None, 512)               102912    \n",
            "                                                                 \n",
            " dense_5 (Dense)             (None, 128)               65664     \n",
            "                                                                 \n",
            " dense_6 (Dense)             (None, 64)                8256      \n",
            "                                                                 \n",
            " dense_7 (Dense)             (None, 32)                2080      \n",
            "                                                                 \n",
            " dense_8 (Dense)             (None, 2)                 66        \n",
            "                                                                 \n",
            "=================================================================\n",
            "Total params: 2,809,178\n",
            "Trainable params: 661,378\n",
            "Non-trainable params: 2,147,800\n",
            "_________________________________________________________________\n"
          ]
        },
        {
          "output_type": "execute_result",
          "data": {
            "text/plain": [
              "<IPython.core.display.Image object>"
            ],
            "image/png": "[encoded data removed]"
          },
          "metadata": {},
          "execution_count": 54
        }
      ]
    },
    {
      "cell_type": "code",
      "metadata": {
        "id": "mfYCP9r91eZt"
      },
      "source": [
        "# Definição dos callbacks\n",
        "callback_earlier = keras.callbacks.EarlyStopping(patience=5)\n",
        "reduce_lr =  keras.callbacks.ReduceLROnPlateau(patience=5)\n",
        "callback = [callback_earlier, reduce_lr ]"
      ],
      "execution_count": null,
      "outputs": []
    },
    {
      "cell_type": "code",
      "metadata": {
        "id": "iwu0yN2DxpDh"
      },
      "source": [
        "GRU.compile(optimizer = 'adamax', \n",
        "                    loss = 'binary_crossentropy',\n",
        "                    metrics = ['accuracy']) "
      ],
      "execution_count": null,
      "outputs": []
    },
    {
      "cell_type": "code",
      "metadata": {
        "colab": {
          "base_uri": "https://localhost:8080/"
        },
        "id": "8DaaXaGvxswZ",
        "outputId": "c2ca19bf-198a-4334-fc31-2c4663b5c1d0"
      },
      "source": [
        "#Treinamento\n",
        "GRU_history = GRU.fit(X_train_pad, y_train, batch_size = 184, epochs = 50, validation_split=0.25, callbacks=callback)"
      ],
      "execution_count": null,
      "outputs": [
        {
          "output_type": "stream",
          "name": "stdout",
          "text": [
            "Epoch 1/50\n",
            "7/7 [==============================] - 9s 788ms/step - loss: 0.6932 - accuracy: 0.4964 - val_loss: 0.6928 - val_accuracy: 0.5040 - lr: 0.0010\n",
            "Epoch 2/50\n",
            "7/7 [==============================] - 5s 653ms/step - loss: 0.6921 - accuracy: 0.5979 - val_loss: 0.6920 - val_accuracy: 0.5280 - lr: 0.0010\n",
            "Epoch 3/50\n",
            "7/7 [==============================] - 4s 642ms/step - loss: 0.6899 - accuracy: 0.5276 - val_loss: 0.6899 - val_accuracy: 0.5120 - lr: 0.0010\n",
            "Epoch 4/50\n",
            "7/7 [==============================] - 4s 633ms/step - loss: 0.6846 - accuracy: 0.6103 - val_loss: 0.6859 - val_accuracy: 0.5440 - lr: 0.0010\n",
            "Epoch 5/50\n",
            "7/7 [==============================] - 5s 668ms/step - loss: 0.6761 - accuracy: 0.6406 - val_loss: 0.6830 - val_accuracy: 0.5573 - lr: 0.0010\n",
            "Epoch 6/50\n",
            "7/7 [==============================] - 5s 643ms/step - loss: 0.6616 - accuracy: 0.6335 - val_loss: 0.6668 - val_accuracy: 0.6053 - lr: 0.0010\n",
            "Epoch 7/50\n",
            "7/7 [==============================] - 4s 639ms/step - loss: 0.6414 - accuracy: 0.6504 - val_loss: 0.6649 - val_accuracy: 0.6080 - lr: 0.0010\n",
            "Epoch 8/50\n",
            "7/7 [==============================] - 4s 643ms/step - loss: 0.6330 - accuracy: 0.6708 - val_loss: 0.6538 - val_accuracy: 0.6400 - lr: 0.0010\n",
            "Epoch 9/50\n",
            "7/7 [==============================] - 4s 644ms/step - loss: 0.6142 - accuracy: 0.6806 - val_loss: 0.6407 - val_accuracy: 0.6213 - lr: 0.0010\n",
            "Epoch 10/50\n",
            "7/7 [==============================] - 5s 660ms/step - loss: 0.6077 - accuracy: 0.6726 - val_loss: 0.6424 - val_accuracy: 0.6293 - lr: 0.0010\n",
            "Epoch 11/50\n",
            "7/7 [==============================] - 5s 659ms/step - loss: 0.5910 - accuracy: 0.6975 - val_loss: 0.6292 - val_accuracy: 0.6587 - lr: 0.0010\n",
            "Epoch 12/50\n",
            "7/7 [==============================] - 5s 657ms/step - loss: 0.5850 - accuracy: 0.6975 - val_loss: 0.6295 - val_accuracy: 0.6480 - lr: 0.0010\n",
            "Epoch 13/50\n",
            "7/7 [==============================] - 5s 649ms/step - loss: 0.5837 - accuracy: 0.6975 - val_loss: 0.6444 - val_accuracy: 0.6267 - lr: 0.0010\n",
            "Epoch 14/50\n",
            "7/7 [==============================] - 5s 650ms/step - loss: 0.5853 - accuracy: 0.6975 - val_loss: 0.6286 - val_accuracy: 0.6453 - lr: 0.0010\n",
            "Epoch 15/50\n",
            "7/7 [==============================] - 5s 648ms/step - loss: 0.5830 - accuracy: 0.6886 - val_loss: 0.6218 - val_accuracy: 0.6720 - lr: 0.0010\n",
            "Epoch 16/50\n",
            "7/7 [==============================] - 5s 688ms/step - loss: 0.5642 - accuracy: 0.7180 - val_loss: 0.6239 - val_accuracy: 0.6747 - lr: 0.0010\n",
            "Epoch 17/50\n",
            "7/7 [==============================] - 5s 674ms/step - loss: 0.5862 - accuracy: 0.6877 - val_loss: 0.6832 - val_accuracy: 0.6000 - lr: 0.0010\n",
            "Epoch 18/50\n",
            "7/7 [==============================] - 5s 671ms/step - loss: 0.6295 - accuracy: 0.6388 - val_loss: 0.6318 - val_accuracy: 0.6747 - lr: 0.0010\n",
            "Epoch 19/50\n",
            "7/7 [==============================] - 5s 673ms/step - loss: 0.5939 - accuracy: 0.6877 - val_loss: 0.6326 - val_accuracy: 0.6320 - lr: 0.0010\n",
            "Epoch 20/50\n",
            "7/7 [==============================] - 5s 676ms/step - loss: 0.5836 - accuracy: 0.7002 - val_loss: 0.6179 - val_accuracy: 0.6640 - lr: 0.0010\n",
            "Epoch 21/50\n",
            "7/7 [==============================] - 5s 657ms/step - loss: 0.5540 - accuracy: 0.7358 - val_loss: 0.6065 - val_accuracy: 0.6827 - lr: 0.0010\n",
            "Epoch 22/50\n",
            "7/7 [==============================] - 5s 664ms/step - loss: 0.5434 - accuracy: 0.7367 - val_loss: 0.6132 - val_accuracy: 0.6720 - lr: 0.0010\n",
            "Epoch 23/50\n",
            "7/7 [==============================] - 5s 671ms/step - loss: 0.5449 - accuracy: 0.7269 - val_loss: 0.6036 - val_accuracy: 0.7040 - lr: 0.0010\n",
            "Epoch 24/50\n",
            "7/7 [==============================] - 5s 651ms/step - loss: 0.5298 - accuracy: 0.7367 - val_loss: 0.6121 - val_accuracy: 0.6747 - lr: 0.0010\n",
            "Epoch 25/50\n",
            "7/7 [==============================] - 5s 644ms/step - loss: 0.5356 - accuracy: 0.7260 - val_loss: 0.6227 - val_accuracy: 0.6613 - lr: 0.0010\n",
            "Epoch 26/50\n",
            "7/7 [==============================] - 5s 657ms/step - loss: 0.5219 - accuracy: 0.7420 - val_loss: 0.6242 - val_accuracy: 0.6667 - lr: 0.0010\n",
            "Epoch 27/50\n",
            "7/7 [==============================] - 5s 651ms/step - loss: 0.5397 - accuracy: 0.7358 - val_loss: 0.6257 - val_accuracy: 0.6853 - lr: 0.0010\n",
            "Epoch 28/50\n",
            "7/7 [==============================] - 5s 658ms/step - loss: 0.5250 - accuracy: 0.7367 - val_loss: 0.6185 - val_accuracy: 0.6507 - lr: 0.0010\n"
          ]
        }
      ]
    },
    {
      "cell_type": "code",
      "metadata": {
        "colab": {
          "base_uri": "https://localhost:8080/"
        },
        "id": "zpVsbJgRDdYP",
        "outputId": "86daee33-02e0-4958-bceb-dbffabc65f6d"
      },
      "source": [
        "# Avaliação do modelo\n",
        "GRU.evaluate(X_test_pad, y_test)"
      ],
      "execution_count": null,
      "outputs": [
        {
          "output_type": "stream",
          "name": "stdout",
          "text": [
            "16/16 [==============================] - 1s 61ms/step - loss: 0.5870 - accuracy: 0.7000\n"
          ]
        },
        {
          "output_type": "execute_result",
          "data": {
            "text/plain": [
              "[0.5870062708854675, 0.699999988079071]"
            ]
          },
          "metadata": {},
          "execution_count": 58
        }
      ]
    },
    {
      "cell_type": "code",
      "metadata": {
        "colab": {
          "base_uri": "https://localhost:8080/",
          "height": 515
        },
        "id": "2O2KXj83FTzl",
        "outputId": "7f033bb1-af6e-46ef-83bc-66d1d8108a00"
      },
      "source": [
        "plt.figure(figsize=(10,8))\n",
        "plt.title(f\"Gráfico de Loss\")\n",
        "plt.xlabel(\"Épocas\")\n",
        "plt.ylabel(\"Valor\")\n",
        "plt.plot(GRU_history.history['loss'], label=\"loss\")\n",
        "plt.plot(GRU_history.history['val_loss'], label=\"val_loss\")\n",
        "plt.legend()\n",
        "plt.show()"
      ],
      "execution_count": null,
      "outputs": [
        {
          "output_type": "display_data",
          "data": {
            "text/plain": [
              "<Figure size 720x576 with 1 Axes>"
            ],
            "image/png": "[encoded data removed]"
          },
          "metadata": {
            "needs_background": "light"
          }
        }
      ]
    },
    {
      "cell_type": "code",
      "metadata": {
        "colab": {
          "base_uri": "https://localhost:8080/",
          "height": 515
        },
        "id": "iUAfA_1JFdCy",
        "outputId": "8a22b806-03e9-4d42-9b3a-1e6e11e2b8c0"
      },
      "source": [
        "plt.figure(figsize=(10,8))\n",
        "plt.title(f\"Gráfico de Accuracy\")\n",
        "plt.xlabel(\"Épocas\")\n",
        "plt.ylabel(\"Valor\")\n",
        "plt.plot(GRU_history.history['accuracy'], label=\"accuracy\")\n",
        "plt.plot(GRU_history.history['val_accuracy'], label=\"val_accuracy\")\n",
        "plt.legend()\n",
        "plt.show()"
      ],
      "execution_count": null,
      "outputs": [
        {
          "output_type": "display_data",
          "data": {
            "text/plain": [
              "<Figure size 720x576 with 1 Axes>"
            ],
            "image/png": "[encoded data removed]"
          },
          "metadata": {
            "needs_background": "light"
          }
        }
      ]
    },
    {
      "cell_type": "code",
      "metadata": {
        "id": "on1vjug9KPpj"
      },
      "source": [
        "y_pred = np.argmax(GRU.predict(X_test_pad), axis=1)\n",
        "y_test = np.argmax(y_test, axis=1)"
      ],
      "execution_count": null,
      "outputs": []
    },
    {
      "cell_type": "code",
      "metadata": {
        "colab": {
          "base_uri": "https://localhost:8080/"
        },
        "id": "m5835I_UJfLN",
        "outputId": "4c07c205-6b37-485d-9764-39f44bea55af"
      },
      "source": [
        "print(classification_report(y_test, y_pred))"
      ],
      "execution_count": null,
      "outputs": [
        {
          "output_type": "stream",
          "name": "stdout",
          "text": [
            "              precision    recall  f1-score   support\n",
            "\n",
            "           0       0.66      0.79      0.72       245\n",
            "           1       0.75      0.61      0.68       255\n",
            "\n",
            "    accuracy                           0.70       500\n",
            "   macro avg       0.71      0.70      0.70       500\n",
            "weighted avg       0.71      0.70      0.70       500\n",
            "\n"
          ]
        }
      ]
    },
    {
      "cell_type": "code",
      "metadata": {
        "colab": {
          "base_uri": "https://localhost:8080/",
          "height": 282
        },
        "id": "mN-AOKdR3-h_",
        "outputId": "aaced627-e613-4a42-c7df-c9427ca3d26f"
      },
      "source": [
        "#Matriz de Confusão da classificação do modelo\n",
        "cm = confusion_matrix(y_test, y_pred, normalize='true')\n",
        "sns.heatmap(cm, annot=True, cmap='Blues_r')"
      ],
      "execution_count": null,
      "outputs": [
        {
          "output_type": "execute_result",
          "data": {
            "text/plain": [
              "<matplotlib.axes._subplots.AxesSubplot at 0x7ff064426c10>"
            ]
          },
          "metadata": {},
          "execution_count": 63
        },
        {
          "output_type": "display_data",
          "data": {
            "text/plain": [
              "<Figure size 432x288 with 2 Axes>"
            ],
            "image/png": "[encoded data removed]"
          },
          "metadata": {
            "needs_background": "light"
          }
        }
      ]
    },
    {
      "cell_type": "code",
      "metadata": {
        "colab": {
          "base_uri": "https://localhost:8080/",
          "height": 424
        },
        "id": "vTe754gliQ-0",
        "outputId": "2bec9030-8874-46f2-f322-9d65646fbabc"
      },
      "source": [
        "#Resetando o Index da variável de teste \n",
        "X_test_df = X_test_df.reset_index(drop=True)\n",
        "X_test_df"
      ],
      "execution_count": null,
      "outputs": [
        {
          "output_type": "execute_result",
          "data": {
            "text/plain": [
              "                                           Comentários\n",
              "0    excelente a ficção se faz real nos dias atuais...\n",
              "1    é muito bom quando lemos um livro com um conte...\n",
              "2    mais um livro pra falar mal do cristianismo e ...\n",
              "3    livro muito fraco quanta baboseira imaginava q...\n",
              "4    a história é até ok mas o autor se perde em de...\n",
              "..                                                 ...\n",
              "495  muito narrativo não prende atenção tive aprend...\n",
              "496  rita se mostra por inteiro fantástica auto bio...\n",
              "497  decepção quando to ansioso abri a caixa e vi a...\n",
              "498  que livro maravilhoso heitor e sofia começam a...\n",
              "499  estudo para concursos de alto nível portanto t...\n",
              "\n",
              "[500 rows x 1 columns]"
            ],
            "text/html": [
              "\n",
              "  <div id=\"df-0d891b13-2c7c-434f-9440-f23706514844\">\n",
              "    <div class=\"colab-df-container\">\n",
              "      <div>\n",
              "<style scoped>\n",
              "    .dataframe tbody tr th:only-of-type {\n",
              "        vertical-align: middle;\n",
              "    }\n",
              "\n",
              "    .dataframe tbody tr th {\n",
              "        vertical-align: top;\n",
              "    }\n",
              "\n",
              "    .dataframe thead th {\n",
              "        text-align: right;\n",
              "    }\n",
              "</style>\n",
              "<table border=\"1\" class=\"dataframe\">\n",
              "  <thead>\n",
              "    <tr style=\"text-align: right;\">\n",
              "      <th></th>\n",
              "      <th>Comentários</th>\n",
              "    </tr>\n",
              "  </thead>\n",
              "  <tbody>\n",
              "    <tr>\n",
              "      <th>0</th>\n",
              "      <td>excelente a ficção se faz real nos dias atuais...</td>\n",
              "    </tr>\n",
              "    <tr>\n",
              "      <th>1</th>\n",
              "      <td>é muito bom quando lemos um livro com um conte...</td>\n",
              "    </tr>\n",
              "    <tr>\n",
              "      <th>2</th>\n",
              "      <td>mais um livro pra falar mal do cristianismo e ...</td>\n",
              "    </tr>\n",
              "    <tr>\n",
              "      <th>3</th>\n",
              "      <td>livro muito fraco quanta baboseira imaginava q...</td>\n",
              "    </tr>\n",
              "    <tr>\n",
              "      <th>4</th>\n",
              "      <td>a história é até ok mas o autor se perde em de...</td>\n",
              "    </tr>\n",
              "    <tr>\n",
              "      <th>...</th>\n",
              "      <td>...</td>\n",
              "    </tr>\n",
              "    <tr>\n",
              "      <th>495</th>\n",
              "      <td>muito narrativo não prende atenção tive aprend...</td>\n",
              "    </tr>\n",
              "    <tr>\n",
              "      <th>496</th>\n",
              "      <td>rita se mostra por inteiro fantástica auto bio...</td>\n",
              "    </tr>\n",
              "    <tr>\n",
              "      <th>497</th>\n",
              "      <td>decepção quando to ansioso abri a caixa e vi a...</td>\n",
              "    </tr>\n",
              "    <tr>\n",
              "      <th>498</th>\n",
              "      <td>que livro maravilhoso heitor e sofia começam a...</td>\n",
              "    </tr>\n",
              "    <tr>\n",
              "      <th>499</th>\n",
              "      <td>estudo para concursos de alto nível portanto t...</td>\n",
              "    </tr>\n",
              "  </tbody>\n",
              "</table>\n",
              "<p>500 rows × 1 columns</p>\n",
              "</div>\n",
              "      <button class=\"colab-df-convert\" onclick=\"convertToInteractive('df-0d891b13-2c7c-434f-9440-f23706514844')\"\n",
              "              title=\"Convert this dataframe to an interactive table.\"\n",
              "              style=\"display:none;\">\n",
              "        \n",
              "  <svg xmlns=\"http://www.w3.org/2000/svg\" height=\"24px\"viewBox=\"0 0 24 24\"\n",
              "       width=\"24px\">\n",
              "    <path d=\"M0 0h24v24H0V0z\" fill=\"none\"/>\n",
              "    <path d=\"M18.56 5.44l.94 2.06.94-2.06 2.06-.94-2.06-.94-.94-2.06-.94 2.06-2.06.94zm-11 1L8.5 8.5l.94-2.06 2.06-.94-2.06-.94L8.5 2.5l-.94 2.06-2.06.94zm10 10l.94 2.06.94-2.06 2.06-.94-2.06-.94-.94-2.06-.94 2.06-2.06.94z\"/><path d=\"M17.41 7.96l-1.37-1.37c-.4-.4-.92-.59-1.43-.59-.52 0-1.04.2-1.43.59L10.3 9.45l-7.72 7.72c-.78.78-.78 2.05 0 2.83L4 21.41c.39.39.9.59 1.41.59.51 0 1.02-.2 1.41-.59l7.78-7.78 2.81-2.81c.8-.78.8-2.07 0-2.86zM5.41 20L4 18.59l7.72-7.72 1.47 1.35L5.41 20z\"/>\n",
              "  </svg>\n",
              "      </button>\n",
              "      \n",
              "  <style>\n",
              "    .colab-df-container {\n",
              "      display:flex;\n",
              "      flex-wrap:wrap;\n",
              "      gap: 12px;\n",
              "    }\n",
              "\n",
              "    .colab-df-convert {\n",
              "      background-color: #E8F0FE;\n",
              "      border: none;\n",
              "      border-radius: 50%;\n",
              "      cursor: pointer;\n",
              "      display: none;\n",
              "      fill: #1967D2;\n",
              "      height: 32px;\n",
              "      padding: 0 0 0 0;\n",
              "      width: 32px;\n",
              "    }\n",
              "\n",
              "    .colab-df-convert:hover {\n",
              "      background-color: #E2EBFA;\n",
              "      box-shadow: 0px 1px 2px rgba(60, 64, 67, 0.3), 0px 1px 3px 1px rgba(60, 64, 67, 0.15);\n",
              "      fill: #174EA6;\n",
              "    }\n",
              "\n",
              "    [theme=dark] .colab-df-convert {\n",
              "      background-color: #3B4455;\n",
              "      fill: #D2E3FC;\n",
              "    }\n",
              "\n",
              "    [theme=dark] .colab-df-convert:hover {\n",
              "      background-color: #434B5C;\n",
              "      box-shadow: 0px 1px 3px 1px rgba(0, 0, 0, 0.15);\n",
              "      filter: drop-shadow(0px 1px 2px rgba(0, 0, 0, 0.3));\n",
              "      fill: #FFFFFF;\n",
              "    }\n",
              "  </style>\n",
              "\n",
              "      <script>\n",
              "        const buttonEl =\n",
              "          document.querySelector('#df-0d891b13-2c7c-434f-9440-f23706514844 button.colab-df-convert');\n",
              "        buttonEl.style.display =\n",
              "          google.colab.kernel.accessAllowed ? 'block' : 'none';\n",
              "\n",
              "        async function convertToInteractive(key) {\n",
              "          const element = document.querySelector('#df-0d891b13-2c7c-434f-9440-f23706514844');\n",
              "          const dataTable =\n",
              "            await google.colab.kernel.invokeFunction('convertToInteractive',\n",
              "                                                     [key], {});\n",
              "          if (!dataTable) return;\n",
              "\n",
              "          const docLinkHtml = 'Like what you see? Visit the ' +\n",
              "            '<a target=\"_blank\" href=https://colab.research.google.com/notebooks/data_table.ipynb>data table notebook</a>'\n",
              "            + ' to learn more about interactive tables.';\n",
              "          element.innerHTML = '';\n",
              "          dataTable['output_type'] = 'display_data';\n",
              "          await google.colab.output.renderOutput(dataTable, element);\n",
              "          const docLink = document.createElement('div');\n",
              "          docLink.innerHTML = docLinkHtml;\n",
              "          element.appendChild(docLink);\n",
              "        }\n",
              "      </script>\n",
              "    </div>\n",
              "  </div>\n",
              "  "
            ]
          },
          "metadata": {},
          "execution_count": 64
        }
      ]
    },
    {
      "cell_type": "code",
      "metadata": {
        "id": "LitsTSjYjbuX"
      },
      "source": [
        "#Criando dataframes para os comentários de teste e seus respectivos predicts\n",
        "df_pred = pd.DataFrame(data=X_test_df)\n",
        "df_pred_y = pd.DataFrame(data=y_pred, columns=['Predict'])"
      ],
      "execution_count": null,
      "outputs": []
    },
    {
      "cell_type": "code",
      "metadata": {
        "colab": {
          "base_uri": "https://localhost:8080/",
          "height": 424
        },
        "id": "f7zaza2gjbuY",
        "outputId": "8930de1d-8cf4-49e7-ce7b-0cc351977676"
      },
      "source": [
        "#Concatenando os datasets\n",
        "df_predict = pd.concat([df_pred, df_pred_y], axis=1, ignore_index=True)\n",
        "df_predict.columns = ['Comentarios', 'Predict']\n",
        "df_predict"
      ],
      "execution_count": null,
      "outputs": [
        {
          "output_type": "execute_result",
          "data": {
            "text/plain": [
              "                                           Comentarios  Predict\n",
              "0    excelente a ficção se faz real nos dias atuais...        0\n",
              "1    é muito bom quando lemos um livro com um conte...        1\n",
              "2    mais um livro pra falar mal do cristianismo e ...        0\n",
              "3    livro muito fraco quanta baboseira imaginava q...        0\n",
              "4    a história é até ok mas o autor se perde em de...        1\n",
              "..                                                 ...      ...\n",
              "495  muito narrativo não prende atenção tive aprend...        0\n",
              "496  rita se mostra por inteiro fantástica auto bio...        1\n",
              "497  decepção quando to ansioso abri a caixa e vi a...        0\n",
              "498  que livro maravilhoso heitor e sofia começam a...        1\n",
              "499  estudo para concursos de alto nível portanto t...        0\n",
              "\n",
              "[500 rows x 2 columns]"
            ],
            "text/html": [
              "\n",
              "  <div id=\"df-0e7b2ba1-49e2-49d4-bfd3-d2ebfeff2b06\">\n",
              "    <div class=\"colab-df-container\">\n",
              "      <div>\n",
              "<style scoped>\n",
              "    .dataframe tbody tr th:only-of-type {\n",
              "        vertical-align: middle;\n",
              "    }\n",
              "\n",
              "    .dataframe tbody tr th {\n",
              "        vertical-align: top;\n",
              "    }\n",
              "\n",
              "    .dataframe thead th {\n",
              "        text-align: right;\n",
              "    }\n",
              "</style>\n",
              "<table border=\"1\" class=\"dataframe\">\n",
              "  <thead>\n",
              "    <tr style=\"text-align: right;\">\n",
              "      <th></th>\n",
              "      <th>Comentarios</th>\n",
              "      <th>Predict</th>\n",
              "    </tr>\n",
              "  </thead>\n",
              "  <tbody>\n",
              "    <tr>\n",
              "      <th>0</th>\n",
              "      <td>excelente a ficção se faz real nos dias atuais...</td>\n",
              "      <td>0</td>\n",
              "    </tr>\n",
              "    <tr>\n",
              "      <th>1</th>\n",
              "      <td>é muito bom quando lemos um livro com um conte...</td>\n",
              "      <td>1</td>\n",
              "    </tr>\n",
              "    <tr>\n",
              "      <th>2</th>\n",
              "      <td>mais um livro pra falar mal do cristianismo e ...</td>\n",
              "      <td>0</td>\n",
              "    </tr>\n",
              "    <tr>\n",
              "      <th>3</th>\n",
              "      <td>livro muito fraco quanta baboseira imaginava q...</td>\n",
              "      <td>0</td>\n",
              "    </tr>\n",
              "    <tr>\n",
              "      <th>4</th>\n",
              "      <td>a história é até ok mas o autor se perde em de...</td>\n",
              "      <td>1</td>\n",
              "    </tr>\n",
              "    <tr>\n",
              "      <th>...</th>\n",
              "      <td>...</td>\n",
              "      <td>...</td>\n",
              "    </tr>\n",
              "    <tr>\n",
              "      <th>495</th>\n",
              "      <td>muito narrativo não prende atenção tive aprend...</td>\n",
              "      <td>0</td>\n",
              "    </tr>\n",
              "    <tr>\n",
              "      <th>496</th>\n",
              "      <td>rita se mostra por inteiro fantástica auto bio...</td>\n",
              "      <td>1</td>\n",
              "    </tr>\n",
              "    <tr>\n",
              "      <th>497</th>\n",
              "      <td>decepção quando to ansioso abri a caixa e vi a...</td>\n",
              "      <td>0</td>\n",
              "    </tr>\n",
              "    <tr>\n",
              "      <th>498</th>\n",
              "      <td>que livro maravilhoso heitor e sofia começam a...</td>\n",
              "      <td>1</td>\n",
              "    </tr>\n",
              "    <tr>\n",
              "      <th>499</th>\n",
              "      <td>estudo para concursos de alto nível portanto t...</td>\n",
              "      <td>0</td>\n",
              "    </tr>\n",
              "  </tbody>\n",
              "</table>\n",
              "<p>500 rows × 2 columns</p>\n",
              "</div>\n",
              "      <button class=\"colab-df-convert\" onclick=\"convertToInteractive('df-0e7b2ba1-49e2-49d4-bfd3-d2ebfeff2b06')\"\n",
              "              title=\"Convert this dataframe to an interactive table.\"\n",
              "              style=\"display:none;\">\n",
              "        \n",
              "  <svg xmlns=\"http://www.w3.org/2000/svg\" height=\"24px\"viewBox=\"0 0 24 24\"\n",
              "       width=\"24px\">\n",
              "    <path d=\"M0 0h24v24H0V0z\" fill=\"none\"/>\n",
              "    <path d=\"M18.56 5.44l.94 2.06.94-2.06 2.06-.94-2.06-.94-.94-2.06-.94 2.06-2.06.94zm-11 1L8.5 8.5l.94-2.06 2.06-.94-2.06-.94L8.5 2.5l-.94 2.06-2.06.94zm10 10l.94 2.06.94-2.06 2.06-.94-2.06-.94-.94-2.06-.94 2.06-2.06.94z\"/><path d=\"M17.41 7.96l-1.37-1.37c-.4-.4-.92-.59-1.43-.59-.52 0-1.04.2-1.43.59L10.3 9.45l-7.72 7.72c-.78.78-.78 2.05 0 2.83L4 21.41c.39.39.9.59 1.41.59.51 0 1.02-.2 1.41-.59l7.78-7.78 2.81-2.81c.8-.78.8-2.07 0-2.86zM5.41 20L4 18.59l7.72-7.72 1.47 1.35L5.41 20z\"/>\n",
              "  </svg>\n",
              "      </button>\n",
              "      \n",
              "  <style>\n",
              "    .colab-df-container {\n",
              "      display:flex;\n",
              "      flex-wrap:wrap;\n",
              "      gap: 12px;\n",
              "    }\n",
              "\n",
              "    .colab-df-convert {\n",
              "      background-color: #E8F0FE;\n",
              "      border: none;\n",
              "      border-radius: 50%;\n",
              "      cursor: pointer;\n",
              "      display: none;\n",
              "      fill: #1967D2;\n",
              "      height: 32px;\n",
              "      padding: 0 0 0 0;\n",
              "      width: 32px;\n",
              "    }\n",
              "\n",
              "    .colab-df-convert:hover {\n",
              "      background-color: #E2EBFA;\n",
              "      box-shadow: 0px 1px 2px rgba(60, 64, 67, 0.3), 0px 1px 3px 1px rgba(60, 64, 67, 0.15);\n",
              "      fill: #174EA6;\n",
              "    }\n",
              "\n",
              "    [theme=dark] .colab-df-convert {\n",
              "      background-color: #3B4455;\n",
              "      fill: #D2E3FC;\n",
              "    }\n",
              "\n",
              "    [theme=dark] .colab-df-convert:hover {\n",
              "      background-color: #434B5C;\n",
              "      box-shadow: 0px 1px 3px 1px rgba(0, 0, 0, 0.15);\n",
              "      filter: drop-shadow(0px 1px 2px rgba(0, 0, 0, 0.3));\n",
              "      fill: #FFFFFF;\n",
              "    }\n",
              "  </style>\n",
              "\n",
              "      <script>\n",
              "        const buttonEl =\n",
              "          document.querySelector('#df-0e7b2ba1-49e2-49d4-bfd3-d2ebfeff2b06 button.colab-df-convert');\n",
              "        buttonEl.style.display =\n",
              "          google.colab.kernel.accessAllowed ? 'block' : 'none';\n",
              "\n",
              "        async function convertToInteractive(key) {\n",
              "          const element = document.querySelector('#df-0e7b2ba1-49e2-49d4-bfd3-d2ebfeff2b06');\n",
              "          const dataTable =\n",
              "            await google.colab.kernel.invokeFunction('convertToInteractive',\n",
              "                                                     [key], {});\n",
              "          if (!dataTable) return;\n",
              "\n",
              "          const docLinkHtml = 'Like what you see? Visit the ' +\n",
              "            '<a target=\"_blank\" href=https://colab.research.google.com/notebooks/data_table.ipynb>data table notebook</a>'\n",
              "            + ' to learn more about interactive tables.';\n",
              "          element.innerHTML = '';\n",
              "          dataTable['output_type'] = 'display_data';\n",
              "          await google.colab.output.renderOutput(dataTable, element);\n",
              "          const docLink = document.createElement('div');\n",
              "          docLink.innerHTML = docLinkHtml;\n",
              "          element.appendChild(docLink);\n",
              "        }\n",
              "      </script>\n",
              "    </div>\n",
              "  </div>\n",
              "  "
            ]
          },
          "metadata": {},
          "execution_count": 66
        }
      ]
    },
    {
      "cell_type": "code",
      "metadata": {
        "colab": {
          "base_uri": "https://localhost:8080/"
        },
        "id": "tzxZhFuWjbuZ",
        "outputId": "88ca06c2-5427-4dbf-cfe9-eb0fefaf19ef"
      },
      "source": [
        "#Mostrando algumas classificações\n",
        "for i in range(0,11):\n",
        "  print('Comentário', i,':', df_predict['Comentarios'][i])\n",
        "  print('Predict', i,':', df_predict['Predict'][i])"
      ],
      "execution_count": null,
      "outputs": [
        {
          "output_type": "stream",
          "name": "stdout",
          "text": [
            "Comentário 0 : excelente a ficção se faz real nos dias atuais onde a utopia fraquejou e fracassou também se aplica a lugares que mergulharam na desarticulação do sonho possível o livro é referência deu origem à bela produção de truffault e é citado e comentado no filme inglês a livraria a temática remete a obras icônicas como admirável mundo novo 1984 e outros tantos que anunciaram a inversão de valores e o domínio da prepotência e do arbítrio no fim a ideia de que o absurdo pode se fazer real e assombrar a nossa sobrevivência a nossa capacidade de resistência \n",
            "Predict 0 : 0\n",
            "Comentário 1 : é muito bom quando lemos um livro com um conteúdo interessante chegamos a ficar tristes ao percebermos que estamos chegando ao final de sua leitura sentimos isso pois o que estamos lendo é gostoso de ler expande a nossa visão de mundo nos dá um poder que antes achávamos que não tínhamos no caso desse livro o autor nos prova que sim podemos mudar nossos hábitos os bons e os ruins ele mostra também que não estamos condenados a vivermos até o fim de nossas vidas tendo hábitos vistos por nós e por terceiros como indesejados inadequados e estranhos o autor pra reforçar suas ideias expõe no decorrer do livro vários estudos científicos situações relevantes que empresas e pessoas passaram são casos interessantes de serem analisados principalmente porque o escritor não traz eles em vão a sua obra após essas histórias serem expostas ou mesmo no decorrer delas ele vai implementando suas ideias e abrindo nossa mente para algo que sempre esteve entre nós ao nosso alcance mas que por não prestarmos atenção não percebíamos e não entendíamos afinal os hábitos existem há milhares de anos mas apenas nas últimas 3 décadas é que vários cientistas médicos e psicólogos passaram a ter interesse e a dedicar uma atenção especial para esse assunto e que bom que isso aconteceu pois nós podemos hoje ter acesso a um livro como este sua leitura é rica seria bom que muita gente pudesse lê lo pois as dicas as orientações e as ideias expostas nesse livro são como um remédio acredito que se você não sabe quase nada sobre seus maus hábitos como por exemplo por que eles rotineiramente ficam surgindo mesmo quando você não deseja isso é importante que você aprenda a combatê los modificá los por isso que digo que esse livro serve como tratamento principalmente para os maus hábitos como o escritor fala no final do livro a mudança de hábitos é possível mas nem sempre será fácil pois cada hábito tem seu grau de complexidade e de profundeza enraizamento dentro de nossos cérebros mas é esperançoso poder ter a certeza que sim é possível mudarmos nossos hábitos 65 do livro nos mostra como identificar de forma clara e objetiva nossos hábitos isso é extremamente importante pois se não conhecermos bem uma doença um problema ou nossos inimigos teremos poucas chances de combatê los de vencermos pretendo ler esse livro novamente ele entrou para o grupo dos melhores livros que já li indico que você o leia e passe a ver sua rotina seu dia a dia de outra forma e que se você quiser e com esforço e dedicação poderá sair da prisão que é alguns de seus hábitos \n",
            "Predict 1 : 1\n",
            "Comentário 2 : mais um livro pra falar mal do cristianismo e distorcer a bíblia e ainda por cima com um final péssimo se eu recomendo pra alguém nem pro meu inimigo concordo com a opinião acima de lixo nacional já estamos cheios não precisamos de lixo traduzido \n",
            "Predict 2 : 0\n",
            "Comentário 3 : livro muito fraco quanta baboseira imaginava que a lou fosse obter sucesso após a perda de wil mas não é isso que acontece esperava mais \n",
            "Predict 3 : 0\n",
            "Comentário 4 : a história é até ok mas o autor se perde em defender sua visão política pessoal deixando o livro chato \n",
            "Predict 4 : 1\n",
            "Comentário 5 : confesso que no início não tinha achado nada muito novo e já tinha recebido spoilers do livro em podcast e de influencers que apresentavam seus conceitos e não davam o devido crédito ao autor esse livro apresenta história de outros autores também muito bons é um livro que termina já te apresentando outros livros pra ler \n",
            "Predict 5 : 0\n",
            "Comentário 6 : desde o laçamento deste livro que semanalmente eu ia as livrarias para comprá lo mas o preço não era acessível acompanhava os comentários críticas e avaliações sobre a obra e cada vez mais aumentava o desejo de lê lo encontrei no preço acessível pela amazon e comprei a qualidade da obra já está mais que mundialmente conhecida por isso tecer elogios sobre ela é dispensável \n",
            "Predict 6 : 0\n",
            "Comentário 7 : eu já havia lido várias coisas dessa autora e ela não cansa de surpreender esse livro é bem diferente porque ela nos apresenta a estória toda por cartas e outros tipos de mensagens trocadas entre os personagens é um romance muito bem escrito que te prende desde as primeiras folhas comecei a ler a amostra no app da kindle e não via a hora do físico chegar pra continuar a leitura a autora nos expõe um romance entre dois amigos que se amam mas que são separados pela vida diversas vezes é lindo e pra quem já viu o filme parece outra história com algumas similaridades \n",
            "Predict 7 : 1\n",
            "Comentário 8 : muito bom o livro e recomendo é um verdadeiro tapa na cara daquela pessoa que não possui o hábito de poupar e gasta desenfreadamente sem pensar no amanhã assim como o próprio autor solicita vou ler mais vezes ele \n",
            "Predict 8 : 0\n",
            "Comentário 9 : o livro cumpre muito bem sua proposta gera bons momentos de reflexão e revisão de nossos hábitos de aprendizagem confirma nossa intuição corrigi alguns vícios e realmente contribui com a evolução da capacidade de aprendizado \n",
            "Predict 9 : 0\n",
            "Comentário 10 : o conto da aia ou the handmands tale é uma leitura delicada crua e real é impecável como a autora margaret atwood escreve esse livro dando voz a uma personagem que desfruta de mundos distintos e percebe neles uma semelhança que fora escondida mas que cresce a cada dia a obra nos traz grandes reflexões e questionamentos sobre os tempos atuais e o quão distantes estamos da realidade oferecida brutalmente a ofred \n",
            "Predict 10 : 1\n"
          ]
        }
      ]
    },
    {
      "cell_type": "code",
      "metadata": {
        "id": "RvkLbhX2jbuZ"
      },
      "source": [
        "#Criando um comentário negativo\n",
        "frase = ['Esse livro é péssimo, me arrependo de pagar 56 reais nisso']\n",
        "frase = tokenizer.texts_to_sequences(frase)\n",
        "frase_pad = sequence.pad_sequences(frase,maxlen= 100)"
      ],
      "execution_count": null,
      "outputs": []
    },
    {
      "cell_type": "code",
      "metadata": {
        "colab": {
          "base_uri": "https://localhost:8080/"
        },
        "id": "ISxrE2u9jbua",
        "outputId": "15291a2d-dfbe-4dfb-865a-d665252bde8e"
      },
      "source": [
        "#Classificando o comentário criado\n",
        "#Classe 0 = Negativo\n",
        "#Classe 1 = Positivo\n",
        "frase_pred = GRU.predict(frase_pad)\n",
        "frase_pred.argmax()"
      ],
      "execution_count": null,
      "outputs": [
        {
          "output_type": "execute_result",
          "data": {
            "text/plain": [
              "0"
            ]
          },
          "metadata": {},
          "execution_count": 112
        }
      ]
    },
    {
      "cell_type": "code",
      "metadata": {
        "id": "jEn-HsAEjbua"
      },
      "source": [
        "#Criando um comentário positvo\n",
        "frase2 = ['Me impressionei bastante com essa  obra. Achava que ia ser mais um clichê entediante porem acabou sendo muito bom e divertido']\n",
        "frase2 = tokenizer.texts_to_sequences(frase2)\n",
        "frase2_pad = sequence.pad_sequences(frase2,maxlen= 100)"
      ],
      "execution_count": null,
      "outputs": []
    },
    {
      "cell_type": "code",
      "metadata": {
        "colab": {
          "base_uri": "https://localhost:8080/"
        },
        "id": "QTCyqa1ajbub",
        "outputId": "5148497a-9e0b-4b5d-f0a8-f0b36acd02e4"
      },
      "source": [
        "#Classificando o comentário criado\n",
        "frase_pred2 = GRU.predict(frase2_pad)\n",
        "frase_pred2.argmax()"
      ],
      "execution_count": null,
      "outputs": [
        {
          "output_type": "execute_result",
          "data": {
            "text/plain": [
              "0"
            ]
          },
          "metadata": {},
          "execution_count": 118
        }
      ]
    },
    {
      "cell_type": "code",
      "metadata": {
        "id": "hFgtBVzsjbub"
      },
      "source": [
        "#Salvando o modelo\n",
        "GRU.save('GRU_model.h5')"
      ],
      "execution_count": null,
      "outputs": []
    },
    {
      "cell_type": "markdown",
      "metadata": {
        "id": "puks-26ug719"
      },
      "source": [
        "#LSTM Bidirecional "
      ]
    },
    {
      "cell_type": "code",
      "metadata": {
        "id": "kq07FXSctar5"
      },
      "source": [
        "#Divisão dos dados\n",
        "X_train, X_test, y_train, y_test = train_test_split(X,y, stratify=y, shuffle=True, test_size=0.3)"
      ],
      "execution_count": null,
      "outputs": []
    },
    {
      "cell_type": "code",
      "metadata": {
        "id": "SCUDrwmwyQwl"
      },
      "source": [
        "#Salvando os comentários de teste\n",
        "X_test_df = pd.DataFrame(X_test, columns=['Comentários'])"
      ],
      "execution_count": null,
      "outputs": []
    },
    {
      "cell_type": "code",
      "metadata": {
        "id": "kJLg94s7MI1Y"
      },
      "source": [
        "#Definindo um Tokenizer\n",
        "tokenization = text.Tokenizer(num_words=10000,lower=True)"
      ],
      "execution_count": null,
      "outputs": []
    },
    {
      "cell_type": "code",
      "metadata": {
        "id": "g0pzerPjMRYR"
      },
      "source": [
        "#Transformando os X's em sequencias numéricas\n",
        "tokenization.fit_on_texts(list(X_train)+list(X_test))\n",
        "X_train = tokenization.texts_to_sequences(X_train)\n",
        "X_test = tokenization.texts_to_sequences(X_test)\n",
        "x_train = sequence.pad_sequences(X_train, maxlen=300)\n",
        "x_test = sequence.pad_sequences(X_test, maxlen=300)"
      ],
      "execution_count": null,
      "outputs": []
    },
    {
      "cell_type": "code",
      "metadata": {
        "id": "6e4w-Aj_UN6q"
      },
      "source": [
        "#To categorical para os y's\n",
        "y_train = np.where(y_train == \"positivo\", 1, 0)\n",
        "y_test = np.where(y_test == \"positivo\", 1, 0)\n",
        "y_train = tf.keras.utils.to_categorical(y_train, 2)\n",
        "y_test = tf.keras.utils.to_categorical(y_test,2)"
      ],
      "execution_count": null,
      "outputs": []
    },
    {
      "cell_type": "code",
      "metadata": {
        "id": "jahajwGUsw_q"
      },
      "source": [
        "#Modelo LSTM Bidirectional\n",
        "inputs = Input(shape=(300,))\n",
        "x = inputs\n",
        "x = Embedding(input_dim=vocab_size, output_dim=emdedding_size, weights=[pretrained_weights], trainable = False)(x)\n",
        "x = SpatialDropout1D(0.2)(x)\n",
        "x = Bidirectional(LSTM(200))(x)\n",
        "x = Dropout(0.2)(x)\n",
        "out = Dense(2, activation='softmax')(x)\n",
        "\n",
        "Bidirectional_model = keras.Model(inputs, out, name='Model')"
      ],
      "execution_count": null,
      "outputs": []
    },
    {
      "cell_type": "code",
      "metadata": {
        "colab": {
          "base_uri": "https://localhost:8080/"
        },
        "id": "DEHeT78uLW8r",
        "outputId": "e4bd6248-0359-4da9-b6dd-4abf1cc0de71"
      },
      "source": [
        "#Sumamry do modelo\n",
        "Bidirectional_model.summary()"
      ],
      "execution_count": null,
      "outputs": [
        {
          "output_type": "stream",
          "name": "stdout",
          "text": [
            "Model: \"Model\"\n",
            "_________________________________________________________________\n",
            " Layer (type)                Output Shape              Param #   \n",
            "=================================================================\n",
            " input_2 (InputLayer)        [(None, 300)]             0         \n",
            "                                                                 \n",
            " embedding_2 (Embedding)     (None, 300, 300)          3819000   \n",
            "                                                                 \n",
            " spatial_dropout1d_1 (Spatia  (None, 300, 300)         0         \n",
            " lDropout1D)                                                     \n",
            "                                                                 \n",
            " bidirectional (Bidirectiona  (None, 400)              801600    \n",
            " l)                                                              \n",
            "                                                                 \n",
            " dropout_4 (Dropout)         (None, 400)               0         \n",
            "                                                                 \n",
            " dense_9 (Dense)             (None, 2)                 802       \n",
            "                                                                 \n",
            "=================================================================\n",
            "Total params: 4,621,402\n",
            "Trainable params: 802,402\n",
            "Non-trainable params: 3,819,000\n",
            "_________________________________________________________________\n"
          ]
        }
      ]
    },
    {
      "cell_type": "code",
      "metadata": {
        "colab": {
          "base_uri": "https://localhost:8080/",
          "height": 644
        },
        "id": "3kAVPjTCPccM",
        "outputId": "879a830a-4053-4049-ef26-23087e09b365"
      },
      "source": [
        "#Plotagem do modelo\n",
        "plot_model(Bidirectional_model, show_shapes=True)"
      ],
      "execution_count": null,
      "outputs": [
        {
          "output_type": "execute_result",
          "data": {
            "text/plain": [
              "<IPython.core.display.Image object>"
            ],
            "image/png": "[encoded data removed]"
          },
          "metadata": {},
          "execution_count": 80
        }
      ]
    },
    {
      "cell_type": "code",
      "metadata": {
        "id": "FwLvTBfMPXQ-"
      },
      "source": [
        "#Compile\n",
        "Bidirectional_model.compile(loss='binary_crossentropy', optimizer='adam', metrics='accuracy')"
      ],
      "execution_count": null,
      "outputs": []
    },
    {
      "cell_type": "code",
      "metadata": {
        "id": "R5m_OtPdm2LU"
      },
      "source": [
        "#Limpar Backend\n",
        "tf.keras.backend.clear_session()"
      ],
      "execution_count": null,
      "outputs": []
    },
    {
      "cell_type": "code",
      "metadata": {
        "colab": {
          "base_uri": "https://localhost:8080/"
        },
        "id": "owUuYEg5QDQT",
        "outputId": "409a0764-6373-4974-bb1a-94b361f17709"
      },
      "source": [
        "#Treinamendo do modelo\n",
        "hist = Bidirectional_model.fit(x_train, y_train,\n",
        "                 epochs = 50, \n",
        "                 batch_size = 100,\n",
        "                 validation_split=0.20,\n",
        "                 verbose=1,\n",
        "                 callbacks=[keras.callbacks.EarlyStopping(patience=3), keras.callbacks.ReduceLROnPlateau()])"
      ],
      "execution_count": null,
      "outputs": [
        {
          "output_type": "stream",
          "name": "stdout",
          "text": [
            "Epoch 1/50\n",
            "12/12 [==============================] - 5s 147ms/step - loss: 0.7105 - accuracy: 0.5380 - val_loss: 0.6549 - val_accuracy: 0.5929 - lr: 0.0010\n",
            "Epoch 2/50\n",
            "12/12 [==============================] - 1s 77ms/step - loss: 0.5877 - accuracy: 0.7087 - val_loss: 0.5811 - val_accuracy: 0.7143 - lr: 0.0010\n",
            "Epoch 3/50\n",
            "12/12 [==============================] - 1s 79ms/step - loss: 0.4891 - accuracy: 0.7685 - val_loss: 0.4833 - val_accuracy: 0.7750 - lr: 0.0010\n",
            "Epoch 4/50\n",
            "12/12 [==============================] - 1s 79ms/step - loss: 0.4337 - accuracy: 0.8097 - val_loss: 0.4845 - val_accuracy: 0.7571 - lr: 0.0010\n",
            "Epoch 5/50\n",
            "12/12 [==============================] - 1s 79ms/step - loss: 0.3783 - accuracy: 0.8463 - val_loss: 0.4772 - val_accuracy: 0.7821 - lr: 0.0010\n",
            "Epoch 6/50\n",
            "12/12 [==============================] - 1s 79ms/step - loss: 0.3284 - accuracy: 0.8651 - val_loss: 0.5127 - val_accuracy: 0.7714 - lr: 0.0010\n",
            "Epoch 7/50\n",
            "12/12 [==============================] - 1s 79ms/step - loss: 0.2906 - accuracy: 0.8945 - val_loss: 0.4856 - val_accuracy: 0.7893 - lr: 0.0010\n",
            "Epoch 8/50\n",
            "12/12 [==============================] - 1s 79ms/step - loss: 0.3037 - accuracy: 0.8811 - val_loss: 0.5301 - val_accuracy: 0.7750 - lr: 0.0010\n"
          ]
        }
      ]
    },
    {
      "cell_type": "code",
      "metadata": {
        "colab": {
          "base_uri": "https://localhost:8080/",
          "height": 1000
        },
        "id": "LXSf39SwRslv",
        "outputId": "b4786168-ea53-448c-852f-ca3d75ea10e0"
      },
      "source": [
        "# Evaluate do modelo\n",
        "scores = Bidirectional_model.evaluate(x_test, y_test, verbose=0)\n",
        "\n",
        "# Gráfico de loss\n",
        "plt.figure(figsize=(10,8))\n",
        "plt.title(f\"Gráfico de Loss - {scores[0]}\")\n",
        "plt.xlabel(\"Épocas\")\n",
        "plt.ylabel(\"Valor\")\n",
        "plt.plot(hist.history['loss'], label=\"loss\")\n",
        "plt.plot(hist.history['val_loss'], label=\"val_loss\")\n",
        "plt.legend()\n",
        "plt.show()\n",
        "\n",
        "# Gráfico de acurácia\n",
        "plt.figure(figsize=(10,8))\n",
        "plt.title(f\"Gráfico de Acurácia - {scores[1]}\")\n",
        "plt.xlabel(\"Épocas\")\n",
        "plt.ylabel(\"Valor\")\n",
        "plt.plot(hist.history['accuracy'], label=\"accuracy\")\n",
        "plt.plot(hist.history['val_accuracy'], label=\"val_accuracy\")\n",
        "plt.legend()\n",
        "plt.show()"
      ],
      "execution_count": null,
      "outputs": [
        {
          "output_type": "display_data",
          "data": {
            "text/plain": [
              "<Figure size 720x576 with 1 Axes>"
            ],
            "image/png": "[encoded data removed]"
          },
          "metadata": {
            "needs_background": "light"
          }
        },
        {
          "output_type": "display_data",
          "data": {
            "text/plain": [
              "<Figure size 720x576 with 1 Axes>"
            ],
            "image/png": "[encoded data removed]"
          },
          "metadata": {
            "needs_background": "light"
          }
        }
      ]
    },
    {
      "cell_type": "code",
      "metadata": {
        "id": "gYjvIrAHmmFo"
      },
      "source": [
        "#Predict do modelo\n",
        "pred = Bidirectional_model.predict(x_test)\n",
        "pred = np.round(pred)"
      ],
      "execution_count": null,
      "outputs": []
    },
    {
      "cell_type": "code",
      "metadata": {
        "colab": {
          "base_uri": "https://localhost:8080/",
          "height": 282
        },
        "id": "ULm6eyDGsywW",
        "outputId": "b5a82eac-d3f2-4c7f-db30-feb02c9053bf"
      },
      "source": [
        "#Matriz de confusão\n",
        "cm = confusion_matrix(y_test.argmax(axis=1), pred.argmax(axis=1), normalize='true')\n",
        "sns.heatmap(cm, annot=True, cmap='Blues_r')"
      ],
      "execution_count": null,
      "outputs": [
        {
          "output_type": "execute_result",
          "data": {
            "text/plain": [
              "<matplotlib.axes._subplots.AxesSubplot at 0x7fefdcae1fd0>"
            ]
          },
          "metadata": {},
          "execution_count": 86
        },
        {
          "output_type": "display_data",
          "data": {
            "text/plain": [
              "<Figure size 432x288 with 2 Axes>"
            ],
            "image/png": "[encoded data removed]"
          },
          "metadata": {
            "needs_background": "light"
          }
        }
      ]
    },
    {
      "cell_type": "code",
      "metadata": {
        "colab": {
          "base_uri": "https://localhost:8080/"
        },
        "id": "0FcExHIZ4z9k",
        "outputId": "4b3a77eb-cd59-4054-b6a4-4627a84a523b"
      },
      "source": [
        "#Outras métricas\n",
        "print(classification_report(y_test.argmax(axis=1), pred.argmax(axis=1)))"
      ],
      "execution_count": null,
      "outputs": [
        {
          "output_type": "stream",
          "name": "stdout",
          "text": [
            "              precision    recall  f1-score   support\n",
            "\n",
            "           0       0.84      0.61      0.71       300\n",
            "           1       0.70      0.89      0.78       300\n",
            "\n",
            "    accuracy                           0.75       600\n",
            "   macro avg       0.77      0.75      0.75       600\n",
            "weighted avg       0.77      0.75      0.75       600\n",
            "\n"
          ]
        }
      ]
    },
    {
      "cell_type": "code",
      "metadata": {
        "id": "5O4hhobFsabK"
      },
      "source": [
        "#Criando dataframes para os comentários de teste e seus respectivos predicts\n",
        "df_pred = pd.DataFrame(data=X_test_df)\n",
        "df_pred_y = pd.DataFrame(data=pred.argmax(axis=1), columns=['Predict'])"
      ],
      "execution_count": null,
      "outputs": []
    },
    {
      "cell_type": "code",
      "metadata": {
        "colab": {
          "base_uri": "https://localhost:8080/",
          "height": 424
        },
        "id": "tDhIZASRzPRA",
        "outputId": "e3e71a5d-d10b-410c-f5d5-f45d3b025ab2"
      },
      "source": [
        "#Concatenando os datasets\n",
        "df_predict = pd.concat([df_pred, df_pred_y], axis=1, ignore_index=True)\n",
        "df_predict.columns = ['Comentarios', 'Predict']\n",
        "df_predict"
      ],
      "execution_count": null,
      "outputs": [
        {
          "output_type": "execute_result",
          "data": {
            "text/plain": [
              "                                           Comentarios  Predict\n",
              "0    até onde o ser humano pode chegar em termos de...        0\n",
              "1    livro maravilhoso historia envolvente com pita...        1\n",
              "2    um relato encantador e carismático cheio de se...        1\n",
              "3    mulheres todas elas este livro precisa ser lid...        0\n",
              "4    achei muito merchandising e pouco conteúdo prá...        1\n",
              "..                                                 ...      ...\n",
              "595  o eterno clássico o pequeno príncipe vai além ...        1\n",
              "596  fahrenheit 451 é uma distopia escrita no sécul...        1\n",
              "597  o título sinopse e autor desse livro me fizera...        1\n",
              "598  confesso que o fato do biografado ser uma figu...        1\n",
              "599  livro de cabeceira para quem quer ficar rico e...        1\n",
              "\n",
              "[600 rows x 2 columns]"
            ],
            "text/html": [
              "\n",
              "  <div id=\"df-a1db966d-d8a7-4819-aa9c-6f14f314845c\">\n",
              "    <div class=\"colab-df-container\">\n",
              "      <div>\n",
              "<style scoped>\n",
              "    .dataframe tbody tr th:only-of-type {\n",
              "        vertical-align: middle;\n",
              "    }\n",
              "\n",
              "    .dataframe tbody tr th {\n",
              "        vertical-align: top;\n",
              "    }\n",
              "\n",
              "    .dataframe thead th {\n",
              "        text-align: right;\n",
              "    }\n",
              "</style>\n",
              "<table border=\"1\" class=\"dataframe\">\n",
              "  <thead>\n",
              "    <tr style=\"text-align: right;\">\n",
              "      <th></th>\n",
              "      <th>Comentarios</th>\n",
              "      <th>Predict</th>\n",
              "    </tr>\n",
              "  </thead>\n",
              "  <tbody>\n",
              "    <tr>\n",
              "      <th>0</th>\n",
              "      <td>até onde o ser humano pode chegar em termos de...</td>\n",
              "      <td>0</td>\n",
              "    </tr>\n",
              "    <tr>\n",
              "      <th>1</th>\n",
              "      <td>livro maravilhoso historia envolvente com pita...</td>\n",
              "      <td>1</td>\n",
              "    </tr>\n",
              "    <tr>\n",
              "      <th>2</th>\n",
              "      <td>um relato encantador e carismático cheio de se...</td>\n",
              "      <td>1</td>\n",
              "    </tr>\n",
              "    <tr>\n",
              "      <th>3</th>\n",
              "      <td>mulheres todas elas este livro precisa ser lid...</td>\n",
              "      <td>0</td>\n",
              "    </tr>\n",
              "    <tr>\n",
              "      <th>4</th>\n",
              "      <td>achei muito merchandising e pouco conteúdo prá...</td>\n",
              "      <td>1</td>\n",
              "    </tr>\n",
              "    <tr>\n",
              "      <th>...</th>\n",
              "      <td>...</td>\n",
              "      <td>...</td>\n",
              "    </tr>\n",
              "    <tr>\n",
              "      <th>595</th>\n",
              "      <td>o eterno clássico o pequeno príncipe vai além ...</td>\n",
              "      <td>1</td>\n",
              "    </tr>\n",
              "    <tr>\n",
              "      <th>596</th>\n",
              "      <td>fahrenheit 451 é uma distopia escrita no sécul...</td>\n",
              "      <td>1</td>\n",
              "    </tr>\n",
              "    <tr>\n",
              "      <th>597</th>\n",
              "      <td>o título sinopse e autor desse livro me fizera...</td>\n",
              "      <td>1</td>\n",
              "    </tr>\n",
              "    <tr>\n",
              "      <th>598</th>\n",
              "      <td>confesso que o fato do biografado ser uma figu...</td>\n",
              "      <td>1</td>\n",
              "    </tr>\n",
              "    <tr>\n",
              "      <th>599</th>\n",
              "      <td>livro de cabeceira para quem quer ficar rico e...</td>\n",
              "      <td>1</td>\n",
              "    </tr>\n",
              "  </tbody>\n",
              "</table>\n",
              "<p>600 rows × 2 columns</p>\n",
              "</div>\n",
              "      <button class=\"colab-df-convert\" onclick=\"convertToInteractive('df-a1db966d-d8a7-4819-aa9c-6f14f314845c')\"\n",
              "              title=\"Convert this dataframe to an interactive table.\"\n",
              "              style=\"display:none;\">\n",
              "        \n",
              "  <svg xmlns=\"http://www.w3.org/2000/svg\" height=\"24px\"viewBox=\"0 0 24 24\"\n",
              "       width=\"24px\">\n",
              "    <path d=\"M0 0h24v24H0V0z\" fill=\"none\"/>\n",
              "    <path d=\"M18.56 5.44l.94 2.06.94-2.06 2.06-.94-2.06-.94-.94-2.06-.94 2.06-2.06.94zm-11 1L8.5 8.5l.94-2.06 2.06-.94-2.06-.94L8.5 2.5l-.94 2.06-2.06.94zm10 10l.94 2.06.94-2.06 2.06-.94-2.06-.94-.94-2.06-.94 2.06-2.06.94z\"/><path d=\"M17.41 7.96l-1.37-1.37c-.4-.4-.92-.59-1.43-.59-.52 0-1.04.2-1.43.59L10.3 9.45l-7.72 7.72c-.78.78-.78 2.05 0 2.83L4 21.41c.39.39.9.59 1.41.59.51 0 1.02-.2 1.41-.59l7.78-7.78 2.81-2.81c.8-.78.8-2.07 0-2.86zM5.41 20L4 18.59l7.72-7.72 1.47 1.35L5.41 20z\"/>\n",
              "  </svg>\n",
              "      </button>\n",
              "      \n",
              "  <style>\n",
              "    .colab-df-container {\n",
              "      display:flex;\n",
              "      flex-wrap:wrap;\n",
              "      gap: 12px;\n",
              "    }\n",
              "\n",
              "    .colab-df-convert {\n",
              "      background-color: #E8F0FE;\n",
              "      border: none;\n",
              "      border-radius: 50%;\n",
              "      cursor: pointer;\n",
              "      display: none;\n",
              "      fill: #1967D2;\n",
              "      height: 32px;\n",
              "      padding: 0 0 0 0;\n",
              "      width: 32px;\n",
              "    }\n",
              "\n",
              "    .colab-df-convert:hover {\n",
              "      background-color: #E2EBFA;\n",
              "      box-shadow: 0px 1px 2px rgba(60, 64, 67, 0.3), 0px 1px 3px 1px rgba(60, 64, 67, 0.15);\n",
              "      fill: #174EA6;\n",
              "    }\n",
              "\n",
              "    [theme=dark] .colab-df-convert {\n",
              "      background-color: #3B4455;\n",
              "      fill: #D2E3FC;\n",
              "    }\n",
              "\n",
              "    [theme=dark] .colab-df-convert:hover {\n",
              "      background-color: #434B5C;\n",
              "      box-shadow: 0px 1px 3px 1px rgba(0, 0, 0, 0.15);\n",
              "      filter: drop-shadow(0px 1px 2px rgba(0, 0, 0, 0.3));\n",
              "      fill: #FFFFFF;\n",
              "    }\n",
              "  </style>\n",
              "\n",
              "      <script>\n",
              "        const buttonEl =\n",
              "          document.querySelector('#df-a1db966d-d8a7-4819-aa9c-6f14f314845c button.colab-df-convert');\n",
              "        buttonEl.style.display =\n",
              "          google.colab.kernel.accessAllowed ? 'block' : 'none';\n",
              "\n",
              "        async function convertToInteractive(key) {\n",
              "          const element = document.querySelector('#df-a1db966d-d8a7-4819-aa9c-6f14f314845c');\n",
              "          const dataTable =\n",
              "            await google.colab.kernel.invokeFunction('convertToInteractive',\n",
              "                                                     [key], {});\n",
              "          if (!dataTable) return;\n",
              "\n",
              "          const docLinkHtml = 'Like what you see? Visit the ' +\n",
              "            '<a target=\"_blank\" href=https://colab.research.google.com/notebooks/data_table.ipynb>data table notebook</a>'\n",
              "            + ' to learn more about interactive tables.';\n",
              "          element.innerHTML = '';\n",
              "          dataTable['output_type'] = 'display_data';\n",
              "          await google.colab.output.renderOutput(dataTable, element);\n",
              "          const docLink = document.createElement('div');\n",
              "          docLink.innerHTML = docLinkHtml;\n",
              "          element.appendChild(docLink);\n",
              "        }\n",
              "      </script>\n",
              "    </div>\n",
              "  </div>\n",
              "  "
            ]
          },
          "metadata": {},
          "execution_count": 89
        }
      ]
    },
    {
      "cell_type": "code",
      "metadata": {
        "colab": {
          "base_uri": "https://localhost:8080/"
        },
        "id": "ET6XBnuM11lU",
        "outputId": "96db93af-eda0-4d7d-d9a1-561f0f7c930b"
      },
      "source": [
        "#Mostrando algumas classificações\n",
        "for i in range(0,11):\n",
        "  print('Comentário', i,':', df_predict['Comentarios'][i])\n",
        "  print('Predict', i,':', df_predict['Predict'][i])"
      ],
      "execution_count": null,
      "outputs": [
        {
          "output_type": "stream",
          "name": "stdout",
          "text": [
            "Comentário 0 : até onde o ser humano pode chegar em termos de maldade de desumanidade e por outro lado nos atos de coragem bravura determinação e heroísmo em combater o mal este livro mostra muito disso apenas alguns números que são citados não parecem corretos por exemplo o número de baixas de soldados americanos no desembarque na normandia no dia d de resto não hã como não qualificar com cinco estrelas \n",
            "Predict 0 : 0\n",
            "Comentário 1 : livro maravilhoso historia envolvente com pitadas hot e de comedia não da vontade de parar de ler cada capitulo mas maravilhoso que o outro\n",
            "Predict 1 : 1\n",
            "Comentário 2 : um relato encantador e carismático cheio de sentimentos reais e humanidade michelle parece perceber tudo e todos ao redor com olhar empático de acolher e disciplinar na medida da necessidade uma mulher que poderia e deveria ser presidente do mundo apaixonada por sua inteligência e força recomendado a todos \n",
            "Predict 2 : 1\n",
            "Comentário 3 : mulheres todas elas este livro precisa ser lido e relido \n",
            "Predict 3 : 0\n",
            "Comentário 4 : achei muito merchandising e pouco conteúdo prático os conteúdos ficam em um site e não no livro sinto que desperdicei meu dinheiro com o livro já que no site o conteúdo é gratuito além disso tem muitas histórias pessoais e relatos sobre como o milagre é incrível e pouco sobre o milagre \n",
            "Predict 4 : 1\n",
            "Comentário 5 : um dos meus livros veio todo amassado \n",
            "Predict 5 : 0\n",
            "Comentário 6 : na época que estourou eu paguei 105 na edição especial por que motivo pagaria 99 em uma edição ebook sem cor e desenho algum preço abusivo espero que ninguém o compre \n",
            "Predict 6 : 0\n",
            "Comentário 7 : distopia incrível traz consigo a ideia de que o ser humano está perdendo o direito de ser livre de buscar instrumentos que o possibilite de pensar por conta própria de não serem robôs o desplugamento de um mundo hipnotizado por programas ruins músicas bestiais e a ausência de diálogos concretizam esse futuro agonizante tratado em fahrenheit 451 e você acha que tudo isso é o fator preocupante infelizmente não pois o que de fato nos perturba é o fato dessa ficção estar dia a dia se tornando o espelho de nossa realidade \n",
            "Predict 7 : 1\n",
            "Comentário 8 : a tradução é péssima contém erros crassos de português e o enredo é romanceado demais não vale a pena \n",
            "Predict 8 : 1\n",
            "Comentário 9 : muita gente que comprou esse box reclamou que chegou com algum defeito achei que o meu viria em perfeito estado mas não veio é bem provável que estava na promoção somente os estragados nunca mais compro na amazon \n",
            "Predict 9 : 0\n",
            "Comentário 10 : é um livro só de exemplos os exemplos são repetitivos leitura pesada entediante é muito marketing para os americanos autor fez a junção de pesquisas somente \n",
            "Predict 10 : 1\n"
          ]
        }
      ]
    },
    {
      "cell_type": "code",
      "metadata": {
        "id": "_Rc9Or_C7r0k"
      },
      "source": [
        "#Criando um comentário negativo\n",
        "frase = ['Esse livro é péssimo, me arrependo de pagar 56 reais nisso']\n",
        "frase = tokenization.texts_to_sequences(frase)\n",
        "frase_pad = sequence.pad_sequences(frase,maxlen= 300)"
      ],
      "execution_count": null,
      "outputs": []
    },
    {
      "cell_type": "code",
      "metadata": {
        "colab": {
          "base_uri": "https://localhost:8080/"
        },
        "id": "KRnl5b3T7tx7",
        "outputId": "f68ec32f-036b-4b00-86df-67f4c429a1c0"
      },
      "source": [
        "#Classificando o comentário criado\n",
        "#Classe 0 = Negativo\n",
        "#Classe 1 = Positivo\n",
        "frase_pred = Bidirectional_model.predict(frase_pad)\n",
        "frase_pred.argmax()"
      ],
      "execution_count": null,
      "outputs": [
        {
          "output_type": "execute_result",
          "data": {
            "text/plain": [
              "0"
            ]
          },
          "metadata": {},
          "execution_count": 108
        }
      ]
    },
    {
      "cell_type": "code",
      "metadata": {
        "id": "vkmFjA6WNlfp",
        "colab": {
          "base_uri": "https://localhost:8080/",
          "height": 235
        },
        "outputId": "c706ec9f-eed8-41cc-f19b-1eaa28b4fd61"
      },
      "source": [
        "#Criando um comentário positvo\n",
        "frase2 = ['Me impressionei bastante com essa obra. Achava que ia ser mais um clichê entediante porem acabou sendo muito bom e divertido']\n",
        "frase2 = tokenization.texts_to_sequences(frase2)\n",
        "frase2_pad = sequence.pad_sequences(frase2,maxlen= 300)"
      ],
      "execution_count": 1,
      "outputs": [
        {
          "output_type": "error",
          "ename": "NameError",
          "evalue": "ignored",
          "traceback": [
            "\u001b[0;31m---------------------------------------------------------------------------\u001b[0m",
            "\u001b[0;31mNameError\u001b[0m                                 Traceback (most recent call last)",
            "\u001b[0;32m<ipython-input-1-8d39a41c21b6>\u001b[0m in \u001b[0;36m<module>\u001b[0;34m\u001b[0m\n\u001b[1;32m      1\u001b[0m \u001b[0;31m#Criando um comentário positvo\u001b[0m\u001b[0;34m\u001b[0m\u001b[0;34m\u001b[0m\u001b[0;34m\u001b[0m\u001b[0m\n\u001b[1;32m      2\u001b[0m \u001b[0mfrase2\u001b[0m \u001b[0;34m=\u001b[0m \u001b[0;34m[\u001b[0m\u001b[0;34m'Me impressionei bastante com essa obra. Achava que ia ser mais um clichê entediante porem acabou sendo muito bom e divertido'\u001b[0m\u001b[0;34m]\u001b[0m\u001b[0;34m\u001b[0m\u001b[0;34m\u001b[0m\u001b[0m\n\u001b[0;32m----> 3\u001b[0;31m \u001b[0mfrase2\u001b[0m \u001b[0;34m=\u001b[0m \u001b[0mtokenization\u001b[0m\u001b[0;34m.\u001b[0m\u001b[0mtexts_to_sequences\u001b[0m\u001b[0;34m(\u001b[0m\u001b[0mfrase2\u001b[0m\u001b[0;34m)\u001b[0m\u001b[0;34m\u001b[0m\u001b[0;34m\u001b[0m\u001b[0m\n\u001b[0m\u001b[1;32m      4\u001b[0m \u001b[0mfrase2_pad\u001b[0m \u001b[0;34m=\u001b[0m \u001b[0msequence\u001b[0m\u001b[0;34m.\u001b[0m\u001b[0mpad_sequences\u001b[0m\u001b[0;34m(\u001b[0m\u001b[0mfrase2\u001b[0m\u001b[0;34m,\u001b[0m\u001b[0mmaxlen\u001b[0m\u001b[0;34m=\u001b[0m \u001b[0;36m300\u001b[0m\u001b[0;34m)\u001b[0m\u001b[0;34m\u001b[0m\u001b[0;34m\u001b[0m\u001b[0m\n",
            "\u001b[0;31mNameError\u001b[0m: name 'tokenization' is not defined"
          ]
        }
      ]
    },
    {
      "cell_type": "code",
      "metadata": {
        "colab": {
          "base_uri": "https://localhost:8080/"
        },
        "id": "RwFIbgG9Nlfp",
        "outputId": "8f1bb895-8561-4206-9604-81e08300d67d"
      },
      "source": [
        "#Classificando o comentário criado\n",
        "frase_pred2 = Bidirectional_model.predict(frase2_pad)\n",
        "frase_pred2.argmax()"
      ],
      "execution_count": null,
      "outputs": [
        {
          "output_type": "execute_result",
          "data": {
            "text/plain": [
              "1"
            ]
          },
          "metadata": {},
          "execution_count": 110
        }
      ]
    },
    {
      "cell_type": "code",
      "metadata": {
        "id": "zFbxH8y1aNdZ"
      },
      "source": [
        "#Salvando o modelo\n",
        "model.save('Bidirectional_model.h5')"
      ],
      "execution_count": null,
      "outputs": []
    }
  ]
}